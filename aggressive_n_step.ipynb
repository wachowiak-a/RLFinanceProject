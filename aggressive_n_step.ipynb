{
 "cells": [
  {
   "cell_type": "markdown",
   "id": "a75576cb734721c",
   "metadata": {
    "collapsed": false
   },
   "source": [
    "\n",
    "- Repeat for different actions - e.i. changing percent to sell or buy all\n",
    "- Train n-step sarsa (n = 0, n = 2, n = 4, n = 10, n = 20)\n",
    "\n",
    "\n",
    "- Try negative rewards\n",
    "    - Repeat for different actions - e.i. changing percent to sell or buy all\n",
    "    - Train MC and SARSA \n",
    "        - Compare which one performs better in training\n",
    "        - Compare which one performs better on Test time period\n",
    "\n",
    "- Plot percent of state space experienced\n",
    "- Plot actions that resulted in Gain - may only be relevant for 100%  buy sell version\n",
    "\n",
    "\n"
   ]
  },
  {
   "cell_type": "markdown",
   "id": "59971fc6b18da2a0",
   "metadata": {
    "collapsed": false
   },
   "source": [
    "### NO SOFTMAX IN ENV"
   ]
  },
  {
   "cell_type": "code",
   "execution_count": 21,
   "id": "3f1fec88f4eb9930",
   "metadata": {
    "ExecuteTime": {
     "end_time": "2023-12-05T15:05:17.561319700Z",
     "start_time": "2023-12-05T15:05:17.510779100Z"
    },
    "collapsed": false
   },
   "outputs": [
    {
     "name": "stdout",
     "output_type": "stream",
     "text": [
      "['AXP', 'AMGN', 'AAPL', 'BA', 'CAT', 'CSCO', 'CVX', 'GS', 'HD', 'HON', 'IBM', 'INTC', 'JNJ', 'KO', 'JPM', 'MCD', 'MMM', 'MRK', 'MSFT', 'NKE', 'PG', 'TRV', 'UNH', 'CRM', 'VZ', 'V', 'WBA', 'WMT', 'DIS', 'DOW']\n"
     ]
    }
   ],
   "source": [
    "\n",
    "\n",
    "import pandas as pd\n",
    "import numpy as np\n",
    "import gym\n",
    "from typing import Callable, Tuple\n",
    "from collections import defaultdict\n",
    "from tqdm import trange\n",
    "import matplotlib\n",
    "import matplotlib.pyplot as plt\n",
    "\n",
    "%matplotlib inline\n",
    "\n",
    "from finrl import config\n",
    "from finrl import config_tickers\n",
    "from finrl.meta.preprocessor.yahoodownloader import YahooDownloader\n",
    "from finrl.meta.preprocessor.preprocessors import FeatureEngineer, data_split\n",
    "from environments.portfolio_without_softmax import StockPortfolioEnv\n",
    "import os\n",
    "from agents.single_stock_tabular import nstep_sarsa_single_stock, on_policy_mc_control_single_stock\n",
    "\n",
    "if not os.path.exists(\"./\" + config.DATA_SAVE_DIR):\n",
    "    os.makedirs(\"./\" + config.DATA_SAVE_DIR)\n",
    "if not os.path.exists(\"./\" + config.TRAINED_MODEL_DIR):\n",
    "    os.makedirs(\"./\" + config.TRAINED_MODEL_DIR)\n",
    "if not os.path.exists(\"./\" + config.TENSORBOARD_LOG_DIR):\n",
    "    os.makedirs(\"./\" + config.TENSORBOARD_LOG_DIR)\n",
    "if not os.path.exists(\"./\" + config.RESULTS_DIR):\n",
    "    os.makedirs(\"./\" + config.RESULTS_DIR)\n",
    "\n",
    "print(config_tickers.DOW_30_TICKER)\n",
    "#dp = YahooFinanceProcessor()\n",
    "#df = dp.download_data\n"
   ]
  },
  {
   "cell_type": "code",
   "execution_count": 22,
   "id": "b04af11bc8a9cb63",
   "metadata": {
    "ExecuteTime": {
     "end_time": "2023-12-05T00:32:52.634385100Z",
     "start_time": "2023-12-05T00:32:40.246691500Z"
    },
    "collapsed": false
   },
   "outputs": [
    {
     "name": "stdout",
     "output_type": "stream",
     "text": [
      "[*********************100%%**********************]  1 of 1 completed\n",
      "[*********************100%%**********************]  1 of 1 completed\n",
      "[*********************100%%**********************]  1 of 1 completed\n",
      "[*********************100%%**********************]  1 of 1 completed\n",
      "[*********************100%%**********************]  1 of 1 completed\n",
      "[*********************100%%**********************]  1 of 1 completed\n",
      "[*********************100%%**********************]  1 of 1 completed\n",
      "[*********************100%%**********************]  1 of 1 completed\n",
      "[*********************100%%**********************]  1 of 1 completed\n",
      "[*********************100%%**********************]  1 of 1 completed\n",
      "[*********************100%%**********************]  1 of 1 completed\n",
      "[*********************100%%**********************]  1 of 1 completed\n",
      "[*********************100%%**********************]  1 of 1 completed\n",
      "[*********************100%%**********************]  1 of 1 completed\n",
      "[*********************100%%**********************]  1 of 1 completed\n",
      "[*********************100%%**********************]  1 of 1 completed"
     ]
    }
   ],
   "source": [
    "\n",
    "df = YahooDownloader(start_date='2008-01-01',\n",
    "                     end_date='2021-10-31',\n",
    "                     ticker_list=config_tickers.DOW_30_TICKER).fetch_data()"
   ]
  },
  {
   "cell_type": "code",
   "execution_count": null,
   "id": "87658d056a0156f6",
   "metadata": {
    "ExecuteTime": {
     "end_time": "2023-12-05T00:33:16.773074200Z",
     "start_time": "2023-12-05T00:32:50.570350800Z"
    },
    "collapsed": false
   },
   "outputs": [
    {
     "name": "stdout",
     "output_type": "stream",
     "text": [
      "Successfully added technical indicators\n"
     ]
    }
   ],
   "source": [
    "fe = FeatureEngineer(\n",
    "    use_technical_indicator=True,\n",
    "    use_turbulence=False,\n",
    "    user_defined_feature=False)\n",
    "\n",
    "df = fe.preprocess_data(df)"
   ]
  },
  {
   "cell_type": "code",
   "execution_count": null,
   "id": "89aff066d5c8671c",
   "metadata": {
    "ExecuteTime": {
     "end_time": "2023-12-05T00:33:47.451802300Z",
     "start_time": "2023-12-05T00:33:16.776071700Z"
    },
    "collapsed": false
   },
   "outputs": [
    {
     "data": {
      "text/html": [
       "<div>\n",
       "<style scoped>\n",
       "    .dataframe tbody tr th:only-of-type {\n",
       "        vertical-align: middle;\n",
       "    }\n",
       "\n",
       "    .dataframe tbody tr th {\n",
       "        vertical-align: top;\n",
       "    }\n",
       "\n",
       "    .dataframe thead th {\n",
       "        text-align: right;\n",
       "    }\n",
       "</style>\n",
       "<table border=\"1\" class=\"dataframe\">\n",
       "  <thead>\n",
       "    <tr style=\"text-align: right;\">\n",
       "      <th></th>\n",
       "      <th>date</th>\n",
       "      <th>open</th>\n",
       "      <th>high</th>\n",
       "      <th>low</th>\n",
       "      <th>close</th>\n",
       "      <th>volume</th>\n",
       "      <th>tic</th>\n",
       "      <th>day</th>\n",
       "      <th>macd</th>\n",
       "      <th>boll_ub</th>\n",
       "      <th>boll_lb</th>\n",
       "      <th>rsi_30</th>\n",
       "      <th>cci_30</th>\n",
       "      <th>dx_30</th>\n",
       "      <th>close_30_sma</th>\n",
       "      <th>close_60_sma</th>\n",
       "      <th>cov_list</th>\n",
       "      <th>return_list</th>\n",
       "    </tr>\n",
       "  </thead>\n",
       "  <tbody>\n",
       "    <tr>\n",
       "      <th>0</th>\n",
       "      <td>2008-12-31</td>\n",
       "      <td>3.070357</td>\n",
       "      <td>3.133571</td>\n",
       "      <td>3.047857</td>\n",
       "      <td>2.583909</td>\n",
       "      <td>607541200</td>\n",
       "      <td>AAPL</td>\n",
       "      <td>2</td>\n",
       "      <td>-0.082603</td>\n",
       "      <td>3.093652</td>\n",
       "      <td>2.454291</td>\n",
       "      <td>42.254764</td>\n",
       "      <td>-80.462684</td>\n",
       "      <td>16.129793</td>\n",
       "      <td>2.749560</td>\n",
       "      <td>2.861671</td>\n",
       "      <td>[[0.0013489694715624536, 0.0004284126279862658...</td>\n",
       "      <td>tic             AAPL      AMGN       AXP      ...</td>\n",
       "    </tr>\n",
       "    <tr>\n",
       "      <th>1</th>\n",
       "      <td>2008-12-31</td>\n",
       "      <td>57.110001</td>\n",
       "      <td>58.220001</td>\n",
       "      <td>57.060001</td>\n",
       "      <td>41.839516</td>\n",
       "      <td>6287200</td>\n",
       "      <td>AMGN</td>\n",
       "      <td>2</td>\n",
       "      <td>0.156757</td>\n",
       "      <td>42.707027</td>\n",
       "      <td>40.853198</td>\n",
       "      <td>51.060604</td>\n",
       "      <td>51.523263</td>\n",
       "      <td>10.432018</td>\n",
       "      <td>41.058034</td>\n",
       "      <td>40.603776</td>\n",
       "      <td>[[0.0013489694715624536, 0.0004284126279862658...</td>\n",
       "      <td>tic             AAPL      AMGN       AXP      ...</td>\n",
       "    </tr>\n",
       "    <tr>\n",
       "      <th>2</th>\n",
       "      <td>2008-12-31</td>\n",
       "      <td>17.969999</td>\n",
       "      <td>18.750000</td>\n",
       "      <td>17.910000</td>\n",
       "      <td>14.580750</td>\n",
       "      <td>9625600</td>\n",
       "      <td>AXP</td>\n",
       "      <td>2</td>\n",
       "      <td>-0.935582</td>\n",
       "      <td>18.646869</td>\n",
       "      <td>12.660476</td>\n",
       "      <td>42.554852</td>\n",
       "      <td>-75.437685</td>\n",
       "      <td>25.776759</td>\n",
       "      <td>15.744065</td>\n",
       "      <td>17.616375</td>\n",
       "      <td>[[0.0013489694715624536, 0.0004284126279862658...</td>\n",
       "      <td>tic             AAPL      AMGN       AXP      ...</td>\n",
       "    </tr>\n",
       "    <tr>\n",
       "      <th>3</th>\n",
       "      <td>2008-12-31</td>\n",
       "      <td>41.590000</td>\n",
       "      <td>43.049999</td>\n",
       "      <td>41.500000</td>\n",
       "      <td>32.005898</td>\n",
       "      <td>5443100</td>\n",
       "      <td>BA</td>\n",
       "      <td>2</td>\n",
       "      <td>-0.279800</td>\n",
       "      <td>32.174388</td>\n",
       "      <td>28.867828</td>\n",
       "      <td>47.440258</td>\n",
       "      <td>156.994983</td>\n",
       "      <td>5.366299</td>\n",
       "      <td>30.327213</td>\n",
       "      <td>32.389915</td>\n",
       "      <td>[[0.0013489694715624536, 0.0004284126279862658...</td>\n",
       "      <td>tic             AAPL      AMGN       AXP      ...</td>\n",
       "    </tr>\n",
       "    <tr>\n",
       "      <th>4</th>\n",
       "      <td>2008-12-31</td>\n",
       "      <td>43.700001</td>\n",
       "      <td>45.099998</td>\n",
       "      <td>43.700001</td>\n",
       "      <td>29.608652</td>\n",
       "      <td>6277400</td>\n",
       "      <td>CAT</td>\n",
       "      <td>2</td>\n",
       "      <td>0.655610</td>\n",
       "      <td>30.348088</td>\n",
       "      <td>25.455650</td>\n",
       "      <td>51.205301</td>\n",
       "      <td>98.374129</td>\n",
       "      <td>26.331746</td>\n",
       "      <td>26.689552</td>\n",
       "      <td>26.423593</td>\n",
       "      <td>[[0.0013489694715624536, 0.0004284126279862658...</td>\n",
       "      <td>tic             AAPL      AMGN       AXP      ...</td>\n",
       "    </tr>\n",
       "  </tbody>\n",
       "</table>\n",
       "</div>"
      ],
      "text/plain": [
       "         date       open       high        low      close     volume   tic  \\\n",
       "0  2008-12-31   3.070357   3.133571   3.047857   2.583909  607541200  AAPL   \n",
       "1  2008-12-31  57.110001  58.220001  57.060001  41.839516    6287200  AMGN   \n",
       "2  2008-12-31  17.969999  18.750000  17.910000  14.580750    9625600   AXP   \n",
       "3  2008-12-31  41.590000  43.049999  41.500000  32.005898    5443100    BA   \n",
       "4  2008-12-31  43.700001  45.099998  43.700001  29.608652    6277400   CAT   \n",
       "\n",
       "   day      macd    boll_ub    boll_lb     rsi_30      cci_30      dx_30  \\\n",
       "0    2 -0.082603   3.093652   2.454291  42.254764  -80.462684  16.129793   \n",
       "1    2  0.156757  42.707027  40.853198  51.060604   51.523263  10.432018   \n",
       "2    2 -0.935582  18.646869  12.660476  42.554852  -75.437685  25.776759   \n",
       "3    2 -0.279800  32.174388  28.867828  47.440258  156.994983   5.366299   \n",
       "4    2  0.655610  30.348088  25.455650  51.205301   98.374129  26.331746   \n",
       "\n",
       "   close_30_sma  close_60_sma  \\\n",
       "0      2.749560      2.861671   \n",
       "1     41.058034     40.603776   \n",
       "2     15.744065     17.616375   \n",
       "3     30.327213     32.389915   \n",
       "4     26.689552     26.423593   \n",
       "\n",
       "                                            cov_list  \\\n",
       "0  [[0.0013489694715624536, 0.0004284126279862658...   \n",
       "1  [[0.0013489694715624536, 0.0004284126279862658...   \n",
       "2  [[0.0013489694715624536, 0.0004284126279862658...   \n",
       "3  [[0.0013489694715624536, 0.0004284126279862658...   \n",
       "4  [[0.0013489694715624536, 0.0004284126279862658...   \n",
       "\n",
       "                                         return_list  \n",
       "0  tic             AAPL      AMGN       AXP      ...  \n",
       "1  tic             AAPL      AMGN       AXP      ...  \n",
       "2  tic             AAPL      AMGN       AXP      ...  \n",
       "3  tic             AAPL      AMGN       AXP      ...  \n",
       "4  tic             AAPL      AMGN       AXP      ...  "
      ]
     },
     "execution_count": 13,
     "metadata": {},
     "output_type": "execute_result"
    }
   ],
   "source": [
    "## Add covariance matrix as states\n",
    "# add covariance matrix as states\n",
    "df = df.sort_values(['date', 'tic'], ignore_index=True)\n",
    "df.index = df.date.factorize()[0]\n",
    "\n",
    "cov_list = []\n",
    "return_list = []\n",
    "\n",
    "# look back is one year\n",
    "lookback = 252\n",
    "for i in range(lookback, len(df.index.unique())):\n",
    "    data_lookback = df.loc[i - lookback:i, :]\n",
    "    price_lookback = data_lookback.pivot_table(index='date', columns='tic', values='close')\n",
    "    return_lookback = price_lookback.pct_change().dropna()\n",
    "    return_list.append(return_lookback)\n",
    "\n",
    "    covs = return_lookback.cov().values\n",
    "    cov_list.append(covs)\n",
    "\n",
    "df_cov = pd.DataFrame({'date': df.date.unique()[lookback:], 'cov_list': cov_list, 'return_list': return_list})\n",
    "df = df.merge(df_cov, on='date')\n",
    "df = df.sort_values(['date', 'tic']).reset_index(drop=True)\n",
    "\n",
    "df.shape\n",
    "df.head()"
   ]
  },
  {
   "cell_type": "code",
   "execution_count": null,
   "id": "ab4f49de6db67e3e",
   "metadata": {
    "ExecuteTime": {
     "end_time": "2023-12-05T00:33:47.730398Z",
     "start_time": "2023-12-05T00:33:47.452797Z"
    },
    "collapsed": false
   },
   "outputs": [],
   "source": [
    "TRAIN_START = '2009-01-01'\n",
    "TRAIN_END ='2020-07-01'\n",
    "TEST_START = '2020-07-01'\n",
    "TEST_END = '2021-10-31'\n",
    "\n",
    "train = data_split(df, TRAIN_START, TRAIN_END)\n",
    "trade = data_split(df,TEST_START, TEST_END)"
   ]
  },
  {
   "cell_type": "code",
   "execution_count": null,
   "id": "a6cf556d9c3b4778",
   "metadata": {
    "ExecuteTime": {
     "end_time": "2023-12-05T00:33:47.731399100Z",
     "start_time": "2023-12-05T00:33:47.522336500Z"
    },
    "collapsed": false
   },
   "outputs": [
    {
     "name": "stdout",
     "output_type": "stream",
     "text": [
      "Stock Dimension: 28, State Space: 28\n"
     ]
    }
   ],
   "source": [
    "stock_dimension = len(train.tic.unique())\n",
    "state_space = stock_dimension\n",
    "print(f\"Stock Dimension: {stock_dimension}, State Space: {state_space}\")\n",
    "\n",
    "env_kwargs = {\n",
    "    \"hmax\": 100, \n",
    "    \"initial_amount\": 1000000, \n",
    "    \"transaction_cost_pct\": 0.001, \n",
    "    \"state_space\": state_space, \n",
    "    \"stock_dim\": stock_dimension, \n",
    "    \"tech_indicator_list\": config.INDICATORS, \n",
    "    \"action_space\": stock_dimension, \n",
    "    \"reward_scaling\": 1e-4\n",
    "    \n",
    "}\n"
   ]
  },
  {
   "cell_type": "code",
   "execution_count": null,
   "id": "f075ec02ee046851",
   "metadata": {
    "ExecuteTime": {
     "end_time": "2023-12-05T00:34:03.209414Z",
     "start_time": "2023-12-05T00:34:03.190333900Z"
    },
    "collapsed": false
   },
   "outputs": [],
   "source": [
    "EPISODES = 2"
   ]
  },
  {
   "cell_type": "code",
   "execution_count": null,
   "id": "8702eafd70f4c455",
   "metadata": {
    "ExecuteTime": {
     "end_time": "2023-12-05T00:34:03.809400500Z",
     "start_time": "2023-12-05T00:34:03.795345900Z"
    },
    "collapsed": false
   },
   "outputs": [],
   "source": [
    "n_step_sarsa_env = StockPortfolioEnv(df = train, **env_kwargs)"
   ]
  },
  {
   "cell_type": "code",
   "execution_count": null,
   "id": "149f553bd69c132e",
   "metadata": {
    "ExecuteTime": {
     "end_time": "2023-12-05T02:10:07.922632Z",
     "start_time": "2023-12-05T00:34:05.332371800Z"
    },
    "collapsed": false
   },
   "outputs": [
    {
     "name": "stderr",
     "output_type": "stream",
     "text": [
      "Episode:   0%|          | 1/250 [00:06<27:20,  6.59s/it]"
     ]
    },
    {
     "name": "stdout",
     "output_type": "stream",
     "text": [
      "=================================\n",
      "begin_total_asset:1000000\n",
      "end_total_asset:3589749.0256282534\n",
      "Sharpe:  0.6439463499015909\n",
      "=================================\n"
     ]
    },
    {
     "name": "stderr",
     "output_type": "stream",
     "text": [
      "Episode:   1%|          | 2/250 [00:12<26:44,  6.47s/it]"
     ]
    },
    {
     "name": "stdout",
     "output_type": "stream",
     "text": [
      "=================================\n",
      "begin_total_asset:1000000\n",
      "end_total_asset:4052954.158800727\n",
      "Sharpe:  0.7199025948556558\n",
      "=================================\n"
     ]
    },
    {
     "name": "stderr",
     "output_type": "stream",
     "text": [
      "Episode:   1%|          | 3/250 [00:18<25:42,  6.24s/it]"
     ]
    },
    {
     "name": "stdout",
     "output_type": "stream",
     "text": [
      "=================================\n",
      "begin_total_asset:1000000\n",
      "end_total_asset:6569806.716946597\n",
      "Sharpe:  0.8988129734123811\n",
      "=================================\n"
     ]
    },
    {
     "name": "stderr",
     "output_type": "stream",
     "text": [
      "Episode:   2%|▏         | 4/250 [00:25<26:04,  6.36s/it]"
     ]
    },
    {
     "name": "stdout",
     "output_type": "stream",
     "text": [
      "=================================\n",
      "begin_total_asset:1000000\n",
      "end_total_asset:11700819.88518377\n",
      "Sharpe:  1.183309219211861\n",
      "=================================\n"
     ]
    },
    {
     "name": "stderr",
     "output_type": "stream",
     "text": [
      "Episode:   2%|▏         | 5/250 [00:32<27:01,  6.62s/it]"
     ]
    },
    {
     "name": "stdout",
     "output_type": "stream",
     "text": [
      "=================================\n",
      "begin_total_asset:1000000\n",
      "end_total_asset:9420384.597407747\n",
      "Sharpe:  1.1184303130292124\n",
      "=================================\n"
     ]
    },
    {
     "name": "stderr",
     "output_type": "stream",
     "text": [
      "Episode:   2%|▏         | 6/250 [00:38<26:01,  6.40s/it]"
     ]
    },
    {
     "name": "stdout",
     "output_type": "stream",
     "text": [
      "=================================\n",
      "begin_total_asset:1000000\n",
      "end_total_asset:7723397.462621291\n",
      "Sharpe:  1.0041623564287854\n",
      "=================================\n"
     ]
    },
    {
     "name": "stderr",
     "output_type": "stream",
     "text": [
      "Episode:   3%|▎         | 7/250 [00:44<25:14,  6.23s/it]"
     ]
    },
    {
     "name": "stdout",
     "output_type": "stream",
     "text": [
      "=================================\n",
      "begin_total_asset:1000000\n",
      "end_total_asset:3189108.3518222254\n",
      "Sharpe:  0.579053423383347\n",
      "=================================\n"
     ]
    },
    {
     "name": "stderr",
     "output_type": "stream",
     "text": [
      "Episode:   3%|▎         | 8/250 [00:51<25:42,  6.38s/it]"
     ]
    },
    {
     "name": "stdout",
     "output_type": "stream",
     "text": [
      "=================================\n",
      "begin_total_asset:1000000\n",
      "end_total_asset:9617598.92969957\n",
      "Sharpe:  1.0807300293879005\n",
      "=================================\n"
     ]
    },
    {
     "name": "stderr",
     "output_type": "stream",
     "text": [
      "Episode:   4%|▎         | 9/250 [00:57<25:33,  6.36s/it]"
     ]
    },
    {
     "name": "stdout",
     "output_type": "stream",
     "text": [
      "=================================\n",
      "begin_total_asset:1000000\n",
      "end_total_asset:9928518.018792972\n",
      "Sharpe:  1.1032748543423723\n",
      "=================================\n"
     ]
    },
    {
     "name": "stderr",
     "output_type": "stream",
     "text": [
      "Episode:   4%|▍         | 10/250 [01:03<25:26,  6.36s/it]"
     ]
    },
    {
     "name": "stdout",
     "output_type": "stream",
     "text": [
      "=================================\n",
      "begin_total_asset:1000000\n",
      "end_total_asset:5259552.338184423\n",
      "Sharpe:  0.8470669916429154\n",
      "=================================\n"
     ]
    },
    {
     "name": "stderr",
     "output_type": "stream",
     "text": [
      "Episode:   4%|▍         | 11/250 [01:10<25:33,  6.42s/it]"
     ]
    },
    {
     "name": "stdout",
     "output_type": "stream",
     "text": [
      "=================================\n",
      "begin_total_asset:1000000\n",
      "end_total_asset:8586170.93030481\n",
      "Sharpe:  0.9892556361909207\n",
      "=================================\n"
     ]
    },
    {
     "name": "stderr",
     "output_type": "stream",
     "text": [
      "Episode:   5%|▍         | 12/250 [01:17<26:35,  6.70s/it]"
     ]
    },
    {
     "name": "stdout",
     "output_type": "stream",
     "text": [
      "=================================\n",
      "begin_total_asset:1000000\n",
      "end_total_asset:4239162.731880632\n",
      "Sharpe:  0.7455810381799463\n",
      "=================================\n"
     ]
    },
    {
     "name": "stderr",
     "output_type": "stream",
     "text": [
      "Episode:   5%|▌         | 13/250 [01:23<25:48,  6.54s/it]"
     ]
    },
    {
     "name": "stdout",
     "output_type": "stream",
     "text": [
      "=================================\n",
      "begin_total_asset:1000000\n",
      "end_total_asset:4416007.117540768\n",
      "Sharpe:  0.7439908454244447\n",
      "=================================\n"
     ]
    },
    {
     "name": "stderr",
     "output_type": "stream",
     "text": [
      "Episode:   6%|▌         | 14/250 [01:29<24:54,  6.33s/it]"
     ]
    },
    {
     "name": "stdout",
     "output_type": "stream",
     "text": [
      "=================================\n",
      "begin_total_asset:1000000\n",
      "end_total_asset:5439540.514977818\n",
      "Sharpe:  0.8516030251052918\n",
      "=================================\n"
     ]
    },
    {
     "name": "stderr",
     "output_type": "stream",
     "text": [
      "Episode:   6%|▌         | 15/250 [01:36<24:53,  6.36s/it]"
     ]
    },
    {
     "name": "stdout",
     "output_type": "stream",
     "text": [
      "=================================\n",
      "begin_total_asset:1000000\n",
      "end_total_asset:7675528.681315087\n",
      "Sharpe:  0.958474331335306\n",
      "=================================\n"
     ]
    },
    {
     "name": "stderr",
     "output_type": "stream",
     "text": [
      "Episode:   6%|▋         | 16/250 [01:41<23:56,  6.14s/it]"
     ]
    },
    {
     "name": "stdout",
     "output_type": "stream",
     "text": [
      "=================================\n",
      "begin_total_asset:1000000\n",
      "end_total_asset:6184991.259816622\n",
      "Sharpe:  0.8783311796488245\n",
      "=================================\n"
     ]
    },
    {
     "name": "stderr",
     "output_type": "stream",
     "text": [
      "Episode:   7%|▋         | 17/250 [01:47<23:56,  6.16s/it]"
     ]
    },
    {
     "name": "stdout",
     "output_type": "stream",
     "text": [
      "=================================\n",
      "begin_total_asset:1000000\n",
      "end_total_asset:4416123.149026775\n",
      "Sharpe:  0.7528266185147399\n",
      "=================================\n"
     ]
    },
    {
     "name": "stderr",
     "output_type": "stream",
     "text": [
      "Episode:   7%|▋         | 18/250 [01:54<23:53,  6.18s/it]"
     ]
    },
    {
     "name": "stdout",
     "output_type": "stream",
     "text": [
      "=================================\n",
      "begin_total_asset:1000000\n",
      "end_total_asset:10391254.87768584\n",
      "Sharpe:  1.1216066119200845\n",
      "=================================\n"
     ]
    },
    {
     "name": "stderr",
     "output_type": "stream",
     "text": [
      "Episode:   8%|▊         | 19/250 [02:00<23:22,  6.07s/it]"
     ]
    },
    {
     "name": "stdout",
     "output_type": "stream",
     "text": [
      "=================================\n",
      "begin_total_asset:1000000\n",
      "end_total_asset:4176310.9172145464\n",
      "Sharpe:  0.7222108212372108\n",
      "=================================\n"
     ]
    },
    {
     "name": "stderr",
     "output_type": "stream",
     "text": [
      "Episode:   8%|▊         | 20/250 [02:05<22:57,  5.99s/it]"
     ]
    },
    {
     "name": "stdout",
     "output_type": "stream",
     "text": [
      "=================================\n",
      "begin_total_asset:1000000\n",
      "end_total_asset:4000629.8128488134\n",
      "Sharpe:  0.6974246126286252\n",
      "=================================\n"
     ]
    },
    {
     "name": "stderr",
     "output_type": "stream",
     "text": [
      "Episode:   8%|▊         | 21/250 [02:12<23:19,  6.11s/it]"
     ]
    },
    {
     "name": "stdout",
     "output_type": "stream",
     "text": [
      "=================================\n",
      "begin_total_asset:1000000\n",
      "end_total_asset:5542726.080319169\n",
      "Sharpe:  0.8378618820975705\n",
      "=================================\n"
     ]
    },
    {
     "name": "stderr",
     "output_type": "stream",
     "text": [
      "Episode:   9%|▉         | 22/250 [02:18<23:17,  6.13s/it]"
     ]
    },
    {
     "name": "stdout",
     "output_type": "stream",
     "text": [
      "=================================\n",
      "begin_total_asset:1000000\n",
      "end_total_asset:6854557.796384154\n",
      "Sharpe:  0.8883383476105698\n",
      "=================================\n"
     ]
    },
    {
     "name": "stderr",
     "output_type": "stream",
     "text": [
      "Episode:   9%|▉         | 23/250 [02:24<23:12,  6.13s/it]"
     ]
    },
    {
     "name": "stdout",
     "output_type": "stream",
     "text": [
      "=================================\n",
      "begin_total_asset:1000000\n",
      "end_total_asset:3867456.5519872177\n",
      "Sharpe:  0.6974002499488445\n",
      "=================================\n"
     ]
    },
    {
     "name": "stderr",
     "output_type": "stream",
     "text": [
      "Episode:  10%|▉         | 24/250 [02:30<23:13,  6.16s/it]"
     ]
    },
    {
     "name": "stdout",
     "output_type": "stream",
     "text": [
      "=================================\n",
      "begin_total_asset:1000000\n",
      "end_total_asset:3614094.8516408443\n",
      "Sharpe:  0.7098731441418721\n",
      "=================================\n"
     ]
    },
    {
     "name": "stderr",
     "output_type": "stream",
     "text": [
      "Episode:  10%|█         | 25/250 [02:36<22:47,  6.08s/it]"
     ]
    },
    {
     "name": "stdout",
     "output_type": "stream",
     "text": [
      "=================================\n",
      "begin_total_asset:1000000\n",
      "end_total_asset:6145540.045848598\n",
      "Sharpe:  0.9126845581675442\n",
      "=================================\n"
     ]
    },
    {
     "name": "stderr",
     "output_type": "stream",
     "text": [
      "Episode:  10%|█         | 26/250 [02:42<22:37,  6.06s/it]"
     ]
    },
    {
     "name": "stdout",
     "output_type": "stream",
     "text": [
      "=================================\n",
      "begin_total_asset:1000000\n",
      "end_total_asset:5602897.801305809\n",
      "Sharpe:  0.8562416183091844\n",
      "=================================\n"
     ]
    },
    {
     "name": "stderr",
     "output_type": "stream",
     "text": [
      "Episode:  11%|█         | 27/250 [02:49<23:08,  6.23s/it]"
     ]
    },
    {
     "name": "stdout",
     "output_type": "stream",
     "text": [
      "=================================\n",
      "begin_total_asset:1000000\n",
      "end_total_asset:1893073.7780000684\n",
      "Sharpe:  0.38123776553612027\n",
      "=================================\n"
     ]
    },
    {
     "name": "stderr",
     "output_type": "stream",
     "text": [
      "Episode:  11%|█         | 28/250 [02:55<22:46,  6.15s/it]"
     ]
    },
    {
     "name": "stdout",
     "output_type": "stream",
     "text": [
      "=================================\n",
      "begin_total_asset:1000000\n",
      "end_total_asset:11713279.48076473\n",
      "Sharpe:  1.1408424652103348\n",
      "=================================\n"
     ]
    },
    {
     "name": "stderr",
     "output_type": "stream",
     "text": [
      "Episode:  12%|█▏        | 29/250 [03:01<22:34,  6.13s/it]"
     ]
    },
    {
     "name": "stdout",
     "output_type": "stream",
     "text": [
      "=================================\n",
      "begin_total_asset:1000000\n",
      "end_total_asset:5675156.138382371\n",
      "Sharpe:  0.8476494700458548\n",
      "=================================\n"
     ]
    },
    {
     "name": "stderr",
     "output_type": "stream",
     "text": [
      "Episode:  12%|█▏        | 30/250 [03:07<22:11,  6.05s/it]"
     ]
    },
    {
     "name": "stdout",
     "output_type": "stream",
     "text": [
      "=================================\n",
      "begin_total_asset:1000000\n",
      "end_total_asset:8134201.5668463595\n",
      "Sharpe:  1.0437233117417435\n",
      "=================================\n"
     ]
    },
    {
     "name": "stderr",
     "output_type": "stream",
     "text": [
      "Episode:  12%|█▏        | 31/250 [03:13<22:22,  6.13s/it]"
     ]
    },
    {
     "name": "stdout",
     "output_type": "stream",
     "text": [
      "=================================\n",
      "begin_total_asset:1000000\n",
      "end_total_asset:3232088.57219881\n",
      "Sharpe:  0.6272395142706095\n",
      "=================================\n"
     ]
    },
    {
     "name": "stderr",
     "output_type": "stream",
     "text": [
      "Episode:  13%|█▎        | 32/250 [03:19<22:01,  6.06s/it]"
     ]
    },
    {
     "name": "stdout",
     "output_type": "stream",
     "text": [
      "=================================\n",
      "begin_total_asset:1000000\n",
      "end_total_asset:7052954.536947245\n",
      "Sharpe:  0.9563687181449492\n",
      "=================================\n"
     ]
    },
    {
     "name": "stderr",
     "output_type": "stream",
     "text": [
      "Episode:  13%|█▎        | 33/250 [03:25<21:34,  5.96s/it]"
     ]
    },
    {
     "name": "stdout",
     "output_type": "stream",
     "text": [
      "=================================\n",
      "begin_total_asset:1000000\n",
      "end_total_asset:4747464.21078061\n",
      "Sharpe:  0.7881290754735444\n",
      "=================================\n"
     ]
    },
    {
     "name": "stderr",
     "output_type": "stream",
     "text": [
      "Episode:  14%|█▎        | 34/250 [03:30<21:18,  5.92s/it]"
     ]
    },
    {
     "name": "stdout",
     "output_type": "stream",
     "text": [
      "=================================\n",
      "begin_total_asset:1000000\n",
      "end_total_asset:3377169.4587125424\n",
      "Sharpe:  0.632088112087976\n",
      "=================================\n"
     ]
    },
    {
     "name": "stderr",
     "output_type": "stream",
     "text": [
      "Episode:  14%|█▍        | 35/250 [03:37<21:32,  6.01s/it]"
     ]
    },
    {
     "name": "stdout",
     "output_type": "stream",
     "text": [
      "=================================\n",
      "begin_total_asset:1000000\n",
      "end_total_asset:5547946.021319849\n",
      "Sharpe:  0.8414629868833042\n",
      "=================================\n"
     ]
    },
    {
     "name": "stderr",
     "output_type": "stream",
     "text": [
      "Episode:  14%|█▍        | 36/250 [03:43<21:18,  5.97s/it]"
     ]
    },
    {
     "name": "stdout",
     "output_type": "stream",
     "text": [
      "=================================\n",
      "begin_total_asset:1000000\n",
      "end_total_asset:5548711.886197425\n",
      "Sharpe:  0.8625183965540254\n",
      "=================================\n"
     ]
    },
    {
     "name": "stderr",
     "output_type": "stream",
     "text": [
      "Episode:  15%|█▍        | 37/250 [03:49<21:17,  6.00s/it]"
     ]
    },
    {
     "name": "stdout",
     "output_type": "stream",
     "text": [
      "=================================\n",
      "begin_total_asset:1000000\n",
      "end_total_asset:2693499.7662231033\n",
      "Sharpe:  0.5311796917128775\n",
      "=================================\n"
     ]
    },
    {
     "name": "stderr",
     "output_type": "stream",
     "text": [
      "Episode:  15%|█▌        | 38/250 [03:54<20:46,  5.88s/it]"
     ]
    },
    {
     "name": "stdout",
     "output_type": "stream",
     "text": [
      "=================================\n",
      "begin_total_asset:1000000\n",
      "end_total_asset:5264932.178568959\n",
      "Sharpe:  0.8238567728968282\n",
      "=================================\n"
     ]
    },
    {
     "name": "stderr",
     "output_type": "stream",
     "text": [
      "Episode:  16%|█▌        | 39/250 [04:01<21:57,  6.24s/it]"
     ]
    },
    {
     "name": "stdout",
     "output_type": "stream",
     "text": [
      "=================================\n",
      "begin_total_asset:1000000\n",
      "end_total_asset:5783736.651277734\n",
      "Sharpe:  0.870696264374309\n",
      "=================================\n"
     ]
    },
    {
     "name": "stderr",
     "output_type": "stream",
     "text": [
      "Episode:  16%|█▌        | 40/250 [04:07<21:23,  6.11s/it]"
     ]
    },
    {
     "name": "stdout",
     "output_type": "stream",
     "text": [
      "=================================\n",
      "begin_total_asset:1000000\n",
      "end_total_asset:2700972.422582726\n",
      "Sharpe:  0.5269025782046854\n",
      "=================================\n"
     ]
    },
    {
     "name": "stderr",
     "output_type": "stream",
     "text": [
      "Episode:  16%|█▋        | 41/250 [04:13<21:03,  6.05s/it]"
     ]
    },
    {
     "name": "stdout",
     "output_type": "stream",
     "text": [
      "=================================\n",
      "begin_total_asset:1000000\n",
      "end_total_asset:11859989.577970348\n",
      "Sharpe:  1.1795089055601826\n",
      "=================================\n"
     ]
    },
    {
     "name": "stderr",
     "output_type": "stream",
     "text": [
      "Episode:  17%|█▋        | 42/250 [04:19<20:45,  5.99s/it]"
     ]
    },
    {
     "name": "stdout",
     "output_type": "stream",
     "text": [
      "=================================\n",
      "begin_total_asset:1000000\n",
      "end_total_asset:4272141.116864808\n",
      "Sharpe:  0.7264423091853545\n",
      "=================================\n"
     ]
    },
    {
     "name": "stderr",
     "output_type": "stream",
     "text": [
      "Episode:  17%|█▋        | 43/250 [04:25<20:30,  5.94s/it]"
     ]
    },
    {
     "name": "stdout",
     "output_type": "stream",
     "text": [
      "=================================\n",
      "begin_total_asset:1000000\n",
      "end_total_asset:5460504.9689161945\n",
      "Sharpe:  0.8145278186208101\n",
      "=================================\n"
     ]
    },
    {
     "name": "stderr",
     "output_type": "stream",
     "text": [
      "Episode:  18%|█▊        | 44/250 [04:30<20:13,  5.89s/it]"
     ]
    },
    {
     "name": "stdout",
     "output_type": "stream",
     "text": [
      "=================================\n",
      "begin_total_asset:1000000\n",
      "end_total_asset:2170941.8195008915\n",
      "Sharpe:  0.4464390663586666\n",
      "=================================\n"
     ]
    },
    {
     "name": "stderr",
     "output_type": "stream",
     "text": [
      "Episode:  18%|█▊        | 45/250 [04:36<19:59,  5.85s/it]"
     ]
    },
    {
     "name": "stdout",
     "output_type": "stream",
     "text": [
      "=================================\n",
      "begin_total_asset:1000000\n",
      "end_total_asset:3762071.879977049\n",
      "Sharpe:  0.6752642083226522\n",
      "=================================\n"
     ]
    },
    {
     "name": "stderr",
     "output_type": "stream",
     "text": [
      "Episode:  18%|█▊        | 46/250 [04:42<19:45,  5.81s/it]"
     ]
    },
    {
     "name": "stdout",
     "output_type": "stream",
     "text": [
      "=================================\n",
      "begin_total_asset:1000000\n",
      "end_total_asset:4633107.205281107\n",
      "Sharpe:  0.8126056070228924\n",
      "=================================\n"
     ]
    },
    {
     "name": "stderr",
     "output_type": "stream",
     "text": [
      "Episode:  19%|█▉        | 47/250 [04:48<19:34,  5.79s/it]"
     ]
    },
    {
     "name": "stdout",
     "output_type": "stream",
     "text": [
      "=================================\n",
      "begin_total_asset:1000000\n",
      "end_total_asset:5377370.881273747\n",
      "Sharpe:  0.8877946134771055\n",
      "=================================\n"
     ]
    },
    {
     "name": "stderr",
     "output_type": "stream",
     "text": [
      "Episode:  19%|█▉        | 48/250 [04:53<19:24,  5.76s/it]"
     ]
    },
    {
     "name": "stdout",
     "output_type": "stream",
     "text": [
      "=================================\n",
      "begin_total_asset:1000000\n",
      "end_total_asset:2675652.8176642074\n",
      "Sharpe:  0.5306125920747529\n",
      "=================================\n"
     ]
    },
    {
     "name": "stderr",
     "output_type": "stream",
     "text": [
      "Episode:  20%|█▉        | 49/250 [05:00<19:40,  5.87s/it]"
     ]
    },
    {
     "name": "stdout",
     "output_type": "stream",
     "text": [
      "=================================\n",
      "begin_total_asset:1000000\n",
      "end_total_asset:5204663.369582434\n",
      "Sharpe:  0.8305670388547617\n",
      "=================================\n"
     ]
    },
    {
     "name": "stderr",
     "output_type": "stream",
     "text": [
      "Episode:  20%|██        | 50/250 [05:06<19:51,  5.96s/it]"
     ]
    },
    {
     "name": "stdout",
     "output_type": "stream",
     "text": [
      "=================================\n",
      "begin_total_asset:1000000\n",
      "end_total_asset:5807175.0027453555\n",
      "Sharpe:  0.8201697829691155\n",
      "=================================\n"
     ]
    },
    {
     "name": "stderr",
     "output_type": "stream",
     "text": [
      "Episode:  20%|██        | 51/250 [05:13<21:12,  6.39s/it]"
     ]
    },
    {
     "name": "stdout",
     "output_type": "stream",
     "text": [
      "=================================\n",
      "begin_total_asset:1000000\n",
      "end_total_asset:7867755.644967408\n",
      "Sharpe:  1.024915622861282\n",
      "=================================\n"
     ]
    },
    {
     "name": "stderr",
     "output_type": "stream",
     "text": [
      "Episode:  21%|██        | 52/250 [05:21<22:08,  6.71s/it]"
     ]
    },
    {
     "name": "stdout",
     "output_type": "stream",
     "text": [
      "=================================\n",
      "begin_total_asset:1000000\n",
      "end_total_asset:5892008.801123842\n",
      "Sharpe:  0.8748022061107573\n",
      "=================================\n"
     ]
    },
    {
     "name": "stderr",
     "output_type": "stream",
     "text": [
      "Episode:  21%|██        | 53/250 [05:28<22:46,  6.94s/it]"
     ]
    },
    {
     "name": "stdout",
     "output_type": "stream",
     "text": [
      "=================================\n",
      "begin_total_asset:1000000\n",
      "end_total_asset:5208758.281953078\n",
      "Sharpe:  0.8461147464101457\n",
      "=================================\n"
     ]
    },
    {
     "name": "stderr",
     "output_type": "stream",
     "text": [
      "Episode:  22%|██▏       | 54/250 [05:34<21:52,  6.70s/it]"
     ]
    },
    {
     "name": "stdout",
     "output_type": "stream",
     "text": [
      "=================================\n",
      "begin_total_asset:1000000\n",
      "end_total_asset:18759622.3661109\n",
      "Sharpe:  1.3553508222219317\n",
      "=================================\n"
     ]
    },
    {
     "name": "stderr",
     "output_type": "stream",
     "text": [
      "Episode:  22%|██▏       | 55/250 [05:41<21:39,  6.66s/it]"
     ]
    },
    {
     "name": "stdout",
     "output_type": "stream",
     "text": [
      "=================================\n",
      "begin_total_asset:1000000\n",
      "end_total_asset:3967110.9995206497\n",
      "Sharpe:  0.6921275128954032\n",
      "=================================\n"
     ]
    },
    {
     "name": "stderr",
     "output_type": "stream",
     "text": [
      "Episode:  22%|██▏       | 56/250 [05:47<21:10,  6.55s/it]"
     ]
    },
    {
     "name": "stdout",
     "output_type": "stream",
     "text": [
      "=================================\n",
      "begin_total_asset:1000000\n",
      "end_total_asset:7744717.113190077\n",
      "Sharpe:  0.9895520854792768\n",
      "=================================\n"
     ]
    },
    {
     "name": "stderr",
     "output_type": "stream",
     "text": [
      "Episode:  23%|██▎       | 57/250 [05:53<20:27,  6.36s/it]"
     ]
    },
    {
     "name": "stdout",
     "output_type": "stream",
     "text": [
      "=================================\n",
      "begin_total_asset:1000000\n",
      "end_total_asset:7176197.231218795\n",
      "Sharpe:  0.9476212907178245\n",
      "=================================\n"
     ]
    },
    {
     "name": "stderr",
     "output_type": "stream",
     "text": [
      "Episode:  23%|██▎       | 58/250 [05:59<20:09,  6.30s/it]"
     ]
    },
    {
     "name": "stdout",
     "output_type": "stream",
     "text": [
      "=================================\n",
      "begin_total_asset:1000000\n",
      "end_total_asset:5291357.56775256\n",
      "Sharpe:  0.8429867262119511\n",
      "=================================\n"
     ]
    },
    {
     "name": "stderr",
     "output_type": "stream",
     "text": [
      "Episode:  24%|██▎       | 59/250 [06:05<19:52,  6.24s/it]"
     ]
    },
    {
     "name": "stdout",
     "output_type": "stream",
     "text": [
      "=================================\n",
      "begin_total_asset:1000000\n",
      "end_total_asset:7298105.091169146\n",
      "Sharpe:  0.961910330731722\n",
      "=================================\n"
     ]
    },
    {
     "name": "stderr",
     "output_type": "stream",
     "text": [
      "Episode:  24%|██▍       | 60/250 [06:11<19:29,  6.16s/it]"
     ]
    },
    {
     "name": "stdout",
     "output_type": "stream",
     "text": [
      "=================================\n",
      "begin_total_asset:1000000\n",
      "end_total_asset:1736870.1584949074\n",
      "Sharpe:  0.3486074666389847\n",
      "=================================\n"
     ]
    },
    {
     "name": "stderr",
     "output_type": "stream",
     "text": [
      "Episode:  24%|██▍       | 61/250 [06:17<18:55,  6.01s/it]"
     ]
    },
    {
     "name": "stdout",
     "output_type": "stream",
     "text": [
      "=================================\n",
      "begin_total_asset:1000000\n",
      "end_total_asset:8409469.370190565\n",
      "Sharpe:  1.0192013126458195\n",
      "=================================\n"
     ]
    },
    {
     "name": "stderr",
     "output_type": "stream",
     "text": [
      "Episode:  25%|██▍       | 62/250 [06:23<19:21,  6.18s/it]"
     ]
    },
    {
     "name": "stdout",
     "output_type": "stream",
     "text": [
      "=================================\n",
      "begin_total_asset:1000000\n",
      "end_total_asset:7670931.792239152\n",
      "Sharpe:  1.0090608272549486\n",
      "=================================\n"
     ]
    },
    {
     "name": "stderr",
     "output_type": "stream",
     "text": [
      "Episode:  25%|██▌       | 63/250 [06:30<19:23,  6.22s/it]"
     ]
    },
    {
     "name": "stdout",
     "output_type": "stream",
     "text": [
      "=================================\n",
      "begin_total_asset:1000000\n",
      "end_total_asset:5066824.102998693\n",
      "Sharpe:  0.7981518425490902\n",
      "=================================\n"
     ]
    },
    {
     "name": "stderr",
     "output_type": "stream",
     "text": [
      "Episode:  26%|██▌       | 64/250 [06:36<19:00,  6.13s/it]"
     ]
    },
    {
     "name": "stdout",
     "output_type": "stream",
     "text": [
      "=================================\n",
      "begin_total_asset:1000000\n",
      "end_total_asset:8025264.42625265\n",
      "Sharpe:  0.9971542081462111\n",
      "=================================\n"
     ]
    },
    {
     "name": "stderr",
     "output_type": "stream",
     "text": [
      "Episode:  26%|██▌       | 65/250 [06:41<18:33,  6.02s/it]"
     ]
    },
    {
     "name": "stdout",
     "output_type": "stream",
     "text": [
      "=================================\n",
      "begin_total_asset:1000000\n",
      "end_total_asset:11807813.276574468\n",
      "Sharpe:  1.1747824493976653\n",
      "=================================\n"
     ]
    },
    {
     "name": "stderr",
     "output_type": "stream",
     "text": [
      "Episode:  26%|██▋       | 66/250 [06:47<18:06,  5.90s/it]"
     ]
    },
    {
     "name": "stdout",
     "output_type": "stream",
     "text": [
      "=================================\n",
      "begin_total_asset:1000000\n",
      "end_total_asset:1830224.680406659\n",
      "Sharpe:  0.36016433115636853\n",
      "=================================\n"
     ]
    },
    {
     "name": "stderr",
     "output_type": "stream",
     "text": [
      "Episode:  27%|██▋       | 67/250 [06:53<17:45,  5.82s/it]"
     ]
    },
    {
     "name": "stdout",
     "output_type": "stream",
     "text": [
      "=================================\n",
      "begin_total_asset:1000000\n",
      "end_total_asset:2128629.4581672316\n",
      "Sharpe:  0.42805537136815425\n",
      "=================================\n"
     ]
    },
    {
     "name": "stderr",
     "output_type": "stream",
     "text": [
      "Episode:  27%|██▋       | 68/250 [06:59<17:44,  5.85s/it]"
     ]
    },
    {
     "name": "stdout",
     "output_type": "stream",
     "text": [
      "=================================\n",
      "begin_total_asset:1000000\n",
      "end_total_asset:2378890.749727304\n",
      "Sharpe:  0.4767222299131794\n",
      "=================================\n"
     ]
    },
    {
     "name": "stderr",
     "output_type": "stream",
     "text": [
      "Episode:  28%|██▊       | 69/250 [07:05<17:51,  5.92s/it]"
     ]
    },
    {
     "name": "stdout",
     "output_type": "stream",
     "text": [
      "=================================\n",
      "begin_total_asset:1000000\n",
      "end_total_asset:10445249.725359742\n",
      "Sharpe:  1.089251051257967\n",
      "=================================\n"
     ]
    },
    {
     "name": "stderr",
     "output_type": "stream",
     "text": [
      "Episode:  28%|██▊       | 70/250 [07:10<17:39,  5.89s/it]"
     ]
    },
    {
     "name": "stdout",
     "output_type": "stream",
     "text": [
      "=================================\n",
      "begin_total_asset:1000000\n",
      "end_total_asset:6642130.50331684\n",
      "Sharpe:  0.8790666393206827\n",
      "=================================\n"
     ]
    },
    {
     "name": "stderr",
     "output_type": "stream",
     "text": [
      "Episode:  28%|██▊       | 71/250 [07:17<17:41,  5.93s/it]"
     ]
    },
    {
     "name": "stdout",
     "output_type": "stream",
     "text": [
      "=================================\n",
      "begin_total_asset:1000000\n",
      "end_total_asset:2840736.3789403196\n",
      "Sharpe:  0.5604658557381557\n",
      "=================================\n"
     ]
    },
    {
     "name": "stderr",
     "output_type": "stream",
     "text": [
      "Episode:  29%|██▉       | 72/250 [07:22<17:37,  5.94s/it]"
     ]
    },
    {
     "name": "stdout",
     "output_type": "stream",
     "text": [
      "=================================\n",
      "begin_total_asset:1000000\n",
      "end_total_asset:4063252.439736619\n",
      "Sharpe:  0.7364798675662968\n",
      "=================================\n"
     ]
    },
    {
     "name": "stderr",
     "output_type": "stream",
     "text": [
      "Episode:  29%|██▉       | 73/250 [07:28<17:15,  5.85s/it]"
     ]
    },
    {
     "name": "stdout",
     "output_type": "stream",
     "text": [
      "=================================\n",
      "begin_total_asset:1000000\n",
      "end_total_asset:5834282.3972450085\n",
      "Sharpe:  0.8591115790092303\n",
      "=================================\n"
     ]
    },
    {
     "name": "stderr",
     "output_type": "stream",
     "text": [
      "Episode:  30%|██▉       | 74/250 [07:34<17:00,  5.80s/it]"
     ]
    },
    {
     "name": "stdout",
     "output_type": "stream",
     "text": [
      "=================================\n",
      "begin_total_asset:1000000\n",
      "end_total_asset:6460843.444231944\n",
      "Sharpe:  0.899731535916107\n",
      "=================================\n"
     ]
    },
    {
     "name": "stderr",
     "output_type": "stream",
     "text": [
      "Episode:  30%|███       | 75/250 [07:40<17:23,  5.96s/it]"
     ]
    },
    {
     "name": "stdout",
     "output_type": "stream",
     "text": [
      "=================================\n",
      "begin_total_asset:1000000\n",
      "end_total_asset:8394726.962006623\n",
      "Sharpe:  1.024941790920752\n",
      "=================================\n"
     ]
    },
    {
     "name": "stderr",
     "output_type": "stream",
     "text": [
      "Episode:  30%|███       | 76/250 [07:46<17:27,  6.02s/it]"
     ]
    },
    {
     "name": "stdout",
     "output_type": "stream",
     "text": [
      "=================================\n",
      "begin_total_asset:1000000\n",
      "end_total_asset:10198731.16790373\n",
      "Sharpe:  1.1146758359833797\n",
      "=================================\n"
     ]
    },
    {
     "name": "stderr",
     "output_type": "stream",
     "text": [
      "Episode:  31%|███       | 77/250 [07:52<17:09,  5.95s/it]"
     ]
    },
    {
     "name": "stdout",
     "output_type": "stream",
     "text": [
      "=================================\n",
      "begin_total_asset:1000000\n",
      "end_total_asset:9699641.554749561\n",
      "Sharpe:  1.0812713653340706\n",
      "=================================\n"
     ]
    },
    {
     "name": "stderr",
     "output_type": "stream",
     "text": [
      "Episode:  31%|███       | 78/250 [07:58<16:53,  5.89s/it]"
     ]
    },
    {
     "name": "stdout",
     "output_type": "stream",
     "text": [
      "=================================\n",
      "begin_total_asset:1000000\n",
      "end_total_asset:4151170.4834687705\n",
      "Sharpe:  0.7306042331717711\n",
      "=================================\n"
     ]
    },
    {
     "name": "stderr",
     "output_type": "stream",
     "text": [
      "Episode:  32%|███▏      | 79/250 [08:04<16:46,  5.89s/it]"
     ]
    },
    {
     "name": "stdout",
     "output_type": "stream",
     "text": [
      "=================================\n",
      "begin_total_asset:1000000\n",
      "end_total_asset:7004849.097614299\n",
      "Sharpe:  0.9948278707587924\n",
      "=================================\n"
     ]
    },
    {
     "name": "stderr",
     "output_type": "stream",
     "text": [
      "Episode:  32%|███▏      | 80/250 [08:10<16:39,  5.88s/it]"
     ]
    },
    {
     "name": "stdout",
     "output_type": "stream",
     "text": [
      "=================================\n",
      "begin_total_asset:1000000\n",
      "end_total_asset:6319801.258494146\n",
      "Sharpe:  0.8832117238828845\n",
      "=================================\n"
     ]
    },
    {
     "name": "stderr",
     "output_type": "stream",
     "text": [
      "Episode:  32%|███▏      | 81/250 [08:15<16:30,  5.86s/it]"
     ]
    },
    {
     "name": "stdout",
     "output_type": "stream",
     "text": [
      "=================================\n",
      "begin_total_asset:1000000\n",
      "end_total_asset:24441306.567681015\n",
      "Sharpe:  1.532561624470926\n",
      "=================================\n"
     ]
    },
    {
     "name": "stderr",
     "output_type": "stream",
     "text": [
      "Episode:  33%|███▎      | 82/250 [08:21<16:13,  5.79s/it]"
     ]
    },
    {
     "name": "stdout",
     "output_type": "stream",
     "text": [
      "=================================\n",
      "begin_total_asset:1000000\n",
      "end_total_asset:8783183.038422963\n",
      "Sharpe:  1.0495697774551158\n",
      "=================================\n"
     ]
    },
    {
     "name": "stderr",
     "output_type": "stream",
     "text": [
      "Episode:  33%|███▎      | 83/250 [08:27<15:56,  5.73s/it]"
     ]
    },
    {
     "name": "stdout",
     "output_type": "stream",
     "text": [
      "=================================\n",
      "begin_total_asset:1000000\n",
      "end_total_asset:8074691.472233131\n",
      "Sharpe:  1.0097619172863592\n",
      "=================================\n"
     ]
    },
    {
     "name": "stderr",
     "output_type": "stream",
     "text": [
      "Episode:  34%|███▎      | 84/250 [08:33<16:28,  5.96s/it]"
     ]
    },
    {
     "name": "stdout",
     "output_type": "stream",
     "text": [
      "=================================\n",
      "begin_total_asset:1000000\n",
      "end_total_asset:4274217.697777841\n",
      "Sharpe:  0.7278803099189226\n",
      "=================================\n"
     ]
    },
    {
     "name": "stderr",
     "output_type": "stream",
     "text": [
      "Episode:  34%|███▍      | 85/250 [08:40<16:55,  6.16s/it]"
     ]
    },
    {
     "name": "stdout",
     "output_type": "stream",
     "text": [
      "=================================\n",
      "begin_total_asset:1000000\n",
      "end_total_asset:8813959.462346982\n",
      "Sharpe:  0.9989204751699671\n",
      "=================================\n"
     ]
    },
    {
     "name": "stderr",
     "output_type": "stream",
     "text": [
      "Episode:  34%|███▍      | 86/250 [08:46<16:45,  6.13s/it]"
     ]
    },
    {
     "name": "stdout",
     "output_type": "stream",
     "text": [
      "=================================\n",
      "begin_total_asset:1000000\n",
      "end_total_asset:4380335.109600479\n",
      "Sharpe:  0.7225368659866346\n",
      "=================================\n"
     ]
    },
    {
     "name": "stderr",
     "output_type": "stream",
     "text": [
      "Episode:  35%|███▍      | 87/250 [08:52<16:39,  6.13s/it]"
     ]
    },
    {
     "name": "stdout",
     "output_type": "stream",
     "text": [
      "=================================\n",
      "begin_total_asset:1000000\n",
      "end_total_asset:4999920.93364986\n",
      "Sharpe:  0.8073100912544845\n",
      "=================================\n"
     ]
    },
    {
     "name": "stderr",
     "output_type": "stream",
     "text": [
      "Episode:  35%|███▌      | 88/250 [08:58<16:23,  6.07s/it]"
     ]
    },
    {
     "name": "stdout",
     "output_type": "stream",
     "text": [
      "=================================\n",
      "begin_total_asset:1000000\n",
      "end_total_asset:2026746.5365228697\n",
      "Sharpe:  0.4041777650575473\n",
      "=================================\n"
     ]
    },
    {
     "name": "stderr",
     "output_type": "stream",
     "text": [
      "Episode:  36%|███▌      | 89/250 [09:04<16:05,  6.00s/it]"
     ]
    },
    {
     "name": "stdout",
     "output_type": "stream",
     "text": [
      "=================================\n",
      "begin_total_asset:1000000\n",
      "end_total_asset:3364417.458442451\n",
      "Sharpe:  0.647498483809745\n",
      "=================================\n"
     ]
    },
    {
     "name": "stderr",
     "output_type": "stream",
     "text": [
      "Episode:  36%|███▌      | 90/250 [09:10<16:28,  6.18s/it]"
     ]
    },
    {
     "name": "stdout",
     "output_type": "stream",
     "text": [
      "=================================\n",
      "begin_total_asset:1000000\n",
      "end_total_asset:4373272.929712509\n",
      "Sharpe:  0.7250798489619547\n",
      "=================================\n"
     ]
    },
    {
     "name": "stderr",
     "output_type": "stream",
     "text": [
      "Episode:  36%|███▋      | 91/250 [09:16<16:08,  6.09s/it]"
     ]
    },
    {
     "name": "stdout",
     "output_type": "stream",
     "text": [
      "=================================\n",
      "begin_total_asset:1000000\n",
      "end_total_asset:3927795.326538652\n",
      "Sharpe:  0.7283363722165971\n",
      "=================================\n"
     ]
    },
    {
     "name": "stderr",
     "output_type": "stream",
     "text": [
      "Episode:  37%|███▋      | 92/250 [09:22<15:55,  6.05s/it]"
     ]
    },
    {
     "name": "stdout",
     "output_type": "stream",
     "text": [
      "=================================\n",
      "begin_total_asset:1000000\n",
      "end_total_asset:9859090.592944996\n",
      "Sharpe:  1.0796004607763336\n",
      "=================================\n"
     ]
    },
    {
     "name": "stderr",
     "output_type": "stream",
     "text": [
      "Episode:  37%|███▋      | 93/250 [09:28<15:48,  6.04s/it]"
     ]
    },
    {
     "name": "stdout",
     "output_type": "stream",
     "text": [
      "=================================\n",
      "begin_total_asset:1000000\n",
      "end_total_asset:10425501.296123292\n",
      "Sharpe:  1.1009039753739343\n",
      "=================================\n"
     ]
    },
    {
     "name": "stderr",
     "output_type": "stream",
     "text": [
      "Episode:  38%|███▊      | 94/250 [09:34<15:37,  6.01s/it]"
     ]
    },
    {
     "name": "stdout",
     "output_type": "stream",
     "text": [
      "=================================\n",
      "begin_total_asset:1000000\n",
      "end_total_asset:18964756.933582112\n",
      "Sharpe:  1.356536171013704\n",
      "=================================\n"
     ]
    },
    {
     "name": "stderr",
     "output_type": "stream",
     "text": [
      "Episode:  38%|███▊      | 95/250 [09:40<15:19,  5.93s/it]"
     ]
    },
    {
     "name": "stdout",
     "output_type": "stream",
     "text": [
      "=================================\n",
      "begin_total_asset:1000000\n",
      "end_total_asset:7821436.728079655\n",
      "Sharpe:  1.0049043220819625\n",
      "=================================\n"
     ]
    },
    {
     "name": "stderr",
     "output_type": "stream",
     "text": [
      "Episode:  38%|███▊      | 96/250 [09:46<15:09,  5.91s/it]"
     ]
    },
    {
     "name": "stdout",
     "output_type": "stream",
     "text": [
      "=================================\n",
      "begin_total_asset:1000000\n",
      "end_total_asset:11275134.823938416\n",
      "Sharpe:  1.1548672143484182\n",
      "=================================\n"
     ]
    },
    {
     "name": "stderr",
     "output_type": "stream",
     "text": [
      "Episode:  39%|███▉      | 97/250 [09:52<15:16,  5.99s/it]"
     ]
    },
    {
     "name": "stdout",
     "output_type": "stream",
     "text": [
      "=================================\n",
      "begin_total_asset:1000000\n",
      "end_total_asset:13491758.57753182\n",
      "Sharpe:  1.2350343867202842\n",
      "=================================\n"
     ]
    },
    {
     "name": "stderr",
     "output_type": "stream",
     "text": [
      "Episode:  39%|███▉      | 98/250 [09:58<15:13,  6.01s/it]"
     ]
    },
    {
     "name": "stdout",
     "output_type": "stream",
     "text": [
      "=================================\n",
      "begin_total_asset:1000000\n",
      "end_total_asset:5106232.840791167\n",
      "Sharpe:  0.8480655541004526\n",
      "=================================\n"
     ]
    },
    {
     "name": "stderr",
     "output_type": "stream",
     "text": [
      "Episode:  40%|███▉      | 99/250 [10:04<15:16,  6.07s/it]"
     ]
    },
    {
     "name": "stdout",
     "output_type": "stream",
     "text": [
      "=================================\n",
      "begin_total_asset:1000000\n",
      "end_total_asset:10521098.582844624\n",
      "Sharpe:  1.166845103657659\n",
      "=================================\n"
     ]
    },
    {
     "name": "stderr",
     "output_type": "stream",
     "text": [
      "Episode:  40%|████      | 100/250 [10:10<14:58,  5.99s/it]"
     ]
    },
    {
     "name": "stdout",
     "output_type": "stream",
     "text": [
      "=================================\n",
      "begin_total_asset:1000000\n",
      "end_total_asset:4694467.484504378\n",
      "Sharpe:  0.7726718850196107\n",
      "=================================\n"
     ]
    },
    {
     "name": "stderr",
     "output_type": "stream",
     "text": [
      "Episode:  40%|████      | 101/250 [10:16<14:41,  5.92s/it]"
     ]
    },
    {
     "name": "stdout",
     "output_type": "stream",
     "text": [
      "=================================\n",
      "begin_total_asset:1000000\n",
      "end_total_asset:6548455.384826653\n",
      "Sharpe:  0.9242102142408336\n",
      "=================================\n"
     ]
    },
    {
     "name": "stderr",
     "output_type": "stream",
     "text": [
      "Episode:  41%|████      | 102/250 [10:21<14:27,  5.86s/it]"
     ]
    },
    {
     "name": "stdout",
     "output_type": "stream",
     "text": [
      "=================================\n",
      "begin_total_asset:1000000\n",
      "end_total_asset:3976613.6430570795\n",
      "Sharpe:  0.7141020204042382\n",
      "=================================\n"
     ]
    },
    {
     "name": "stderr",
     "output_type": "stream",
     "text": [
      "Episode:  41%|████      | 103/250 [10:27<14:14,  5.81s/it]"
     ]
    },
    {
     "name": "stdout",
     "output_type": "stream",
     "text": [
      "=================================\n",
      "begin_total_asset:1000000\n",
      "end_total_asset:11597988.13251715\n",
      "Sharpe:  1.1830475795070001\n",
      "=================================\n"
     ]
    },
    {
     "name": "stderr",
     "output_type": "stream",
     "text": [
      "Episode:  42%|████▏     | 104/250 [10:33<14:09,  5.82s/it]"
     ]
    },
    {
     "name": "stdout",
     "output_type": "stream",
     "text": [
      "=================================\n",
      "begin_total_asset:1000000\n",
      "end_total_asset:2978920.7677187906\n",
      "Sharpe:  0.5965254720308789\n",
      "=================================\n"
     ]
    },
    {
     "name": "stderr",
     "output_type": "stream",
     "text": [
      "Episode:  42%|████▏     | 105/250 [10:39<13:56,  5.77s/it]"
     ]
    },
    {
     "name": "stdout",
     "output_type": "stream",
     "text": [
      "=================================\n",
      "begin_total_asset:1000000\n",
      "end_total_asset:12351447.68288764\n",
      "Sharpe:  1.2039024852777511\n",
      "=================================\n"
     ]
    },
    {
     "name": "stderr",
     "output_type": "stream",
     "text": [
      "Episode:  42%|████▏     | 106/250 [10:45<14:03,  5.86s/it]"
     ]
    },
    {
     "name": "stdout",
     "output_type": "stream",
     "text": [
      "=================================\n",
      "begin_total_asset:1000000\n",
      "end_total_asset:2744185.660620061\n",
      "Sharpe:  0.5290971705977956\n",
      "=================================\n"
     ]
    },
    {
     "name": "stderr",
     "output_type": "stream",
     "text": [
      "Episode:  43%|████▎     | 107/250 [10:51<14:31,  6.09s/it]"
     ]
    },
    {
     "name": "stdout",
     "output_type": "stream",
     "text": [
      "=================================\n",
      "begin_total_asset:1000000\n",
      "end_total_asset:5245022.802973388\n",
      "Sharpe:  0.8612689031869508\n",
      "=================================\n"
     ]
    },
    {
     "name": "stderr",
     "output_type": "stream",
     "text": [
      "Episode:  43%|████▎     | 108/250 [10:57<14:24,  6.09s/it]"
     ]
    },
    {
     "name": "stdout",
     "output_type": "stream",
     "text": [
      "=================================\n",
      "begin_total_asset:1000000\n",
      "end_total_asset:8794251.393604202\n",
      "Sharpe:  1.0476072519271475\n",
      "=================================\n"
     ]
    },
    {
     "name": "stderr",
     "output_type": "stream",
     "text": [
      "Episode:  44%|████▎     | 109/250 [11:03<14:02,  5.98s/it]"
     ]
    },
    {
     "name": "stdout",
     "output_type": "stream",
     "text": [
      "=================================\n",
      "begin_total_asset:1000000\n",
      "end_total_asset:9529589.34280795\n",
      "Sharpe:  1.0967042997505607\n",
      "=================================\n"
     ]
    },
    {
     "name": "stderr",
     "output_type": "stream",
     "text": [
      "Episode:  44%|████▍     | 110/250 [11:09<13:52,  5.95s/it]"
     ]
    },
    {
     "name": "stdout",
     "output_type": "stream",
     "text": [
      "=================================\n",
      "begin_total_asset:1000000\n",
      "end_total_asset:8834411.492145875\n",
      "Sharpe:  1.0505354018216873\n",
      "=================================\n"
     ]
    },
    {
     "name": "stderr",
     "output_type": "stream",
     "text": [
      "Episode:  44%|████▍     | 111/250 [11:15<13:57,  6.03s/it]"
     ]
    },
    {
     "name": "stdout",
     "output_type": "stream",
     "text": [
      "=================================\n",
      "begin_total_asset:1000000\n",
      "end_total_asset:4759208.815285954\n",
      "Sharpe:  0.770193453875258\n",
      "=================================\n"
     ]
    },
    {
     "name": "stderr",
     "output_type": "stream",
     "text": [
      "Episode:  45%|████▍     | 112/250 [11:21<13:44,  5.98s/it]"
     ]
    },
    {
     "name": "stdout",
     "output_type": "stream",
     "text": [
      "=================================\n",
      "begin_total_asset:1000000\n",
      "end_total_asset:10114976.18312133\n",
      "Sharpe:  1.122951646432172\n",
      "=================================\n"
     ]
    },
    {
     "name": "stderr",
     "output_type": "stream",
     "text": [
      "Episode:  45%|████▌     | 113/250 [11:27<13:37,  5.97s/it]"
     ]
    },
    {
     "name": "stdout",
     "output_type": "stream",
     "text": [
      "=================================\n",
      "begin_total_asset:1000000\n",
      "end_total_asset:3013638.0871553565\n",
      "Sharpe:  0.5767864098944997\n",
      "=================================\n"
     ]
    },
    {
     "name": "stderr",
     "output_type": "stream",
     "text": [
      "Episode:  46%|████▌     | 114/250 [11:33<13:20,  5.89s/it]"
     ]
    },
    {
     "name": "stdout",
     "output_type": "stream",
     "text": [
      "=================================\n",
      "begin_total_asset:1000000\n",
      "end_total_asset:6188112.866347837\n",
      "Sharpe:  0.8963612588401798\n",
      "=================================\n"
     ]
    },
    {
     "name": "stderr",
     "output_type": "stream",
     "text": [
      "Episode:  46%|████▌     | 115/250 [11:38<13:10,  5.86s/it]"
     ]
    },
    {
     "name": "stdout",
     "output_type": "stream",
     "text": [
      "=================================\n",
      "begin_total_asset:1000000\n",
      "end_total_asset:11011217.702486705\n",
      "Sharpe:  1.1723064277865793\n",
      "=================================\n"
     ]
    },
    {
     "name": "stderr",
     "output_type": "stream",
     "text": [
      "Episode:  46%|████▋     | 116/250 [11:45<13:12,  5.92s/it]"
     ]
    },
    {
     "name": "stdout",
     "output_type": "stream",
     "text": [
      "=================================\n",
      "begin_total_asset:1000000\n",
      "end_total_asset:9707478.763251027\n",
      "Sharpe:  1.1363237796783405\n",
      "=================================\n"
     ]
    },
    {
     "name": "stderr",
     "output_type": "stream",
     "text": [
      "Episode:  47%|████▋     | 117/250 [11:53<14:48,  6.68s/it]"
     ]
    },
    {
     "name": "stdout",
     "output_type": "stream",
     "text": [
      "=================================\n",
      "begin_total_asset:1000000\n",
      "end_total_asset:4223305.1138998335\n",
      "Sharpe:  0.7282499657059581\n",
      "=================================\n"
     ]
    },
    {
     "name": "stderr",
     "output_type": "stream",
     "text": [
      "Episode:  47%|████▋     | 118/250 [11:59<14:24,  6.55s/it]"
     ]
    },
    {
     "name": "stdout",
     "output_type": "stream",
     "text": [
      "=================================\n",
      "begin_total_asset:1000000\n",
      "end_total_asset:4509959.15387361\n",
      "Sharpe:  0.7480734696751185\n",
      "=================================\n"
     ]
    },
    {
     "name": "stderr",
     "output_type": "stream",
     "text": [
      "Episode:  48%|████▊     | 119/250 [12:06<14:42,  6.74s/it]"
     ]
    },
    {
     "name": "stdout",
     "output_type": "stream",
     "text": [
      "=================================\n",
      "begin_total_asset:1000000\n",
      "end_total_asset:2507585.30324239\n",
      "Sharpe:  0.5023101665089293\n",
      "=================================\n"
     ]
    },
    {
     "name": "stderr",
     "output_type": "stream",
     "text": [
      "Episode:  48%|████▊     | 120/250 [12:13<14:23,  6.64s/it]"
     ]
    },
    {
     "name": "stdout",
     "output_type": "stream",
     "text": [
      "=================================\n",
      "begin_total_asset:1000000\n",
      "end_total_asset:3747366.6924343333\n",
      "Sharpe:  0.6874379940806457\n",
      "=================================\n"
     ]
    },
    {
     "name": "stderr",
     "output_type": "stream",
     "text": [
      "Episode:  48%|████▊     | 121/250 [12:19<14:09,  6.59s/it]"
     ]
    },
    {
     "name": "stdout",
     "output_type": "stream",
     "text": [
      "=================================\n",
      "begin_total_asset:1000000\n",
      "end_total_asset:8914253.620496634\n",
      "Sharpe:  1.0661683499267252\n",
      "=================================\n"
     ]
    },
    {
     "name": "stderr",
     "output_type": "stream",
     "text": [
      "Episode:  49%|████▉     | 122/250 [12:27<14:35,  6.84s/it]"
     ]
    },
    {
     "name": "stdout",
     "output_type": "stream",
     "text": [
      "=================================\n",
      "begin_total_asset:1000000\n",
      "end_total_asset:9552028.833708951\n",
      "Sharpe:  1.0845772230227988\n",
      "=================================\n"
     ]
    },
    {
     "name": "stderr",
     "output_type": "stream",
     "text": [
      "Episode:  49%|████▉     | 123/250 [12:33<13:48,  6.52s/it]"
     ]
    },
    {
     "name": "stdout",
     "output_type": "stream",
     "text": [
      "=================================\n",
      "begin_total_asset:1000000\n",
      "end_total_asset:10254011.45596363\n",
      "Sharpe:  1.1405053206887568\n",
      "=================================\n"
     ]
    },
    {
     "name": "stderr",
     "output_type": "stream",
     "text": [
      "Episode:  50%|████▉     | 124/250 [12:38<13:09,  6.26s/it]"
     ]
    },
    {
     "name": "stdout",
     "output_type": "stream",
     "text": [
      "=================================\n",
      "begin_total_asset:1000000\n",
      "end_total_asset:16548669.260528358\n",
      "Sharpe:  1.2943202060623868\n",
      "=================================\n"
     ]
    },
    {
     "name": "stderr",
     "output_type": "stream",
     "text": [
      "Episode:  50%|█████     | 125/250 [12:44<13:04,  6.28s/it]"
     ]
    },
    {
     "name": "stdout",
     "output_type": "stream",
     "text": [
      "=================================\n",
      "begin_total_asset:1000000\n",
      "end_total_asset:6031518.5429905215\n",
      "Sharpe:  0.8979123541096883\n",
      "=================================\n"
     ]
    },
    {
     "name": "stderr",
     "output_type": "stream",
     "text": [
      "Episode:  50%|█████     | 126/250 [12:50<12:35,  6.09s/it]"
     ]
    },
    {
     "name": "stdout",
     "output_type": "stream",
     "text": [
      "=================================\n",
      "begin_total_asset:1000000\n",
      "end_total_asset:1735793.8383284037\n",
      "Sharpe:  0.3466910589917875\n",
      "=================================\n"
     ]
    },
    {
     "name": "stderr",
     "output_type": "stream",
     "text": [
      "Episode:  51%|█████     | 127/250 [12:56<12:12,  5.95s/it]"
     ]
    },
    {
     "name": "stdout",
     "output_type": "stream",
     "text": [
      "=================================\n",
      "begin_total_asset:1000000\n",
      "end_total_asset:2188331.2767162044\n",
      "Sharpe:  0.44961475637905807\n",
      "=================================\n"
     ]
    },
    {
     "name": "stderr",
     "output_type": "stream",
     "text": [
      "Episode:  51%|█████     | 128/250 [13:01<11:53,  5.85s/it]"
     ]
    },
    {
     "name": "stdout",
     "output_type": "stream",
     "text": [
      "=================================\n",
      "begin_total_asset:1000000\n",
      "end_total_asset:6312162.403595977\n",
      "Sharpe:  0.8858918213198361\n",
      "=================================\n"
     ]
    },
    {
     "name": "stderr",
     "output_type": "stream",
     "text": [
      "Episode:  52%|█████▏    | 129/250 [13:07<11:42,  5.80s/it]"
     ]
    },
    {
     "name": "stdout",
     "output_type": "stream",
     "text": [
      "=================================\n",
      "begin_total_asset:1000000\n",
      "end_total_asset:7239598.693759883\n",
      "Sharpe:  0.9676249736825485\n",
      "=================================\n"
     ]
    },
    {
     "name": "stderr",
     "output_type": "stream",
     "text": [
      "Episode:  52%|█████▏    | 130/250 [13:13<11:34,  5.79s/it]"
     ]
    },
    {
     "name": "stdout",
     "output_type": "stream",
     "text": [
      "=================================\n",
      "begin_total_asset:1000000\n",
      "end_total_asset:6999656.415831599\n",
      "Sharpe:  0.9447244204570504\n",
      "=================================\n"
     ]
    },
    {
     "name": "stderr",
     "output_type": "stream",
     "text": [
      "Episode:  52%|█████▏    | 131/250 [13:18<11:23,  5.74s/it]"
     ]
    },
    {
     "name": "stdout",
     "output_type": "stream",
     "text": [
      "=================================\n",
      "begin_total_asset:1000000\n",
      "end_total_asset:4832741.621191839\n",
      "Sharpe:  0.7914184807298211\n",
      "=================================\n"
     ]
    },
    {
     "name": "stderr",
     "output_type": "stream",
     "text": [
      "Episode:  53%|█████▎    | 132/250 [13:24<11:12,  5.70s/it]"
     ]
    },
    {
     "name": "stdout",
     "output_type": "stream",
     "text": [
      "=================================\n",
      "begin_total_asset:1000000\n",
      "end_total_asset:7873568.266118857\n",
      "Sharpe:  0.9887613624874403\n",
      "=================================\n"
     ]
    },
    {
     "name": "stderr",
     "output_type": "stream",
     "text": [
      "Episode:  53%|█████▎    | 133/250 [13:30<11:05,  5.69s/it]"
     ]
    },
    {
     "name": "stdout",
     "output_type": "stream",
     "text": [
      "=================================\n",
      "begin_total_asset:1000000\n",
      "end_total_asset:3603237.309101283\n",
      "Sharpe:  0.6491153007171515\n",
      "=================================\n"
     ]
    },
    {
     "name": "stderr",
     "output_type": "stream",
     "text": [
      "Episode:  54%|█████▎    | 134/250 [13:35<10:57,  5.67s/it]"
     ]
    },
    {
     "name": "stdout",
     "output_type": "stream",
     "text": [
      "=================================\n",
      "begin_total_asset:1000000\n",
      "end_total_asset:10481201.057841629\n",
      "Sharpe:  1.1745705159523327\n",
      "=================================\n"
     ]
    },
    {
     "name": "stderr",
     "output_type": "stream",
     "text": [
      "Episode:  54%|█████▍    | 135/250 [13:41<10:50,  5.66s/it]"
     ]
    },
    {
     "name": "stdout",
     "output_type": "stream",
     "text": [
      "=================================\n",
      "begin_total_asset:1000000\n",
      "end_total_asset:11566228.047114216\n",
      "Sharpe:  1.1737444355971653\n",
      "=================================\n"
     ]
    },
    {
     "name": "stderr",
     "output_type": "stream",
     "text": [
      "Episode:  54%|█████▍    | 136/250 [13:47<10:51,  5.72s/it]"
     ]
    },
    {
     "name": "stdout",
     "output_type": "stream",
     "text": [
      "=================================\n",
      "begin_total_asset:1000000\n",
      "end_total_asset:7992442.404896298\n",
      "Sharpe:  1.0015411377840415\n",
      "=================================\n"
     ]
    },
    {
     "name": "stderr",
     "output_type": "stream",
     "text": [
      "Episode:  55%|█████▍    | 137/250 [13:52<10:41,  5.68s/it]"
     ]
    },
    {
     "name": "stdout",
     "output_type": "stream",
     "text": [
      "=================================\n",
      "begin_total_asset:1000000\n",
      "end_total_asset:3021182.907650327\n",
      "Sharpe:  0.5749820681249158\n",
      "=================================\n"
     ]
    },
    {
     "name": "stderr",
     "output_type": "stream",
     "text": [
      "Episode:  55%|█████▌    | 138/250 [13:58<10:35,  5.68s/it]"
     ]
    },
    {
     "name": "stdout",
     "output_type": "stream",
     "text": [
      "=================================\n",
      "begin_total_asset:1000000\n",
      "end_total_asset:4020755.150377827\n",
      "Sharpe:  0.7325452373886774\n",
      "=================================\n"
     ]
    },
    {
     "name": "stderr",
     "output_type": "stream",
     "text": [
      "Episode:  56%|█████▌    | 139/250 [14:04<10:29,  5.67s/it]"
     ]
    },
    {
     "name": "stdout",
     "output_type": "stream",
     "text": [
      "=================================\n",
      "begin_total_asset:1000000\n",
      "end_total_asset:9041020.080282934\n",
      "Sharpe:  1.0816746185866775\n",
      "=================================\n"
     ]
    },
    {
     "name": "stderr",
     "output_type": "stream",
     "text": [
      "Episode:  56%|█████▌    | 140/250 [14:10<10:27,  5.70s/it]"
     ]
    },
    {
     "name": "stdout",
     "output_type": "stream",
     "text": [
      "=================================\n",
      "begin_total_asset:1000000\n",
      "end_total_asset:9429327.128466556\n",
      "Sharpe:  1.0358245350871584\n",
      "=================================\n"
     ]
    },
    {
     "name": "stderr",
     "output_type": "stream",
     "text": [
      "Episode:  56%|█████▋    | 141/250 [14:15<10:21,  5.70s/it]"
     ]
    },
    {
     "name": "stdout",
     "output_type": "stream",
     "text": [
      "=================================\n",
      "begin_total_asset:1000000\n",
      "end_total_asset:5679191.71642476\n",
      "Sharpe:  0.8651419306187494\n",
      "=================================\n"
     ]
    },
    {
     "name": "stderr",
     "output_type": "stream",
     "text": [
      "Episode:  57%|█████▋    | 142/250 [14:21<10:15,  5.70s/it]"
     ]
    },
    {
     "name": "stdout",
     "output_type": "stream",
     "text": [
      "=================================\n",
      "begin_total_asset:1000000\n",
      "end_total_asset:3925400.1405184814\n",
      "Sharpe:  0.7024171995153262\n",
      "=================================\n"
     ]
    },
    {
     "name": "stderr",
     "output_type": "stream",
     "text": [
      "Episode:  57%|█████▋    | 143/250 [14:27<10:08,  5.68s/it]"
     ]
    },
    {
     "name": "stdout",
     "output_type": "stream",
     "text": [
      "=================================\n",
      "begin_total_asset:1000000\n",
      "end_total_asset:4050736.4154676846\n",
      "Sharpe:  0.6995871358808918\n",
      "=================================\n"
     ]
    },
    {
     "name": "stderr",
     "output_type": "stream",
     "text": [
      "Episode:  58%|█████▊    | 144/250 [14:32<10:00,  5.66s/it]"
     ]
    },
    {
     "name": "stdout",
     "output_type": "stream",
     "text": [
      "=================================\n",
      "begin_total_asset:1000000\n",
      "end_total_asset:2011976.462997149\n",
      "Sharpe:  0.4076847224810821\n",
      "=================================\n"
     ]
    },
    {
     "name": "stderr",
     "output_type": "stream",
     "text": [
      "Episode:  58%|█████▊    | 145/250 [14:39<10:16,  5.87s/it]"
     ]
    },
    {
     "name": "stdout",
     "output_type": "stream",
     "text": [
      "=================================\n",
      "begin_total_asset:1000000\n",
      "end_total_asset:2523293.3962512175\n",
      "Sharpe:  0.5067966997153984\n",
      "=================================\n"
     ]
    },
    {
     "name": "stderr",
     "output_type": "stream",
     "text": [
      "Episode:  58%|█████▊    | 146/250 [14:44<10:03,  5.80s/it]"
     ]
    },
    {
     "name": "stdout",
     "output_type": "stream",
     "text": [
      "=================================\n",
      "begin_total_asset:1000000\n",
      "end_total_asset:7737637.009529451\n",
      "Sharpe:  0.9554218865014028\n",
      "=================================\n"
     ]
    },
    {
     "name": "stderr",
     "output_type": "stream",
     "text": [
      "Episode:  59%|█████▉    | 147/250 [14:50<09:57,  5.80s/it]"
     ]
    },
    {
     "name": "stdout",
     "output_type": "stream",
     "text": [
      "=================================\n",
      "begin_total_asset:1000000\n",
      "end_total_asset:5194969.038566699\n",
      "Sharpe:  0.819161926949063\n",
      "=================================\n"
     ]
    },
    {
     "name": "stderr",
     "output_type": "stream",
     "text": [
      "Episode:  59%|█████▉    | 148/250 [14:56<09:47,  5.76s/it]"
     ]
    },
    {
     "name": "stdout",
     "output_type": "stream",
     "text": [
      "=================================\n",
      "begin_total_asset:1000000\n",
      "end_total_asset:6730887.934229615\n",
      "Sharpe:  0.961148764352269\n",
      "=================================\n"
     ]
    },
    {
     "name": "stderr",
     "output_type": "stream",
     "text": [
      "Episode:  60%|█████▉    | 149/250 [15:01<09:38,  5.73s/it]"
     ]
    },
    {
     "name": "stdout",
     "output_type": "stream",
     "text": [
      "=================================\n",
      "begin_total_asset:1000000\n",
      "end_total_asset:5418835.0237146\n",
      "Sharpe:  0.8412019891814729\n",
      "=================================\n"
     ]
    },
    {
     "name": "stderr",
     "output_type": "stream",
     "text": [
      "Episode:  60%|██████    | 150/250 [15:07<09:30,  5.70s/it]"
     ]
    },
    {
     "name": "stdout",
     "output_type": "stream",
     "text": [
      "=================================\n",
      "begin_total_asset:1000000\n",
      "end_total_asset:7045503.019995787\n",
      "Sharpe:  0.9193935666444433\n",
      "=================================\n"
     ]
    },
    {
     "name": "stderr",
     "output_type": "stream",
     "text": [
      "Episode:  60%|██████    | 151/250 [15:13<09:22,  5.68s/it]"
     ]
    },
    {
     "name": "stdout",
     "output_type": "stream",
     "text": [
      "=================================\n",
      "begin_total_asset:1000000\n",
      "end_total_asset:4406617.740353744\n",
      "Sharpe:  0.7494655367986641\n",
      "=================================\n"
     ]
    },
    {
     "name": "stderr",
     "output_type": "stream",
     "text": [
      "Episode:  61%|██████    | 152/250 [15:18<09:14,  5.66s/it]"
     ]
    },
    {
     "name": "stdout",
     "output_type": "stream",
     "text": [
      "=================================\n",
      "begin_total_asset:1000000\n",
      "end_total_asset:6031010.6319598\n",
      "Sharpe:  0.8730056768364233\n",
      "=================================\n"
     ]
    },
    {
     "name": "stderr",
     "output_type": "stream",
     "text": [
      "Episode:  61%|██████    | 153/250 [15:24<09:10,  5.67s/it]"
     ]
    },
    {
     "name": "stdout",
     "output_type": "stream",
     "text": [
      "=================================\n",
      "begin_total_asset:1000000\n",
      "end_total_asset:5133814.406427564\n",
      "Sharpe:  0.7867867850273023\n",
      "=================================\n"
     ]
    },
    {
     "name": "stderr",
     "output_type": "stream",
     "text": [
      "Episode:  62%|██████▏   | 154/250 [15:30<09:04,  5.67s/it]"
     ]
    },
    {
     "name": "stdout",
     "output_type": "stream",
     "text": [
      "=================================\n",
      "begin_total_asset:1000000\n",
      "end_total_asset:5086245.625555774\n",
      "Sharpe:  0.8159572926854373\n",
      "=================================\n"
     ]
    },
    {
     "name": "stderr",
     "output_type": "stream",
     "text": [
      "Episode:  62%|██████▏   | 155/250 [15:35<08:57,  5.66s/it]"
     ]
    },
    {
     "name": "stdout",
     "output_type": "stream",
     "text": [
      "=================================\n",
      "begin_total_asset:1000000\n",
      "end_total_asset:4971960.3075398365\n",
      "Sharpe:  0.7900251908640594\n",
      "=================================\n"
     ]
    },
    {
     "name": "stderr",
     "output_type": "stream",
     "text": [
      "Episode:  62%|██████▏   | 156/250 [15:41<08:53,  5.67s/it]"
     ]
    },
    {
     "name": "stdout",
     "output_type": "stream",
     "text": [
      "=================================\n",
      "begin_total_asset:1000000\n",
      "end_total_asset:12065876.027007371\n",
      "Sharpe:  1.2853104386073404\n",
      "=================================\n"
     ]
    },
    {
     "name": "stderr",
     "output_type": "stream",
     "text": [
      "Episode:  63%|██████▎   | 157/250 [15:48<09:19,  6.01s/it]"
     ]
    },
    {
     "name": "stdout",
     "output_type": "stream",
     "text": [
      "=================================\n",
      "begin_total_asset:1000000\n",
      "end_total_asset:4900773.817445771\n",
      "Sharpe:  0.7986488247551748\n",
      "=================================\n"
     ]
    },
    {
     "name": "stderr",
     "output_type": "stream",
     "text": [
      "Episode:  63%|██████▎   | 158/250 [15:54<09:12,  6.01s/it]"
     ]
    },
    {
     "name": "stdout",
     "output_type": "stream",
     "text": [
      "=================================\n",
      "begin_total_asset:1000000\n",
      "end_total_asset:7915098.199062449\n",
      "Sharpe:  1.029382018572899\n",
      "=================================\n"
     ]
    },
    {
     "name": "stderr",
     "output_type": "stream",
     "text": [
      "Episode:  64%|██████▎   | 159/250 [15:59<09:01,  5.95s/it]"
     ]
    },
    {
     "name": "stdout",
     "output_type": "stream",
     "text": [
      "=================================\n",
      "begin_total_asset:1000000\n",
      "end_total_asset:3713267.086277899\n",
      "Sharpe:  0.6730758600493593\n",
      "=================================\n"
     ]
    },
    {
     "name": "stderr",
     "output_type": "stream",
     "text": [
      "Episode:  64%|██████▍   | 160/250 [16:05<08:48,  5.88s/it]"
     ]
    },
    {
     "name": "stdout",
     "output_type": "stream",
     "text": [
      "=================================\n",
      "begin_total_asset:1000000\n",
      "end_total_asset:4828511.953451127\n",
      "Sharpe:  0.7580778726783114\n",
      "=================================\n"
     ]
    },
    {
     "name": "stderr",
     "output_type": "stream",
     "text": [
      "Episode:  64%|██████▍   | 161/250 [16:11<08:37,  5.82s/it]"
     ]
    },
    {
     "name": "stdout",
     "output_type": "stream",
     "text": [
      "=================================\n",
      "begin_total_asset:1000000\n",
      "end_total_asset:5453135.421710033\n",
      "Sharpe:  0.8227771447818645\n",
      "=================================\n"
     ]
    },
    {
     "name": "stderr",
     "output_type": "stream",
     "text": [
      "Episode:  65%|██████▍   | 162/250 [16:17<08:26,  5.76s/it]"
     ]
    },
    {
     "name": "stdout",
     "output_type": "stream",
     "text": [
      "=================================\n",
      "begin_total_asset:1000000\n",
      "end_total_asset:6699265.513014042\n",
      "Sharpe:  0.9642449669004334\n",
      "=================================\n"
     ]
    },
    {
     "name": "stderr",
     "output_type": "stream",
     "text": [
      "Episode:  65%|██████▌   | 163/250 [16:22<08:18,  5.73s/it]"
     ]
    },
    {
     "name": "stdout",
     "output_type": "stream",
     "text": [
      "=================================\n",
      "begin_total_asset:1000000\n",
      "end_total_asset:3809028.5002689715\n",
      "Sharpe:  0.6985577811484908\n",
      "=================================\n"
     ]
    },
    {
     "name": "stderr",
     "output_type": "stream",
     "text": [
      "Episode:  66%|██████▌   | 164/250 [16:28<08:12,  5.72s/it]"
     ]
    },
    {
     "name": "stdout",
     "output_type": "stream",
     "text": [
      "=================================\n",
      "begin_total_asset:1000000\n",
      "end_total_asset:4319770.995869471\n",
      "Sharpe:  0.7309701021028696\n",
      "=================================\n"
     ]
    },
    {
     "name": "stderr",
     "output_type": "stream",
     "text": [
      "Episode:  66%|██████▌   | 165/250 [16:32<07:24,  5.23s/it]"
     ]
    },
    {
     "name": "stdout",
     "output_type": "stream",
     "text": [
      "=================================\n",
      "begin_total_asset:1000000\n",
      "end_total_asset:19005177.7729678\n",
      "Sharpe:  1.4375230258402423\n",
      "=================================\n"
     ]
    },
    {
     "name": "stderr",
     "output_type": "stream",
     "text": [
      "Episode:  66%|██████▋   | 166/250 [16:36<06:44,  4.81s/it]"
     ]
    },
    {
     "name": "stdout",
     "output_type": "stream",
     "text": [
      "=================================\n",
      "begin_total_asset:1000000\n",
      "end_total_asset:5649595.646997055\n",
      "Sharpe:  0.8150520259299425\n",
      "=================================\n"
     ]
    },
    {
     "name": "stderr",
     "output_type": "stream",
     "text": [
      "Episode:  67%|██████▋   | 167/250 [16:41<06:42,  4.85s/it]"
     ]
    },
    {
     "name": "stdout",
     "output_type": "stream",
     "text": [
      "=================================\n",
      "begin_total_asset:1000000\n",
      "end_total_asset:6089169.732751069\n",
      "Sharpe:  0.8682432160098738\n",
      "=================================\n"
     ]
    },
    {
     "name": "stderr",
     "output_type": "stream",
     "text": [
      "Episode:  67%|██████▋   | 168/250 [16:45<06:17,  4.60s/it]"
     ]
    },
    {
     "name": "stdout",
     "output_type": "stream",
     "text": [
      "=================================\n",
      "begin_total_asset:1000000\n",
      "end_total_asset:2861317.597194544\n",
      "Sharpe:  0.5704727198690697\n",
      "=================================\n"
     ]
    },
    {
     "name": "stderr",
     "output_type": "stream",
     "text": [
      "Episode:  68%|██████▊   | 169/250 [16:49<05:53,  4.37s/it]"
     ]
    },
    {
     "name": "stdout",
     "output_type": "stream",
     "text": [
      "=================================\n",
      "begin_total_asset:1000000\n",
      "end_total_asset:3082605.3236757717\n",
      "Sharpe:  0.592369425303848\n",
      "=================================\n"
     ]
    },
    {
     "name": "stderr",
     "output_type": "stream",
     "text": [
      "Episode:  68%|██████▊   | 170/250 [16:52<05:35,  4.19s/it]"
     ]
    },
    {
     "name": "stdout",
     "output_type": "stream",
     "text": [
      "=================================\n",
      "begin_total_asset:1000000\n",
      "end_total_asset:4568229.187374131\n",
      "Sharpe:  0.7875035823755108\n",
      "=================================\n"
     ]
    },
    {
     "name": "stderr",
     "output_type": "stream",
     "text": [
      "Episode:  68%|██████▊   | 171/250 [16:56<05:24,  4.11s/it]"
     ]
    },
    {
     "name": "stdout",
     "output_type": "stream",
     "text": [
      "=================================\n",
      "begin_total_asset:1000000\n",
      "end_total_asset:4209399.831145781\n",
      "Sharpe:  0.7359612976739518\n",
      "=================================\n"
     ]
    },
    {
     "name": "stderr",
     "output_type": "stream",
     "text": [
      "Episode:  69%|██████▉   | 172/250 [17:00<05:16,  4.06s/it]"
     ]
    },
    {
     "name": "stdout",
     "output_type": "stream",
     "text": [
      "=================================\n",
      "begin_total_asset:1000000\n",
      "end_total_asset:5782688.014076758\n",
      "Sharpe:  0.8951228356457182\n",
      "=================================\n"
     ]
    },
    {
     "name": "stderr",
     "output_type": "stream",
     "text": [
      "Episode:  69%|██████▉   | 173/250 [17:04<05:07,  3.99s/it]"
     ]
    },
    {
     "name": "stdout",
     "output_type": "stream",
     "text": [
      "=================================\n",
      "begin_total_asset:1000000\n",
      "end_total_asset:5495002.734621278\n",
      "Sharpe:  0.8466491382234321\n",
      "=================================\n"
     ]
    },
    {
     "name": "stderr",
     "output_type": "stream",
     "text": [
      "Episode:  70%|██████▉   | 174/250 [17:08<05:00,  3.95s/it]"
     ]
    },
    {
     "name": "stdout",
     "output_type": "stream",
     "text": [
      "=================================\n",
      "begin_total_asset:1000000\n",
      "end_total_asset:12070989.649632337\n",
      "Sharpe:  1.2147752188412688\n",
      "=================================\n"
     ]
    },
    {
     "name": "stderr",
     "output_type": "stream",
     "text": [
      "Episode:  70%|███████   | 175/250 [17:12<04:53,  3.92s/it]"
     ]
    },
    {
     "name": "stdout",
     "output_type": "stream",
     "text": [
      "=================================\n",
      "begin_total_asset:1000000\n",
      "end_total_asset:6961642.497156529\n",
      "Sharpe:  0.9203251214462272\n",
      "=================================\n"
     ]
    },
    {
     "name": "stderr",
     "output_type": "stream",
     "text": [
      "Episode:  70%|███████   | 176/250 [17:16<04:47,  3.89s/it]"
     ]
    },
    {
     "name": "stdout",
     "output_type": "stream",
     "text": [
      "=================================\n",
      "begin_total_asset:1000000\n",
      "end_total_asset:6107307.006558306\n",
      "Sharpe:  0.8784519275934249\n",
      "=================================\n"
     ]
    },
    {
     "name": "stderr",
     "output_type": "stream",
     "text": [
      "Episode:  71%|███████   | 177/250 [17:19<04:44,  3.89s/it]"
     ]
    },
    {
     "name": "stdout",
     "output_type": "stream",
     "text": [
      "=================================\n",
      "begin_total_asset:1000000\n",
      "end_total_asset:11468640.30557523\n",
      "Sharpe:  1.169236214664449\n",
      "=================================\n"
     ]
    },
    {
     "name": "stderr",
     "output_type": "stream",
     "text": [
      "Episode:  71%|███████   | 178/250 [17:23<04:38,  3.87s/it]"
     ]
    },
    {
     "name": "stdout",
     "output_type": "stream",
     "text": [
      "=================================\n",
      "begin_total_asset:1000000\n",
      "end_total_asset:6053029.399889408\n",
      "Sharpe:  0.9148453944512858\n",
      "=================================\n"
     ]
    },
    {
     "name": "stderr",
     "output_type": "stream",
     "text": [
      "Episode:  72%|███████▏  | 179/250 [17:27<04:33,  3.85s/it]"
     ]
    },
    {
     "name": "stdout",
     "output_type": "stream",
     "text": [
      "=================================\n",
      "begin_total_asset:1000000\n",
      "end_total_asset:4178575.872120861\n",
      "Sharpe:  0.7263492684359948\n",
      "=================================\n"
     ]
    },
    {
     "name": "stderr",
     "output_type": "stream",
     "text": [
      "Episode:  72%|███████▏  | 180/250 [17:31<04:30,  3.87s/it]"
     ]
    },
    {
     "name": "stdout",
     "output_type": "stream",
     "text": [
      "=================================\n",
      "begin_total_asset:1000000\n",
      "end_total_asset:4200133.882754319\n",
      "Sharpe:  0.7302497809266109\n",
      "=================================\n"
     ]
    },
    {
     "name": "stderr",
     "output_type": "stream",
     "text": [
      "Episode:  72%|███████▏  | 181/250 [17:35<04:26,  3.87s/it]"
     ]
    },
    {
     "name": "stdout",
     "output_type": "stream",
     "text": [
      "=================================\n",
      "begin_total_asset:1000000\n",
      "end_total_asset:6664450.199318288\n",
      "Sharpe:  0.96050088680325\n",
      "=================================\n"
     ]
    },
    {
     "name": "stderr",
     "output_type": "stream",
     "text": [
      "Episode:  73%|███████▎  | 182/250 [17:39<04:21,  3.85s/it]"
     ]
    },
    {
     "name": "stdout",
     "output_type": "stream",
     "text": [
      "=================================\n",
      "begin_total_asset:1000000\n",
      "end_total_asset:14396070.36002255\n",
      "Sharpe:  1.2397192926116278\n",
      "=================================\n"
     ]
    },
    {
     "name": "stderr",
     "output_type": "stream",
     "text": [
      "Episode:  73%|███████▎  | 183/250 [17:43<04:18,  3.86s/it]"
     ]
    },
    {
     "name": "stdout",
     "output_type": "stream",
     "text": [
      "=================================\n",
      "begin_total_asset:1000000\n",
      "end_total_asset:6585370.815430345\n",
      "Sharpe:  0.9078926117050417\n",
      "=================================\n"
     ]
    },
    {
     "name": "stderr",
     "output_type": "stream",
     "text": [
      "Episode:  74%|███████▎  | 184/250 [17:46<04:12,  3.83s/it]"
     ]
    },
    {
     "name": "stdout",
     "output_type": "stream",
     "text": [
      "=================================\n",
      "begin_total_asset:1000000\n",
      "end_total_asset:6225571.965759379\n",
      "Sharpe:  0.9236634250150734\n",
      "=================================\n"
     ]
    },
    {
     "name": "stderr",
     "output_type": "stream",
     "text": [
      "Episode:  74%|███████▍  | 185/250 [17:50<04:08,  3.83s/it]"
     ]
    },
    {
     "name": "stdout",
     "output_type": "stream",
     "text": [
      "=================================\n",
      "begin_total_asset:1000000\n",
      "end_total_asset:11571968.6277828\n",
      "Sharpe:  1.1464175492281423\n",
      "=================================\n"
     ]
    },
    {
     "name": "stderr",
     "output_type": "stream",
     "text": [
      "Episode:  74%|███████▍  | 186/250 [17:54<04:05,  3.84s/it]"
     ]
    },
    {
     "name": "stdout",
     "output_type": "stream",
     "text": [
      "=================================\n",
      "begin_total_asset:1000000\n",
      "end_total_asset:17313000.78082923\n",
      "Sharpe:  1.3056843385864725\n",
      "=================================\n"
     ]
    },
    {
     "name": "stderr",
     "output_type": "stream",
     "text": [
      "Episode:  75%|███████▍  | 187/250 [17:58<04:04,  3.87s/it]"
     ]
    },
    {
     "name": "stdout",
     "output_type": "stream",
     "text": [
      "=================================\n",
      "begin_total_asset:1000000\n",
      "end_total_asset:4768233.729605347\n",
      "Sharpe:  0.7639472586034172\n",
      "=================================\n"
     ]
    },
    {
     "name": "stderr",
     "output_type": "stream",
     "text": [
      "Episode:  75%|███████▌  | 188/250 [18:02<04:04,  3.94s/it]"
     ]
    },
    {
     "name": "stdout",
     "output_type": "stream",
     "text": [
      "=================================\n",
      "begin_total_asset:1000000\n",
      "end_total_asset:5103558.652674068\n",
      "Sharpe:  0.842237472507335\n",
      "=================================\n"
     ]
    },
    {
     "name": "stderr",
     "output_type": "stream",
     "text": [
      "Episode:  76%|███████▌  | 189/250 [18:06<03:59,  3.93s/it]"
     ]
    },
    {
     "name": "stdout",
     "output_type": "stream",
     "text": [
      "=================================\n",
      "begin_total_asset:1000000\n",
      "end_total_asset:13338635.298885398\n",
      "Sharpe:  1.2101064309123146\n",
      "=================================\n"
     ]
    },
    {
     "name": "stderr",
     "output_type": "stream",
     "text": [
      "Episode:  76%|███████▌  | 190/250 [18:11<04:09,  4.16s/it]"
     ]
    },
    {
     "name": "stdout",
     "output_type": "stream",
     "text": [
      "=================================\n",
      "begin_total_asset:1000000\n",
      "end_total_asset:2601547.315670185\n",
      "Sharpe:  0.5153818823774582\n",
      "=================================\n"
     ]
    },
    {
     "name": "stderr",
     "output_type": "stream",
     "text": [
      "Episode:  76%|███████▋  | 191/250 [18:14<03:57,  4.03s/it]"
     ]
    },
    {
     "name": "stdout",
     "output_type": "stream",
     "text": [
      "=================================\n",
      "begin_total_asset:1000000\n",
      "end_total_asset:4460077.897137496\n",
      "Sharpe:  0.7604313072099211\n",
      "=================================\n"
     ]
    },
    {
     "name": "stderr",
     "output_type": "stream",
     "text": [
      "Episode:  77%|███████▋  | 192/250 [18:18<03:50,  3.97s/it]"
     ]
    },
    {
     "name": "stdout",
     "output_type": "stream",
     "text": [
      "=================================\n",
      "begin_total_asset:1000000\n",
      "end_total_asset:2873103.463712579\n",
      "Sharpe:  0.5669402193078363\n",
      "=================================\n"
     ]
    },
    {
     "name": "stderr",
     "output_type": "stream",
     "text": [
      "Episode:  77%|███████▋  | 193/250 [18:22<03:43,  3.93s/it]"
     ]
    },
    {
     "name": "stdout",
     "output_type": "stream",
     "text": [
      "=================================\n",
      "begin_total_asset:1000000\n",
      "end_total_asset:5120791.471647615\n",
      "Sharpe:  0.8361888817173545\n",
      "=================================\n"
     ]
    },
    {
     "name": "stderr",
     "output_type": "stream",
     "text": [
      "Episode:  78%|███████▊  | 194/250 [18:26<03:39,  3.91s/it]"
     ]
    },
    {
     "name": "stdout",
     "output_type": "stream",
     "text": [
      "=================================\n",
      "begin_total_asset:1000000\n",
      "end_total_asset:4963712.305424392\n",
      "Sharpe:  0.8058461334670665\n",
      "=================================\n"
     ]
    },
    {
     "name": "stderr",
     "output_type": "stream",
     "text": [
      "Episode:  78%|███████▊  | 195/250 [18:30<03:36,  3.94s/it]"
     ]
    },
    {
     "name": "stdout",
     "output_type": "stream",
     "text": [
      "=================================\n",
      "begin_total_asset:1000000\n",
      "end_total_asset:7432664.576311715\n",
      "Sharpe:  1.0055749936824747\n",
      "=================================\n"
     ]
    },
    {
     "name": "stderr",
     "output_type": "stream",
     "text": [
      "Episode:  78%|███████▊  | 196/250 [18:34<03:33,  3.96s/it]"
     ]
    },
    {
     "name": "stdout",
     "output_type": "stream",
     "text": [
      "=================================\n",
      "begin_total_asset:1000000\n",
      "end_total_asset:5212355.854848566\n",
      "Sharpe:  0.780006314236863\n",
      "=================================\n"
     ]
    },
    {
     "name": "stderr",
     "output_type": "stream",
     "text": [
      "Episode:  79%|███████▉  | 197/250 [18:38<03:27,  3.92s/it]"
     ]
    },
    {
     "name": "stdout",
     "output_type": "stream",
     "text": [
      "=================================\n",
      "begin_total_asset:1000000\n",
      "end_total_asset:8652064.307051972\n",
      "Sharpe:  1.11098932230752\n",
      "=================================\n"
     ]
    },
    {
     "name": "stderr",
     "output_type": "stream",
     "text": [
      "Episode:  79%|███████▉  | 198/250 [18:42<03:22,  3.88s/it]"
     ]
    },
    {
     "name": "stdout",
     "output_type": "stream",
     "text": [
      "=================================\n",
      "begin_total_asset:1000000\n",
      "end_total_asset:5393012.044516881\n",
      "Sharpe:  0.817317702984647\n",
      "=================================\n"
     ]
    },
    {
     "name": "stderr",
     "output_type": "stream",
     "text": [
      "Episode:  80%|███████▉  | 199/250 [18:45<03:16,  3.86s/it]"
     ]
    },
    {
     "name": "stdout",
     "output_type": "stream",
     "text": [
      "=================================\n",
      "begin_total_asset:1000000\n",
      "end_total_asset:7215201.643493041\n",
      "Sharpe:  0.9295710522294316\n",
      "=================================\n"
     ]
    },
    {
     "name": "stderr",
     "output_type": "stream",
     "text": [
      "Episode:  80%|████████  | 200/250 [18:49<03:12,  3.86s/it]"
     ]
    },
    {
     "name": "stdout",
     "output_type": "stream",
     "text": [
      "=================================\n",
      "begin_total_asset:1000000\n",
      "end_total_asset:3911481.2866890356\n",
      "Sharpe:  0.6922829926035128\n",
      "=================================\n"
     ]
    },
    {
     "name": "stderr",
     "output_type": "stream",
     "text": [
      "Episode:  80%|████████  | 201/250 [18:53<03:08,  3.85s/it]"
     ]
    },
    {
     "name": "stdout",
     "output_type": "stream",
     "text": [
      "=================================\n",
      "begin_total_asset:1000000\n",
      "end_total_asset:5532321.245921391\n",
      "Sharpe:  0.8573608288752212\n",
      "=================================\n"
     ]
    },
    {
     "name": "stderr",
     "output_type": "stream",
     "text": [
      "Episode:  81%|████████  | 202/250 [18:57<03:05,  3.86s/it]"
     ]
    },
    {
     "name": "stdout",
     "output_type": "stream",
     "text": [
      "=================================\n",
      "begin_total_asset:1000000\n",
      "end_total_asset:9124771.949413285\n",
      "Sharpe:  1.0560581426462905\n",
      "=================================\n"
     ]
    },
    {
     "name": "stderr",
     "output_type": "stream",
     "text": [
      "Episode:  81%|████████  | 203/250 [19:01<03:02,  3.88s/it]"
     ]
    },
    {
     "name": "stdout",
     "output_type": "stream",
     "text": [
      "=================================\n",
      "begin_total_asset:1000000\n",
      "end_total_asset:6171381.881662681\n",
      "Sharpe:  0.8972070989537919\n",
      "=================================\n"
     ]
    },
    {
     "name": "stderr",
     "output_type": "stream",
     "text": [
      "Episode:  82%|████████▏ | 204/250 [19:05<02:57,  3.87s/it]"
     ]
    },
    {
     "name": "stdout",
     "output_type": "stream",
     "text": [
      "=================================\n",
      "begin_total_asset:1000000\n",
      "end_total_asset:3818203.9710754864\n",
      "Sharpe:  0.6929828088026807\n",
      "=================================\n"
     ]
    },
    {
     "name": "stderr",
     "output_type": "stream",
     "text": [
      "Episode:  82%|████████▏ | 205/250 [19:08<02:52,  3.82s/it]"
     ]
    },
    {
     "name": "stdout",
     "output_type": "stream",
     "text": [
      "=================================\n",
      "begin_total_asset:1000000\n",
      "end_total_asset:12795905.847154649\n",
      "Sharpe:  1.2153550620592426\n",
      "=================================\n"
     ]
    },
    {
     "name": "stderr",
     "output_type": "stream",
     "text": [
      "Episode:  82%|████████▏ | 206/250 [19:12<02:49,  3.84s/it]"
     ]
    },
    {
     "name": "stdout",
     "output_type": "stream",
     "text": [
      "=================================\n",
      "begin_total_asset:1000000\n",
      "end_total_asset:2846255.89120454\n",
      "Sharpe:  0.5527826259210561\n",
      "=================================\n"
     ]
    },
    {
     "name": "stderr",
     "output_type": "stream",
     "text": [
      "Episode:  83%|████████▎ | 207/250 [19:16<02:45,  3.85s/it]"
     ]
    },
    {
     "name": "stdout",
     "output_type": "stream",
     "text": [
      "=================================\n",
      "begin_total_asset:1000000\n",
      "end_total_asset:3504807.071634289\n",
      "Sharpe:  0.6643753789398351\n",
      "=================================\n"
     ]
    },
    {
     "name": "stderr",
     "output_type": "stream",
     "text": [
      "Episode:  83%|████████▎ | 208/250 [19:20<02:41,  3.85s/it]"
     ]
    },
    {
     "name": "stdout",
     "output_type": "stream",
     "text": [
      "=================================\n",
      "begin_total_asset:1000000\n",
      "end_total_asset:3822071.365266976\n",
      "Sharpe:  0.6690332460608845\n",
      "=================================\n"
     ]
    },
    {
     "name": "stderr",
     "output_type": "stream",
     "text": [
      "Episode:  84%|████████▎ | 209/250 [19:24<02:37,  3.84s/it]"
     ]
    },
    {
     "name": "stdout",
     "output_type": "stream",
     "text": [
      "=================================\n",
      "begin_total_asset:1000000\n",
      "end_total_asset:7570098.12527969\n",
      "Sharpe:  1.0030140013655218\n",
      "=================================\n"
     ]
    },
    {
     "name": "stderr",
     "output_type": "stream",
     "text": [
      "Episode:  84%|████████▍ | 210/250 [19:28<02:33,  3.83s/it]"
     ]
    },
    {
     "name": "stdout",
     "output_type": "stream",
     "text": [
      "=================================\n",
      "begin_total_asset:1000000\n",
      "end_total_asset:4424059.396821882\n",
      "Sharpe:  0.7251243861852555\n",
      "=================================\n"
     ]
    },
    {
     "name": "stderr",
     "output_type": "stream",
     "text": [
      "Episode:  84%|████████▍ | 211/250 [19:31<02:29,  3.83s/it]"
     ]
    },
    {
     "name": "stdout",
     "output_type": "stream",
     "text": [
      "=================================\n",
      "begin_total_asset:1000000\n",
      "end_total_asset:11059921.382796371\n",
      "Sharpe:  1.1498273669904402\n",
      "=================================\n"
     ]
    },
    {
     "name": "stderr",
     "output_type": "stream",
     "text": [
      "Episode:  85%|████████▍ | 212/250 [19:35<02:26,  3.86s/it]"
     ]
    },
    {
     "name": "stdout",
     "output_type": "stream",
     "text": [
      "=================================\n",
      "begin_total_asset:1000000\n",
      "end_total_asset:6102698.570893833\n",
      "Sharpe:  0.8640830660987954\n",
      "=================================\n"
     ]
    },
    {
     "name": "stderr",
     "output_type": "stream",
     "text": [
      "Episode:  85%|████████▌ | 213/250 [19:39<02:22,  3.86s/it]"
     ]
    },
    {
     "name": "stdout",
     "output_type": "stream",
     "text": [
      "=================================\n",
      "begin_total_asset:1000000\n",
      "end_total_asset:2410696.1461437\n",
      "Sharpe:  0.47471524828242617\n",
      "=================================\n"
     ]
    },
    {
     "name": "stderr",
     "output_type": "stream",
     "text": [
      "Episode:  86%|████████▌ | 214/250 [19:43<02:18,  3.84s/it]"
     ]
    },
    {
     "name": "stdout",
     "output_type": "stream",
     "text": [
      "=================================\n",
      "begin_total_asset:1000000\n",
      "end_total_asset:5771521.333476272\n",
      "Sharpe:  0.8724280821222647\n",
      "=================================\n"
     ]
    },
    {
     "name": "stderr",
     "output_type": "stream",
     "text": [
      "Episode:  86%|████████▌ | 215/250 [19:47<02:14,  3.84s/it]"
     ]
    },
    {
     "name": "stdout",
     "output_type": "stream",
     "text": [
      "=================================\n",
      "begin_total_asset:1000000\n",
      "end_total_asset:5736647.188999696\n",
      "Sharpe:  0.8706999155777683\n",
      "=================================\n"
     ]
    },
    {
     "name": "stderr",
     "output_type": "stream",
     "text": [
      "Episode:  86%|████████▋ | 216/250 [19:52<02:18,  4.08s/it]"
     ]
    },
    {
     "name": "stdout",
     "output_type": "stream",
     "text": [
      "=================================\n",
      "begin_total_asset:1000000\n",
      "end_total_asset:4795213.488400724\n",
      "Sharpe:  0.7623741543629532\n",
      "=================================\n"
     ]
    },
    {
     "name": "stderr",
     "output_type": "stream",
     "text": [
      "Episode:  87%|████████▋ | 217/250 [19:55<02:12,  4.02s/it]"
     ]
    },
    {
     "name": "stdout",
     "output_type": "stream",
     "text": [
      "=================================\n",
      "begin_total_asset:1000000\n",
      "end_total_asset:3052577.1060375115\n",
      "Sharpe:  0.6096226268434011\n",
      "=================================\n"
     ]
    },
    {
     "name": "stderr",
     "output_type": "stream",
     "text": [
      "Episode:  87%|████████▋ | 218/250 [19:59<02:07,  4.00s/it]"
     ]
    },
    {
     "name": "stdout",
     "output_type": "stream",
     "text": [
      "=================================\n",
      "begin_total_asset:1000000\n",
      "end_total_asset:4059823.456758212\n",
      "Sharpe:  0.7077000586903809\n",
      "=================================\n"
     ]
    },
    {
     "name": "stderr",
     "output_type": "stream",
     "text": [
      "Episode:  88%|████████▊ | 219/250 [20:03<02:02,  3.96s/it]"
     ]
    },
    {
     "name": "stdout",
     "output_type": "stream",
     "text": [
      "=================================\n",
      "begin_total_asset:1000000\n",
      "end_total_asset:9807362.632493867\n",
      "Sharpe:  1.1419733474786664\n",
      "=================================\n"
     ]
    },
    {
     "name": "stderr",
     "output_type": "stream",
     "text": [
      "Episode:  88%|████████▊ | 220/250 [20:07<01:57,  3.92s/it]"
     ]
    },
    {
     "name": "stdout",
     "output_type": "stream",
     "text": [
      "=================================\n",
      "begin_total_asset:1000000\n",
      "end_total_asset:4507220.739749793\n",
      "Sharpe:  0.7726796718712465\n",
      "=================================\n"
     ]
    },
    {
     "name": "stderr",
     "output_type": "stream",
     "text": [
      "Episode:  88%|████████▊ | 221/250 [20:11<01:54,  3.93s/it]"
     ]
    },
    {
     "name": "stdout",
     "output_type": "stream",
     "text": [
      "=================================\n",
      "begin_total_asset:1000000\n",
      "end_total_asset:4983403.536534276\n",
      "Sharpe:  0.7799339723038189\n",
      "=================================\n"
     ]
    },
    {
     "name": "stderr",
     "output_type": "stream",
     "text": [
      "Episode:  89%|████████▉ | 222/250 [20:15<01:49,  3.91s/it]"
     ]
    },
    {
     "name": "stdout",
     "output_type": "stream",
     "text": [
      "=================================\n",
      "begin_total_asset:1000000\n",
      "end_total_asset:2975511.451509436\n",
      "Sharpe:  0.5742823383583322\n",
      "=================================\n"
     ]
    },
    {
     "name": "stderr",
     "output_type": "stream",
     "text": [
      "Episode:  89%|████████▉ | 223/250 [20:19<01:44,  3.89s/it]"
     ]
    },
    {
     "name": "stdout",
     "output_type": "stream",
     "text": [
      "=================================\n",
      "begin_total_asset:1000000\n",
      "end_total_asset:1635950.1904044615\n",
      "Sharpe:  0.31215020058822807\n",
      "=================================\n"
     ]
    },
    {
     "name": "stderr",
     "output_type": "stream",
     "text": [
      "Episode:  90%|████████▉ | 224/250 [20:23<01:40,  3.87s/it]"
     ]
    },
    {
     "name": "stdout",
     "output_type": "stream",
     "text": [
      "=================================\n",
      "begin_total_asset:1000000\n",
      "end_total_asset:8752555.674132375\n",
      "Sharpe:  1.0988073817740827\n",
      "=================================\n"
     ]
    },
    {
     "name": "stderr",
     "output_type": "stream",
     "text": [
      "Episode:  90%|█████████ | 225/250 [20:27<01:40,  4.03s/it]"
     ]
    },
    {
     "name": "stdout",
     "output_type": "stream",
     "text": [
      "=================================\n",
      "begin_total_asset:1000000\n",
      "end_total_asset:7132805.1894551655\n",
      "Sharpe:  0.9357443271324047\n",
      "=================================\n"
     ]
    },
    {
     "name": "stderr",
     "output_type": "stream",
     "text": [
      "Episode:  90%|█████████ | 226/250 [20:31<01:38,  4.08s/it]"
     ]
    },
    {
     "name": "stdout",
     "output_type": "stream",
     "text": [
      "=================================\n",
      "begin_total_asset:1000000\n",
      "end_total_asset:3943058.9988557547\n",
      "Sharpe:  0.7274210602888525\n",
      "=================================\n"
     ]
    },
    {
     "name": "stderr",
     "output_type": "stream",
     "text": [
      "Episode:  91%|█████████ | 227/250 [20:35<01:33,  4.05s/it]"
     ]
    },
    {
     "name": "stdout",
     "output_type": "stream",
     "text": [
      "=================================\n",
      "begin_total_asset:1000000\n",
      "end_total_asset:9808877.779415349\n",
      "Sharpe:  1.083773193601595\n",
      "=================================\n"
     ]
    },
    {
     "name": "stderr",
     "output_type": "stream",
     "text": [
      "Episode:  91%|█████████ | 228/250 [20:39<01:29,  4.05s/it]"
     ]
    },
    {
     "name": "stdout",
     "output_type": "stream",
     "text": [
      "=================================\n",
      "begin_total_asset:1000000\n",
      "end_total_asset:3052451.589716348\n",
      "Sharpe:  0.6073075490409486\n",
      "=================================\n"
     ]
    },
    {
     "name": "stderr",
     "output_type": "stream",
     "text": [
      "Episode:  92%|█████████▏| 229/250 [20:43<01:26,  4.11s/it]"
     ]
    },
    {
     "name": "stdout",
     "output_type": "stream",
     "text": [
      "=================================\n",
      "begin_total_asset:1000000\n",
      "end_total_asset:7980014.30187088\n",
      "Sharpe:  0.9893934352819541\n",
      "=================================\n"
     ]
    },
    {
     "name": "stderr",
     "output_type": "stream",
     "text": [
      "Episode:  92%|█████████▏| 230/250 [20:49<01:31,  4.58s/it]"
     ]
    },
    {
     "name": "stdout",
     "output_type": "stream",
     "text": [
      "=================================\n",
      "begin_total_asset:1000000\n",
      "end_total_asset:7642254.214113799\n",
      "Sharpe:  1.0307237049595241\n",
      "=================================\n"
     ]
    },
    {
     "name": "stderr",
     "output_type": "stream",
     "text": [
      "Episode:  92%|█████████▏| 231/250 [20:53<01:25,  4.52s/it]"
     ]
    },
    {
     "name": "stdout",
     "output_type": "stream",
     "text": [
      "=================================\n",
      "begin_total_asset:1000000\n",
      "end_total_asset:7257722.19917038\n",
      "Sharpe:  0.9975119663078118\n",
      "=================================\n"
     ]
    },
    {
     "name": "stderr",
     "output_type": "stream",
     "text": [
      "Episode:  93%|█████████▎| 232/250 [21:00<01:31,  5.10s/it]"
     ]
    },
    {
     "name": "stdout",
     "output_type": "stream",
     "text": [
      "=================================\n",
      "begin_total_asset:1000000\n",
      "end_total_asset:4377697.394958555\n",
      "Sharpe:  0.7214547689483756\n",
      "=================================\n"
     ]
    },
    {
     "name": "stderr",
     "output_type": "stream",
     "text": [
      "Episode:  93%|█████████▎| 233/250 [21:05<01:26,  5.07s/it]"
     ]
    },
    {
     "name": "stdout",
     "output_type": "stream",
     "text": [
      "=================================\n",
      "begin_total_asset:1000000\n",
      "end_total_asset:4005239.5773777314\n",
      "Sharpe:  0.6880364573512723\n",
      "=================================\n"
     ]
    },
    {
     "name": "stderr",
     "output_type": "stream",
     "text": [
      "Episode:  94%|█████████▎| 234/250 [21:10<01:20,  5.05s/it]"
     ]
    },
    {
     "name": "stdout",
     "output_type": "stream",
     "text": [
      "=================================\n",
      "begin_total_asset:1000000\n",
      "end_total_asset:8656923.354632307\n",
      "Sharpe:  1.036946225100729\n",
      "=================================\n"
     ]
    },
    {
     "name": "stderr",
     "output_type": "stream",
     "text": [
      "Episode:  94%|█████████▍| 235/250 [21:14<01:12,  4.81s/it]"
     ]
    },
    {
     "name": "stdout",
     "output_type": "stream",
     "text": [
      "=================================\n",
      "begin_total_asset:1000000\n",
      "end_total_asset:3926645.5904995324\n",
      "Sharpe:  0.6922893923234513\n",
      "=================================\n"
     ]
    },
    {
     "name": "stderr",
     "output_type": "stream",
     "text": [
      "Episode:  94%|█████████▍| 236/250 [21:18<01:04,  4.61s/it]"
     ]
    },
    {
     "name": "stdout",
     "output_type": "stream",
     "text": [
      "=================================\n",
      "begin_total_asset:1000000\n",
      "end_total_asset:15734989.005780527\n",
      "Sharpe:  1.2824736906313636\n",
      "=================================\n"
     ]
    },
    {
     "name": "stderr",
     "output_type": "stream",
     "text": [
      "Episode:  95%|█████████▍| 237/250 [21:22<00:58,  4.48s/it]"
     ]
    },
    {
     "name": "stdout",
     "output_type": "stream",
     "text": [
      "=================================\n",
      "begin_total_asset:1000000\n",
      "end_total_asset:4176980.8755769026\n",
      "Sharpe:  0.7187920837615336\n",
      "=================================\n"
     ]
    },
    {
     "name": "stderr",
     "output_type": "stream",
     "text": [
      "Episode:  95%|█████████▌| 238/250 [21:28<00:57,  4.76s/it]"
     ]
    },
    {
     "name": "stdout",
     "output_type": "stream",
     "text": [
      "=================================\n",
      "begin_total_asset:1000000\n",
      "end_total_asset:5965261.16887391\n",
      "Sharpe:  0.8837818620970063\n",
      "=================================\n"
     ]
    },
    {
     "name": "stderr",
     "output_type": "stream",
     "text": [
      "Episode:  96%|█████████▌| 239/250 [21:34<00:55,  5.02s/it]"
     ]
    },
    {
     "name": "stdout",
     "output_type": "stream",
     "text": [
      "=================================\n",
      "begin_total_asset:1000000\n",
      "end_total_asset:11257701.623535538\n",
      "Sharpe:  1.2051820405578848\n",
      "=================================\n"
     ]
    },
    {
     "name": "stderr",
     "output_type": "stream",
     "text": [
      "Episode:  96%|█████████▌| 240/250 [21:38<00:47,  4.73s/it]"
     ]
    },
    {
     "name": "stdout",
     "output_type": "stream",
     "text": [
      "=================================\n",
      "begin_total_asset:1000000\n",
      "end_total_asset:3870698.853383984\n",
      "Sharpe:  0.6713599629688971\n",
      "=================================\n"
     ]
    },
    {
     "name": "stderr",
     "output_type": "stream",
     "text": [
      "Episode:  96%|█████████▋| 241/250 [21:42<00:40,  4.51s/it]"
     ]
    },
    {
     "name": "stdout",
     "output_type": "stream",
     "text": [
      "=================================\n",
      "begin_total_asset:1000000\n",
      "end_total_asset:4365141.503704917\n",
      "Sharpe:  0.7406923998710648\n",
      "=================================\n"
     ]
    },
    {
     "name": "stderr",
     "output_type": "stream",
     "text": [
      "Episode:  97%|█████████▋| 242/250 [21:46<00:35,  4.47s/it]"
     ]
    },
    {
     "name": "stdout",
     "output_type": "stream",
     "text": [
      "=================================\n",
      "begin_total_asset:1000000\n",
      "end_total_asset:9342741.883817894\n",
      "Sharpe:  1.0744239034245984\n",
      "=================================\n"
     ]
    },
    {
     "name": "stderr",
     "output_type": "stream",
     "text": [
      "Episode:  97%|█████████▋| 243/250 [21:50<00:30,  4.36s/it]"
     ]
    },
    {
     "name": "stdout",
     "output_type": "stream",
     "text": [
      "=================================\n",
      "begin_total_asset:1000000\n",
      "end_total_asset:11408006.007771662\n",
      "Sharpe:  1.1777223813605746\n",
      "=================================\n"
     ]
    },
    {
     "name": "stderr",
     "output_type": "stream",
     "text": [
      "Episode:  98%|█████████▊| 244/250 [21:57<00:30,  5.06s/it]"
     ]
    },
    {
     "name": "stdout",
     "output_type": "stream",
     "text": [
      "=================================\n",
      "begin_total_asset:1000000\n",
      "end_total_asset:3834188.0052890494\n",
      "Sharpe:  0.6625976686705137\n",
      "=================================\n"
     ]
    },
    {
     "name": "stderr",
     "output_type": "stream",
     "text": [
      "Episode:  98%|█████████▊| 245/250 [22:01<00:23,  4.71s/it]"
     ]
    },
    {
     "name": "stdout",
     "output_type": "stream",
     "text": [
      "=================================\n",
      "begin_total_asset:1000000\n",
      "end_total_asset:7284661.091957114\n",
      "Sharpe:  1.0031711952154803\n",
      "=================================\n"
     ]
    },
    {
     "name": "stderr",
     "output_type": "stream",
     "text": [
      "Episode:  98%|█████████▊| 246/250 [22:05<00:17,  4.48s/it]"
     ]
    },
    {
     "name": "stdout",
     "output_type": "stream",
     "text": [
      "=================================\n",
      "begin_total_asset:1000000\n",
      "end_total_asset:3436217.886715115\n",
      "Sharpe:  0.6236064662390175\n",
      "=================================\n"
     ]
    },
    {
     "name": "stderr",
     "output_type": "stream",
     "text": [
      "Episode:  99%|█████████▉| 247/250 [22:09<00:13,  4.46s/it]"
     ]
    },
    {
     "name": "stdout",
     "output_type": "stream",
     "text": [
      "=================================\n",
      "begin_total_asset:1000000\n",
      "end_total_asset:2459087.369158605\n",
      "Sharpe:  0.4881166408136458\n",
      "=================================\n"
     ]
    },
    {
     "name": "stderr",
     "output_type": "stream",
     "text": [
      "Episode:  99%|█████████▉| 248/250 [22:13<00:08,  4.29s/it]"
     ]
    },
    {
     "name": "stdout",
     "output_type": "stream",
     "text": [
      "=================================\n",
      "begin_total_asset:1000000\n",
      "end_total_asset:5902456.398168122\n",
      "Sharpe:  0.9051039245459912\n",
      "=================================\n"
     ]
    },
    {
     "name": "stderr",
     "output_type": "stream",
     "text": [
      "Episode: 100%|█████████▉| 249/250 [22:17<00:04,  4.11s/it]"
     ]
    },
    {
     "name": "stdout",
     "output_type": "stream",
     "text": [
      "=================================\n",
      "begin_total_asset:1000000\n",
      "end_total_asset:4764861.483988072\n",
      "Sharpe:  0.7785809950306519\n",
      "=================================\n"
     ]
    },
    {
     "name": "stderr",
     "output_type": "stream",
     "text": [
      "                                                          "
     ]
    },
    {
     "name": "stdout",
     "output_type": "stream",
     "text": [
      "=================================\n",
      "begin_total_asset:1000000\n",
      "end_total_asset:5558099.530720266\n",
      "Sharpe:  0.8660085697224414\n",
      "=================================\n"
     ]
    },
    {
     "name": "stderr",
     "output_type": "stream",
     "text": [
      "\r"
     ]
    }
   ],
   "source": [
    "two_step_sarsa_post_training_env, two_step_sarsa_training_episodes, two_step_sarsa_Q = nstep_sarsa_single_stock(n_step_sarsa_env, num_episodes=EPISODES, gamma=0.99, epsilon=0.1, step_size=0.5, n=2, stock=0, aggressive=True)"
   ]
  },
  {
   "cell_type": "code",
   "execution_count": null,
   "id": "368d1c1815cd4305",
   "metadata": {
    "ExecuteTime": {
     "end_time": "2023-12-05T02:10:08.403235300Z",
     "start_time": "2023-12-05T02:10:07.926637500Z"
    },
    "collapsed": false
   },
   "outputs": [
    {
     "ename": "UnboundLocalError",
     "evalue": "local variable 'Q' referenced before assignment",
     "output_type": "error",
     "traceback": [
      "\u001b[0;31m---------------------------------------------------------------------------\u001b[0m",
      "\u001b[0;31mUnboundLocalError\u001b[0m                         Traceback (most recent call last)",
      "\u001b[1;32m/Users/scott/Sandbox/FinRL Tabular Project/aggressive_n_step.ipynb Cell 12\u001b[0m line \u001b[0;36m2\n\u001b[1;32m      <a href='vscode-notebook-cell:/Users/scott/Sandbox/FinRL%20Tabular%20Project/aggressive_n_step.ipynb#X15sZmlsZQ%3D%3D?line=0'>1</a>\u001b[0m two_step_sarsa_test_env \u001b[39m=\u001b[39m StockPortfolioEnv(df \u001b[39m=\u001b[39m trade, \u001b[39m*\u001b[39m\u001b[39m*\u001b[39menv_kwargs)\n\u001b[0;32m----> <a href='vscode-notebook-cell:/Users/scott/Sandbox/FinRL%20Tabular%20Project/aggressive_n_step.ipynb#X15sZmlsZQ%3D%3D?line=1'>2</a>\u001b[0m two_step_sarsa_test_post_training_env, two_step_sarsa_test_episode, two_step_sarsa_test_Q  \u001b[39m=\u001b[39m nstep_sarsa_single_stock(n_step_sarsa_env, num_episodes\u001b[39m=\u001b[39;49m\u001b[39m1\u001b[39;49m, gamma\u001b[39m=\u001b[39;49m\u001b[39m0.99\u001b[39;49m, epsilon\u001b[39m=\u001b[39;49m\u001b[39m0.1\u001b[39;49m, step_size\u001b[39m=\u001b[39;49m\u001b[39m0.5\u001b[39;49m, n\u001b[39m=\u001b[39;49m\u001b[39m2\u001b[39;49m, stock\u001b[39m=\u001b[39;49m\u001b[39m0\u001b[39;49m, q\u001b[39m=\u001b[39;49mtwo_step_sarsa_Q, aggressive\u001b[39m=\u001b[39;49m\u001b[39mTrue\u001b[39;49;00m)\n",
      "File \u001b[0;32m~/Sandbox/FinRL Tabular Project/agents/single_stock_tabular.py:260\u001b[0m, in \u001b[0;36mnstep_sarsa_single_stock\u001b[0;34m(env, num_episodes, gamma, epsilon, step_size, n, stock, aggressive, q)\u001b[0m\n\u001b[1;32m    258\u001b[0m     Q \u001b[39m=\u001b[39m defaultdict(\u001b[39mlambda\u001b[39;00m: np\u001b[39m.\u001b[39mzeros(\u001b[39mlen\u001b[39m(PortfolioAction)))\n\u001b[1;32m    259\u001b[0m \u001b[39melse\u001b[39;00m:\n\u001b[0;32m--> 260\u001b[0m     Q \u001b[39m=\u001b[39m Q\n\u001b[1;32m    261\u001b[0m \u001b[39m# Initialize pi\u001b[39;00m\n\u001b[1;32m    262\u001b[0m policy \u001b[39m=\u001b[39m create_epsilon_policy(Q, epsilon)\n",
      "\u001b[0;31mUnboundLocalError\u001b[0m: local variable 'Q' referenced before assignment"
     ]
    }
   ],
   "source": [
    "two_step_sarsa_test_env = StockPortfolioEnv(df = trade, **env_kwargs)\n",
    "two_step_sarsa_test_post_training_env, two_step_sarsa_test_episode, two_step_sarsa_test_Q  = nstep_sarsa_single_stock(n_step_sarsa_env, num_episodes=1, gamma=0.99, epsilon=0.1, step_size=0.5, n=2, stock=0, q=two_step_sarsa_Q, aggressive=True)"
   ]
  },
  {
   "cell_type": "code",
   "execution_count": null,
   "id": "dcc992fc26c75b6a",
   "metadata": {
    "ExecuteTime": {
     "end_time": "2023-12-05T02:10:08.961622700Z",
     "start_time": "2023-12-05T02:10:08.406235500Z"
    },
    "collapsed": false
   },
   "outputs": [],
   "source": [
    "# two-step SARSA TRAINING PLOT\n",
    "# episode.append((S, A, reward, percent))\n",
    "two_step_sarsa_all_episode_rewards = []\n",
    "for episode in two_step_sarsa_training_episodes:\n",
    "    episode_rewards = []\n",
    "    for step in episode:\n",
    "        reward = step[2]\n",
    "        episode_rewards.append(reward)\n",
    "    two_step_sarsa_all_episode_rewards.append(episode_rewards)\n",
    "two_step_sarsa_final_amounts = [rewards[-1] for rewards in two_step_sarsa_all_episode_rewards]"
   ]
  },
  {
   "cell_type": "code",
   "execution_count": null,
   "metadata": {},
   "outputs": [],
   "source": [
    "four_step_sarsa_post_training_env, four_step_sarsa_training_episodes, four_step_sarsa_Q = nstep_sarsa_single_stock(n_step_sarsa_env, num_episodes=EPISODES, gamma=0.99, epsilon=0.1, step_size=0.5, n=4, stock=0, aggressive=True)"
   ]
  },
  {
   "cell_type": "code",
   "execution_count": null,
   "metadata": {},
   "outputs": [],
   "source": [
    "four_step_sarsa_test_env = StockPortfolioEnv(df = trade, **env_kwargs)\n",
    "four_step_sarsa_test_post_training_env, four_step_sarsa_test_episode, four_step_sarsa_test_Q  = nstep_sarsa_single_stock(n_step_sarsa_env, num_episodes=1, gamma=0.99, epsilon=0.1, step_size=0.5, n=4, stock=0, q=four_step_sarsa_Q, aggressive=True)"
   ]
  },
  {
   "cell_type": "code",
   "execution_count": null,
   "metadata": {},
   "outputs": [],
   "source": [
    "# four-step SARSA TRAINING PLOT\n",
    "# episode.append((S, A, reward, percent))\n",
    "four_step_sarsa_all_episode_rewards = []\n",
    "for episode in four_step_sarsa_training_episodes:\n",
    "    episode_rewards = []\n",
    "    for step in episode:\n",
    "        reward = step[2]\n",
    "        episode_rewards.append(reward)\n",
    "    four_step_sarsa_all_episode_rewards.append(episode_rewards)\n",
    "four_step_sarsa_final_amounts = [rewards[-1] for rewards in four_step_sarsa_all_episode_rewards]"
   ]
  },
  {
   "cell_type": "code",
   "execution_count": null,
   "metadata": {},
   "outputs": [],
   "source": [
    "ten_step_sarsa_post_training_env, ten_step_sarsa_training_episodes, ten_step_sarsa_Q = nstep_sarsa_single_stock(n_step_sarsa_env, num_episodes=EPISODES, gamma=0.99, epsilon=0.1, step_size=0.5, n=10, stock=0, aggressive=True)"
   ]
  },
  {
   "cell_type": "code",
   "execution_count": null,
   "metadata": {},
   "outputs": [],
   "source": [
    "ten_step_sarsa_test_env = StockPortfolioEnv(df = trade, **env_kwargs)\n",
    "ten_step_sarsa_test_post_training_env, ten_step_sarsa_test_episode, ten_step_sarsa_test_Q  = nstep_sarsa_single_stock(n_step_sarsa_env, num_episodes=1, gamma=0.99, epsilon=0.1, step_size=0.5, n=10, stock=0, q=ten_step_sarsa_Q, aggressive=True)"
   ]
  },
  {
   "cell_type": "code",
   "execution_count": null,
   "metadata": {},
   "outputs": [],
   "source": [
    "# ten-step SARSA TRAINING PLOT\n",
    "# episode.append((S, A, reward, percent))\n",
    "ten_step_sarsa_all_episode_rewards = []\n",
    "for episode in ten_step_sarsa_training_episodes:\n",
    "    episode_rewards = []\n",
    "    for step in episode:\n",
    "        reward = step[2]\n",
    "        episode_rewards.append(reward)\n",
    "    ten_step_sarsa_all_episode_rewards.append(episode_rewards)\n",
    "ten_step_sarsa_final_amounts = [rewards[-1] for rewards in ten_step_sarsa_all_episode_rewards]"
   ]
  },
  {
   "cell_type": "code",
   "execution_count": null,
   "metadata": {},
   "outputs": [],
   "source": [
    "twenty_step_sarsa_post_training_env, twenty_step_sarsa_training_episodes, twenty_step_sarsa_Q = nstep_sarsa_single_stock(n_step_sarsa_env, num_episodes=EPISODES, gamma=0.99, epsilon=0.1, step_size=0.5, n=20, stock=0, aggressive=True)"
   ]
  },
  {
   "cell_type": "code",
   "execution_count": null,
   "metadata": {},
   "outputs": [],
   "source": [
    "twenty_step_sarsa_test_env = StockPortfolioEnv(df = trade, **env_kwargs)\n",
    "twenty_step_sarsa_test_post_training_env, twenty_step_sarsa_test_episode, twenty_step_sarsa_test_Q  = nstep_sarsa_single_stock(n_step_sarsa_env, num_episodes=1, gamma=0.99, epsilon=0.1, step_size=0.5, n=20, stock=0, q=twenty_step_sarsa_Q, aggressive=True)"
   ]
  },
  {
   "cell_type": "code",
   "execution_count": null,
   "metadata": {},
   "outputs": [],
   "source": [
    "# twenty-step SARSA TRAINING PLOT\n",
    "# episode.append((S, A, reward, percent))\n",
    "twenty_step_sarsa_all_episode_rewards = []\n",
    "for episode in twenty_step_sarsa_training_episodes:\n",
    "    episode_rewards = []\n",
    "    for step in episode:\n",
    "        reward = step[2]\n",
    "        episode_rewards.append(reward)\n",
    "    twenty_step_sarsa_all_episode_rewards.append(episode_rewards)\n",
    "twenty_step_sarsa_final_amounts = [rewards[-1] for rewards in twenty_step_sarsa_all_episode_rewards]"
   ]
  },
  {
   "cell_type": "code",
   "execution_count": null,
   "id": "8df9458ec5ae2a16",
   "metadata": {
    "ExecuteTime": {
     "end_time": "2023-12-05T15:05:36.060039900Z",
     "start_time": "2023-12-05T15:05:35.073718300Z"
    },
    "collapsed": false
   },
   "outputs": [
    {
     "data": {
      "image/png": "[encoded data removed]",
      "text/plain": [
       "<Figure size 640x480 with 1 Axes>"
      ]
     },
     "metadata": {},
     "output_type": "display_data"
    }
   ],
   "source": [
    "starting_value = trade[(trade['date'] == '2020-07-01') & (trade['tic'] == 'AAPL')]['open'].values[0]\n",
    "stocks = 1_000_000 / starting_value\n",
    "\n",
    "end_value =trade[(trade['date'] == '2021-10-29') & (trade['tic'] == 'AAPL')]['open'].values[0]\n",
    "end_amount_if_bought_and_held = end_value * stocks\n",
    "\n",
    "plt.plot(list(range(EPISODES)), [end_amount_if_bought_and_held] * EPISODES, label='Bought, Held, Sold at End')\n",
    "plt.plot(list(range(EPISODES)), two_step_sarsa_final_amounts, label='2-Step SARSA')\n",
    "plt.plot(list(range(EPISODES)), four_step_sarsa_final_amounts, label='4-Step SARSA')\n",
    "plt.plot(list(range(EPISODES)), ten_step_sarsa_final_amounts, label='10-Step SARSA')\n",
    "plt.plot(list(range(EPISODES)), twenty_step_sarsa_final_amounts, label='20-Step SARSA')\n",
    "plt.plot(list(range(EPISODES)), [1_000_000] * EPISODES, label='Initial Amount')\n",
    "plt.xlabel('Episodes')\n",
    "plt.ylabel('Ending Amount')\n",
    "plt.legend()\n",
    "plt.show()"
   ]
  },
  {
   "cell_type": "code",
   "execution_count": null,
   "id": "1d22f493b9e2023c",
   "metadata": {
    "ExecuteTime": {
     "end_time": "2023-12-05T15:05:51.758949500Z",
     "start_time": "2023-12-05T15:05:51.537887100Z"
    },
    "collapsed": false
   },
   "outputs": [
    {
     "data": {
      "image/png": "[encoded data removed]",
      "text/plain": [
       "<Figure size 640x480 with 1 Axes>"
      ]
     },
     "metadata": {},
     "output_type": "display_data"
    }
   ],
   "source": [
    "#PLOT COMPARING PORTFOLIO VALUE OF TEST EPISODE AGAINST JUST HOLDING STOCK WITH SARSA AND MC\n",
    "\n",
    "starting_value = trade[(trade['date'] == '2020-07-01') & (trade['tic'] == 'AAPL')]['open'].values[0]\n",
    "stocks = 1_000_000 / starting_value\n",
    "values_while_held = trade[(trade['date'] >= '2020-07-01') & (trade['tic'] == 'AAPL')]['open'].to_numpy() * stocks\n",
    "dates = np.asarray(trade[(trade['date'] >= '2020-07-01') & (trade['tic'] == 'AAPL')]['date'], dtype='datetime64[s]')\n",
    "plt.plot(dates, values_while_held, label=\"Bought and Held\")\n",
    "two_step_sarsa_test_values = two_step_sarsa_test_env.asset_memory\n",
    "plt.plot(dates, two_step_sarsa_test_env, label=\"2-Step SARSA\")\n",
    "four_step_sarsa_test_values = four_step_sarsa_test_env.asset_memory\n",
    "plt.plot(dates, four_step_sarsa_test_env, label=\"4-Step SARSA\")\n",
    "ten_step_sarsa_test_values = ten_step_sarsa_test_env.asset_memory\n",
    "plt.plot(dates, ten_step_sarsa_test_env, label=\"10-Step SARSA\")\n",
    "twenty_step_sarsa_test_values = twenty_step_sarsa_test_env.asset_memory\n",
    "plt.plot(dates, twenty_step_sarsa_test_env, label=\"20-Step SARSA\")\n",
    "plt.xticks(rotation=30)\n",
    "plt.legend()\n",
    "plt.show()\n"
   ]
  },
  {
   "cell_type": "code",
   "execution_count": null,
   "id": "3016c89c9dabb159",
   "metadata": {
    "ExecuteTime": {
     "end_time": "2023-12-05T15:06:05.315145300Z",
     "start_time": "2023-12-05T15:06:04.150632600Z"
    },
    "collapsed": false
   },
   "outputs": [
    {
     "data": {
      "image/png": "[encoded data removed]",
      "text/plain": [
       "<Figure size 2000x500 with 3 Axes>"
      ]
     },
     "metadata": {},
     "output_type": "display_data"
    }
   ],
   "source": [
    "# ACTIONS OVER TEST\n",
    "two_step_sarsa_test_actions = []\n",
    "four_step_sarsa_test_actions = []\n",
    "ten_step_sarsa_test_actions = []\n",
    "twenty_step_sarsa_test_actions = []\n",
    "# episode.append((S, A, reward, percent))\n",
    "action_dates = dates[2:] # account for skipping first two steps to create differences\n",
    "for step in two_step_sarsa_test_episode[0]:\n",
    "    action = step[1]\n",
    "    two_step_sarsa_test_actions.append(action)\n",
    "for step in four_step_sarsa_test_episode[0]:\n",
    "    action = step[1]\n",
    "    four_step_sarsa_test_actions.append(action)\n",
    "for step in ten_step_sarsa_test_episode[0]:\n",
    "    action = step[1]\n",
    "    ten_step_sarsa_test_actions.append(action)\n",
    "for step in twenty_step_sarsa_test_episode[0]:\n",
    "    action = step[1]\n",
    "    twenty_step_sarsa_test_actions.append(action)\n",
    "fig, axs = plt.subplots(nrows=5, figsize=(20,5), sharex=True)\n",
    "axs[1].plot(action_dates, two_step_sarsa_test_actions, marker = 's', label = '2-STEP SARSA ACTIONS', c='r')\n",
    "axs[2].plot(action_dates, four_step_sarsa_test_actions, marker = 's', label = '4-STEP SARSA ACTIONS', c='b')\n",
    "axs[3].plot(action_dates, ten_step_sarsa_test_actions, marker = 's', label = '10-STEP SARSA ACTIONS', c='c')\n",
    "axs[4].plot(action_dates, twenty_step_sarsa_test_actions, marker = 's', label = '20-STEP SARSA ACTIONS', c='y')\n",
    "fig.legend()\n",
    "plt.xticks(rotation=30)\n",
    "\n",
    "axs[0].plot(action_dates, trade[(trade['date'] >= '2020-07-01') & (trade['tic'] == 'AAPL')]['open'][2:], marker = '^', label = 'STOCK VALUE', c='g')\n",
    "for ax in axs[1:]:\n",
    "    ax.set_xlim(np.asarray(['2020-07-01', '2020-11-10'],  dtype='datetime64[s]'))\n",
    "    ax.set_yticks([0, 1, 2]) # buy hold sell\n",
    "    ax.set_yticklabels(['buy', 'sell', 'hold'])\n"
   ]
  },
  {
   "cell_type": "code",
   "execution_count": null,
   "id": "a1f71328013595b6",
   "metadata": {
    "ExecuteTime": {
     "end_time": "2023-12-04T00:40:13.936833700Z",
     "start_time": "2023-12-04T00:40:13.923561700Z"
    },
    "collapsed": false
   },
   "outputs": [],
   "source": [
    "# LENGTH OF EPISODES and Q TABLE SIZE PLOT"
   ]
  },
  {
   "cell_type": "code",
   "execution_count": null,
   "id": "9d071b7fb275ab8d",
   "metadata": {
    "ExecuteTime": {
     "end_time": "2023-12-04T00:40:13.968102700Z",
     "start_time": "2023-12-04T00:40:13.937798300Z"
    },
    "collapsed": false
   },
   "outputs": [],
   "source": []
  }
 ],
 "metadata": {
  "kernelspec": {
   "display_name": "Python 3",
   "language": "python",
   "name": "python3"
  },
  "language_info": {
   "codemirror_mode": {
    "name": "ipython",
    "version": 3
   },
   "file_extension": ".py",
   "mimetype": "text/x-python",
   "name": "python",
   "nbconvert_exporter": "python",
   "pygments_lexer": "ipython3",
   "version": "3.10.12"
  }
 },
 "nbformat": 4,
 "nbformat_minor": 5
}
