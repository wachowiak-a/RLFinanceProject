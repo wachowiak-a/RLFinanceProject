{
 "cells": [
  {
   "cell_type": "code",
   "execution_count": 1,
   "id": "initial_id",
   "metadata": {
    "collapsed": true,
    "ExecuteTime": {
     "end_time": "2023-11-27T23:50:42.024446Z",
     "start_time": "2023-11-27T23:50:31.627549400Z"
    }
   },
   "outputs": [],
   "source": [
    "import random\n",
    "\n",
    "from finrl.meta.env_portfolio_allocation import env_portfolio\n",
    "\n",
    "import pandas as pd\n",
    "import numpy as np\n",
    "import gym\n",
    "from typing import Callable, Tuple\n",
    "from collections import defaultdict\n",
    "from tqdm import trange\n"
   ]
  },
  {
   "cell_type": "code",
   "execution_count": 2,
   "outputs": [],
   "source": [
    "def generate_episode(env: gym.Env, policy: Callable, es: bool = False):\n",
    "    \"\"\"A function to generate one episode and collect the sequence of (s, a, r) tuples\n",
    "\n",
    "    This function will be useful for implementing the MC methods\n",
    "\n",
    "    Args:\n",
    "        env (gym.Env): a Gym API compatible environment\n",
    "        policy (Callable): A function that represents the policy.\n",
    "        es (bool): Whether to use exploring starts or not\n",
    "    \"\"\"\n",
    "    episode = []\n",
    "    state = env.reset()\n",
    "    while True:\n",
    "        if es and len(episode) == 0:\n",
    "            action = env.action_space.sample()\n",
    "        else:\n",
    "            action = policy(state)\n",
    "\n",
    "        next_state, reward, done, _ = env.step(action)\n",
    "        episode.append((state, action, reward))\n",
    "        if done:\n",
    "            break\n",
    "        state = next_state\n",
    "\n",
    "    return episode\n"
   ],
   "metadata": {
    "collapsed": false,
    "ExecuteTime": {
     "end_time": "2023-11-27T23:50:42.040428200Z",
     "start_time": "2023-11-27T23:50:42.028416Z"
    }
   },
   "id": "e145df452125bc37"
  },
  {
   "cell_type": "code",
   "execution_count": 26,
   "outputs": [
    {
     "name": "stdout",
     "output_type": "stream",
     "text": [
      "['AXP', 'AMGN', 'AAPL', 'BA', 'CAT', 'CSCO', 'CVX', 'GS', 'HD', 'HON', 'IBM', 'INTC', 'JNJ', 'KO', 'JPM', 'MCD', 'MMM', 'MRK', 'MSFT', 'NKE', 'PG', 'TRV', 'UNH', 'CRM', 'VZ', 'V', 'WBA', 'WMT', 'DIS', 'DOW']\n",
      "[*********************100%%**********************]  1 of 1 completed\n",
      "[*********************100%%**********************]  1 of 1 completed\n",
      "[*********************100%%**********************]  1 of 1 completed\n",
      "[*********************100%%**********************]  1 of 1 completed\n",
      "[*********************100%%**********************]  1 of 1 completed\n",
      "[*********************100%%**********************]  1 of 1 completed\n",
      "[*********************100%%**********************]  1 of 1 completed\n",
      "[*********************100%%**********************]  1 of 1 completed\n",
      "[*********************100%%**********************]  1 of 1 completed\n",
      "[*********************100%%**********************]  1 of 1 completed\n",
      "[*********************100%%**********************]  1 of 1 completed\n",
      "[*********************100%%**********************]  1 of 1 completed\n",
      "[*********************100%%**********************]  1 of 1 completed\n",
      "[*********************100%%**********************]  1 of 1 completed\n",
      "[*********************100%%**********************]  1 of 1 completed\n",
      "[*********************100%%**********************]  1 of 1 completed\n",
      "[*********************100%%**********************]  1 of 1 completed\n",
      "[*********************100%%**********************]  1 of 1 completed\n",
      "[*********************100%%**********************]  1 of 1 completed\n",
      "[*********************100%%**********************]  1 of 1 completed\n",
      "[*********************100%%**********************]  1 of 1 completed\n",
      "[*********************100%%**********************]  1 of 1 completed\n",
      "[*********************100%%**********************]  1 of 1 completed\n",
      "[*********************100%%**********************]  1 of 1 completed\n",
      "[*********************100%%**********************]  1 of 1 completed\n",
      "[*********************100%%**********************]  1 of 1 completed\n",
      "[*********************100%%**********************]  1 of 1 completed\n",
      "[*********************100%%**********************]  1 of 1 completed\n",
      "[*********************100%%**********************]  1 of 1 completed\n",
      "[*********************100%%**********************]  1 of 1 completed\n",
      "Shape of DataFrame:  (101615, 8)\n"
     ]
    },
    {
     "data": {
      "text/plain": "(101615, 8)"
     },
     "execution_count": 26,
     "metadata": {},
     "output_type": "execute_result"
    }
   ],
   "source": [
    "############STUFF GRABBED FROM FINRL TUTORIAL\n",
    "import matplotlib\n",
    "import matplotlib.pyplot as plt\n",
    "\n",
    "%matplotlib inline\n",
    "import datetime\n",
    "\n",
    "from finrl import config\n",
    "from finrl import config_tickers\n",
    "from finrl.meta.preprocessor.yahoodownloader import YahooDownloader\n",
    "from finrl.meta.preprocessor.preprocessors import FeatureEngineer, data_split\n",
    "from environments.portfolio_without_softmax import StockPortfolioEnv\n",
    "from finrl.agents.stablebaselines3.models import DRLAgent\n",
    "from finrl.plot import backtest_stats, backtest_plot, get_daily_return, get_baseline, convert_daily_return_to_pyfolio_ts\n",
    "from finrl.meta.data_processor import DataProcessor\n",
    "from finrl.meta.data_processors.processor_yahoofinance import YahooFinanceProcessor\n",
    "import sys\n",
    "\n",
    "## 2.4. Create Folders\n",
    "import os\n",
    "\n",
    "if not os.path.exists(\"./\" + config.DATA_SAVE_DIR):\n",
    "    os.makedirs(\"./\" + config.DATA_SAVE_DIR)\n",
    "if not os.path.exists(\"./\" + config.TRAINED_MODEL_DIR):\n",
    "    os.makedirs(\"./\" + config.TRAINED_MODEL_DIR)\n",
    "if not os.path.exists(\"./\" + config.TENSORBOARD_LOG_DIR):\n",
    "    os.makedirs(\"./\" + config.TENSORBOARD_LOG_DIR)\n",
    "if not os.path.exists(\"./\" + config.RESULTS_DIR):\n",
    "    os.makedirs(\"./\" + config.RESULTS_DIR)\n",
    "\n",
    "print(config_tickers.DOW_30_TICKER)\n",
    "#dp = YahooFinanceProcessor()\n",
    "#df = dp.download_data\n",
    "\n",
    "df = YahooDownloader(start_date='2008-01-01',\n",
    "                     end_date='2021-10-31',\n",
    "                     ticker_list=config_tickers.DOW_30_TICKER).fetch_data()\n",
    "\n",
    "df.head()\n",
    "df.shape\n"
   ],
   "metadata": {
    "collapsed": false,
    "ExecuteTime": {
     "end_time": "2023-11-28T00:13:33.088034600Z",
     "start_time": "2023-11-28T00:13:21.298850300Z"
    }
   },
   "id": "fa1e3d58f36f10e4"
  },
  {
   "cell_type": "code",
   "execution_count": 4,
   "outputs": [
    {
     "name": "stdout",
     "output_type": "stream",
     "text": [
      "Successfully added technical indicators\n"
     ]
    },
    {
     "data": {
      "text/plain": "             date       open       high        low      close      volume  \\\n0      2008-01-02   7.116786   7.152143   6.876786   5.898641  1079178800   \n3483   2008-01-02  46.599998  47.040001  46.259998  33.761425     7934400   \n6966   2008-01-02  52.090000  52.320000  50.790001  39.587997     8053700   \n10449  2008-01-02  87.570000  87.839996  86.000000  63.481617     4303000   \n13932  2008-01-02  72.559998  72.669998  70.050003  45.605473     6337800   \n\n        tic  day  macd   boll_ub   boll_lb  rsi_30     cci_30  dx_30  \\\n0      AAPL    2   0.0  5.903858  5.896149   100.0 -66.666667  100.0   \n3483   AMGN    2   0.0  5.903858  5.896149   100.0 -66.666667  100.0   \n6966    AXP    2   0.0  5.903858  5.896149   100.0 -66.666667  100.0   \n10449    BA    2   0.0  5.903858  5.896149   100.0 -66.666667  100.0   \n13932   CAT    2   0.0  5.903858  5.896149   100.0 -66.666667  100.0   \n\n       close_30_sma  close_60_sma  \n0          5.898641      5.898641  \n3483      33.761425     33.761425  \n6966      39.587997     39.587997  \n10449     63.481617     63.481617  \n13932     45.605473     45.605473  ",
      "text/html": "<div>\n<style scoped>\n    .dataframe tbody tr th:only-of-type {\n        vertical-align: middle;\n    }\n\n    .dataframe tbody tr th {\n        vertical-align: top;\n    }\n\n    .dataframe thead th {\n        text-align: right;\n    }\n</style>\n<table border=\"1\" class=\"dataframe\">\n  <thead>\n    <tr style=\"text-align: right;\">\n      <th></th>\n      <th>date</th>\n      <th>open</th>\n      <th>high</th>\n      <th>low</th>\n      <th>close</th>\n      <th>volume</th>\n      <th>tic</th>\n      <th>day</th>\n      <th>macd</th>\n      <th>boll_ub</th>\n      <th>boll_lb</th>\n      <th>rsi_30</th>\n      <th>cci_30</th>\n      <th>dx_30</th>\n      <th>close_30_sma</th>\n      <th>close_60_sma</th>\n    </tr>\n  </thead>\n  <tbody>\n    <tr>\n      <th>0</th>\n      <td>2008-01-02</td>\n      <td>7.116786</td>\n      <td>7.152143</td>\n      <td>6.876786</td>\n      <td>5.898641</td>\n      <td>1079178800</td>\n      <td>AAPL</td>\n      <td>2</td>\n      <td>0.0</td>\n      <td>5.903858</td>\n      <td>5.896149</td>\n      <td>100.0</td>\n      <td>-66.666667</td>\n      <td>100.0</td>\n      <td>5.898641</td>\n      <td>5.898641</td>\n    </tr>\n    <tr>\n      <th>3483</th>\n      <td>2008-01-02</td>\n      <td>46.599998</td>\n      <td>47.040001</td>\n      <td>46.259998</td>\n      <td>33.761425</td>\n      <td>7934400</td>\n      <td>AMGN</td>\n      <td>2</td>\n      <td>0.0</td>\n      <td>5.903858</td>\n      <td>5.896149</td>\n      <td>100.0</td>\n      <td>-66.666667</td>\n      <td>100.0</td>\n      <td>33.761425</td>\n      <td>33.761425</td>\n    </tr>\n    <tr>\n      <th>6966</th>\n      <td>2008-01-02</td>\n      <td>52.090000</td>\n      <td>52.320000</td>\n      <td>50.790001</td>\n      <td>39.587997</td>\n      <td>8053700</td>\n      <td>AXP</td>\n      <td>2</td>\n      <td>0.0</td>\n      <td>5.903858</td>\n      <td>5.896149</td>\n      <td>100.0</td>\n      <td>-66.666667</td>\n      <td>100.0</td>\n      <td>39.587997</td>\n      <td>39.587997</td>\n    </tr>\n    <tr>\n      <th>10449</th>\n      <td>2008-01-02</td>\n      <td>87.570000</td>\n      <td>87.839996</td>\n      <td>86.000000</td>\n      <td>63.481617</td>\n      <td>4303000</td>\n      <td>BA</td>\n      <td>2</td>\n      <td>0.0</td>\n      <td>5.903858</td>\n      <td>5.896149</td>\n      <td>100.0</td>\n      <td>-66.666667</td>\n      <td>100.0</td>\n      <td>63.481617</td>\n      <td>63.481617</td>\n    </tr>\n    <tr>\n      <th>13932</th>\n      <td>2008-01-02</td>\n      <td>72.559998</td>\n      <td>72.669998</td>\n      <td>70.050003</td>\n      <td>45.605473</td>\n      <td>6337800</td>\n      <td>CAT</td>\n      <td>2</td>\n      <td>0.0</td>\n      <td>5.903858</td>\n      <td>5.896149</td>\n      <td>100.0</td>\n      <td>-66.666667</td>\n      <td>100.0</td>\n      <td>45.605473</td>\n      <td>45.605473</td>\n    </tr>\n  </tbody>\n</table>\n</div>"
     },
     "execution_count": 4,
     "metadata": {},
     "output_type": "execute_result"
    }
   ],
   "source": [
    "fe = FeatureEngineer(\n",
    "    use_technical_indicator=True,\n",
    "    use_turbulence=False,\n",
    "    user_defined_feature=False)\n",
    "\n",
    "df = fe.preprocess_data(df)\n",
    "df.shape\n",
    "df.head()"
   ],
   "metadata": {
    "collapsed": false,
    "ExecuteTime": {
     "end_time": "2023-11-27T23:51:24.565813300Z",
     "start_time": "2023-11-27T23:51:00.335901500Z"
    }
   },
   "id": "5f03e9d7673ba9fb"
  },
  {
   "cell_type": "code",
   "execution_count": 5,
   "outputs": [
    {
     "data": {
      "text/plain": "             date        open        high         low       close    volume  \\\n83591  2021-10-29  162.130005  162.440002  160.660004  153.936371   1314100   \n87074  2021-10-29  454.410004  461.390015  453.059998  447.971100   2497800   \n90557  2021-10-29   52.500000   53.049999   52.410000   46.802311  17763200   \n94040  2021-10-29   46.860001   47.279999   46.770000   41.523605   4999000   \n97523  2021-10-29  147.910004  150.100006  147.559998  144.852402   7340900   \n\n       tic  day       macd     boll_ub     boll_lb     rsi_30      cci_30  \\\n83591  TRV    4   1.424914  156.635669  144.752570  55.691946  130.838046   \n87074  UNH    4  12.812449  459.914531  366.732075  67.009707  145.348178   \n90557   VZ    4  -0.170568   48.086327   45.189776  46.685040  -39.966294   \n94040  WBA    4  -0.169815   44.202654   40.524219  45.913454  -97.394876   \n97523  WMT    4   1.795640  147.887256  129.205263  59.710653  130.750217   \n\n           dx_30  close_30_sma  close_60_sma  \n83591  19.622993    149.630910    150.155365  \n87074  52.064871    406.440830    405.562354  \n90557  12.569826     46.875140     47.474613  \n94040   0.268701     42.391108     42.889372  \n97523  35.423702    138.057021    140.642315  ",
      "text/html": "<div>\n<style scoped>\n    .dataframe tbody tr th:only-of-type {\n        vertical-align: middle;\n    }\n\n    .dataframe tbody tr th {\n        vertical-align: top;\n    }\n\n    .dataframe thead th {\n        text-align: right;\n    }\n</style>\n<table border=\"1\" class=\"dataframe\">\n  <thead>\n    <tr style=\"text-align: right;\">\n      <th></th>\n      <th>date</th>\n      <th>open</th>\n      <th>high</th>\n      <th>low</th>\n      <th>close</th>\n      <th>volume</th>\n      <th>tic</th>\n      <th>day</th>\n      <th>macd</th>\n      <th>boll_ub</th>\n      <th>boll_lb</th>\n      <th>rsi_30</th>\n      <th>cci_30</th>\n      <th>dx_30</th>\n      <th>close_30_sma</th>\n      <th>close_60_sma</th>\n    </tr>\n  </thead>\n  <tbody>\n    <tr>\n      <th>83591</th>\n      <td>2021-10-29</td>\n      <td>162.130005</td>\n      <td>162.440002</td>\n      <td>160.660004</td>\n      <td>153.936371</td>\n      <td>1314100</td>\n      <td>TRV</td>\n      <td>4</td>\n      <td>1.424914</td>\n      <td>156.635669</td>\n      <td>144.752570</td>\n      <td>55.691946</td>\n      <td>130.838046</td>\n      <td>19.622993</td>\n      <td>149.630910</td>\n      <td>150.155365</td>\n    </tr>\n    <tr>\n      <th>87074</th>\n      <td>2021-10-29</td>\n      <td>454.410004</td>\n      <td>461.390015</td>\n      <td>453.059998</td>\n      <td>447.971100</td>\n      <td>2497800</td>\n      <td>UNH</td>\n      <td>4</td>\n      <td>12.812449</td>\n      <td>459.914531</td>\n      <td>366.732075</td>\n      <td>67.009707</td>\n      <td>145.348178</td>\n      <td>52.064871</td>\n      <td>406.440830</td>\n      <td>405.562354</td>\n    </tr>\n    <tr>\n      <th>90557</th>\n      <td>2021-10-29</td>\n      <td>52.500000</td>\n      <td>53.049999</td>\n      <td>52.410000</td>\n      <td>46.802311</td>\n      <td>17763200</td>\n      <td>VZ</td>\n      <td>4</td>\n      <td>-0.170568</td>\n      <td>48.086327</td>\n      <td>45.189776</td>\n      <td>46.685040</td>\n      <td>-39.966294</td>\n      <td>12.569826</td>\n      <td>46.875140</td>\n      <td>47.474613</td>\n    </tr>\n    <tr>\n      <th>94040</th>\n      <td>2021-10-29</td>\n      <td>46.860001</td>\n      <td>47.279999</td>\n      <td>46.770000</td>\n      <td>41.523605</td>\n      <td>4999000</td>\n      <td>WBA</td>\n      <td>4</td>\n      <td>-0.169815</td>\n      <td>44.202654</td>\n      <td>40.524219</td>\n      <td>45.913454</td>\n      <td>-97.394876</td>\n      <td>0.268701</td>\n      <td>42.391108</td>\n      <td>42.889372</td>\n    </tr>\n    <tr>\n      <th>97523</th>\n      <td>2021-10-29</td>\n      <td>147.910004</td>\n      <td>150.100006</td>\n      <td>147.559998</td>\n      <td>144.852402</td>\n      <td>7340900</td>\n      <td>WMT</td>\n      <td>4</td>\n      <td>1.795640</td>\n      <td>147.887256</td>\n      <td>129.205263</td>\n      <td>59.710653</td>\n      <td>130.750217</td>\n      <td>35.423702</td>\n      <td>138.057021</td>\n      <td>140.642315</td>\n    </tr>\n  </tbody>\n</table>\n</div>"
     },
     "execution_count": 5,
     "metadata": {},
     "output_type": "execute_result"
    }
   ],
   "source": [
    "df.tail()"
   ],
   "metadata": {
    "collapsed": false,
    "ExecuteTime": {
     "end_time": "2023-11-27T23:51:24.649811400Z",
     "start_time": "2023-11-27T23:51:24.565813300Z"
    }
   },
   "id": "b5b90953f0e37bb"
  },
  {
   "cell_type": "code",
   "execution_count": 6,
   "outputs": [
    {
     "data": {
      "text/plain": "         date       open       high        low      close     volume   tic  \\\n0  2008-12-31   3.070357   3.133571   3.047857   2.583910  607541200  AAPL   \n1  2008-12-31  57.110001  58.220001  57.060001  41.839527    6287200  AMGN   \n2  2008-12-31  17.969999  18.750000  17.910000  14.580749    9625600   AXP   \n3  2008-12-31  41.590000  43.049999  41.500000  32.005890    5443100    BA   \n4  2008-12-31  43.700001  45.099998  43.700001  29.608664    6277400   CAT   \n\n   day      macd    boll_ub    boll_lb     rsi_30      cci_30      dx_30  \\\n0    2 -0.082603   3.093651   2.454292  42.254794  -80.462429  16.129793   \n1    2  0.156757  42.707029  40.853195  51.060628   51.523483  10.432018   \n2    2 -0.935582  18.646868  12.660477  42.554834  -75.437684  25.776759   \n3    2 -0.279799  32.174384  28.867835  47.440237  156.994825   5.366299   \n4    2  0.655611  30.348089  25.455650  51.205325   98.374219  26.331746   \n\n   close_30_sma  close_60_sma  \\\n0      2.749560      2.861671   \n1     41.058034     40.603775   \n2     15.744065     17.616375   \n3     30.327213     32.389914   \n4     26.689551     26.423593   \n\n                                            cov_list  \\\n0  [[0.001348969935888754, 0.0004284121076667737,...   \n1  [[0.001348969935888754, 0.0004284121076667737,...   \n2  [[0.001348969935888754, 0.0004284121076667737,...   \n3  [[0.001348969935888754, 0.0004284121076667737,...   \n4  [[0.001348969935888754, 0.0004284121076667737,...   \n\n                                         return_list  \n0  tic             AAPL      AMGN       AXP      ...  \n1  tic             AAPL      AMGN       AXP      ...  \n2  tic             AAPL      AMGN       AXP      ...  \n3  tic             AAPL      AMGN       AXP      ...  \n4  tic             AAPL      AMGN       AXP      ...  ",
      "text/html": "<div>\n<style scoped>\n    .dataframe tbody tr th:only-of-type {\n        vertical-align: middle;\n    }\n\n    .dataframe tbody tr th {\n        vertical-align: top;\n    }\n\n    .dataframe thead th {\n        text-align: right;\n    }\n</style>\n<table border=\"1\" class=\"dataframe\">\n  <thead>\n    <tr style=\"text-align: right;\">\n      <th></th>\n      <th>date</th>\n      <th>open</th>\n      <th>high</th>\n      <th>low</th>\n      <th>close</th>\n      <th>volume</th>\n      <th>tic</th>\n      <th>day</th>\n      <th>macd</th>\n      <th>boll_ub</th>\n      <th>boll_lb</th>\n      <th>rsi_30</th>\n      <th>cci_30</th>\n      <th>dx_30</th>\n      <th>close_30_sma</th>\n      <th>close_60_sma</th>\n      <th>cov_list</th>\n      <th>return_list</th>\n    </tr>\n  </thead>\n  <tbody>\n    <tr>\n      <th>0</th>\n      <td>2008-12-31</td>\n      <td>3.070357</td>\n      <td>3.133571</td>\n      <td>3.047857</td>\n      <td>2.583910</td>\n      <td>607541200</td>\n      <td>AAPL</td>\n      <td>2</td>\n      <td>-0.082603</td>\n      <td>3.093651</td>\n      <td>2.454292</td>\n      <td>42.254794</td>\n      <td>-80.462429</td>\n      <td>16.129793</td>\n      <td>2.749560</td>\n      <td>2.861671</td>\n      <td>[[0.001348969935888754, 0.0004284121076667737,...</td>\n      <td>tic             AAPL      AMGN       AXP      ...</td>\n    </tr>\n    <tr>\n      <th>1</th>\n      <td>2008-12-31</td>\n      <td>57.110001</td>\n      <td>58.220001</td>\n      <td>57.060001</td>\n      <td>41.839527</td>\n      <td>6287200</td>\n      <td>AMGN</td>\n      <td>2</td>\n      <td>0.156757</td>\n      <td>42.707029</td>\n      <td>40.853195</td>\n      <td>51.060628</td>\n      <td>51.523483</td>\n      <td>10.432018</td>\n      <td>41.058034</td>\n      <td>40.603775</td>\n      <td>[[0.001348969935888754, 0.0004284121076667737,...</td>\n      <td>tic             AAPL      AMGN       AXP      ...</td>\n    </tr>\n    <tr>\n      <th>2</th>\n      <td>2008-12-31</td>\n      <td>17.969999</td>\n      <td>18.750000</td>\n      <td>17.910000</td>\n      <td>14.580749</td>\n      <td>9625600</td>\n      <td>AXP</td>\n      <td>2</td>\n      <td>-0.935582</td>\n      <td>18.646868</td>\n      <td>12.660477</td>\n      <td>42.554834</td>\n      <td>-75.437684</td>\n      <td>25.776759</td>\n      <td>15.744065</td>\n      <td>17.616375</td>\n      <td>[[0.001348969935888754, 0.0004284121076667737,...</td>\n      <td>tic             AAPL      AMGN       AXP      ...</td>\n    </tr>\n    <tr>\n      <th>3</th>\n      <td>2008-12-31</td>\n      <td>41.590000</td>\n      <td>43.049999</td>\n      <td>41.500000</td>\n      <td>32.005890</td>\n      <td>5443100</td>\n      <td>BA</td>\n      <td>2</td>\n      <td>-0.279799</td>\n      <td>32.174384</td>\n      <td>28.867835</td>\n      <td>47.440237</td>\n      <td>156.994825</td>\n      <td>5.366299</td>\n      <td>30.327213</td>\n      <td>32.389914</td>\n      <td>[[0.001348969935888754, 0.0004284121076667737,...</td>\n      <td>tic             AAPL      AMGN       AXP      ...</td>\n    </tr>\n    <tr>\n      <th>4</th>\n      <td>2008-12-31</td>\n      <td>43.700001</td>\n      <td>45.099998</td>\n      <td>43.700001</td>\n      <td>29.608664</td>\n      <td>6277400</td>\n      <td>CAT</td>\n      <td>2</td>\n      <td>0.655611</td>\n      <td>30.348089</td>\n      <td>25.455650</td>\n      <td>51.205325</td>\n      <td>98.374219</td>\n      <td>26.331746</td>\n      <td>26.689551</td>\n      <td>26.423593</td>\n      <td>[[0.001348969935888754, 0.0004284121076667737,...</td>\n      <td>tic             AAPL      AMGN       AXP      ...</td>\n    </tr>\n  </tbody>\n</table>\n</div>"
     },
     "execution_count": 6,
     "metadata": {},
     "output_type": "execute_result"
    }
   ],
   "source": [
    "\n",
    "## Add covariance matrix as states\n",
    "# add covariance matrix as states\n",
    "df = df.sort_values(['date', 'tic'], ignore_index=True)\n",
    "df.index = df.date.factorize()[0]\n",
    "\n",
    "cov_list = []\n",
    "return_list = []\n",
    "\n",
    "# look back is one year\n",
    "lookback = 252\n",
    "for i in range(lookback, len(df.index.unique())):\n",
    "    data_lookback = df.loc[i - lookback:i, :]\n",
    "    price_lookback = data_lookback.pivot_table(index='date', columns='tic', values='close')\n",
    "    return_lookback = price_lookback.pct_change().dropna()\n",
    "    return_list.append(return_lookback)\n",
    "\n",
    "    covs = return_lookback.cov().values\n",
    "    cov_list.append(covs)\n",
    "\n",
    "df_cov = pd.DataFrame({'date': df.date.unique()[lookback:], 'cov_list': cov_list, 'return_list': return_list})\n",
    "df = df.merge(df_cov, on='date')\n",
    "df = df.sort_values(['date', 'tic']).reset_index(drop=True)\n",
    "\n",
    "df.shape\n",
    "df.head()\n"
   ],
   "metadata": {
    "collapsed": false,
    "ExecuteTime": {
     "end_time": "2023-11-27T23:52:04.670119200Z",
     "start_time": "2023-11-27T23:51:24.601804500Z"
    }
   },
   "id": "71443e3dcfcc97c9"
  },
  {
   "cell_type": "code",
   "execution_count": 7,
   "outputs": [
    {
     "data": {
      "text/plain": "         date       open       high        low      close     volume   tic  \\\n0  2009-01-02   3.067143   3.251429   3.041429   2.747390  746015200  AAPL   \n0  2009-01-02  58.590000  59.080002  57.750000  42.737900    6547900  AMGN   \n0  2009-01-02  18.570000  19.520000  18.400000  15.193845   10955700   AXP   \n0  2009-01-02  42.799999  45.560001  42.779999  33.941093    7010200    BA   \n0  2009-01-02  44.910000  46.980000  44.709999  31.093395    7117200   CAT   \n\n   day      macd    boll_ub    boll_lb     rsi_30      cci_30      dx_30  \\\n0    4 -0.070153   3.080129   2.452222  45.440189  -32.212959   2.140064   \n0    4  0.232163  42.852624  40.817724  52.756873   92.828091   0.814217   \n0    4 -0.832049  18.463252  12.644441  43.957537  -42.853118  16.335101   \n0    4 -0.002008  32.948626  28.452129  50.822033  272.812762  20.494464   \n0    4  0.833183  30.850186  25.434767  53.661257  129.524659  34.637448   \n\n   close_30_sma  close_60_sma  \\\n0      2.750408      2.862473   \n0     41.122031     40.691922   \n0     15.742755     17.499519   \n0     30.469479     32.344129   \n0     26.926403     26.424175   \n\n                                            cov_list  \\\n0  [[0.0013661513593181544, 0.0004339376246822945...   \n0  [[0.0013661513593181544, 0.0004339376246822945...   \n0  [[0.0013661513593181544, 0.0004339376246822945...   \n0  [[0.0013661513593181544, 0.0004339376246822945...   \n0  [[0.0013661513593181544, 0.0004339376246822945...   \n\n                                         return_list  \n0  tic             AAPL      AMGN       AXP      ...  \n0  tic             AAPL      AMGN       AXP      ...  \n0  tic             AAPL      AMGN       AXP      ...  \n0  tic             AAPL      AMGN       AXP      ...  \n0  tic             AAPL      AMGN       AXP      ...  ",
      "text/html": "<div>\n<style scoped>\n    .dataframe tbody tr th:only-of-type {\n        vertical-align: middle;\n    }\n\n    .dataframe tbody tr th {\n        vertical-align: top;\n    }\n\n    .dataframe thead th {\n        text-align: right;\n    }\n</style>\n<table border=\"1\" class=\"dataframe\">\n  <thead>\n    <tr style=\"text-align: right;\">\n      <th></th>\n      <th>date</th>\n      <th>open</th>\n      <th>high</th>\n      <th>low</th>\n      <th>close</th>\n      <th>volume</th>\n      <th>tic</th>\n      <th>day</th>\n      <th>macd</th>\n      <th>boll_ub</th>\n      <th>boll_lb</th>\n      <th>rsi_30</th>\n      <th>cci_30</th>\n      <th>dx_30</th>\n      <th>close_30_sma</th>\n      <th>close_60_sma</th>\n      <th>cov_list</th>\n      <th>return_list</th>\n    </tr>\n  </thead>\n  <tbody>\n    <tr>\n      <th>0</th>\n      <td>2009-01-02</td>\n      <td>3.067143</td>\n      <td>3.251429</td>\n      <td>3.041429</td>\n      <td>2.747390</td>\n      <td>746015200</td>\n      <td>AAPL</td>\n      <td>4</td>\n      <td>-0.070153</td>\n      <td>3.080129</td>\n      <td>2.452222</td>\n      <td>45.440189</td>\n      <td>-32.212959</td>\n      <td>2.140064</td>\n      <td>2.750408</td>\n      <td>2.862473</td>\n      <td>[[0.0013661513593181544, 0.0004339376246822945...</td>\n      <td>tic             AAPL      AMGN       AXP      ...</td>\n    </tr>\n    <tr>\n      <th>0</th>\n      <td>2009-01-02</td>\n      <td>58.590000</td>\n      <td>59.080002</td>\n      <td>57.750000</td>\n      <td>42.737900</td>\n      <td>6547900</td>\n      <td>AMGN</td>\n      <td>4</td>\n      <td>0.232163</td>\n      <td>42.852624</td>\n      <td>40.817724</td>\n      <td>52.756873</td>\n      <td>92.828091</td>\n      <td>0.814217</td>\n      <td>41.122031</td>\n      <td>40.691922</td>\n      <td>[[0.0013661513593181544, 0.0004339376246822945...</td>\n      <td>tic             AAPL      AMGN       AXP      ...</td>\n    </tr>\n    <tr>\n      <th>0</th>\n      <td>2009-01-02</td>\n      <td>18.570000</td>\n      <td>19.520000</td>\n      <td>18.400000</td>\n      <td>15.193845</td>\n      <td>10955700</td>\n      <td>AXP</td>\n      <td>4</td>\n      <td>-0.832049</td>\n      <td>18.463252</td>\n      <td>12.644441</td>\n      <td>43.957537</td>\n      <td>-42.853118</td>\n      <td>16.335101</td>\n      <td>15.742755</td>\n      <td>17.499519</td>\n      <td>[[0.0013661513593181544, 0.0004339376246822945...</td>\n      <td>tic             AAPL      AMGN       AXP      ...</td>\n    </tr>\n    <tr>\n      <th>0</th>\n      <td>2009-01-02</td>\n      <td>42.799999</td>\n      <td>45.560001</td>\n      <td>42.779999</td>\n      <td>33.941093</td>\n      <td>7010200</td>\n      <td>BA</td>\n      <td>4</td>\n      <td>-0.002008</td>\n      <td>32.948626</td>\n      <td>28.452129</td>\n      <td>50.822033</td>\n      <td>272.812762</td>\n      <td>20.494464</td>\n      <td>30.469479</td>\n      <td>32.344129</td>\n      <td>[[0.0013661513593181544, 0.0004339376246822945...</td>\n      <td>tic             AAPL      AMGN       AXP      ...</td>\n    </tr>\n    <tr>\n      <th>0</th>\n      <td>2009-01-02</td>\n      <td>44.910000</td>\n      <td>46.980000</td>\n      <td>44.709999</td>\n      <td>31.093395</td>\n      <td>7117200</td>\n      <td>CAT</td>\n      <td>4</td>\n      <td>0.833183</td>\n      <td>30.850186</td>\n      <td>25.434767</td>\n      <td>53.661257</td>\n      <td>129.524659</td>\n      <td>34.637448</td>\n      <td>26.926403</td>\n      <td>26.424175</td>\n      <td>[[0.0013661513593181544, 0.0004339376246822945...</td>\n      <td>tic             AAPL      AMGN       AXP      ...</td>\n    </tr>\n  </tbody>\n</table>\n</div>"
     },
     "execution_count": 7,
     "metadata": {},
     "output_type": "execute_result"
    }
   ],
   "source": [
    "## Training data split: 2009-01-01 to 2020-07-01\n",
    "train = data_split(df, '2009-01-01', '2020-07-01')\n",
    "#trade = data_split(df, '2020-01-01', config.END_DATE)\n",
    "train.head()"
   ],
   "metadata": {
    "collapsed": false,
    "ExecuteTime": {
     "end_time": "2023-11-27T23:52:04.942497700Z",
     "start_time": "2023-11-27T23:52:04.670119200Z"
    }
   },
   "id": "83da70d25c48258e"
  },
  {
   "cell_type": "code",
   "execution_count": 8,
   "outputs": [
    {
     "name": "stdout",
     "output_type": "stream",
     "text": [
      "Stock Dimension: 28, State Space: 28\n"
     ]
    }
   ],
   "source": [
    "stock_dimension = len(train.tic.unique())\n",
    "state_space = stock_dimension\n",
    "print(f\"Stock Dimension: {stock_dimension}, State Space: {state_space}\")\n",
    "\n",
    "env_kwargs = {\n",
    "    \"hmax\": 100, \n",
    "    \"initial_amount\": 1000000, \n",
    "    \"transaction_cost_pct\": 0.001, \n",
    "    \"state_space\": state_space, \n",
    "    \"stock_dim\": stock_dimension, \n",
    "    \"tech_indicator_list\": config.INDICATORS, \n",
    "    \"action_space\": stock_dimension, \n",
    "    \"reward_scaling\": 1e-4\n",
    "    \n",
    "}\n",
    "\n",
    "e_train_gym_random = StockPortfolioEnv(df = train, **env_kwargs)\n"
   ],
   "metadata": {
    "collapsed": false,
    "ExecuteTime": {
     "end_time": "2023-11-27T23:52:05.010497200Z",
     "start_time": "2023-11-27T23:52:04.946503300Z"
    }
   },
   "id": "3796b3ffad8bbbfe"
  },
  {
   "cell_type": "code",
   "execution_count": 9,
   "outputs": [],
   "source": [
    "import random\n",
    "def random_agent(env: StockPortfolioEnv):\n",
    "    env.reset()\n",
    "    terminal = False\n",
    "    while not terminal:\n",
    "        action = [0] * len(env.action_space.sample())\n",
    "        action[random.randint(0,  len(env.action_space.sample()) - 1)] = 1\n",
    "        state, reward, terminal, _, _ = env.step(action)\n",
    "    return env"
   ],
   "metadata": {
    "collapsed": false,
    "ExecuteTime": {
     "end_time": "2023-11-27T23:52:05.010497200Z",
     "start_time": "2023-11-27T23:52:04.974482100Z"
    }
   },
   "id": "b022eb8cdd89eb32"
  },
  {
   "cell_type": "code",
   "execution_count": 10,
   "outputs": [
    {
     "name": "stdout",
     "output_type": "stream",
     "text": [
      "=================================\n",
      "begin_total_asset:1000000\n",
      "end_total_asset:6581143.849883328\n",
      "Sharpe:  0.7425012846171369\n",
      "=================================\n"
     ]
    }
   ],
   "source": [
    "env_rand_post_training = random_agent(e_train_gym_random)"
   ],
   "metadata": {
    "collapsed": false,
    "ExecuteTime": {
     "end_time": "2023-11-27T23:52:11.722101400Z",
     "start_time": "2023-11-27T23:52:04.990487100Z"
    }
   },
   "id": "54919c61764fe536"
  },
  {
   "cell_type": "code",
   "execution_count": 11,
   "outputs": [],
   "source": [
    "from agents.single_stock_tabular import sarsa_single_stock"
   ],
   "metadata": {
    "collapsed": false,
    "ExecuteTime": {
     "end_time": "2023-11-27T23:52:11.790098800Z",
     "start_time": "2023-11-27T23:52:11.718113700Z"
    }
   },
   "id": "8d7a3f84495f174b"
  },
  {
   "cell_type": "code",
   "execution_count": 42,
   "outputs": [
    {
     "name": "stderr",
     "output_type": "stream",
     "text": [
      "                                                      \r"
     ]
    },
    {
     "name": "stdout",
     "output_type": "stream",
     "text": [
      "=================================\n",
      "begin_total_asset:1000000\n",
      "end_total_asset:4212775.105744878\n",
      "Sharpe:  0.9164115099514064\n",
      "=================================\n"
     ]
    },
    {
     "name": "stderr",
     "output_type": "stream",
     "text": [
      "Episode:  17%|█▋        | 1/6 [00:10<00:52, 10.52s/it]"
     ]
    },
    {
     "name": "stdout",
     "output_type": "stream",
     "text": [
      "=================================\n",
      "begin_total_asset:1000000\n",
      "end_total_asset:5999391.378841401\n",
      "Sharpe:  0.8126398668864684\n",
      "=================================\n"
     ]
    },
    {
     "name": "stderr",
     "output_type": "stream",
     "text": [
      "Episode:  33%|███▎      | 2/6 [00:20<00:41, 10.48s/it]"
     ]
    },
    {
     "name": "stdout",
     "output_type": "stream",
     "text": [
      "=================================\n",
      "begin_total_asset:1000000\n",
      "end_total_asset:5797592.406629567\n",
      "Sharpe:  0.9963880200527166\n",
      "=================================\n"
     ]
    },
    {
     "name": "stderr",
     "output_type": "stream",
     "text": [
      "Episode:  50%|█████     | 3/6 [00:31<00:31, 10.48s/it]"
     ]
    },
    {
     "name": "stdout",
     "output_type": "stream",
     "text": [
      "=================================\n",
      "begin_total_asset:1000000\n",
      "end_total_asset:12958750.598497951\n",
      "Sharpe:  1.2583529574833041\n",
      "=================================\n"
     ]
    },
    {
     "name": "stderr",
     "output_type": "stream",
     "text": [
      "Episode:  67%|██████▋   | 4/6 [00:42<00:21, 10.58s/it]"
     ]
    },
    {
     "name": "stdout",
     "output_type": "stream",
     "text": [
      "=================================\n",
      "begin_total_asset:1000000\n",
      "end_total_asset:11965933.199993126\n",
      "Sharpe:  1.217338490095002\n",
      "=================================\n"
     ]
    },
    {
     "name": "stderr",
     "output_type": "stream",
     "text": [
      "Episode:  83%|████████▎ | 5/6 [00:52<00:10, 10.58s/it]"
     ]
    },
    {
     "name": "stdout",
     "output_type": "stream",
     "text": [
      "=================================\n",
      "begin_total_asset:1000000\n",
      "end_total_asset:4390355.131794978\n",
      "Sharpe:  0.7539299787735511\n",
      "=================================\n"
     ]
    },
    {
     "name": "stderr",
     "output_type": "stream",
     "text": [
      "                                                      \r"
     ]
    },
    {
     "name": "stdout",
     "output_type": "stream",
     "text": [
      "=================================\n",
      "begin_total_asset:1000000\n",
      "end_total_asset:4016262.0689071477\n",
      "Sharpe:  0.9739134920434979\n",
      "=================================\n"
     ]
    },
    {
     "name": "stderr",
     "output_type": "stream",
     "text": [
      "Episode:   9%|▉         | 1/11 [00:10<01:46, 10.63s/it]"
     ]
    },
    {
     "name": "stdout",
     "output_type": "stream",
     "text": [
      "=================================\n",
      "begin_total_asset:1000000\n",
      "end_total_asset:2891654.893398825\n",
      "Sharpe:  0.6710930709738285\n",
      "=================================\n"
     ]
    },
    {
     "name": "stderr",
     "output_type": "stream",
     "text": [
      "Episode:  18%|█▊        | 2/11 [00:21<01:34, 10.50s/it]"
     ]
    },
    {
     "name": "stdout",
     "output_type": "stream",
     "text": [
      "=================================\n",
      "begin_total_asset:1000000\n",
      "end_total_asset:8615119.231724177\n",
      "Sharpe:  1.071881955627904\n",
      "=================================\n"
     ]
    },
    {
     "name": "stderr",
     "output_type": "stream",
     "text": [
      "Episode:  27%|██▋       | 3/11 [00:31<01:22, 10.29s/it]"
     ]
    },
    {
     "name": "stdout",
     "output_type": "stream",
     "text": [
      "=================================\n",
      "begin_total_asset:1000000\n",
      "end_total_asset:5195437.572551234\n",
      "Sharpe:  0.8239374647882466\n",
      "=================================\n"
     ]
    },
    {
     "name": "stderr",
     "output_type": "stream",
     "text": [
      "Episode:  36%|███▋      | 4/11 [00:41<01:11, 10.23s/it]"
     ]
    },
    {
     "name": "stdout",
     "output_type": "stream",
     "text": [
      "=================================\n",
      "begin_total_asset:1000000\n",
      "end_total_asset:5000589.00708292\n",
      "Sharpe:  0.9874355371550684\n",
      "=================================\n"
     ]
    },
    {
     "name": "stderr",
     "output_type": "stream",
     "text": [
      "Episode:  45%|████▌     | 5/11 [00:51<01:00, 10.11s/it]"
     ]
    },
    {
     "name": "stdout",
     "output_type": "stream",
     "text": [
      "=================================\n",
      "begin_total_asset:1000000\n",
      "end_total_asset:22683744.98393506\n",
      "Sharpe:  1.599393465613695\n",
      "=================================\n"
     ]
    },
    {
     "name": "stderr",
     "output_type": "stream",
     "text": [
      "Episode:  55%|█████▍    | 6/11 [01:01<00:50, 10.04s/it]"
     ]
    },
    {
     "name": "stdout",
     "output_type": "stream",
     "text": [
      "=================================\n",
      "begin_total_asset:1000000\n",
      "end_total_asset:9263024.864975497\n",
      "Sharpe:  1.1827527003070208\n",
      "=================================\n"
     ]
    },
    {
     "name": "stderr",
     "output_type": "stream",
     "text": [
      "Episode:  64%|██████▎   | 7/11 [01:10<00:39,  9.97s/it]"
     ]
    },
    {
     "name": "stdout",
     "output_type": "stream",
     "text": [
      "=================================\n",
      "begin_total_asset:1000000\n",
      "end_total_asset:6579814.157693506\n",
      "Sharpe:  1.0505244492316415\n",
      "=================================\n"
     ]
    },
    {
     "name": "stderr",
     "output_type": "stream",
     "text": [
      "Episode:  73%|███████▎  | 8/11 [01:20<00:30, 10.00s/it]"
     ]
    },
    {
     "name": "stdout",
     "output_type": "stream",
     "text": [
      "=================================\n",
      "begin_total_asset:1000000\n",
      "end_total_asset:3451688.19477628\n",
      "Sharpe:  0.9708718556741667\n",
      "=================================\n"
     ]
    },
    {
     "name": "stderr",
     "output_type": "stream",
     "text": [
      "Episode:  82%|████████▏ | 9/11 [01:30<00:19,  9.99s/it]"
     ]
    },
    {
     "name": "stdout",
     "output_type": "stream",
     "text": [
      "=================================\n",
      "begin_total_asset:1000000\n",
      "end_total_asset:3227465.0330006215\n",
      "Sharpe:  0.65647438987161\n",
      "=================================\n"
     ]
    },
    {
     "name": "stderr",
     "output_type": "stream",
     "text": [
      "Episode:  91%|█████████ | 10/11 [01:41<00:10, 10.05s/it]"
     ]
    },
    {
     "name": "stdout",
     "output_type": "stream",
     "text": [
      "=================================\n",
      "begin_total_asset:1000000\n",
      "end_total_asset:4087887.3087572595\n",
      "Sharpe:  0.727664172065165\n",
      "=================================\n"
     ]
    },
    {
     "name": "stderr",
     "output_type": "stream",
     "text": [
      "                                                        \r"
     ]
    },
    {
     "name": "stdout",
     "output_type": "stream",
     "text": [
      "=================================\n",
      "begin_total_asset:1000000\n",
      "end_total_asset:10897165.526574634\n",
      "Sharpe:  1.1246288031902452\n",
      "=================================\n"
     ]
    },
    {
     "name": "stderr",
     "output_type": "stream",
     "text": [
      "Episode:   6%|▋         | 1/16 [00:09<02:29,  9.98s/it]"
     ]
    },
    {
     "name": "stdout",
     "output_type": "stream",
     "text": [
      "=================================\n",
      "begin_total_asset:1000000\n",
      "end_total_asset:4943391.026570566\n",
      "Sharpe:  0.8306127980021335\n",
      "=================================\n"
     ]
    },
    {
     "name": "stderr",
     "output_type": "stream",
     "text": [
      "Episode:  12%|█▎        | 2/16 [00:20<02:20, 10.06s/it]"
     ]
    },
    {
     "name": "stdout",
     "output_type": "stream",
     "text": [
      "=================================\n",
      "begin_total_asset:1000000\n",
      "end_total_asset:8272607.77023296\n",
      "Sharpe:  1.3403032562739934\n",
      "=================================\n"
     ]
    },
    {
     "name": "stderr",
     "output_type": "stream",
     "text": [
      "Episode:  19%|█▉        | 3/16 [00:30<02:10, 10.02s/it]"
     ]
    },
    {
     "name": "stdout",
     "output_type": "stream",
     "text": [
      "=================================\n",
      "begin_total_asset:1000000\n",
      "end_total_asset:2771540.0542463656\n",
      "Sharpe:  0.6040994501881886\n",
      "=================================\n"
     ]
    },
    {
     "name": "stderr",
     "output_type": "stream",
     "text": [
      "Episode:  25%|██▌       | 4/16 [00:39<01:59,  9.98s/it]"
     ]
    },
    {
     "name": "stdout",
     "output_type": "stream",
     "text": [
      "=================================\n",
      "begin_total_asset:1000000\n",
      "end_total_asset:3037039.0605987194\n",
      "Sharpe:  0.6951918924252803\n",
      "=================================\n"
     ]
    },
    {
     "name": "stderr",
     "output_type": "stream",
     "text": [
      "Episode:  31%|███▏      | 5/16 [00:50<01:50, 10.03s/it]"
     ]
    },
    {
     "name": "stdout",
     "output_type": "stream",
     "text": [
      "=================================\n",
      "begin_total_asset:1000000\n",
      "end_total_asset:5007245.86615637\n",
      "Sharpe:  0.8359145975496669\n",
      "=================================\n"
     ]
    },
    {
     "name": "stderr",
     "output_type": "stream",
     "text": [
      "Episode:  38%|███▊      | 6/16 [01:00<01:41, 10.13s/it]"
     ]
    },
    {
     "name": "stdout",
     "output_type": "stream",
     "text": [
      "=================================\n",
      "begin_total_asset:1000000\n",
      "end_total_asset:5169270.84863519\n",
      "Sharpe:  0.897308381434091\n",
      "=================================\n"
     ]
    },
    {
     "name": "stderr",
     "output_type": "stream",
     "text": [
      "Episode:  44%|████▍     | 7/16 [01:10<01:31, 10.11s/it]"
     ]
    },
    {
     "name": "stdout",
     "output_type": "stream",
     "text": [
      "=================================\n",
      "begin_total_asset:1000000\n",
      "end_total_asset:4952436.543762432\n",
      "Sharpe:  0.8291356764569517\n",
      "=================================\n"
     ]
    },
    {
     "name": "stderr",
     "output_type": "stream",
     "text": [
      "Episode:  50%|█████     | 8/16 [01:20<01:21, 10.13s/it]"
     ]
    },
    {
     "name": "stdout",
     "output_type": "stream",
     "text": [
      "=================================\n",
      "begin_total_asset:1000000\n",
      "end_total_asset:8698033.514224773\n",
      "Sharpe:  1.08685657050412\n",
      "=================================\n"
     ]
    },
    {
     "name": "stderr",
     "output_type": "stream",
     "text": [
      "Episode:  56%|█████▋    | 9/16 [01:30<01:10, 10.12s/it]"
     ]
    },
    {
     "name": "stdout",
     "output_type": "stream",
     "text": [
      "=================================\n",
      "begin_total_asset:1000000\n",
      "end_total_asset:6408662.68237694\n",
      "Sharpe:  0.9835090922655665\n",
      "=================================\n"
     ]
    },
    {
     "name": "stderr",
     "output_type": "stream",
     "text": [
      "Episode:  62%|██████▎   | 10/16 [01:40<01:00, 10.08s/it]"
     ]
    },
    {
     "name": "stdout",
     "output_type": "stream",
     "text": [
      "=================================\n",
      "begin_total_asset:1000000\n",
      "end_total_asset:4667889.066105884\n",
      "Sharpe:  0.7738329272629423\n",
      "=================================\n"
     ]
    },
    {
     "name": "stderr",
     "output_type": "stream",
     "text": [
      "Episode:  69%|██████▉   | 11/16 [01:50<00:50, 10.02s/it]"
     ]
    },
    {
     "name": "stdout",
     "output_type": "stream",
     "text": [
      "=================================\n",
      "begin_total_asset:1000000\n",
      "end_total_asset:6677702.046333626\n",
      "Sharpe:  1.2006947171460203\n",
      "=================================\n"
     ]
    },
    {
     "name": "stderr",
     "output_type": "stream",
     "text": [
      "Episode:  75%|███████▌  | 12/16 [02:00<00:39,  9.99s/it]"
     ]
    },
    {
     "name": "stdout",
     "output_type": "stream",
     "text": [
      "=================================\n",
      "begin_total_asset:1000000\n",
      "end_total_asset:6001556.518223641\n",
      "Sharpe:  1.2321939208673724\n",
      "=================================\n"
     ]
    },
    {
     "name": "stderr",
     "output_type": "stream",
     "text": [
      "Episode:  81%|████████▏ | 13/16 [02:10<00:29,  9.97s/it]"
     ]
    },
    {
     "name": "stdout",
     "output_type": "stream",
     "text": [
      "=================================\n",
      "begin_total_asset:1000000\n",
      "end_total_asset:3433203.724211473\n",
      "Sharpe:  0.6865533594150962\n",
      "=================================\n"
     ]
    },
    {
     "name": "stderr",
     "output_type": "stream",
     "text": [
      "Episode:  88%|████████▊ | 14/16 [02:20<00:19,  9.95s/it]"
     ]
    },
    {
     "name": "stdout",
     "output_type": "stream",
     "text": [
      "=================================\n",
      "begin_total_asset:1000000\n",
      "end_total_asset:9635928.08796183\n",
      "Sharpe:  1.0658538705463598\n",
      "=================================\n"
     ]
    },
    {
     "name": "stderr",
     "output_type": "stream",
     "text": [
      "Episode:  94%|█████████▍| 15/16 [02:30<00:09,  9.94s/it]"
     ]
    },
    {
     "name": "stdout",
     "output_type": "stream",
     "text": [
      "=================================\n",
      "begin_total_asset:1000000\n",
      "end_total_asset:3545638.2978755604\n",
      "Sharpe:  0.8624850026921544\n",
      "=================================\n"
     ]
    },
    {
     "name": "stderr",
     "output_type": "stream",
     "text": [
      "                                                        \r"
     ]
    },
    {
     "name": "stdout",
     "output_type": "stream",
     "text": [
      "=================================\n",
      "begin_total_asset:1000000\n",
      "end_total_asset:4064971.08147405\n",
      "Sharpe:  0.9009028752352837\n",
      "=================================\n"
     ]
    },
    {
     "name": "stderr",
     "output_type": "stream",
     "text": [
      "Episode:   5%|▍         | 1/21 [00:10<03:20, 10.04s/it]"
     ]
    },
    {
     "name": "stdout",
     "output_type": "stream",
     "text": [
      "=================================\n",
      "begin_total_asset:1000000\n",
      "end_total_asset:7552942.012728262\n",
      "Sharpe:  0.9816138405255956\n",
      "=================================\n"
     ]
    },
    {
     "name": "stderr",
     "output_type": "stream",
     "text": [
      "Episode:  10%|▉         | 2/21 [00:19<03:09,  9.99s/it]"
     ]
    },
    {
     "name": "stdout",
     "output_type": "stream",
     "text": [
      "=================================\n",
      "begin_total_asset:1000000\n",
      "end_total_asset:3412030.3061414002\n",
      "Sharpe:  0.7495155084925577\n",
      "=================================\n"
     ]
    },
    {
     "name": "stderr",
     "output_type": "stream",
     "text": [
      "Episode:  14%|█▍        | 3/21 [00:29<02:59,  9.96s/it]"
     ]
    },
    {
     "name": "stdout",
     "output_type": "stream",
     "text": [
      "=================================\n",
      "begin_total_asset:1000000\n",
      "end_total_asset:4827410.3883052915\n",
      "Sharpe:  0.8398243371369839\n",
      "=================================\n"
     ]
    },
    {
     "name": "stderr",
     "output_type": "stream",
     "text": [
      "Episode:  19%|█▉        | 4/21 [00:40<02:50, 10.05s/it]"
     ]
    },
    {
     "name": "stdout",
     "output_type": "stream",
     "text": [
      "=================================\n",
      "begin_total_asset:1000000\n",
      "end_total_asset:4102240.4764090474\n",
      "Sharpe:  0.8428383046672323\n",
      "=================================\n"
     ]
    },
    {
     "name": "stderr",
     "output_type": "stream",
     "text": [
      "Episode:  24%|██▍       | 5/21 [00:50<02:39, 10.00s/it]"
     ]
    },
    {
     "name": "stdout",
     "output_type": "stream",
     "text": [
      "=================================\n",
      "begin_total_asset:1000000\n",
      "end_total_asset:2224669.788785533\n",
      "Sharpe:  0.5452091557075118\n",
      "=================================\n"
     ]
    },
    {
     "name": "stderr",
     "output_type": "stream",
     "text": [
      "Episode:  29%|██▊       | 6/21 [00:59<02:29,  9.96s/it]"
     ]
    },
    {
     "name": "stdout",
     "output_type": "stream",
     "text": [
      "=================================\n",
      "begin_total_asset:1000000\n",
      "end_total_asset:5349226.9607168455\n",
      "Sharpe:  0.8968388885649665\n",
      "=================================\n"
     ]
    },
    {
     "name": "stderr",
     "output_type": "stream",
     "text": [
      "Episode:  33%|███▎      | 7/21 [01:09<02:19,  9.94s/it]"
     ]
    },
    {
     "name": "stdout",
     "output_type": "stream",
     "text": [
      "=================================\n",
      "begin_total_asset:1000000\n",
      "end_total_asset:7352145.278148162\n",
      "Sharpe:  0.9129811772742242\n",
      "=================================\n"
     ]
    },
    {
     "name": "stderr",
     "output_type": "stream",
     "text": [
      "Episode:  38%|███▊      | 8/21 [01:19<02:09,  9.97s/it]"
     ]
    },
    {
     "name": "stdout",
     "output_type": "stream",
     "text": [
      "=================================\n",
      "begin_total_asset:1000000\n",
      "end_total_asset:3214892.028785483\n",
      "Sharpe:  0.6505258719832394\n",
      "=================================\n"
     ]
    },
    {
     "name": "stderr",
     "output_type": "stream",
     "text": [
      "Episode:  43%|████▎     | 9/21 [01:29<01:59,  9.98s/it]"
     ]
    },
    {
     "name": "stdout",
     "output_type": "stream",
     "text": [
      "=================================\n",
      "begin_total_asset:1000000\n",
      "end_total_asset:12672630.187978769\n",
      "Sharpe:  1.0550749247170923\n",
      "=================================\n"
     ]
    },
    {
     "name": "stderr",
     "output_type": "stream",
     "text": [
      "Episode:  48%|████▊     | 10/21 [01:39<01:49,  9.97s/it]"
     ]
    },
    {
     "name": "stdout",
     "output_type": "stream",
     "text": [
      "=================================\n",
      "begin_total_asset:1000000\n",
      "end_total_asset:2261413.184149613\n",
      "Sharpe:  0.4770111703818515\n",
      "=================================\n"
     ]
    },
    {
     "name": "stderr",
     "output_type": "stream",
     "text": [
      "Episode:  52%|█████▏    | 11/21 [01:49<01:39,  9.95s/it]"
     ]
    },
    {
     "name": "stdout",
     "output_type": "stream",
     "text": [
      "=================================\n",
      "begin_total_asset:1000000\n",
      "end_total_asset:3873766.7518413556\n",
      "Sharpe:  0.68110771349385\n",
      "=================================\n"
     ]
    },
    {
     "name": "stderr",
     "output_type": "stream",
     "text": [
      "Episode:  57%|█████▋    | 12/21 [01:59<01:29,  9.96s/it]"
     ]
    },
    {
     "name": "stdout",
     "output_type": "stream",
     "text": [
      "=================================\n",
      "begin_total_asset:1000000\n",
      "end_total_asset:5108054.406836082\n",
      "Sharpe:  0.8711954036497809\n",
      "=================================\n"
     ]
    },
    {
     "name": "stderr",
     "output_type": "stream",
     "text": [
      "Episode:  62%|██████▏   | 13/21 [02:09<01:19,  9.95s/it]"
     ]
    },
    {
     "name": "stdout",
     "output_type": "stream",
     "text": [
      "=================================\n",
      "begin_total_asset:1000000\n",
      "end_total_asset:4584034.373646309\n",
      "Sharpe:  0.796800196148181\n",
      "=================================\n"
     ]
    },
    {
     "name": "stderr",
     "output_type": "stream",
     "text": [
      "Episode:  67%|██████▋   | 14/21 [02:19<01:09,  9.95s/it]"
     ]
    },
    {
     "name": "stdout",
     "output_type": "stream",
     "text": [
      "=================================\n",
      "begin_total_asset:1000000\n",
      "end_total_asset:3541251.858137856\n",
      "Sharpe:  0.8431433770174671\n",
      "=================================\n"
     ]
    },
    {
     "name": "stderr",
     "output_type": "stream",
     "text": [
      "Episode:  71%|███████▏  | 15/21 [02:29<00:59,  9.97s/it]"
     ]
    },
    {
     "name": "stdout",
     "output_type": "stream",
     "text": [
      "=================================\n",
      "begin_total_asset:1000000\n",
      "end_total_asset:8014012.675876132\n",
      "Sharpe:  0.9769942673289477\n",
      "=================================\n"
     ]
    },
    {
     "name": "stderr",
     "output_type": "stream",
     "text": [
      "Episode:  76%|███████▌  | 16/21 [02:39<00:49, 10.00s/it]"
     ]
    },
    {
     "name": "stdout",
     "output_type": "stream",
     "text": [
      "=================================\n",
      "begin_total_asset:1000000\n",
      "end_total_asset:7247718.403559127\n",
      "Sharpe:  0.8862574944982119\n",
      "=================================\n"
     ]
    },
    {
     "name": "stderr",
     "output_type": "stream",
     "text": [
      "Episode:  81%|████████  | 17/21 [02:50<00:40, 10.14s/it]"
     ]
    },
    {
     "name": "stdout",
     "output_type": "stream",
     "text": [
      "=================================\n",
      "begin_total_asset:1000000\n",
      "end_total_asset:6164421.064050828\n",
      "Sharpe:  1.0480736922188276\n",
      "=================================\n"
     ]
    },
    {
     "name": "stderr",
     "output_type": "stream",
     "text": [
      "Episode:  86%|████████▌ | 18/21 [03:00<00:30, 10.07s/it]"
     ]
    },
    {
     "name": "stdout",
     "output_type": "stream",
     "text": [
      "=================================\n",
      "begin_total_asset:1000000\n",
      "end_total_asset:8168100.817764792\n",
      "Sharpe:  0.9704999714628594\n",
      "=================================\n"
     ]
    },
    {
     "name": "stderr",
     "output_type": "stream",
     "text": [
      "Episode:  90%|█████████ | 19/21 [03:09<00:20, 10.03s/it]"
     ]
    },
    {
     "name": "stdout",
     "output_type": "stream",
     "text": [
      "=================================\n",
      "begin_total_asset:1000000\n",
      "end_total_asset:7728713.698863747\n",
      "Sharpe:  1.0121902701129872\n",
      "=================================\n"
     ]
    },
    {
     "name": "stderr",
     "output_type": "stream",
     "text": [
      "Episode:  95%|█████████▌| 20/21 [03:19<00:10, 10.02s/it]"
     ]
    },
    {
     "name": "stdout",
     "output_type": "stream",
     "text": [
      "=================================\n",
      "begin_total_asset:1000000\n",
      "end_total_asset:3611063.868813371\n",
      "Sharpe:  0.7675953534537127\n",
      "=================================\n"
     ]
    },
    {
     "name": "stderr",
     "output_type": "stream",
     "text": [
      "                                                        \r"
     ]
    },
    {
     "name": "stdout",
     "output_type": "stream",
     "text": [
      "=================================\n",
      "begin_total_asset:1000000\n",
      "end_total_asset:9898894.426262695\n",
      "Sharpe:  1.0843995184265938\n",
      "=================================\n"
     ]
    },
    {
     "name": "stderr",
     "output_type": "stream",
     "text": [
      "Episode:   4%|▍         | 1/26 [00:10<04:12, 10.10s/it]"
     ]
    },
    {
     "name": "stdout",
     "output_type": "stream",
     "text": [
      "=================================\n",
      "begin_total_asset:1000000\n",
      "end_total_asset:8071188.110526327\n",
      "Sharpe:  1.0724242277195728\n",
      "=================================\n"
     ]
    },
    {
     "name": "stderr",
     "output_type": "stream",
     "text": [
      "Episode:   8%|▊         | 2/26 [00:20<03:59,  9.99s/it]"
     ]
    },
    {
     "name": "stdout",
     "output_type": "stream",
     "text": [
      "=================================\n",
      "begin_total_asset:1000000\n",
      "end_total_asset:10307257.55273766\n",
      "Sharpe:  1.3181683620730522\n",
      "=================================\n"
     ]
    },
    {
     "name": "stderr",
     "output_type": "stream",
     "text": [
      "Episode:  12%|█▏        | 3/26 [00:29<03:49,  9.97s/it]"
     ]
    },
    {
     "name": "stdout",
     "output_type": "stream",
     "text": [
      "=================================\n",
      "begin_total_asset:1000000\n",
      "end_total_asset:2409002.747864904\n",
      "Sharpe:  0.635130243547782\n",
      "=================================\n"
     ]
    },
    {
     "name": "stderr",
     "output_type": "stream",
     "text": [
      "Episode:  15%|█▌        | 4/26 [00:39<03:38,  9.93s/it]"
     ]
    },
    {
     "name": "stdout",
     "output_type": "stream",
     "text": [
      "=================================\n",
      "begin_total_asset:1000000\n",
      "end_total_asset:3192810.2248083\n",
      "Sharpe:  0.6962065778615707\n",
      "=================================\n"
     ]
    },
    {
     "name": "stderr",
     "output_type": "stream",
     "text": [
      "Episode:  19%|█▉        | 5/26 [00:49<03:28,  9.95s/it]"
     ]
    },
    {
     "name": "stdout",
     "output_type": "stream",
     "text": [
      "=================================\n",
      "begin_total_asset:1000000\n",
      "end_total_asset:5060759.301820569\n",
      "Sharpe:  1.0267739768097288\n",
      "=================================\n"
     ]
    },
    {
     "name": "stderr",
     "output_type": "stream",
     "text": [
      "Episode:  23%|██▎       | 6/26 [00:59<03:19,  9.97s/it]"
     ]
    },
    {
     "name": "stdout",
     "output_type": "stream",
     "text": [
      "=================================\n",
      "begin_total_asset:1000000\n",
      "end_total_asset:3312837.9963259534\n",
      "Sharpe:  0.6837042036178437\n",
      "=================================\n"
     ]
    },
    {
     "name": "stderr",
     "output_type": "stream",
     "text": [
      "Episode:  27%|██▋       | 7/26 [01:09<03:09,  9.98s/it]"
     ]
    },
    {
     "name": "stdout",
     "output_type": "stream",
     "text": [
      "=================================\n",
      "begin_total_asset:1000000\n",
      "end_total_asset:3053425.803733189\n",
      "Sharpe:  0.8069195664875038\n",
      "=================================\n"
     ]
    },
    {
     "name": "stderr",
     "output_type": "stream",
     "text": [
      "Episode:  31%|███       | 8/26 [01:19<02:59, 10.00s/it]"
     ]
    },
    {
     "name": "stdout",
     "output_type": "stream",
     "text": [
      "=================================\n",
      "begin_total_asset:1000000\n",
      "end_total_asset:2310625.40306071\n",
      "Sharpe:  0.6925947782154196\n",
      "=================================\n"
     ]
    },
    {
     "name": "stderr",
     "output_type": "stream",
     "text": [
      "Episode:  35%|███▍      | 9/26 [01:29<02:49,  9.99s/it]"
     ]
    },
    {
     "name": "stdout",
     "output_type": "stream",
     "text": [
      "=================================\n",
      "begin_total_asset:1000000\n",
      "end_total_asset:2177272.366627304\n",
      "Sharpe:  0.5678497149178257\n",
      "=================================\n"
     ]
    },
    {
     "name": "stderr",
     "output_type": "stream",
     "text": [
      "Episode:  38%|███▊      | 10/26 [01:40<02:40, 10.05s/it]"
     ]
    },
    {
     "name": "stdout",
     "output_type": "stream",
     "text": [
      "=================================\n",
      "begin_total_asset:1000000\n",
      "end_total_asset:5568831.126002482\n",
      "Sharpe:  0.7899368842035904\n",
      "=================================\n"
     ]
    },
    {
     "name": "stderr",
     "output_type": "stream",
     "text": [
      "Episode:  42%|████▏     | 11/26 [01:49<02:30, 10.03s/it]"
     ]
    },
    {
     "name": "stdout",
     "output_type": "stream",
     "text": [
      "=================================\n",
      "begin_total_asset:1000000\n",
      "end_total_asset:7324647.332895582\n",
      "Sharpe:  1.040577204987154\n",
      "=================================\n"
     ]
    },
    {
     "name": "stderr",
     "output_type": "stream",
     "text": [
      "Episode:  46%|████▌     | 12/26 [01:59<02:20, 10.02s/it]"
     ]
    },
    {
     "name": "stdout",
     "output_type": "stream",
     "text": [
      "=================================\n",
      "begin_total_asset:1000000\n",
      "end_total_asset:9521716.995282324\n",
      "Sharpe:  1.1105251267978344\n",
      "=================================\n"
     ]
    },
    {
     "name": "stderr",
     "output_type": "stream",
     "text": [
      "Episode:  50%|█████     | 13/26 [02:09<02:09, 10.00s/it]"
     ]
    },
    {
     "name": "stdout",
     "output_type": "stream",
     "text": [
      "=================================\n",
      "begin_total_asset:1000000\n",
      "end_total_asset:5494309.854288904\n",
      "Sharpe:  0.7958790307247744\n",
      "=================================\n"
     ]
    },
    {
     "name": "stderr",
     "output_type": "stream",
     "text": [
      "Episode:  54%|█████▍    | 14/26 [02:19<01:59,  9.96s/it]"
     ]
    },
    {
     "name": "stdout",
     "output_type": "stream",
     "text": [
      "=================================\n",
      "begin_total_asset:1000000\n",
      "end_total_asset:6492311.9333641445\n",
      "Sharpe:  1.0233099260863703\n",
      "=================================\n"
     ]
    },
    {
     "name": "stderr",
     "output_type": "stream",
     "text": [
      "Episode:  58%|█████▊    | 15/26 [02:29<01:49,  9.96s/it]"
     ]
    },
    {
     "name": "stdout",
     "output_type": "stream",
     "text": [
      "=================================\n",
      "begin_total_asset:1000000\n",
      "end_total_asset:10408484.820405416\n",
      "Sharpe:  1.0864632772734766\n",
      "=================================\n"
     ]
    },
    {
     "name": "stderr",
     "output_type": "stream",
     "text": [
      "Episode:  62%|██████▏   | 16/26 [02:39<01:39,  9.97s/it]"
     ]
    },
    {
     "name": "stdout",
     "output_type": "stream",
     "text": [
      "=================================\n",
      "begin_total_asset:1000000\n",
      "end_total_asset:2990276.4427250405\n",
      "Sharpe:  0.6200291017668962\n",
      "=================================\n"
     ]
    },
    {
     "name": "stderr",
     "output_type": "stream",
     "text": [
      "Episode:  65%|██████▌   | 17/26 [02:49<01:29,  9.97s/it]"
     ]
    },
    {
     "name": "stdout",
     "output_type": "stream",
     "text": [
      "=================================\n",
      "begin_total_asset:1000000\n",
      "end_total_asset:2872157.275674596\n",
      "Sharpe:  0.676980546659482\n",
      "=================================\n"
     ]
    },
    {
     "name": "stderr",
     "output_type": "stream",
     "text": [
      "Episode:  69%|██████▉   | 18/26 [02:59<01:19,  9.97s/it]"
     ]
    },
    {
     "name": "stdout",
     "output_type": "stream",
     "text": [
      "=================================\n",
      "begin_total_asset:1000000\n",
      "end_total_asset:4332495.984755821\n",
      "Sharpe:  0.7997743123998621\n",
      "=================================\n"
     ]
    },
    {
     "name": "stderr",
     "output_type": "stream",
     "text": [
      "Episode:  73%|███████▎  | 19/26 [03:09<01:09,  9.99s/it]"
     ]
    },
    {
     "name": "stdout",
     "output_type": "stream",
     "text": [
      "=================================\n",
      "begin_total_asset:1000000\n",
      "end_total_asset:11064445.054472001\n",
      "Sharpe:  1.4482771687524156\n",
      "=================================\n"
     ]
    },
    {
     "name": "stderr",
     "output_type": "stream",
     "text": [
      "Episode:  77%|███████▋  | 20/26 [03:19<00:59,  9.99s/it]"
     ]
    },
    {
     "name": "stdout",
     "output_type": "stream",
     "text": [
      "=================================\n",
      "begin_total_asset:1000000\n",
      "end_total_asset:7083320.475633036\n",
      "Sharpe:  1.2263174437234967\n",
      "=================================\n"
     ]
    },
    {
     "name": "stderr",
     "output_type": "stream",
     "text": [
      "Episode:  81%|████████  | 21/26 [03:29<00:50, 10.01s/it]"
     ]
    },
    {
     "name": "stdout",
     "output_type": "stream",
     "text": [
      "=================================\n",
      "begin_total_asset:1000000\n",
      "end_total_asset:7632732.144649921\n",
      "Sharpe:  1.1356561505276197\n",
      "=================================\n"
     ]
    },
    {
     "name": "stderr",
     "output_type": "stream",
     "text": [
      "Episode:  85%|████████▍ | 22/26 [03:39<00:39,  9.99s/it]"
     ]
    },
    {
     "name": "stdout",
     "output_type": "stream",
     "text": [
      "=================================\n",
      "begin_total_asset:1000000\n",
      "end_total_asset:3437921.0683553247\n",
      "Sharpe:  0.7594574133333631\n",
      "=================================\n"
     ]
    },
    {
     "name": "stderr",
     "output_type": "stream",
     "text": [
      "Episode:  88%|████████▊ | 23/26 [03:49<00:29,  9.98s/it]"
     ]
    },
    {
     "name": "stdout",
     "output_type": "stream",
     "text": [
      "=================================\n",
      "begin_total_asset:1000000\n",
      "end_total_asset:2860819.9266255894\n",
      "Sharpe:  0.6231006738710293\n",
      "=================================\n"
     ]
    },
    {
     "name": "stderr",
     "output_type": "stream",
     "text": [
      "Episode:  92%|█████████▏| 24/26 [03:59<00:20, 10.02s/it]"
     ]
    },
    {
     "name": "stdout",
     "output_type": "stream",
     "text": [
      "=================================\n",
      "begin_total_asset:1000000\n",
      "end_total_asset:5937386.60521913\n",
      "Sharpe:  0.8106253582487549\n",
      "=================================\n"
     ]
    },
    {
     "name": "stderr",
     "output_type": "stream",
     "text": [
      "Episode:  96%|█████████▌| 25/26 [04:10<00:10, 10.16s/it]"
     ]
    },
    {
     "name": "stdout",
     "output_type": "stream",
     "text": [
      "=================================\n",
      "begin_total_asset:1000000\n",
      "end_total_asset:6069482.320320904\n",
      "Sharpe:  1.3048473544150363\n",
      "=================================\n"
     ]
    },
    {
     "name": "stderr",
     "output_type": "stream",
     "text": [
      "                                                        "
     ]
    },
    {
     "name": "stdout",
     "output_type": "stream",
     "text": [
      "=================================\n",
      "begin_total_asset:1000000\n",
      "end_total_asset:6174138.85660349\n",
      "Sharpe:  1.0005539260812188\n",
      "=================================\n"
     ]
    },
    {
     "name": "stderr",
     "output_type": "stream",
     "text": [
      "Episode:   3%|▎         | 1/31 [00:10<05:03, 10.12s/it]"
     ]
    },
    {
     "name": "stdout",
     "output_type": "stream",
     "text": [
      "=================================\n",
      "begin_total_asset:1000000\n",
      "end_total_asset:3935056.0296212346\n",
      "Sharpe:  0.7479694309393152\n",
      "=================================\n"
     ]
    },
    {
     "name": "stderr",
     "output_type": "stream",
     "text": [
      "Episode:   6%|▋         | 2/31 [00:20<04:52, 10.07s/it]"
     ]
    },
    {
     "name": "stdout",
     "output_type": "stream",
     "text": [
      "=================================\n",
      "begin_total_asset:1000000\n",
      "end_total_asset:6244740.739112943\n",
      "Sharpe:  0.9551734241118541\n",
      "=================================\n"
     ]
    },
    {
     "name": "stderr",
     "output_type": "stream",
     "text": [
      "Episode:  10%|▉         | 3/31 [00:30<04:41, 10.06s/it]"
     ]
    },
    {
     "name": "stdout",
     "output_type": "stream",
     "text": [
      "=================================\n",
      "begin_total_asset:1000000\n",
      "end_total_asset:3858811.833648374\n",
      "Sharpe:  0.6581930812369884\n",
      "=================================\n"
     ]
    },
    {
     "name": "stderr",
     "output_type": "stream",
     "text": [
      "Episode:  13%|█▎        | 4/31 [00:40<04:35, 10.20s/it]"
     ]
    },
    {
     "name": "stdout",
     "output_type": "stream",
     "text": [
      "=================================\n",
      "begin_total_asset:1000000\n",
      "end_total_asset:3672479.179979186\n",
      "Sharpe:  0.7389279588037202\n",
      "=================================\n"
     ]
    },
    {
     "name": "stderr",
     "output_type": "stream",
     "text": [
      "Episode:  16%|█▌        | 5/31 [00:50<04:18,  9.94s/it]"
     ]
    },
    {
     "name": "stdout",
     "output_type": "stream",
     "text": [
      "=================================\n",
      "begin_total_asset:1000000\n",
      "end_total_asset:2484058.4513243265\n",
      "Sharpe:  0.7178965263518375\n",
      "=================================\n"
     ]
    },
    {
     "name": "stderr",
     "output_type": "stream",
     "text": [
      "Episode:  19%|█▉        | 6/31 [00:59<04:04,  9.79s/it]"
     ]
    },
    {
     "name": "stdout",
     "output_type": "stream",
     "text": [
      "=================================\n",
      "begin_total_asset:1000000\n",
      "end_total_asset:4605220.759429377\n",
      "Sharpe:  0.7454385192611874\n",
      "=================================\n"
     ]
    },
    {
     "name": "stderr",
     "output_type": "stream",
     "text": [
      "Episode:  23%|██▎       | 7/31 [01:09<03:53,  9.73s/it]"
     ]
    },
    {
     "name": "stdout",
     "output_type": "stream",
     "text": [
      "=================================\n",
      "begin_total_asset:1000000\n",
      "end_total_asset:3122749.6581045426\n",
      "Sharpe:  0.7416395876743064\n",
      "=================================\n"
     ]
    },
    {
     "name": "stderr",
     "output_type": "stream",
     "text": [
      "Episode:  26%|██▌       | 8/31 [01:18<03:43,  9.72s/it]"
     ]
    },
    {
     "name": "stdout",
     "output_type": "stream",
     "text": [
      "=================================\n",
      "begin_total_asset:1000000\n",
      "end_total_asset:6118684.745402762\n",
      "Sharpe:  0.9669996761358407\n",
      "=================================\n"
     ]
    },
    {
     "name": "stderr",
     "output_type": "stream",
     "text": [
      "Episode:  29%|██▉       | 9/31 [01:28<03:33,  9.72s/it]"
     ]
    },
    {
     "name": "stdout",
     "output_type": "stream",
     "text": [
      "=================================\n",
      "begin_total_asset:1000000\n",
      "end_total_asset:8911121.867445925\n",
      "Sharpe:  1.371068176490234\n",
      "=================================\n"
     ]
    },
    {
     "name": "stderr",
     "output_type": "stream",
     "text": [
      "Episode:  32%|███▏      | 10/31 [01:38<03:23,  9.67s/it]"
     ]
    },
    {
     "name": "stdout",
     "output_type": "stream",
     "text": [
      "=================================\n",
      "begin_total_asset:1000000\n",
      "end_total_asset:4192051.6671045283\n",
      "Sharpe:  1.0257783067561659\n",
      "=================================\n"
     ]
    },
    {
     "name": "stderr",
     "output_type": "stream",
     "text": [
      "Episode:  35%|███▌      | 11/31 [01:49<03:22, 10.12s/it]"
     ]
    },
    {
     "name": "stdout",
     "output_type": "stream",
     "text": [
      "=================================\n",
      "begin_total_asset:1000000\n",
      "end_total_asset:7413015.14012053\n",
      "Sharpe:  0.9354648714012115\n",
      "=================================\n"
     ]
    },
    {
     "name": "stderr",
     "output_type": "stream",
     "text": [
      "Episode:  39%|███▊      | 12/31 [02:00<03:16, 10.36s/it]"
     ]
    },
    {
     "name": "stdout",
     "output_type": "stream",
     "text": [
      "=================================\n",
      "begin_total_asset:1000000\n",
      "end_total_asset:5849044.740666352\n",
      "Sharpe:  0.9505500675291814\n",
      "=================================\n"
     ]
    },
    {
     "name": "stderr",
     "output_type": "stream",
     "text": [
      "Episode:  42%|████▏     | 13/31 [02:10<03:06, 10.34s/it]"
     ]
    },
    {
     "name": "stdout",
     "output_type": "stream",
     "text": [
      "=================================\n",
      "begin_total_asset:1000000\n",
      "end_total_asset:2785366.3167759823\n",
      "Sharpe:  0.7118519366274311\n",
      "=================================\n"
     ]
    },
    {
     "name": "stderr",
     "output_type": "stream",
     "text": [
      "Episode:  45%|████▌     | 14/31 [02:20<02:54, 10.29s/it]"
     ]
    },
    {
     "name": "stdout",
     "output_type": "stream",
     "text": [
      "=================================\n",
      "begin_total_asset:1000000\n",
      "end_total_asset:14794910.005693844\n",
      "Sharpe:  1.378954979695468\n",
      "=================================\n"
     ]
    },
    {
     "name": "stderr",
     "output_type": "stream",
     "text": [
      "Episode:  48%|████▊     | 15/31 [02:30<02:44, 10.26s/it]"
     ]
    },
    {
     "name": "stdout",
     "output_type": "stream",
     "text": [
      "=================================\n",
      "begin_total_asset:1000000\n",
      "end_total_asset:4932541.982591493\n",
      "Sharpe:  1.158986371717734\n",
      "=================================\n"
     ]
    },
    {
     "name": "stderr",
     "output_type": "stream",
     "text": [
      "Episode:  52%|█████▏    | 16/31 [02:41<02:37, 10.47s/it]"
     ]
    },
    {
     "name": "stdout",
     "output_type": "stream",
     "text": [
      "=================================\n",
      "begin_total_asset:1000000\n",
      "end_total_asset:4379609.904965769\n",
      "Sharpe:  0.8487202202649881\n",
      "=================================\n"
     ]
    },
    {
     "name": "stderr",
     "output_type": "stream",
     "text": [
      "Episode:  55%|█████▍    | 17/31 [02:51<02:25, 10.36s/it]"
     ]
    },
    {
     "name": "stdout",
     "output_type": "stream",
     "text": [
      "=================================\n",
      "begin_total_asset:1000000\n",
      "end_total_asset:3157022.761418119\n",
      "Sharpe:  0.7159728314210637\n",
      "=================================\n"
     ]
    },
    {
     "name": "stderr",
     "output_type": "stream",
     "text": [
      "Episode:  58%|█████▊    | 18/31 [03:02<02:15, 10.46s/it]"
     ]
    },
    {
     "name": "stdout",
     "output_type": "stream",
     "text": [
      "=================================\n",
      "begin_total_asset:1000000\n",
      "end_total_asset:5041635.950330098\n",
      "Sharpe:  0.7608479837867045\n",
      "=================================\n"
     ]
    },
    {
     "name": "stderr",
     "output_type": "stream",
     "text": [
      "Episode:  61%|██████▏   | 19/31 [03:12<02:03, 10.33s/it]"
     ]
    },
    {
     "name": "stdout",
     "output_type": "stream",
     "text": [
      "=================================\n",
      "begin_total_asset:1000000\n",
      "end_total_asset:6577515.209596992\n",
      "Sharpe:  0.9791030063091479\n",
      "=================================\n"
     ]
    },
    {
     "name": "stderr",
     "output_type": "stream",
     "text": [
      "Episode:  65%|██████▍   | 20/31 [03:22<01:52, 10.23s/it]"
     ]
    },
    {
     "name": "stdout",
     "output_type": "stream",
     "text": [
      "=================================\n",
      "begin_total_asset:1000000\n",
      "end_total_asset:8195110.518629193\n",
      "Sharpe:  1.0408190866298133\n",
      "=================================\n"
     ]
    },
    {
     "name": "stderr",
     "output_type": "stream",
     "text": [
      "Episode:  68%|██████▊   | 21/31 [03:32<01:41, 10.18s/it]"
     ]
    },
    {
     "name": "stdout",
     "output_type": "stream",
     "text": [
      "=================================\n",
      "begin_total_asset:1000000\n",
      "end_total_asset:6316763.625290007\n",
      "Sharpe:  1.0671638431293184\n",
      "=================================\n"
     ]
    },
    {
     "name": "stderr",
     "output_type": "stream",
     "text": [
      "Episode:  71%|███████   | 22/31 [03:42<01:31, 10.14s/it]"
     ]
    },
    {
     "name": "stdout",
     "output_type": "stream",
     "text": [
      "=================================\n",
      "begin_total_asset:1000000\n",
      "end_total_asset:5282150.056239515\n",
      "Sharpe:  0.914090442216633\n",
      "=================================\n"
     ]
    },
    {
     "name": "stderr",
     "output_type": "stream",
     "text": [
      "Episode:  74%|███████▍  | 23/31 [03:52<01:20, 10.11s/it]"
     ]
    },
    {
     "name": "stdout",
     "output_type": "stream",
     "text": [
      "=================================\n",
      "begin_total_asset:1000000\n",
      "end_total_asset:6332859.388068286\n",
      "Sharpe:  1.1323491434429838\n",
      "=================================\n"
     ]
    },
    {
     "name": "stderr",
     "output_type": "stream",
     "text": [
      "Episode:  77%|███████▋  | 24/31 [04:02<01:10, 10.10s/it]"
     ]
    },
    {
     "name": "stdout",
     "output_type": "stream",
     "text": [
      "=================================\n",
      "begin_total_asset:1000000\n",
      "end_total_asset:4818725.805997977\n",
      "Sharpe:  0.9793763655708364\n",
      "=================================\n"
     ]
    },
    {
     "name": "stderr",
     "output_type": "stream",
     "text": [
      "Episode:  81%|████████  | 25/31 [04:12<01:00, 10.08s/it]"
     ]
    },
    {
     "name": "stdout",
     "output_type": "stream",
     "text": [
      "=================================\n",
      "begin_total_asset:1000000\n",
      "end_total_asset:10504938.595557429\n",
      "Sharpe:  1.2952721609761755\n",
      "=================================\n"
     ]
    },
    {
     "name": "stderr",
     "output_type": "stream",
     "text": [
      "Episode:  84%|████████▍ | 26/31 [04:22<00:50, 10.05s/it]"
     ]
    },
    {
     "name": "stdout",
     "output_type": "stream",
     "text": [
      "=================================\n",
      "begin_total_asset:1000000\n",
      "end_total_asset:3296094.6698207497\n",
      "Sharpe:  0.7852042740950556\n",
      "=================================\n"
     ]
    },
    {
     "name": "stderr",
     "output_type": "stream",
     "text": [
      "Episode:  87%|████████▋ | 27/31 [04:32<00:40, 10.05s/it]"
     ]
    },
    {
     "name": "stdout",
     "output_type": "stream",
     "text": [
      "=================================\n",
      "begin_total_asset:1000000\n",
      "end_total_asset:3895595.3257735595\n",
      "Sharpe:  0.8241286246238285\n",
      "=================================\n"
     ]
    },
    {
     "name": "stderr",
     "output_type": "stream",
     "text": [
      "Episode:  90%|█████████ | 28/31 [04:42<00:30, 10.04s/it]"
     ]
    },
    {
     "name": "stdout",
     "output_type": "stream",
     "text": [
      "=================================\n",
      "begin_total_asset:1000000\n",
      "end_total_asset:4906766.689918787\n",
      "Sharpe:  0.801282355125799\n",
      "=================================\n"
     ]
    },
    {
     "name": "stderr",
     "output_type": "stream",
     "text": [
      "Episode:  94%|█████████▎| 29/31 [04:53<00:20, 10.09s/it]"
     ]
    },
    {
     "name": "stdout",
     "output_type": "stream",
     "text": [
      "=================================\n",
      "begin_total_asset:1000000\n",
      "end_total_asset:2965635.2572303726\n",
      "Sharpe:  0.7247930541676466\n",
      "=================================\n"
     ]
    },
    {
     "name": "stderr",
     "output_type": "stream",
     "text": [
      "Episode:  97%|█████████▋| 30/31 [05:03<00:10, 10.10s/it]"
     ]
    },
    {
     "name": "stdout",
     "output_type": "stream",
     "text": [
      "=================================\n",
      "begin_total_asset:1000000\n",
      "end_total_asset:4047152.8999158153\n",
      "Sharpe:  0.759264831666943\n",
      "=================================\n"
     ]
    },
    {
     "name": "stderr",
     "output_type": "stream",
     "text": [
      "                                                        "
     ]
    },
    {
     "name": "stdout",
     "output_type": "stream",
     "text": [
      "=================================\n",
      "begin_total_asset:1000000\n",
      "end_total_asset:10836233.694474382\n",
      "Sharpe:  1.0107109369689342\n",
      "=================================\n"
     ]
    },
    {
     "name": "stderr",
     "output_type": "stream",
     "text": [
      "Episode:   3%|▎         | 1/36 [00:10<05:56, 10.19s/it]"
     ]
    },
    {
     "name": "stdout",
     "output_type": "stream",
     "text": [
      "=================================\n",
      "begin_total_asset:1000000\n",
      "end_total_asset:5725716.603525843\n",
      "Sharpe:  0.9806148403377766\n",
      "=================================\n"
     ]
    },
    {
     "name": "stderr",
     "output_type": "stream",
     "text": [
      "Episode:   6%|▌         | 2/36 [00:20<05:44, 10.12s/it]"
     ]
    },
    {
     "name": "stdout",
     "output_type": "stream",
     "text": [
      "=================================\n",
      "begin_total_asset:1000000\n",
      "end_total_asset:3252455.9403303345\n",
      "Sharpe:  0.8141733699836949\n",
      "=================================\n"
     ]
    },
    {
     "name": "stderr",
     "output_type": "stream",
     "text": [
      "Episode:   8%|▊         | 3/36 [00:30<05:35, 10.16s/it]"
     ]
    },
    {
     "name": "stdout",
     "output_type": "stream",
     "text": [
      "=================================\n",
      "begin_total_asset:1000000\n",
      "end_total_asset:3443512.2148303264\n",
      "Sharpe:  0.6250741926522303\n",
      "=================================\n"
     ]
    },
    {
     "name": "stderr",
     "output_type": "stream",
     "text": [
      "Episode:  11%|█         | 4/36 [00:40<05:27, 10.24s/it]"
     ]
    },
    {
     "name": "stdout",
     "output_type": "stream",
     "text": [
      "=================================\n",
      "begin_total_asset:1000000\n",
      "end_total_asset:4761960.743741677\n",
      "Sharpe:  0.9398670762613489\n",
      "=================================\n"
     ]
    },
    {
     "name": "stderr",
     "output_type": "stream",
     "text": [
      "Episode:  14%|█▍        | 5/36 [00:50<05:14, 10.16s/it]"
     ]
    },
    {
     "name": "stdout",
     "output_type": "stream",
     "text": [
      "=================================\n",
      "begin_total_asset:1000000\n",
      "end_total_asset:4358189.090648509\n",
      "Sharpe:  0.8634664763348275\n",
      "=================================\n"
     ]
    },
    {
     "name": "stderr",
     "output_type": "stream",
     "text": [
      "Episode:  17%|█▋        | 6/36 [01:00<05:03, 10.13s/it]"
     ]
    },
    {
     "name": "stdout",
     "output_type": "stream",
     "text": [
      "=================================\n",
      "begin_total_asset:1000000\n",
      "end_total_asset:5078420.670768324\n",
      "Sharpe:  0.8227115736419663\n",
      "=================================\n"
     ]
    },
    {
     "name": "stderr",
     "output_type": "stream",
     "text": [
      "Episode:  19%|█▉        | 7/36 [01:10<04:52, 10.10s/it]"
     ]
    },
    {
     "name": "stdout",
     "output_type": "stream",
     "text": [
      "=================================\n",
      "begin_total_asset:1000000\n",
      "end_total_asset:3374668.072894498\n",
      "Sharpe:  0.70841017783859\n",
      "=================================\n"
     ]
    },
    {
     "name": "stderr",
     "output_type": "stream",
     "text": [
      "Episode:  22%|██▏       | 8/36 [01:20<04:42, 10.07s/it]"
     ]
    },
    {
     "name": "stdout",
     "output_type": "stream",
     "text": [
      "=================================\n",
      "begin_total_asset:1000000\n",
      "end_total_asset:2888399.2385433116\n",
      "Sharpe:  0.6887386798599626\n",
      "=================================\n"
     ]
    },
    {
     "name": "stderr",
     "output_type": "stream",
     "text": [
      "Episode:  25%|██▌       | 9/36 [01:30<04:31, 10.05s/it]"
     ]
    },
    {
     "name": "stdout",
     "output_type": "stream",
     "text": [
      "=================================\n",
      "begin_total_asset:1000000\n",
      "end_total_asset:2912322.8561519478\n",
      "Sharpe:  0.6966038833062017\n",
      "=================================\n"
     ]
    },
    {
     "name": "stderr",
     "output_type": "stream",
     "text": [
      "Episode:  28%|██▊       | 10/36 [01:41<04:21, 10.06s/it]"
     ]
    },
    {
     "name": "stdout",
     "output_type": "stream",
     "text": [
      "=================================\n",
      "begin_total_asset:1000000\n",
      "end_total_asset:11264078.791147042\n",
      "Sharpe:  1.2129849429587187\n",
      "=================================\n"
     ]
    },
    {
     "name": "stderr",
     "output_type": "stream",
     "text": [
      "Episode:  31%|███       | 11/36 [01:51<04:10, 10.03s/it]"
     ]
    },
    {
     "name": "stdout",
     "output_type": "stream",
     "text": [
      "=================================\n",
      "begin_total_asset:1000000\n",
      "end_total_asset:8452241.02900398\n",
      "Sharpe:  1.1473600943195994\n",
      "=================================\n"
     ]
    },
    {
     "name": "stderr",
     "output_type": "stream",
     "text": [
      "Episode:  33%|███▎      | 12/36 [02:01<04:00, 10.04s/it]"
     ]
    },
    {
     "name": "stdout",
     "output_type": "stream",
     "text": [
      "=================================\n",
      "begin_total_asset:1000000\n",
      "end_total_asset:11255019.324919108\n",
      "Sharpe:  1.260627442498449\n",
      "=================================\n"
     ]
    },
    {
     "name": "stderr",
     "output_type": "stream",
     "text": [
      "Episode:  36%|███▌      | 13/36 [02:11<03:52, 10.10s/it]"
     ]
    },
    {
     "name": "stdout",
     "output_type": "stream",
     "text": [
      "=================================\n",
      "begin_total_asset:1000000\n",
      "end_total_asset:6819012.140615469\n",
      "Sharpe:  0.9853470814241181\n",
      "=================================\n"
     ]
    },
    {
     "name": "stderr",
     "output_type": "stream",
     "text": [
      "Episode:  39%|███▉      | 14/36 [02:21<03:44, 10.20s/it]"
     ]
    },
    {
     "name": "stdout",
     "output_type": "stream",
     "text": [
      "=================================\n",
      "begin_total_asset:1000000\n",
      "end_total_asset:5660131.399587571\n",
      "Sharpe:  0.9181517217922062\n",
      "=================================\n"
     ]
    },
    {
     "name": "stderr",
     "output_type": "stream",
     "text": [
      "Episode:  42%|████▏     | 15/36 [02:32<03:35, 10.24s/it]"
     ]
    },
    {
     "name": "stdout",
     "output_type": "stream",
     "text": [
      "=================================\n",
      "begin_total_asset:1000000\n",
      "end_total_asset:2426793.005010899\n",
      "Sharpe:  0.5615155163666772\n",
      "=================================\n"
     ]
    },
    {
     "name": "stderr",
     "output_type": "stream",
     "text": [
      "Episode:  44%|████▍     | 16/36 [02:42<03:28, 10.41s/it]"
     ]
    },
    {
     "name": "stdout",
     "output_type": "stream",
     "text": [
      "=================================\n",
      "begin_total_asset:1000000\n",
      "end_total_asset:6095092.240179305\n",
      "Sharpe:  0.9123807896614645\n",
      "=================================\n"
     ]
    },
    {
     "name": "stderr",
     "output_type": "stream",
     "text": [
      "Episode:  47%|████▋     | 17/36 [02:53<03:20, 10.54s/it]"
     ]
    },
    {
     "name": "stdout",
     "output_type": "stream",
     "text": [
      "=================================\n",
      "begin_total_asset:1000000\n",
      "end_total_asset:10292722.455097154\n",
      "Sharpe:  1.1278797788663744\n",
      "=================================\n"
     ]
    },
    {
     "name": "stderr",
     "output_type": "stream",
     "text": [
      "Episode:  50%|█████     | 18/36 [03:03<03:07, 10.44s/it]"
     ]
    },
    {
     "name": "stdout",
     "output_type": "stream",
     "text": [
      "=================================\n",
      "begin_total_asset:1000000\n",
      "end_total_asset:3095647.5356036006\n",
      "Sharpe:  0.8403408341047822\n",
      "=================================\n"
     ]
    },
    {
     "name": "stderr",
     "output_type": "stream",
     "text": [
      "Episode:  53%|█████▎    | 19/36 [03:14<02:55, 10.35s/it]"
     ]
    },
    {
     "name": "stdout",
     "output_type": "stream",
     "text": [
      "=================================\n",
      "begin_total_asset:1000000\n",
      "end_total_asset:6477221.831218091\n",
      "Sharpe:  0.9197010259512088\n",
      "=================================\n"
     ]
    },
    {
     "name": "stderr",
     "output_type": "stream",
     "text": [
      "Episode:  56%|█████▌    | 20/36 [03:24<02:44, 10.28s/it]"
     ]
    },
    {
     "name": "stdout",
     "output_type": "stream",
     "text": [
      "=================================\n",
      "begin_total_asset:1000000\n",
      "end_total_asset:2455074.631353876\n",
      "Sharpe:  0.8237980131459095\n",
      "=================================\n"
     ]
    },
    {
     "name": "stderr",
     "output_type": "stream",
     "text": [
      "Episode:  58%|█████▊    | 21/36 [03:34<02:34, 10.30s/it]"
     ]
    },
    {
     "name": "stdout",
     "output_type": "stream",
     "text": [
      "=================================\n",
      "begin_total_asset:1000000\n",
      "end_total_asset:4887308.154819828\n",
      "Sharpe:  0.8861881863119151\n",
      "=================================\n"
     ]
    },
    {
     "name": "stderr",
     "output_type": "stream",
     "text": [
      "Episode:  61%|██████    | 22/36 [03:44<02:23, 10.24s/it]"
     ]
    },
    {
     "name": "stdout",
     "output_type": "stream",
     "text": [
      "=================================\n",
      "begin_total_asset:1000000\n",
      "end_total_asset:4982716.454137119\n",
      "Sharpe:  1.0431250848974511\n",
      "=================================\n"
     ]
    },
    {
     "name": "stderr",
     "output_type": "stream",
     "text": [
      "Episode:  64%|██████▍   | 23/36 [03:54<02:12, 10.20s/it]"
     ]
    },
    {
     "name": "stdout",
     "output_type": "stream",
     "text": [
      "=================================\n",
      "begin_total_asset:1000000\n",
      "end_total_asset:4235012.463093623\n",
      "Sharpe:  0.7495444773137941\n",
      "=================================\n"
     ]
    },
    {
     "name": "stderr",
     "output_type": "stream",
     "text": [
      "Episode:  67%|██████▋   | 24/36 [04:05<02:03, 10.27s/it]"
     ]
    },
    {
     "name": "stdout",
     "output_type": "stream",
     "text": [
      "=================================\n",
      "begin_total_asset:1000000\n",
      "end_total_asset:4135606.152933422\n",
      "Sharpe:  0.9058529832079514\n",
      "=================================\n"
     ]
    },
    {
     "name": "stderr",
     "output_type": "stream",
     "text": [
      "Episode:  69%|██████▉   | 25/36 [04:15<01:52, 10.20s/it]"
     ]
    },
    {
     "name": "stdout",
     "output_type": "stream",
     "text": [
      "=================================\n",
      "begin_total_asset:1000000\n",
      "end_total_asset:10496351.10314013\n",
      "Sharpe:  1.2323432026786594\n",
      "=================================\n"
     ]
    },
    {
     "name": "stderr",
     "output_type": "stream",
     "text": [
      "Episode:  72%|███████▏  | 26/36 [04:25<01:41, 10.15s/it]"
     ]
    },
    {
     "name": "stdout",
     "output_type": "stream",
     "text": [
      "=================================\n",
      "begin_total_asset:1000000\n",
      "end_total_asset:3799167.2248752294\n",
      "Sharpe:  0.8546733338132205\n",
      "=================================\n"
     ]
    },
    {
     "name": "stderr",
     "output_type": "stream",
     "text": [
      "Episode:  75%|███████▌  | 27/36 [04:35<01:31, 10.14s/it]"
     ]
    },
    {
     "name": "stdout",
     "output_type": "stream",
     "text": [
      "=================================\n",
      "begin_total_asset:1000000\n",
      "end_total_asset:7384625.3551454\n",
      "Sharpe:  0.9254547883284848\n",
      "=================================\n"
     ]
    },
    {
     "name": "stderr",
     "output_type": "stream",
     "text": [
      "Episode:  78%|███████▊  | 28/36 [04:45<01:21, 10.23s/it]"
     ]
    },
    {
     "name": "stdout",
     "output_type": "stream",
     "text": [
      "=================================\n",
      "begin_total_asset:1000000\n",
      "end_total_asset:10433733.454733416\n",
      "Sharpe:  1.2341337961851284\n",
      "=================================\n"
     ]
    },
    {
     "name": "stderr",
     "output_type": "stream",
     "text": [
      "Episode:  81%|████████  | 29/36 [04:55<01:11, 10.21s/it]"
     ]
    },
    {
     "name": "stdout",
     "output_type": "stream",
     "text": [
      "=================================\n",
      "begin_total_asset:1000000\n",
      "end_total_asset:5491259.8650393905\n",
      "Sharpe:  1.0757866475606421\n",
      "=================================\n"
     ]
    },
    {
     "name": "stderr",
     "output_type": "stream",
     "text": [
      "Episode:  83%|████████▎ | 30/36 [05:05<01:00, 10.15s/it]"
     ]
    },
    {
     "name": "stdout",
     "output_type": "stream",
     "text": [
      "=================================\n",
      "begin_total_asset:1000000\n",
      "end_total_asset:3515671.6941321297\n",
      "Sharpe:  0.7827460194051452\n",
      "=================================\n"
     ]
    },
    {
     "name": "stderr",
     "output_type": "stream",
     "text": [
      "Episode:  86%|████████▌ | 31/36 [05:15<00:50, 10.09s/it]"
     ]
    },
    {
     "name": "stdout",
     "output_type": "stream",
     "text": [
      "=================================\n",
      "begin_total_asset:1000000\n",
      "end_total_asset:4933415.454883883\n",
      "Sharpe:  0.8008202889864801\n",
      "=================================\n"
     ]
    },
    {
     "name": "stderr",
     "output_type": "stream",
     "text": [
      "Episode:  89%|████████▉ | 32/36 [05:25<00:40, 10.06s/it]"
     ]
    },
    {
     "name": "stdout",
     "output_type": "stream",
     "text": [
      "=================================\n",
      "begin_total_asset:1000000\n",
      "end_total_asset:4005997.5347207533\n",
      "Sharpe:  0.888767748931278\n",
      "=================================\n"
     ]
    },
    {
     "name": "stderr",
     "output_type": "stream",
     "text": [
      "Episode:  92%|█████████▏| 33/36 [05:35<00:30, 10.06s/it]"
     ]
    },
    {
     "name": "stdout",
     "output_type": "stream",
     "text": [
      "=================================\n",
      "begin_total_asset:1000000\n",
      "end_total_asset:4631933.890461361\n",
      "Sharpe:  0.912633328416098\n",
      "=================================\n"
     ]
    },
    {
     "name": "stderr",
     "output_type": "stream",
     "text": [
      "Episode:  94%|█████████▍| 34/36 [05:45<00:20, 10.03s/it]"
     ]
    },
    {
     "name": "stdout",
     "output_type": "stream",
     "text": [
      "=================================\n",
      "begin_total_asset:1000000\n",
      "end_total_asset:13721612.24645281\n",
      "Sharpe:  1.3038750437662485\n",
      "=================================\n"
     ]
    },
    {
     "name": "stderr",
     "output_type": "stream",
     "text": [
      "Episode:  97%|█████████▋| 35/36 [05:56<00:10, 10.04s/it]"
     ]
    },
    {
     "name": "stdout",
     "output_type": "stream",
     "text": [
      "=================================\n",
      "begin_total_asset:1000000\n",
      "end_total_asset:11521538.625510713\n",
      "Sharpe:  1.1276433655454194\n",
      "=================================\n"
     ]
    },
    {
     "name": "stderr",
     "output_type": "stream",
     "text": [
      "                                                        \r"
     ]
    },
    {
     "name": "stdout",
     "output_type": "stream",
     "text": [
      "=================================\n",
      "begin_total_asset:1000000\n",
      "end_total_asset:2540356.562228978\n",
      "Sharpe:  1.0809645752696946\n",
      "=================================\n"
     ]
    },
    {
     "name": "stderr",
     "output_type": "stream",
     "text": [
      "Episode:   2%|▏         | 1/41 [00:10<06:41, 10.05s/it]"
     ]
    },
    {
     "name": "stdout",
     "output_type": "stream",
     "text": [
      "=================================\n",
      "begin_total_asset:1000000\n",
      "end_total_asset:8633846.25778348\n",
      "Sharpe:  0.982624311632146\n",
      "=================================\n"
     ]
    },
    {
     "name": "stderr",
     "output_type": "stream",
     "text": [
      "Episode:   5%|▍         | 2/41 [00:20<06:33, 10.08s/it]"
     ]
    },
    {
     "name": "stdout",
     "output_type": "stream",
     "text": [
      "=================================\n",
      "begin_total_asset:1000000\n",
      "end_total_asset:7559175.725493646\n",
      "Sharpe:  1.1191976485963526\n",
      "=================================\n"
     ]
    },
    {
     "name": "stderr",
     "output_type": "stream",
     "text": [
      "Episode:   7%|▋         | 3/41 [00:30<06:25, 10.15s/it]"
     ]
    },
    {
     "name": "stdout",
     "output_type": "stream",
     "text": [
      "=================================\n",
      "begin_total_asset:1000000\n",
      "end_total_asset:4065447.4372760495\n",
      "Sharpe:  0.8959050759131222\n",
      "=================================\n"
     ]
    },
    {
     "name": "stderr",
     "output_type": "stream",
     "text": [
      "Episode:  10%|▉         | 4/41 [00:40<06:15, 10.14s/it]"
     ]
    },
    {
     "name": "stdout",
     "output_type": "stream",
     "text": [
      "=================================\n",
      "begin_total_asset:1000000\n",
      "end_total_asset:4298704.280118447\n",
      "Sharpe:  0.8744694129909303\n",
      "=================================\n"
     ]
    },
    {
     "name": "stderr",
     "output_type": "stream",
     "text": [
      "Episode:  12%|█▏        | 5/41 [00:50<06:04, 10.11s/it]"
     ]
    },
    {
     "name": "stdout",
     "output_type": "stream",
     "text": [
      "=================================\n",
      "begin_total_asset:1000000\n",
      "end_total_asset:3440122.159255447\n",
      "Sharpe:  0.7467773045803046\n",
      "=================================\n"
     ]
    },
    {
     "name": "stderr",
     "output_type": "stream",
     "text": [
      "Episode:  15%|█▍        | 6/41 [01:00<05:54, 10.13s/it]"
     ]
    },
    {
     "name": "stdout",
     "output_type": "stream",
     "text": [
      "=================================\n",
      "begin_total_asset:1000000\n",
      "end_total_asset:11218963.997337129\n",
      "Sharpe:  1.1725437312927167\n",
      "=================================\n"
     ]
    },
    {
     "name": "stderr",
     "output_type": "stream",
     "text": [
      "Episode:  17%|█▋        | 7/41 [01:10<05:37,  9.94s/it]"
     ]
    },
    {
     "name": "stdout",
     "output_type": "stream",
     "text": [
      "=================================\n",
      "begin_total_asset:1000000\n",
      "end_total_asset:7414111.909466782\n",
      "Sharpe:  1.0240129064391639\n",
      "=================================\n"
     ]
    },
    {
     "name": "stderr",
     "output_type": "stream",
     "text": [
      "Episode:  20%|█▉        | 8/41 [01:19<05:24,  9.83s/it]"
     ]
    },
    {
     "name": "stdout",
     "output_type": "stream",
     "text": [
      "=================================\n",
      "begin_total_asset:1000000\n",
      "end_total_asset:7082171.647997841\n",
      "Sharpe:  1.0430311316740806\n",
      "=================================\n"
     ]
    },
    {
     "name": "stderr",
     "output_type": "stream",
     "text": [
      "Episode:  22%|██▏       | 9/41 [01:29<05:13,  9.78s/it]"
     ]
    },
    {
     "name": "stdout",
     "output_type": "stream",
     "text": [
      "=================================\n",
      "begin_total_asset:1000000\n",
      "end_total_asset:5887017.375296997\n",
      "Sharpe:  0.934435700708688\n",
      "=================================\n"
     ]
    },
    {
     "name": "stderr",
     "output_type": "stream",
     "text": [
      "Episode:  24%|██▍       | 10/41 [01:39<05:01,  9.71s/it]"
     ]
    },
    {
     "name": "stdout",
     "output_type": "stream",
     "text": [
      "=================================\n",
      "begin_total_asset:1000000\n",
      "end_total_asset:6428689.353978416\n",
      "Sharpe:  0.9654882496607536\n",
      "=================================\n"
     ]
    },
    {
     "name": "stderr",
     "output_type": "stream",
     "text": [
      "Episode:  27%|██▋       | 11/41 [01:49<04:53,  9.79s/it]"
     ]
    },
    {
     "name": "stdout",
     "output_type": "stream",
     "text": [
      "=================================\n",
      "begin_total_asset:1000000\n",
      "end_total_asset:3698432.5795721677\n",
      "Sharpe:  0.787843781521324\n",
      "=================================\n"
     ]
    },
    {
     "name": "stderr",
     "output_type": "stream",
     "text": [
      "Episode:  29%|██▉       | 12/41 [01:58<04:41,  9.71s/it]"
     ]
    },
    {
     "name": "stdout",
     "output_type": "stream",
     "text": [
      "=================================\n",
      "begin_total_asset:1000000\n",
      "end_total_asset:7413120.473638977\n",
      "Sharpe:  0.9292584863285821\n",
      "=================================\n"
     ]
    },
    {
     "name": "stderr",
     "output_type": "stream",
     "text": [
      "Episode:  32%|███▏      | 13/41 [02:08<04:30,  9.66s/it]"
     ]
    },
    {
     "name": "stdout",
     "output_type": "stream",
     "text": [
      "=================================\n",
      "begin_total_asset:1000000\n",
      "end_total_asset:2701053.9215402966\n",
      "Sharpe:  0.7855135368056229\n",
      "=================================\n"
     ]
    },
    {
     "name": "stderr",
     "output_type": "stream",
     "text": [
      "Episode:  34%|███▍      | 14/41 [02:17<04:20,  9.63s/it]"
     ]
    },
    {
     "name": "stdout",
     "output_type": "stream",
     "text": [
      "=================================\n",
      "begin_total_asset:1000000\n",
      "end_total_asset:4901889.9061700925\n",
      "Sharpe:  1.0818898329924955\n",
      "=================================\n"
     ]
    },
    {
     "name": "stderr",
     "output_type": "stream",
     "text": [
      "Episode:  37%|███▋      | 15/41 [02:27<04:10,  9.62s/it]"
     ]
    },
    {
     "name": "stdout",
     "output_type": "stream",
     "text": [
      "=================================\n",
      "begin_total_asset:1000000\n",
      "end_total_asset:4576259.484529859\n",
      "Sharpe:  1.042927736501307\n",
      "=================================\n"
     ]
    },
    {
     "name": "stderr",
     "output_type": "stream",
     "text": [
      "Episode:  39%|███▉      | 16/41 [02:36<04:00,  9.60s/it]"
     ]
    },
    {
     "name": "stdout",
     "output_type": "stream",
     "text": [
      "=================================\n",
      "begin_total_asset:1000000\n",
      "end_total_asset:5138752.692987755\n",
      "Sharpe:  0.9908300919082662\n",
      "=================================\n"
     ]
    },
    {
     "name": "stderr",
     "output_type": "stream",
     "text": [
      "Episode:  41%|████▏     | 17/41 [02:46<03:49,  9.58s/it]"
     ]
    },
    {
     "name": "stdout",
     "output_type": "stream",
     "text": [
      "=================================\n",
      "begin_total_asset:1000000\n",
      "end_total_asset:9475747.81362644\n",
      "Sharpe:  1.0068313780606302\n",
      "=================================\n"
     ]
    },
    {
     "name": "stderr",
     "output_type": "stream",
     "text": [
      "Episode:  44%|████▍     | 18/41 [02:55<03:39,  9.56s/it]"
     ]
    },
    {
     "name": "stdout",
     "output_type": "stream",
     "text": [
      "=================================\n",
      "begin_total_asset:1000000\n",
      "end_total_asset:4340643.982790951\n",
      "Sharpe:  0.9218025677989695\n",
      "=================================\n"
     ]
    },
    {
     "name": "stderr",
     "output_type": "stream",
     "text": [
      "Episode:  46%|████▋     | 19/41 [03:05<03:30,  9.55s/it]"
     ]
    },
    {
     "name": "stdout",
     "output_type": "stream",
     "text": [
      "=================================\n",
      "begin_total_asset:1000000\n",
      "end_total_asset:12441344.762108453\n",
      "Sharpe:  1.214040731688992\n",
      "=================================\n"
     ]
    },
    {
     "name": "stderr",
     "output_type": "stream",
     "text": [
      "Episode:  49%|████▉     | 20/41 [03:15<03:20,  9.56s/it]"
     ]
    },
    {
     "name": "stdout",
     "output_type": "stream",
     "text": [
      "=================================\n",
      "begin_total_asset:1000000\n",
      "end_total_asset:12182119.05235489\n",
      "Sharpe:  1.0833538611822486\n",
      "=================================\n"
     ]
    },
    {
     "name": "stderr",
     "output_type": "stream",
     "text": [
      "Episode:  51%|█████     | 21/41 [03:24<03:10,  9.55s/it]"
     ]
    },
    {
     "name": "stdout",
     "output_type": "stream",
     "text": [
      "=================================\n",
      "begin_total_asset:1000000\n",
      "end_total_asset:6481272.140979673\n",
      "Sharpe:  1.0099977392259303\n",
      "=================================\n"
     ]
    },
    {
     "name": "stderr",
     "output_type": "stream",
     "text": [
      "Episode:  54%|█████▎    | 22/41 [03:34<03:01,  9.54s/it]"
     ]
    },
    {
     "name": "stdout",
     "output_type": "stream",
     "text": [
      "=================================\n",
      "begin_total_asset:1000000\n",
      "end_total_asset:7828277.409954643\n",
      "Sharpe:  0.9836702284837083\n",
      "=================================\n"
     ]
    },
    {
     "name": "stderr",
     "output_type": "stream",
     "text": [
      "Episode:  56%|█████▌    | 23/41 [03:43<02:51,  9.55s/it]"
     ]
    },
    {
     "name": "stdout",
     "output_type": "stream",
     "text": [
      "=================================\n",
      "begin_total_asset:1000000\n",
      "end_total_asset:5840325.402580796\n",
      "Sharpe:  1.0538598783560178\n",
      "=================================\n"
     ]
    },
    {
     "name": "stderr",
     "output_type": "stream",
     "text": [
      "Episode:  59%|█████▊    | 24/41 [03:53<02:43,  9.59s/it]"
     ]
    },
    {
     "name": "stdout",
     "output_type": "stream",
     "text": [
      "=================================\n",
      "begin_total_asset:1000000\n",
      "end_total_asset:5422786.436064644\n",
      "Sharpe:  0.8018323011808411\n",
      "=================================\n"
     ]
    },
    {
     "name": "stderr",
     "output_type": "stream",
     "text": [
      "Episode:  61%|██████    | 25/41 [04:03<02:33,  9.62s/it]"
     ]
    },
    {
     "name": "stdout",
     "output_type": "stream",
     "text": [
      "=================================\n",
      "begin_total_asset:1000000\n",
      "end_total_asset:7087717.495926038\n",
      "Sharpe:  0.9705581603564707\n",
      "=================================\n"
     ]
    },
    {
     "name": "stderr",
     "output_type": "stream",
     "text": [
      "Episode:  63%|██████▎   | 26/41 [04:12<02:23,  9.59s/it]"
     ]
    },
    {
     "name": "stdout",
     "output_type": "stream",
     "text": [
      "=================================\n",
      "begin_total_asset:1000000\n",
      "end_total_asset:5356198.259309345\n",
      "Sharpe:  0.8517122661717592\n",
      "=================================\n"
     ]
    },
    {
     "name": "stderr",
     "output_type": "stream",
     "text": [
      "Episode:  66%|██████▌   | 27/41 [04:22<02:14,  9.63s/it]"
     ]
    },
    {
     "name": "stdout",
     "output_type": "stream",
     "text": [
      "=================================\n",
      "begin_total_asset:1000000\n",
      "end_total_asset:6028846.786151424\n",
      "Sharpe:  1.2247109783935823\n",
      "=================================\n"
     ]
    },
    {
     "name": "stderr",
     "output_type": "stream",
     "text": [
      "Episode:  68%|██████▊   | 28/41 [04:31<02:05,  9.63s/it]"
     ]
    },
    {
     "name": "stdout",
     "output_type": "stream",
     "text": [
      "=================================\n",
      "begin_total_asset:1000000\n",
      "end_total_asset:4304981.051941776\n",
      "Sharpe:  0.8014776323101247\n",
      "=================================\n"
     ]
    },
    {
     "name": "stderr",
     "output_type": "stream",
     "text": [
      "Episode:  71%|███████   | 29/41 [04:41<01:55,  9.61s/it]"
     ]
    },
    {
     "name": "stdout",
     "output_type": "stream",
     "text": [
      "=================================\n",
      "begin_total_asset:1000000\n",
      "end_total_asset:1605770.1331021495\n",
      "Sharpe:  0.31398688389234325\n",
      "=================================\n"
     ]
    },
    {
     "name": "stderr",
     "output_type": "stream",
     "text": [
      "Episode:  73%|███████▎  | 30/41 [04:51<01:45,  9.61s/it]"
     ]
    },
    {
     "name": "stdout",
     "output_type": "stream",
     "text": [
      "=================================\n",
      "begin_total_asset:1000000\n",
      "end_total_asset:1712184.9635560622\n",
      "Sharpe:  0.3386641418399555\n",
      "=================================\n"
     ]
    },
    {
     "name": "stderr",
     "output_type": "stream",
     "text": [
      "Episode:  76%|███████▌  | 31/41 [05:00<01:35,  9.59s/it]"
     ]
    },
    {
     "name": "stdout",
     "output_type": "stream",
     "text": [
      "=================================\n",
      "begin_total_asset:1000000\n",
      "end_total_asset:7080080.553430512\n",
      "Sharpe:  0.9353384754343289\n",
      "=================================\n"
     ]
    },
    {
     "name": "stderr",
     "output_type": "stream",
     "text": [
      "Episode:  78%|███████▊  | 32/41 [05:10<01:26,  9.60s/it]"
     ]
    },
    {
     "name": "stdout",
     "output_type": "stream",
     "text": [
      "=================================\n",
      "begin_total_asset:1000000\n",
      "end_total_asset:3688110.1613437016\n",
      "Sharpe:  0.7704758046284678\n",
      "=================================\n"
     ]
    },
    {
     "name": "stderr",
     "output_type": "stream",
     "text": [
      "Episode:  80%|████████  | 33/41 [05:19<01:16,  9.62s/it]"
     ]
    },
    {
     "name": "stdout",
     "output_type": "stream",
     "text": [
      "=================================\n",
      "begin_total_asset:1000000\n",
      "end_total_asset:6668090.848813065\n",
      "Sharpe:  0.8862612271701368\n",
      "=================================\n"
     ]
    },
    {
     "name": "stderr",
     "output_type": "stream",
     "text": [
      "Episode:  83%|████████▎ | 34/41 [05:29<01:07,  9.61s/it]"
     ]
    },
    {
     "name": "stdout",
     "output_type": "stream",
     "text": [
      "=================================\n",
      "begin_total_asset:1000000\n",
      "end_total_asset:3725706.994423975\n",
      "Sharpe:  0.8204841019989022\n",
      "=================================\n"
     ]
    },
    {
     "name": "stderr",
     "output_type": "stream",
     "text": [
      "Episode:  85%|████████▌ | 35/41 [05:39<00:57,  9.61s/it]"
     ]
    },
    {
     "name": "stdout",
     "output_type": "stream",
     "text": [
      "=================================\n",
      "begin_total_asset:1000000\n",
      "end_total_asset:3556164.129189063\n",
      "Sharpe:  0.8090370694408535\n",
      "=================================\n"
     ]
    },
    {
     "name": "stderr",
     "output_type": "stream",
     "text": [
      "Episode:  88%|████████▊ | 36/41 [05:49<00:49,  9.80s/it]"
     ]
    },
    {
     "name": "stdout",
     "output_type": "stream",
     "text": [
      "=================================\n",
      "begin_total_asset:1000000\n",
      "end_total_asset:8136932.37337483\n",
      "Sharpe:  1.2389448188513095\n",
      "=================================\n"
     ]
    },
    {
     "name": "stderr",
     "output_type": "stream",
     "text": [
      "Episode:  90%|█████████ | 37/41 [05:58<00:38,  9.74s/it]"
     ]
    },
    {
     "name": "stdout",
     "output_type": "stream",
     "text": [
      "=================================\n",
      "begin_total_asset:1000000\n",
      "end_total_asset:4202200.3517663535\n",
      "Sharpe:  0.7908851100297104\n",
      "=================================\n"
     ]
    },
    {
     "name": "stderr",
     "output_type": "stream",
     "text": [
      "Episode:  93%|█████████▎| 38/41 [06:08<00:28,  9.67s/it]"
     ]
    },
    {
     "name": "stdout",
     "output_type": "stream",
     "text": [
      "=================================\n",
      "begin_total_asset:1000000\n",
      "end_total_asset:5060553.931991954\n",
      "Sharpe:  1.055636900424603\n",
      "=================================\n"
     ]
    },
    {
     "name": "stderr",
     "output_type": "stream",
     "text": [
      "Episode:  95%|█████████▌| 39/41 [06:18<00:19,  9.68s/it]"
     ]
    },
    {
     "name": "stdout",
     "output_type": "stream",
     "text": [
      "=================================\n",
      "begin_total_asset:1000000\n",
      "end_total_asset:4836179.080486088\n",
      "Sharpe:  0.7966960987732657\n",
      "=================================\n"
     ]
    },
    {
     "name": "stderr",
     "output_type": "stream",
     "text": [
      "Episode:  98%|█████████▊| 40/41 [06:27<00:09,  9.72s/it]"
     ]
    },
    {
     "name": "stdout",
     "output_type": "stream",
     "text": [
      "=================================\n",
      "begin_total_asset:1000000\n",
      "end_total_asset:7316748.283117177\n",
      "Sharpe:  0.9078935872996072\n",
      "=================================\n"
     ]
    },
    {
     "name": "stderr",
     "output_type": "stream",
     "text": [
      "                                                        "
     ]
    },
    {
     "name": "stdout",
     "output_type": "stream",
     "text": [
      "=================================\n",
      "begin_total_asset:1000000\n",
      "end_total_asset:2737533.300727771\n",
      "Sharpe:  0.7346163801197808\n",
      "=================================\n"
     ]
    },
    {
     "name": "stderr",
     "output_type": "stream",
     "text": [
      "Episode:   2%|▏         | 1/46 [00:09<07:23,  9.85s/it]"
     ]
    },
    {
     "name": "stdout",
     "output_type": "stream",
     "text": [
      "=================================\n",
      "begin_total_asset:1000000\n",
      "end_total_asset:9562009.399786785\n",
      "Sharpe:  1.030284058672382\n",
      "=================================\n"
     ]
    },
    {
     "name": "stderr",
     "output_type": "stream",
     "text": [
      "Episode:   4%|▍         | 2/46 [00:19<07:06,  9.69s/it]"
     ]
    },
    {
     "name": "stdout",
     "output_type": "stream",
     "text": [
      "=================================\n",
      "begin_total_asset:1000000\n",
      "end_total_asset:5558820.145575423\n",
      "Sharpe:  0.9647065220675085\n",
      "=================================\n"
     ]
    },
    {
     "name": "stderr",
     "output_type": "stream",
     "text": [
      "Episode:   7%|▋         | 3/46 [00:28<06:54,  9.63s/it]"
     ]
    },
    {
     "name": "stdout",
     "output_type": "stream",
     "text": [
      "=================================\n",
      "begin_total_asset:1000000\n",
      "end_total_asset:5085550.221621058\n",
      "Sharpe:  0.9010768646474344\n",
      "=================================\n"
     ]
    },
    {
     "name": "stderr",
     "output_type": "stream",
     "text": [
      "Episode:   9%|▊         | 4/46 [00:38<06:43,  9.61s/it]"
     ]
    },
    {
     "name": "stdout",
     "output_type": "stream",
     "text": [
      "=================================\n",
      "begin_total_asset:1000000\n",
      "end_total_asset:3715939.745986743\n",
      "Sharpe:  0.738370940083832\n",
      "=================================\n"
     ]
    },
    {
     "name": "stderr",
     "output_type": "stream",
     "text": [
      "Episode:  11%|█         | 5/46 [00:48<06:33,  9.60s/it]"
     ]
    },
    {
     "name": "stdout",
     "output_type": "stream",
     "text": [
      "=================================\n",
      "begin_total_asset:1000000\n",
      "end_total_asset:8375533.852643352\n",
      "Sharpe:  1.007162451349071\n",
      "=================================\n"
     ]
    },
    {
     "name": "stderr",
     "output_type": "stream",
     "text": [
      "Episode:  13%|█▎        | 6/46 [00:57<06:24,  9.61s/it]"
     ]
    },
    {
     "name": "stdout",
     "output_type": "stream",
     "text": [
      "=================================\n",
      "begin_total_asset:1000000\n",
      "end_total_asset:4724302.988348214\n",
      "Sharpe:  0.9378334027931486\n",
      "=================================\n"
     ]
    },
    {
     "name": "stderr",
     "output_type": "stream",
     "text": [
      "Episode:  15%|█▌        | 7/46 [01:07<06:14,  9.60s/it]"
     ]
    },
    {
     "name": "stdout",
     "output_type": "stream",
     "text": [
      "=================================\n",
      "begin_total_asset:1000000\n",
      "end_total_asset:7961604.993217892\n",
      "Sharpe:  0.9977693332422689\n",
      "=================================\n"
     ]
    },
    {
     "name": "stderr",
     "output_type": "stream",
     "text": [
      "Episode:  17%|█▋        | 8/46 [01:16<06:04,  9.58s/it]"
     ]
    },
    {
     "name": "stdout",
     "output_type": "stream",
     "text": [
      "=================================\n",
      "begin_total_asset:1000000\n",
      "end_total_asset:5491564.341323314\n",
      "Sharpe:  0.9176101582759625\n",
      "=================================\n"
     ]
    },
    {
     "name": "stderr",
     "output_type": "stream",
     "text": [
      "Episode:  20%|█▉        | 9/46 [01:26<05:54,  9.58s/it]"
     ]
    },
    {
     "name": "stdout",
     "output_type": "stream",
     "text": [
      "=================================\n",
      "begin_total_asset:1000000\n",
      "end_total_asset:6290822.032915974\n",
      "Sharpe:  1.1375027500375516\n",
      "=================================\n"
     ]
    },
    {
     "name": "stderr",
     "output_type": "stream",
     "text": [
      "Episode:  22%|██▏       | 10/46 [01:36<05:44,  9.57s/it]"
     ]
    },
    {
     "name": "stdout",
     "output_type": "stream",
     "text": [
      "=================================\n",
      "begin_total_asset:1000000\n",
      "end_total_asset:6569491.301380661\n",
      "Sharpe:  1.1477685161141704\n",
      "=================================\n"
     ]
    },
    {
     "name": "stderr",
     "output_type": "stream",
     "text": [
      "Episode:  24%|██▍       | 11/46 [01:45<05:35,  9.58s/it]"
     ]
    },
    {
     "name": "stdout",
     "output_type": "stream",
     "text": [
      "=================================\n",
      "begin_total_asset:1000000\n",
      "end_total_asset:16131528.293900011\n",
      "Sharpe:  1.3478071229541095\n",
      "=================================\n"
     ]
    },
    {
     "name": "stderr",
     "output_type": "stream",
     "text": [
      "Episode:  26%|██▌       | 12/46 [01:55<05:26,  9.61s/it]"
     ]
    },
    {
     "name": "stdout",
     "output_type": "stream",
     "text": [
      "=================================\n",
      "begin_total_asset:1000000\n",
      "end_total_asset:5303446.225507117\n",
      "Sharpe:  0.9104376544610971\n",
      "=================================\n"
     ]
    },
    {
     "name": "stderr",
     "output_type": "stream",
     "text": [
      "Episode:  28%|██▊       | 13/46 [02:04<05:16,  9.60s/it]"
     ]
    },
    {
     "name": "stdout",
     "output_type": "stream",
     "text": [
      "=================================\n",
      "begin_total_asset:1000000\n",
      "end_total_asset:9320833.968787769\n",
      "Sharpe:  1.0073243247015848\n",
      "=================================\n"
     ]
    },
    {
     "name": "stderr",
     "output_type": "stream",
     "text": [
      "Episode:  30%|███       | 14/46 [02:14<05:08,  9.63s/it]"
     ]
    },
    {
     "name": "stdout",
     "output_type": "stream",
     "text": [
      "=================================\n",
      "begin_total_asset:1000000\n",
      "end_total_asset:10299774.28600449\n",
      "Sharpe:  1.0761802470359285\n",
      "=================================\n"
     ]
    },
    {
     "name": "stderr",
     "output_type": "stream",
     "text": [
      "Episode:  33%|███▎      | 15/46 [02:24<04:58,  9.63s/it]"
     ]
    },
    {
     "name": "stdout",
     "output_type": "stream",
     "text": [
      "=================================\n",
      "begin_total_asset:1000000\n",
      "end_total_asset:3732551.8241272774\n",
      "Sharpe:  0.8650361469734873\n",
      "=================================\n"
     ]
    },
    {
     "name": "stderr",
     "output_type": "stream",
     "text": [
      "Episode:  35%|███▍      | 16/46 [02:33<04:47,  9.60s/it]"
     ]
    },
    {
     "name": "stdout",
     "output_type": "stream",
     "text": [
      "=================================\n",
      "begin_total_asset:1000000\n",
      "end_total_asset:6174452.773538\n",
      "Sharpe:  0.8891299265719599\n",
      "=================================\n"
     ]
    },
    {
     "name": "stderr",
     "output_type": "stream",
     "text": [
      "Episode:  37%|███▋      | 17/46 [02:43<04:38,  9.59s/it]"
     ]
    },
    {
     "name": "stdout",
     "output_type": "stream",
     "text": [
      "=================================\n",
      "begin_total_asset:1000000\n",
      "end_total_asset:3678487.973859839\n",
      "Sharpe:  0.7074114535029796\n",
      "=================================\n"
     ]
    },
    {
     "name": "stderr",
     "output_type": "stream",
     "text": [
      "Episode:  39%|███▉      | 18/46 [02:52<04:29,  9.62s/it]"
     ]
    },
    {
     "name": "stdout",
     "output_type": "stream",
     "text": [
      "=================================\n",
      "begin_total_asset:1000000\n",
      "end_total_asset:3775463.570245477\n",
      "Sharpe:  0.7746180516448341\n",
      "=================================\n"
     ]
    },
    {
     "name": "stderr",
     "output_type": "stream",
     "text": [
      "Episode:  41%|████▏     | 19/46 [03:02<04:20,  9.63s/it]"
     ]
    },
    {
     "name": "stdout",
     "output_type": "stream",
     "text": [
      "=================================\n",
      "begin_total_asset:1000000\n",
      "end_total_asset:3893954.397450571\n",
      "Sharpe:  0.7436202197374154\n",
      "=================================\n"
     ]
    },
    {
     "name": "stderr",
     "output_type": "stream",
     "text": [
      "Episode:  43%|████▎     | 20/46 [03:12<04:09,  9.60s/it]"
     ]
    },
    {
     "name": "stdout",
     "output_type": "stream",
     "text": [
      "=================================\n",
      "begin_total_asset:1000000\n",
      "end_total_asset:4034403.898189133\n",
      "Sharpe:  0.7767168467258967\n",
      "=================================\n"
     ]
    },
    {
     "name": "stderr",
     "output_type": "stream",
     "text": [
      "Episode:  46%|████▌     | 21/46 [03:21<03:59,  9.58s/it]"
     ]
    },
    {
     "name": "stdout",
     "output_type": "stream",
     "text": [
      "=================================\n",
      "begin_total_asset:1000000\n",
      "end_total_asset:11094621.50279269\n",
      "Sharpe:  1.0780661514006113\n",
      "=================================\n"
     ]
    },
    {
     "name": "stderr",
     "output_type": "stream",
     "text": [
      "Episode:  48%|████▊     | 22/46 [03:31<03:53,  9.74s/it]"
     ]
    },
    {
     "name": "stdout",
     "output_type": "stream",
     "text": [
      "=================================\n",
      "begin_total_asset:1000000\n",
      "end_total_asset:5200388.036340272\n",
      "Sharpe:  0.9898330993041848\n",
      "=================================\n"
     ]
    },
    {
     "name": "stderr",
     "output_type": "stream",
     "text": [
      "Episode:  50%|█████     | 23/46 [03:41<03:42,  9.69s/it]"
     ]
    },
    {
     "name": "stdout",
     "output_type": "stream",
     "text": [
      "=================================\n",
      "begin_total_asset:1000000\n",
      "end_total_asset:3083654.76700874\n",
      "Sharpe:  0.782928480617201\n",
      "=================================\n"
     ]
    },
    {
     "name": "stderr",
     "output_type": "stream",
     "text": [
      "Episode:  52%|█████▏    | 24/46 [03:51<03:32,  9.67s/it]"
     ]
    },
    {
     "name": "stdout",
     "output_type": "stream",
     "text": [
      "=================================\n",
      "begin_total_asset:1000000\n",
      "end_total_asset:5958213.003728541\n",
      "Sharpe:  0.9209897404892115\n",
      "=================================\n"
     ]
    },
    {
     "name": "stderr",
     "output_type": "stream",
     "text": [
      "Episode:  54%|█████▍    | 25/46 [04:00<03:21,  9.60s/it]"
     ]
    },
    {
     "name": "stdout",
     "output_type": "stream",
     "text": [
      "=================================\n",
      "begin_total_asset:1000000\n",
      "end_total_asset:5610207.968756306\n",
      "Sharpe:  1.0245543009044253\n",
      "=================================\n"
     ]
    },
    {
     "name": "stderr",
     "output_type": "stream",
     "text": [
      "Episode:  57%|█████▋    | 26/46 [04:10<03:11,  9.58s/it]"
     ]
    },
    {
     "name": "stdout",
     "output_type": "stream",
     "text": [
      "=================================\n",
      "begin_total_asset:1000000\n",
      "end_total_asset:11189726.524672164\n",
      "Sharpe:  1.240183919306418\n",
      "=================================\n"
     ]
    },
    {
     "name": "stderr",
     "output_type": "stream",
     "text": [
      "Episode:  59%|█████▊    | 27/46 [04:19<03:01,  9.56s/it]"
     ]
    },
    {
     "name": "stdout",
     "output_type": "stream",
     "text": [
      "=================================\n",
      "begin_total_asset:1000000\n",
      "end_total_asset:7950993.637787206\n",
      "Sharpe:  1.1749889168673928\n",
      "=================================\n"
     ]
    },
    {
     "name": "stderr",
     "output_type": "stream",
     "text": [
      "Episode:  61%|██████    | 28/46 [04:29<02:52,  9.57s/it]"
     ]
    },
    {
     "name": "stdout",
     "output_type": "stream",
     "text": [
      "=================================\n",
      "begin_total_asset:1000000\n",
      "end_total_asset:4226293.466754638\n",
      "Sharpe:  0.8972388270167865\n",
      "=================================\n"
     ]
    },
    {
     "name": "stderr",
     "output_type": "stream",
     "text": [
      "Episode:  63%|██████▎   | 29/46 [04:38<02:42,  9.57s/it]"
     ]
    },
    {
     "name": "stdout",
     "output_type": "stream",
     "text": [
      "=================================\n",
      "begin_total_asset:1000000\n",
      "end_total_asset:12902568.7128343\n",
      "Sharpe:  1.1245765542186195\n",
      "=================================\n"
     ]
    },
    {
     "name": "stderr",
     "output_type": "stream",
     "text": [
      "Episode:  65%|██████▌   | 30/46 [04:48<02:33,  9.60s/it]"
     ]
    },
    {
     "name": "stdout",
     "output_type": "stream",
     "text": [
      "=================================\n",
      "begin_total_asset:1000000\n",
      "end_total_asset:1908614.82342606\n",
      "Sharpe:  0.460376424036224\n",
      "=================================\n"
     ]
    },
    {
     "name": "stderr",
     "output_type": "stream",
     "text": [
      "Episode:  67%|██████▋   | 31/46 [04:57<02:23,  9.59s/it]"
     ]
    },
    {
     "name": "stdout",
     "output_type": "stream",
     "text": [
      "=================================\n",
      "begin_total_asset:1000000\n",
      "end_total_asset:14609991.446962908\n",
      "Sharpe:  1.3645334544502628\n",
      "=================================\n"
     ]
    },
    {
     "name": "stderr",
     "output_type": "stream",
     "text": [
      "Episode:  70%|██████▉   | 32/46 [05:07<02:14,  9.60s/it]"
     ]
    },
    {
     "name": "stdout",
     "output_type": "stream",
     "text": [
      "=================================\n",
      "begin_total_asset:1000000\n",
      "end_total_asset:7235339.81042209\n",
      "Sharpe:  1.473321863199593\n",
      "=================================\n"
     ]
    },
    {
     "name": "stderr",
     "output_type": "stream",
     "text": [
      "Episode:  72%|███████▏  | 33/46 [05:17<02:06,  9.71s/it]"
     ]
    },
    {
     "name": "stdout",
     "output_type": "stream",
     "text": [
      "=================================\n",
      "begin_total_asset:1000000\n",
      "end_total_asset:6176436.103029097\n",
      "Sharpe:  0.9184064053083452\n",
      "=================================\n"
     ]
    },
    {
     "name": "stderr",
     "output_type": "stream",
     "text": [
      "Episode:  74%|███████▍  | 34/46 [05:27<01:56,  9.67s/it]"
     ]
    },
    {
     "name": "stdout",
     "output_type": "stream",
     "text": [
      "=================================\n",
      "begin_total_asset:1000000\n",
      "end_total_asset:3110200.3314245814\n",
      "Sharpe:  0.9838507346045459\n",
      "=================================\n"
     ]
    },
    {
     "name": "stderr",
     "output_type": "stream",
     "text": [
      "Episode:  76%|███████▌  | 35/46 [05:36<01:45,  9.63s/it]"
     ]
    },
    {
     "name": "stdout",
     "output_type": "stream",
     "text": [
      "=================================\n",
      "begin_total_asset:1000000\n",
      "end_total_asset:3129417.7255290537\n",
      "Sharpe:  0.572411891557574\n",
      "=================================\n"
     ]
    },
    {
     "name": "stderr",
     "output_type": "stream",
     "text": [
      "Episode:  78%|███████▊  | 36/46 [05:46<01:36,  9.61s/it]"
     ]
    },
    {
     "name": "stdout",
     "output_type": "stream",
     "text": [
      "=================================\n",
      "begin_total_asset:1000000\n",
      "end_total_asset:6951330.979068124\n",
      "Sharpe:  1.3529501293392472\n",
      "=================================\n"
     ]
    },
    {
     "name": "stderr",
     "output_type": "stream",
     "text": [
      "Episode:  80%|████████  | 37/46 [05:55<01:26,  9.59s/it]"
     ]
    },
    {
     "name": "stdout",
     "output_type": "stream",
     "text": [
      "=================================\n",
      "begin_total_asset:1000000\n",
      "end_total_asset:4836084.719031206\n",
      "Sharpe:  0.8536852284237973\n",
      "=================================\n"
     ]
    },
    {
     "name": "stderr",
     "output_type": "stream",
     "text": [
      "Episode:  83%|████████▎ | 38/46 [06:05<01:16,  9.61s/it]"
     ]
    },
    {
     "name": "stdout",
     "output_type": "stream",
     "text": [
      "=================================\n",
      "begin_total_asset:1000000\n",
      "end_total_asset:2035474.8483733202\n",
      "Sharpe:  0.5341247111808402\n",
      "=================================\n"
     ]
    },
    {
     "name": "stderr",
     "output_type": "stream",
     "text": [
      "Episode:  85%|████████▍ | 39/46 [06:14<01:07,  9.61s/it]"
     ]
    },
    {
     "name": "stdout",
     "output_type": "stream",
     "text": [
      "=================================\n",
      "begin_total_asset:1000000\n",
      "end_total_asset:3570736.332761925\n",
      "Sharpe:  0.7798413099676083\n",
      "=================================\n"
     ]
    },
    {
     "name": "stderr",
     "output_type": "stream",
     "text": [
      "Episode:  87%|████████▋ | 40/46 [06:24<00:57,  9.60s/it]"
     ]
    },
    {
     "name": "stdout",
     "output_type": "stream",
     "text": [
      "=================================\n",
      "begin_total_asset:1000000\n",
      "end_total_asset:4057702.4369112854\n",
      "Sharpe:  0.8260535375861998\n",
      "=================================\n"
     ]
    },
    {
     "name": "stderr",
     "output_type": "stream",
     "text": [
      "Episode:  89%|████████▉ | 41/46 [06:34<00:48,  9.60s/it]"
     ]
    },
    {
     "name": "stdout",
     "output_type": "stream",
     "text": [
      "=================================\n",
      "begin_total_asset:1000000\n",
      "end_total_asset:4354429.853058969\n",
      "Sharpe:  0.8689365138553999\n",
      "=================================\n"
     ]
    },
    {
     "name": "stderr",
     "output_type": "stream",
     "text": [
      "Episode:  91%|█████████▏| 42/46 [06:43<00:38,  9.59s/it]"
     ]
    },
    {
     "name": "stdout",
     "output_type": "stream",
     "text": [
      "=================================\n",
      "begin_total_asset:1000000\n",
      "end_total_asset:3354444.425565229\n",
      "Sharpe:  0.7209550308227123\n",
      "=================================\n"
     ]
    },
    {
     "name": "stderr",
     "output_type": "stream",
     "text": [
      "Episode:  93%|█████████▎| 43/46 [06:53<00:28,  9.57s/it]"
     ]
    },
    {
     "name": "stdout",
     "output_type": "stream",
     "text": [
      "=================================\n",
      "begin_total_asset:1000000\n",
      "end_total_asset:4880561.667422167\n",
      "Sharpe:  0.758569713271492\n",
      "=================================\n"
     ]
    },
    {
     "name": "stderr",
     "output_type": "stream",
     "text": [
      "Episode:  96%|█████████▌| 44/46 [07:03<00:19,  9.72s/it]"
     ]
    },
    {
     "name": "stdout",
     "output_type": "stream",
     "text": [
      "=================================\n",
      "begin_total_asset:1000000\n",
      "end_total_asset:7426841.437843806\n",
      "Sharpe:  0.9471301227072074\n",
      "=================================\n"
     ]
    },
    {
     "name": "stderr",
     "output_type": "stream",
     "text": [
      "Episode:  98%|█████████▊| 45/46 [07:12<00:09,  9.67s/it]"
     ]
    },
    {
     "name": "stdout",
     "output_type": "stream",
     "text": [
      "=================================\n",
      "begin_total_asset:1000000\n",
      "end_total_asset:2886697.3975391737\n",
      "Sharpe:  0.6770294124844685\n",
      "=================================\n"
     ]
    },
    {
     "name": "stderr",
     "output_type": "stream",
     "text": [
      "                                                        "
     ]
    },
    {
     "name": "stdout",
     "output_type": "stream",
     "text": [
      "=================================\n",
      "begin_total_asset:1000000\n",
      "end_total_asset:5090542.751736884\n",
      "Sharpe:  0.8712972054109802\n",
      "=================================\n"
     ]
    },
    {
     "name": "stderr",
     "output_type": "stream",
     "text": [
      "\r"
     ]
    }
   ],
   "source": [
    "assets = []\n",
    "episodes_for_training = list(range(1,51, 5))\n",
    "for e in episodes_for_training:\n",
    "    # todo, Need to test performance on \n",
    "    e_train_gym_single_stock_sarsa = StockPortfolioEnv(df = train, **env_kwargs)\n",
    "    sarsa_single_stock(e_train_gym_single_stock_sarsa, num_episodes=e, gamma=0.99, epsilon=0.1, step_size=0.5, stock=0)\n",
    "    assets.append(e_train_gym_single_stock_sarsa.asset_memory)\n",
    "    e_train_gym_single_stock_sarsa.reset()\n",
    "    "
   ],
   "metadata": {
    "collapsed": false,
    "ExecuteTime": {
     "end_time": "2023-11-28T01:02:40.014106600Z",
     "start_time": "2023-11-28T00:23:40.809900900Z"
    }
   },
   "id": "b47811eb05f57243"
  },
  {
   "cell_type": "code",
   "execution_count": 43,
   "outputs": [
    {
     "data": {
      "text/plain": "<Figure size 640x480 with 1 Axes>",
      "image/png": "[encoded data removed]"
     },
     "metadata": {},
     "output_type": "display_data"
    },
    {
     "data": {
      "text/plain": "<Figure size 640x480 with 1 Axes>",
      "image/png": "[encoded data removed]"
     },
     "metadata": {},
     "output_type": "display_data"
    }
   ],
   "source": [
    "for e, x in zip(episodes_for_training, assets):\n",
    "    plt.plot(list(range(len(x))), x, label=f\"training episodes {e}\")\n",
    "plt.legend()\n",
    "plt.show()\n",
    "\n",
    "final_amounts = [mem[-1] for mem in assets]\n",
    "plt.plot(episodes_for_training, final_amounts)\n",
    "plt.show()\n"
   ],
   "metadata": {
    "collapsed": false,
    "ExecuteTime": {
     "end_time": "2023-11-28T01:02:40.359335100Z",
     "start_time": "2023-11-28T01:02:40.015107Z"
    }
   },
   "id": "31a3f4e5504509c3"
  },
  {
   "cell_type": "code",
   "execution_count": 21,
   "outputs": [],
   "source": [
    "# "
   ],
   "metadata": {
    "collapsed": false,
    "ExecuteTime": {
     "end_time": "2023-11-27T23:54:28.709658500Z",
     "start_time": "2023-11-27T23:54:28.692628800Z"
    }
   },
   "id": "92da09a7014f2a94"
  }
 ],
 "metadata": {
  "kernelspec": {
   "display_name": "Python 3",
   "language": "python",
   "name": "python3"
  },
  "language_info": {
   "codemirror_mode": {
    "name": "ipython",
    "version": 2
   },
   "file_extension": ".py",
   "mimetype": "text/x-python",
   "name": "python",
   "nbconvert_exporter": "python",
   "pygments_lexer": "ipython2",
   "version": "2.7.6"
  }
 },
 "nbformat": 4,
 "nbformat_minor": 5
}
