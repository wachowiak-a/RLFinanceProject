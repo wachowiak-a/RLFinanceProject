{
 "cells": [
  {
   "cell_type": "code",
   "execution_count": 14,
   "id": "initial_id",
   "metadata": {
    "collapsed": true,
    "ExecuteTime": {
     "end_time": "2023-11-29T20:52:55.785039600Z",
     "start_time": "2023-11-29T20:52:55.752926200Z"
    }
   },
   "outputs": [],
   "source": [
    "import random\n",
    "\n",
    "from finrl.meta.env_portfolio_allocation import env_portfolio\n",
    "\n",
    "import pandas as pd\n",
    "import numpy as np\n",
    "import gym\n",
    "from typing import Callable, Tuple\n",
    "from collections import defaultdict\n",
    "from tqdm import trange\n"
   ]
  },
  {
   "cell_type": "code",
   "execution_count": 15,
   "outputs": [],
   "source": [
    "def generate_episode(env: gym.Env, policy: Callable, es: bool = False):\n",
    "    \"\"\"A function to generate one episode and collect the sequence of (s, a, r) tuples\n",
    "\n",
    "    This function will be useful for implementing the MC methods\n",
    "\n",
    "    Args:\n",
    "        env (gym.Env): a Gym API compatible environment\n",
    "        policy (Callable): A function that represents the policy.\n",
    "        es (bool): Whether to use exploring starts or not\n",
    "    \"\"\"\n",
    "    episode = []\n",
    "    state = env.reset()\n",
    "    while True:\n",
    "        if es and len(episode) == 0:\n",
    "            action = env.action_space.sample()\n",
    "        else:\n",
    "            action = policy(state)\n",
    "\n",
    "        next_state, reward, done, _ = env.step(action)\n",
    "        episode.append((state, action, reward))\n",
    "        if done:\n",
    "            break\n",
    "        state = next_state\n",
    "\n",
    "    return episode\n"
   ],
   "metadata": {
    "collapsed": false,
    "ExecuteTime": {
     "end_time": "2023-11-29T20:52:55.837186700Z",
     "start_time": "2023-11-29T20:52:55.765444300Z"
    }
   },
   "id": "e145df452125bc37"
  },
  {
   "cell_type": "code",
   "execution_count": 16,
   "outputs": [
    {
     "name": "stdout",
     "output_type": "stream",
     "text": [
      "['AXP', 'AMGN', 'AAPL', 'BA', 'CAT', 'CSCO', 'CVX', 'GS', 'HD', 'HON', 'IBM', 'INTC', 'JNJ', 'KO', 'JPM', 'MCD', 'MMM', 'MRK', 'MSFT', 'NKE', 'PG', 'TRV', 'UNH', 'CRM', 'VZ', 'V', 'WBA', 'WMT', 'DIS', 'DOW']\n",
      "[*********************100%%**********************]  1 of 1 completed\n",
      "[*********************100%%**********************]  1 of 1 completed\n",
      "[*********************100%%**********************]  1 of 1 completed\n",
      "[*********************100%%**********************]  1 of 1 completed\n",
      "[*********************100%%**********************]  1 of 1 completed\n",
      "[*********************100%%**********************]  1 of 1 completed\n",
      "[*********************100%%**********************]  1 of 1 completed\n",
      "[*********************100%%**********************]  1 of 1 completed\n",
      "[*********************100%%**********************]  1 of 1 completed\n",
      "[*********************100%%**********************]  1 of 1 completed\n",
      "[*********************100%%**********************]  1 of 1 completed\n",
      "[*********************100%%**********************]  1 of 1 completed\n",
      "[*********************100%%**********************]  1 of 1 completed\n",
      "[*********************100%%**********************]  1 of 1 completed\n",
      "[*********************100%%**********************]  1 of 1 completed\n",
      "[*********************100%%**********************]  1 of 1 completed\n",
      "[*********************100%%**********************]  1 of 1 completed\n",
      "[*********************100%%**********************]  1 of 1 completed\n",
      "[*********************100%%**********************]  1 of 1 completed\n",
      "[*********************100%%**********************]  1 of 1 completed\n",
      "[*********************100%%**********************]  1 of 1 completed\n",
      "[*********************100%%**********************]  1 of 1 completed\n",
      "[*********************100%%**********************]  1 of 1 completed\n",
      "[*********************100%%**********************]  1 of 1 completed\n",
      "[*********************100%%**********************]  1 of 1 completed\n",
      "[*********************100%%**********************]  1 of 1 completed\n",
      "[*********************100%%**********************]  1 of 1 completed\n",
      "[*********************100%%**********************]  1 of 1 completed\n",
      "[*********************100%%**********************]  1 of 1 completed\n",
      "[*********************100%%**********************]  1 of 1 completed\n",
      "Shape of DataFrame:  (101615, 8)\n"
     ]
    },
    {
     "data": {
      "text/plain": "(101615, 8)"
     },
     "execution_count": 16,
     "metadata": {},
     "output_type": "execute_result"
    }
   ],
   "source": [
    "############STUFF GRABBED FROM FINRL TUTORIAL\n",
    "import matplotlib\n",
    "import matplotlib.pyplot as plt\n",
    "\n",
    "%matplotlib inline\n",
    "import datetime\n",
    "\n",
    "from finrl import config\n",
    "from finrl import config_tickers\n",
    "from finrl.meta.preprocessor.yahoodownloader import YahooDownloader\n",
    "from finrl.meta.preprocessor.preprocessors import FeatureEngineer, data_split\n",
    "from environments.portfolio_without_softmax import StockPortfolioEnv\n",
    "from finrl.agents.stablebaselines3.models import DRLAgent\n",
    "from finrl.plot import backtest_stats, backtest_plot, get_daily_return, get_baseline, convert_daily_return_to_pyfolio_ts\n",
    "from finrl.meta.data_processor import DataProcessor\n",
    "from finrl.meta.data_processors.processor_yahoofinance import YahooFinanceProcessor\n",
    "import sys\n",
    "\n",
    "## 2.4. Create Folders\n",
    "import os\n",
    "\n",
    "if not os.path.exists(\"./\" + config.DATA_SAVE_DIR):\n",
    "    os.makedirs(\"./\" + config.DATA_SAVE_DIR)\n",
    "if not os.path.exists(\"./\" + config.TRAINED_MODEL_DIR):\n",
    "    os.makedirs(\"./\" + config.TRAINED_MODEL_DIR)\n",
    "if not os.path.exists(\"./\" + config.TENSORBOARD_LOG_DIR):\n",
    "    os.makedirs(\"./\" + config.TENSORBOARD_LOG_DIR)\n",
    "if not os.path.exists(\"./\" + config.RESULTS_DIR):\n",
    "    os.makedirs(\"./\" + config.RESULTS_DIR)\n",
    "\n",
    "print(config_tickers.DOW_30_TICKER)\n",
    "#dp = YahooFinanceProcessor()\n",
    "#df = dp.download_data\n",
    "\n",
    "df = YahooDownloader(start_date='2008-01-01',\n",
    "                     end_date='2021-10-31',\n",
    "                     ticker_list=config_tickers.DOW_30_TICKER).fetch_data()\n",
    "\n",
    "df.head()\n",
    "df.shape\n"
   ],
   "metadata": {
    "collapsed": false,
    "ExecuteTime": {
     "end_time": "2023-11-29T20:53:06.327862700Z",
     "start_time": "2023-11-29T20:52:55.785039600Z"
    }
   },
   "id": "fa1e3d58f36f10e4"
  },
  {
   "cell_type": "code",
   "execution_count": 17,
   "outputs": [
    {
     "name": "stdout",
     "output_type": "stream",
     "text": [
      "Successfully added technical indicators\n"
     ]
    },
    {
     "data": {
      "text/plain": "             date       open       high        low      close      volume  \\\n0      2008-01-02   7.116786   7.152143   6.876786   5.898639  1079178800   \n3483   2008-01-02  46.599998  47.040001  46.259998  33.761406     7934400   \n6966   2008-01-02  52.090000  52.320000  50.790001  39.588005     8053700   \n10449  2008-01-02  87.570000  87.839996  86.000000  63.481621     4303000   \n13932  2008-01-02  72.559998  72.669998  70.050003  45.605473     6337800   \n\n        tic  day  macd   boll_ub   boll_lb  rsi_30     cci_30  dx_30  \\\n0      AAPL    2   0.0  5.903856  5.896148   100.0 -66.666667  100.0   \n3483   AMGN    2   0.0  5.903856  5.896148   100.0 -66.666667  100.0   \n6966    AXP    2   0.0  5.903856  5.896148   100.0 -66.666667  100.0   \n10449    BA    2   0.0  5.903856  5.896148   100.0 -66.666667  100.0   \n13932   CAT    2   0.0  5.903856  5.896148   100.0 -66.666667  100.0   \n\n       close_30_sma  close_60_sma  \n0          5.898639      5.898639  \n3483      33.761406     33.761406  \n6966      39.588005     39.588005  \n10449     63.481621     63.481621  \n13932     45.605473     45.605473  ",
      "text/html": "<div>\n<style scoped>\n    .dataframe tbody tr th:only-of-type {\n        vertical-align: middle;\n    }\n\n    .dataframe tbody tr th {\n        vertical-align: top;\n    }\n\n    .dataframe thead th {\n        text-align: right;\n    }\n</style>\n<table border=\"1\" class=\"dataframe\">\n  <thead>\n    <tr style=\"text-align: right;\">\n      <th></th>\n      <th>date</th>\n      <th>open</th>\n      <th>high</th>\n      <th>low</th>\n      <th>close</th>\n      <th>volume</th>\n      <th>tic</th>\n      <th>day</th>\n      <th>macd</th>\n      <th>boll_ub</th>\n      <th>boll_lb</th>\n      <th>rsi_30</th>\n      <th>cci_30</th>\n      <th>dx_30</th>\n      <th>close_30_sma</th>\n      <th>close_60_sma</th>\n    </tr>\n  </thead>\n  <tbody>\n    <tr>\n      <th>0</th>\n      <td>2008-01-02</td>\n      <td>7.116786</td>\n      <td>7.152143</td>\n      <td>6.876786</td>\n      <td>5.898639</td>\n      <td>1079178800</td>\n      <td>AAPL</td>\n      <td>2</td>\n      <td>0.0</td>\n      <td>5.903856</td>\n      <td>5.896148</td>\n      <td>100.0</td>\n      <td>-66.666667</td>\n      <td>100.0</td>\n      <td>5.898639</td>\n      <td>5.898639</td>\n    </tr>\n    <tr>\n      <th>3483</th>\n      <td>2008-01-02</td>\n      <td>46.599998</td>\n      <td>47.040001</td>\n      <td>46.259998</td>\n      <td>33.761406</td>\n      <td>7934400</td>\n      <td>AMGN</td>\n      <td>2</td>\n      <td>0.0</td>\n      <td>5.903856</td>\n      <td>5.896148</td>\n      <td>100.0</td>\n      <td>-66.666667</td>\n      <td>100.0</td>\n      <td>33.761406</td>\n      <td>33.761406</td>\n    </tr>\n    <tr>\n      <th>6966</th>\n      <td>2008-01-02</td>\n      <td>52.090000</td>\n      <td>52.320000</td>\n      <td>50.790001</td>\n      <td>39.588005</td>\n      <td>8053700</td>\n      <td>AXP</td>\n      <td>2</td>\n      <td>0.0</td>\n      <td>5.903856</td>\n      <td>5.896148</td>\n      <td>100.0</td>\n      <td>-66.666667</td>\n      <td>100.0</td>\n      <td>39.588005</td>\n      <td>39.588005</td>\n    </tr>\n    <tr>\n      <th>10449</th>\n      <td>2008-01-02</td>\n      <td>87.570000</td>\n      <td>87.839996</td>\n      <td>86.000000</td>\n      <td>63.481621</td>\n      <td>4303000</td>\n      <td>BA</td>\n      <td>2</td>\n      <td>0.0</td>\n      <td>5.903856</td>\n      <td>5.896148</td>\n      <td>100.0</td>\n      <td>-66.666667</td>\n      <td>100.0</td>\n      <td>63.481621</td>\n      <td>63.481621</td>\n    </tr>\n    <tr>\n      <th>13932</th>\n      <td>2008-01-02</td>\n      <td>72.559998</td>\n      <td>72.669998</td>\n      <td>70.050003</td>\n      <td>45.605473</td>\n      <td>6337800</td>\n      <td>CAT</td>\n      <td>2</td>\n      <td>0.0</td>\n      <td>5.903856</td>\n      <td>5.896148</td>\n      <td>100.0</td>\n      <td>-66.666667</td>\n      <td>100.0</td>\n      <td>45.605473</td>\n      <td>45.605473</td>\n    </tr>\n  </tbody>\n</table>\n</div>"
     },
     "execution_count": 17,
     "metadata": {},
     "output_type": "execute_result"
    }
   ],
   "source": [
    "fe = FeatureEngineer(\n",
    "    use_technical_indicator=True,\n",
    "    use_turbulence=False,\n",
    "    user_defined_feature=False)\n",
    "\n",
    "df = fe.preprocess_data(df)\n",
    "df.shape\n",
    "df.head()"
   ],
   "metadata": {
    "collapsed": false,
    "ExecuteTime": {
     "end_time": "2023-11-29T20:53:29.746372Z",
     "start_time": "2023-11-29T20:53:06.325346700Z"
    }
   },
   "id": "5f03e9d7673ba9fb"
  },
  {
   "cell_type": "code",
   "execution_count": 18,
   "outputs": [
    {
     "data": {
      "text/plain": "             date        open        high         low       close    volume  \\\n83591  2021-10-29  162.130005  162.440002  160.660004  153.936371   1314100   \n87074  2021-10-29  454.410004  461.390015  453.059998  447.971100   2497800   \n90557  2021-10-29   52.500000   53.049999   52.410000   46.802307  17763200   \n94040  2021-10-29   46.860001   47.279999   46.770000   41.523602   4999000   \n97523  2021-10-29  147.910004  150.100006  147.559998  144.852402   7340900   \n\n       tic  day       macd     boll_ub     boll_lb     rsi_30      cci_30  \\\n83591  TRV    4   1.424915  156.635672  144.752564  55.691947  130.838046   \n87074  UNH    4  12.812447  459.914526  366.732065  67.009711  145.348183   \n90557   VZ    4  -0.170569   48.086325   45.189778  46.684996  -39.966418   \n94040  WBA    4  -0.169815   44.202653   40.524218  45.913446  -97.394948   \n97523  WMT    4   1.795642  147.887265  129.205263  59.710622  130.750132   \n\n           dx_30  close_30_sma  close_60_sma  \n83591  19.622993    149.630910    150.155366  \n87074  52.064871    406.440823    405.562358  \n90557  12.569826     46.875141     47.474614  \n94040   0.268701     42.391107     42.889372  \n97523  35.423702    138.057026    140.642313  ",
      "text/html": "<div>\n<style scoped>\n    .dataframe tbody tr th:only-of-type {\n        vertical-align: middle;\n    }\n\n    .dataframe tbody tr th {\n        vertical-align: top;\n    }\n\n    .dataframe thead th {\n        text-align: right;\n    }\n</style>\n<table border=\"1\" class=\"dataframe\">\n  <thead>\n    <tr style=\"text-align: right;\">\n      <th></th>\n      <th>date</th>\n      <th>open</th>\n      <th>high</th>\n      <th>low</th>\n      <th>close</th>\n      <th>volume</th>\n      <th>tic</th>\n      <th>day</th>\n      <th>macd</th>\n      <th>boll_ub</th>\n      <th>boll_lb</th>\n      <th>rsi_30</th>\n      <th>cci_30</th>\n      <th>dx_30</th>\n      <th>close_30_sma</th>\n      <th>close_60_sma</th>\n    </tr>\n  </thead>\n  <tbody>\n    <tr>\n      <th>83591</th>\n      <td>2021-10-29</td>\n      <td>162.130005</td>\n      <td>162.440002</td>\n      <td>160.660004</td>\n      <td>153.936371</td>\n      <td>1314100</td>\n      <td>TRV</td>\n      <td>4</td>\n      <td>1.424915</td>\n      <td>156.635672</td>\n      <td>144.752564</td>\n      <td>55.691947</td>\n      <td>130.838046</td>\n      <td>19.622993</td>\n      <td>149.630910</td>\n      <td>150.155366</td>\n    </tr>\n    <tr>\n      <th>87074</th>\n      <td>2021-10-29</td>\n      <td>454.410004</td>\n      <td>461.390015</td>\n      <td>453.059998</td>\n      <td>447.971100</td>\n      <td>2497800</td>\n      <td>UNH</td>\n      <td>4</td>\n      <td>12.812447</td>\n      <td>459.914526</td>\n      <td>366.732065</td>\n      <td>67.009711</td>\n      <td>145.348183</td>\n      <td>52.064871</td>\n      <td>406.440823</td>\n      <td>405.562358</td>\n    </tr>\n    <tr>\n      <th>90557</th>\n      <td>2021-10-29</td>\n      <td>52.500000</td>\n      <td>53.049999</td>\n      <td>52.410000</td>\n      <td>46.802307</td>\n      <td>17763200</td>\n      <td>VZ</td>\n      <td>4</td>\n      <td>-0.170569</td>\n      <td>48.086325</td>\n      <td>45.189778</td>\n      <td>46.684996</td>\n      <td>-39.966418</td>\n      <td>12.569826</td>\n      <td>46.875141</td>\n      <td>47.474614</td>\n    </tr>\n    <tr>\n      <th>94040</th>\n      <td>2021-10-29</td>\n      <td>46.860001</td>\n      <td>47.279999</td>\n      <td>46.770000</td>\n      <td>41.523602</td>\n      <td>4999000</td>\n      <td>WBA</td>\n      <td>4</td>\n      <td>-0.169815</td>\n      <td>44.202653</td>\n      <td>40.524218</td>\n      <td>45.913446</td>\n      <td>-97.394948</td>\n      <td>0.268701</td>\n      <td>42.391107</td>\n      <td>42.889372</td>\n    </tr>\n    <tr>\n      <th>97523</th>\n      <td>2021-10-29</td>\n      <td>147.910004</td>\n      <td>150.100006</td>\n      <td>147.559998</td>\n      <td>144.852402</td>\n      <td>7340900</td>\n      <td>WMT</td>\n      <td>4</td>\n      <td>1.795642</td>\n      <td>147.887265</td>\n      <td>129.205263</td>\n      <td>59.710622</td>\n      <td>130.750132</td>\n      <td>35.423702</td>\n      <td>138.057026</td>\n      <td>140.642313</td>\n    </tr>\n  </tbody>\n</table>\n</div>"
     },
     "execution_count": 18,
     "metadata": {},
     "output_type": "execute_result"
    }
   ],
   "source": [
    "df.tail()"
   ],
   "metadata": {
    "collapsed": false,
    "ExecuteTime": {
     "end_time": "2023-11-29T20:53:29.815390500Z",
     "start_time": "2023-11-29T20:53:29.742370600Z"
    }
   },
   "id": "b5b90953f0e37bb"
  },
  {
   "cell_type": "code",
   "execution_count": 19,
   "outputs": [
    {
     "data": {
      "text/plain": "         date       open       high        low      close     volume   tic  \\\n0  2008-12-31   3.070357   3.133571   3.047857   2.583909  607541200  AAPL   \n1  2008-12-31  57.110001  58.220001  57.060001  41.839520    6287200  AMGN   \n2  2008-12-31  17.969999  18.750000  17.910000  14.580752    9625600   AXP   \n3  2008-12-31  41.590000  43.049999  41.500000  32.005886    5443100    BA   \n4  2008-12-31  43.700001  45.099998  43.700001  29.608644    6277400   CAT   \n\n   day      macd    boll_ub    boll_lb     rsi_30      cci_30      dx_30  \\\n0    2 -0.082603   3.093651   2.454291  42.254764  -80.462589  16.129793   \n1    2  0.156757  42.707025  40.853195  51.060616   51.523377  10.432018   \n2    2 -0.935582  18.646868  12.660477  42.554853  -75.437650  25.776759   \n3    2 -0.279800  32.174381  28.867832  47.440235  156.994811   5.366299   \n4    2  0.655610  30.348092  25.455646  51.205289   98.374043  26.331746   \n\n   close_30_sma  close_60_sma  \\\n0      2.749560      2.861671   \n1     41.058031     40.603775   \n2     15.744065     17.616375   \n3     30.327212     32.389914   \n4     26.689551     26.423592   \n\n                                            cov_list  \\\n0  [[0.0013489686083911383, 0.0004284124186726731...   \n1  [[0.0013489686083911383, 0.0004284124186726731...   \n2  [[0.0013489686083911383, 0.0004284124186726731...   \n3  [[0.0013489686083911383, 0.0004284124186726731...   \n4  [[0.0013489686083911383, 0.0004284124186726731...   \n\n                                         return_list  \n0  tic             AAPL      AMGN       AXP      ...  \n1  tic             AAPL      AMGN       AXP      ...  \n2  tic             AAPL      AMGN       AXP      ...  \n3  tic             AAPL      AMGN       AXP      ...  \n4  tic             AAPL      AMGN       AXP      ...  ",
      "text/html": "<div>\n<style scoped>\n    .dataframe tbody tr th:only-of-type {\n        vertical-align: middle;\n    }\n\n    .dataframe tbody tr th {\n        vertical-align: top;\n    }\n\n    .dataframe thead th {\n        text-align: right;\n    }\n</style>\n<table border=\"1\" class=\"dataframe\">\n  <thead>\n    <tr style=\"text-align: right;\">\n      <th></th>\n      <th>date</th>\n      <th>open</th>\n      <th>high</th>\n      <th>low</th>\n      <th>close</th>\n      <th>volume</th>\n      <th>tic</th>\n      <th>day</th>\n      <th>macd</th>\n      <th>boll_ub</th>\n      <th>boll_lb</th>\n      <th>rsi_30</th>\n      <th>cci_30</th>\n      <th>dx_30</th>\n      <th>close_30_sma</th>\n      <th>close_60_sma</th>\n      <th>cov_list</th>\n      <th>return_list</th>\n    </tr>\n  </thead>\n  <tbody>\n    <tr>\n      <th>0</th>\n      <td>2008-12-31</td>\n      <td>3.070357</td>\n      <td>3.133571</td>\n      <td>3.047857</td>\n      <td>2.583909</td>\n      <td>607541200</td>\n      <td>AAPL</td>\n      <td>2</td>\n      <td>-0.082603</td>\n      <td>3.093651</td>\n      <td>2.454291</td>\n      <td>42.254764</td>\n      <td>-80.462589</td>\n      <td>16.129793</td>\n      <td>2.749560</td>\n      <td>2.861671</td>\n      <td>[[0.0013489686083911383, 0.0004284124186726731...</td>\n      <td>tic             AAPL      AMGN       AXP      ...</td>\n    </tr>\n    <tr>\n      <th>1</th>\n      <td>2008-12-31</td>\n      <td>57.110001</td>\n      <td>58.220001</td>\n      <td>57.060001</td>\n      <td>41.839520</td>\n      <td>6287200</td>\n      <td>AMGN</td>\n      <td>2</td>\n      <td>0.156757</td>\n      <td>42.707025</td>\n      <td>40.853195</td>\n      <td>51.060616</td>\n      <td>51.523377</td>\n      <td>10.432018</td>\n      <td>41.058031</td>\n      <td>40.603775</td>\n      <td>[[0.0013489686083911383, 0.0004284124186726731...</td>\n      <td>tic             AAPL      AMGN       AXP      ...</td>\n    </tr>\n    <tr>\n      <th>2</th>\n      <td>2008-12-31</td>\n      <td>17.969999</td>\n      <td>18.750000</td>\n      <td>17.910000</td>\n      <td>14.580752</td>\n      <td>9625600</td>\n      <td>AXP</td>\n      <td>2</td>\n      <td>-0.935582</td>\n      <td>18.646868</td>\n      <td>12.660477</td>\n      <td>42.554853</td>\n      <td>-75.437650</td>\n      <td>25.776759</td>\n      <td>15.744065</td>\n      <td>17.616375</td>\n      <td>[[0.0013489686083911383, 0.0004284124186726731...</td>\n      <td>tic             AAPL      AMGN       AXP      ...</td>\n    </tr>\n    <tr>\n      <th>3</th>\n      <td>2008-12-31</td>\n      <td>41.590000</td>\n      <td>43.049999</td>\n      <td>41.500000</td>\n      <td>32.005886</td>\n      <td>5443100</td>\n      <td>BA</td>\n      <td>2</td>\n      <td>-0.279800</td>\n      <td>32.174381</td>\n      <td>28.867832</td>\n      <td>47.440235</td>\n      <td>156.994811</td>\n      <td>5.366299</td>\n      <td>30.327212</td>\n      <td>32.389914</td>\n      <td>[[0.0013489686083911383, 0.0004284124186726731...</td>\n      <td>tic             AAPL      AMGN       AXP      ...</td>\n    </tr>\n    <tr>\n      <th>4</th>\n      <td>2008-12-31</td>\n      <td>43.700001</td>\n      <td>45.099998</td>\n      <td>43.700001</td>\n      <td>29.608644</td>\n      <td>6277400</td>\n      <td>CAT</td>\n      <td>2</td>\n      <td>0.655610</td>\n      <td>30.348092</td>\n      <td>25.455646</td>\n      <td>51.205289</td>\n      <td>98.374043</td>\n      <td>26.331746</td>\n      <td>26.689551</td>\n      <td>26.423592</td>\n      <td>[[0.0013489686083911383, 0.0004284124186726731...</td>\n      <td>tic             AAPL      AMGN       AXP      ...</td>\n    </tr>\n  </tbody>\n</table>\n</div>"
     },
     "execution_count": 19,
     "metadata": {},
     "output_type": "execute_result"
    }
   ],
   "source": [
    "\n",
    "## Add covariance matrix as states\n",
    "# add covariance matrix as states\n",
    "df = df.sort_values(['date', 'tic'], ignore_index=True)\n",
    "df.index = df.date.factorize()[0]\n",
    "\n",
    "cov_list = []\n",
    "return_list = []\n",
    "\n",
    "# look back is one year\n",
    "lookback = 252\n",
    "for i in range(lookback, len(df.index.unique())):\n",
    "    data_lookback = df.loc[i - lookback:i, :]\n",
    "    price_lookback = data_lookback.pivot_table(index='date', columns='tic', values='close')\n",
    "    return_lookback = price_lookback.pct_change().dropna()\n",
    "    return_list.append(return_lookback)\n",
    "\n",
    "    covs = return_lookback.cov().values\n",
    "    cov_list.append(covs)\n",
    "\n",
    "df_cov = pd.DataFrame({'date': df.date.unique()[lookback:], 'cov_list': cov_list, 'return_list': return_list})\n",
    "df = df.merge(df_cov, on='date')\n",
    "df = df.sort_values(['date', 'tic']).reset_index(drop=True)\n",
    "\n",
    "df.shape\n",
    "df.head()\n"
   ],
   "metadata": {
    "collapsed": false,
    "ExecuteTime": {
     "end_time": "2023-11-29T20:53:58.428585900Z",
     "start_time": "2023-11-29T20:53:29.779225Z"
    }
   },
   "id": "71443e3dcfcc97c9"
  },
  {
   "cell_type": "code",
   "execution_count": 20,
   "outputs": [
    {
     "data": {
      "text/plain": "         date       open       high        low      close     volume   tic  \\\n0  2009-01-02   3.067143   3.251429   3.041429   2.747391  746015200  AAPL   \n0  2009-01-02  58.590000  59.080002  57.750000  42.737881    6547900  AMGN   \n0  2009-01-02  18.570000  19.520000  18.400000  15.193848   10955700   AXP   \n0  2009-01-02  42.799999  45.560001  42.779999  33.941093    7010200    BA   \n0  2009-01-02  44.910000  46.980000  44.709999  31.093403    7117200   CAT   \n\n   day      macd    boll_ub    boll_lb     rsi_30      cci_30      dx_30  \\\n0    4 -0.070153   3.080129   2.452222  45.440197  -32.212835   2.140064   \n0    4  0.232162  42.852617  40.817726  52.756840   92.827790   0.814217   \n0    4 -0.832049  18.463254  12.644441  43.957551  -42.853088  16.335101   \n0    4 -0.002009  32.948624  28.452126  50.822034  272.812896  20.494464   \n0    4  0.833183  30.850192  25.434761  53.661258  129.524708  34.637448   \n\n   close_30_sma  close_60_sma  \\\n0      2.750408      2.862473   \n0     41.122028     40.691921   \n0     15.742755     17.499520   \n0     30.469477     32.344129   \n0     26.926403     26.424173   \n\n                                            cov_list  \\\n0  [[0.0013661503841569359, 0.0004339379068753712...   \n0  [[0.0013661503841569359, 0.0004339379068753712...   \n0  [[0.0013661503841569359, 0.0004339379068753712...   \n0  [[0.0013661503841569359, 0.0004339379068753712...   \n0  [[0.0013661503841569359, 0.0004339379068753712...   \n\n                                         return_list  \n0  tic             AAPL      AMGN       AXP      ...  \n0  tic             AAPL      AMGN       AXP      ...  \n0  tic             AAPL      AMGN       AXP      ...  \n0  tic             AAPL      AMGN       AXP      ...  \n0  tic             AAPL      AMGN       AXP      ...  ",
      "text/html": "<div>\n<style scoped>\n    .dataframe tbody tr th:only-of-type {\n        vertical-align: middle;\n    }\n\n    .dataframe tbody tr th {\n        vertical-align: top;\n    }\n\n    .dataframe thead th {\n        text-align: right;\n    }\n</style>\n<table border=\"1\" class=\"dataframe\">\n  <thead>\n    <tr style=\"text-align: right;\">\n      <th></th>\n      <th>date</th>\n      <th>open</th>\n      <th>high</th>\n      <th>low</th>\n      <th>close</th>\n      <th>volume</th>\n      <th>tic</th>\n      <th>day</th>\n      <th>macd</th>\n      <th>boll_ub</th>\n      <th>boll_lb</th>\n      <th>rsi_30</th>\n      <th>cci_30</th>\n      <th>dx_30</th>\n      <th>close_30_sma</th>\n      <th>close_60_sma</th>\n      <th>cov_list</th>\n      <th>return_list</th>\n    </tr>\n  </thead>\n  <tbody>\n    <tr>\n      <th>0</th>\n      <td>2009-01-02</td>\n      <td>3.067143</td>\n      <td>3.251429</td>\n      <td>3.041429</td>\n      <td>2.747391</td>\n      <td>746015200</td>\n      <td>AAPL</td>\n      <td>4</td>\n      <td>-0.070153</td>\n      <td>3.080129</td>\n      <td>2.452222</td>\n      <td>45.440197</td>\n      <td>-32.212835</td>\n      <td>2.140064</td>\n      <td>2.750408</td>\n      <td>2.862473</td>\n      <td>[[0.0013661503841569359, 0.0004339379068753712...</td>\n      <td>tic             AAPL      AMGN       AXP      ...</td>\n    </tr>\n    <tr>\n      <th>0</th>\n      <td>2009-01-02</td>\n      <td>58.590000</td>\n      <td>59.080002</td>\n      <td>57.750000</td>\n      <td>42.737881</td>\n      <td>6547900</td>\n      <td>AMGN</td>\n      <td>4</td>\n      <td>0.232162</td>\n      <td>42.852617</td>\n      <td>40.817726</td>\n      <td>52.756840</td>\n      <td>92.827790</td>\n      <td>0.814217</td>\n      <td>41.122028</td>\n      <td>40.691921</td>\n      <td>[[0.0013661503841569359, 0.0004339379068753712...</td>\n      <td>tic             AAPL      AMGN       AXP      ...</td>\n    </tr>\n    <tr>\n      <th>0</th>\n      <td>2009-01-02</td>\n      <td>18.570000</td>\n      <td>19.520000</td>\n      <td>18.400000</td>\n      <td>15.193848</td>\n      <td>10955700</td>\n      <td>AXP</td>\n      <td>4</td>\n      <td>-0.832049</td>\n      <td>18.463254</td>\n      <td>12.644441</td>\n      <td>43.957551</td>\n      <td>-42.853088</td>\n      <td>16.335101</td>\n      <td>15.742755</td>\n      <td>17.499520</td>\n      <td>[[0.0013661503841569359, 0.0004339379068753712...</td>\n      <td>tic             AAPL      AMGN       AXP      ...</td>\n    </tr>\n    <tr>\n      <th>0</th>\n      <td>2009-01-02</td>\n      <td>42.799999</td>\n      <td>45.560001</td>\n      <td>42.779999</td>\n      <td>33.941093</td>\n      <td>7010200</td>\n      <td>BA</td>\n      <td>4</td>\n      <td>-0.002009</td>\n      <td>32.948624</td>\n      <td>28.452126</td>\n      <td>50.822034</td>\n      <td>272.812896</td>\n      <td>20.494464</td>\n      <td>30.469477</td>\n      <td>32.344129</td>\n      <td>[[0.0013661503841569359, 0.0004339379068753712...</td>\n      <td>tic             AAPL      AMGN       AXP      ...</td>\n    </tr>\n    <tr>\n      <th>0</th>\n      <td>2009-01-02</td>\n      <td>44.910000</td>\n      <td>46.980000</td>\n      <td>44.709999</td>\n      <td>31.093403</td>\n      <td>7117200</td>\n      <td>CAT</td>\n      <td>4</td>\n      <td>0.833183</td>\n      <td>30.850192</td>\n      <td>25.434761</td>\n      <td>53.661258</td>\n      <td>129.524708</td>\n      <td>34.637448</td>\n      <td>26.926403</td>\n      <td>26.424173</td>\n      <td>[[0.0013661503841569359, 0.0004339379068753712...</td>\n      <td>tic             AAPL      AMGN       AXP      ...</td>\n    </tr>\n  </tbody>\n</table>\n</div>"
     },
     "execution_count": 20,
     "metadata": {},
     "output_type": "execute_result"
    }
   ],
   "source": [
    "## Training data split: 2009-01-01 to 2020-07-01\n",
    "train = data_split(df, '2009-01-01', '2020-07-01')\n",
    "trade = data_split(df, '2020-07-01', '2021-10-31')\n",
    "train.head()"
   ],
   "metadata": {
    "collapsed": false,
    "ExecuteTime": {
     "end_time": "2023-11-29T20:53:58.657682800Z",
     "start_time": "2023-11-29T20:53:58.422038Z"
    }
   },
   "id": "83da70d25c48258e"
  },
  {
   "cell_type": "code",
   "execution_count": 21,
   "outputs": [
    {
     "name": "stdout",
     "output_type": "stream",
     "text": [
      "Stock Dimension: 28, State Space: 28\n"
     ]
    }
   ],
   "source": [
    "stock_dimension = len(train.tic.unique())\n",
    "state_space = stock_dimension\n",
    "print(f\"Stock Dimension: {stock_dimension}, State Space: {state_space}\")\n",
    "\n",
    "env_kwargs = {\n",
    "    \"hmax\": 100, \n",
    "    \"initial_amount\": 1000000, \n",
    "    \"transaction_cost_pct\": 0.001, \n",
    "    \"state_space\": state_space, \n",
    "    \"stock_dim\": stock_dimension, \n",
    "    \"tech_indicator_list\": config.INDICATORS, \n",
    "    \"action_space\": stock_dimension, \n",
    "    \"reward_scaling\": 1e-4\n",
    "    \n",
    "}\n",
    "\n",
    "e_train_gym_random = StockPortfolioEnv(df = train, **env_kwargs)\n"
   ],
   "metadata": {
    "collapsed": false,
    "ExecuteTime": {
     "end_time": "2023-11-29T20:53:58.658690400Z",
     "start_time": "2023-11-29T20:53:58.625369600Z"
    }
   },
   "id": "3796b3ffad8bbbfe"
  },
  {
   "cell_type": "code",
   "execution_count": 22,
   "outputs": [],
   "source": [
    "import random\n",
    "def random_agent(env: StockPortfolioEnv):\n",
    "    env.reset()\n",
    "    terminal = False\n",
    "    while not terminal:\n",
    "        action = [0] * len(env.action_space.sample())\n",
    "        action[random.randint(0,  len(env.action_space.sample()) - 1)] = 1\n",
    "        state, reward, terminal, _, _ = env.step(action)\n",
    "    return env"
   ],
   "metadata": {
    "collapsed": false,
    "ExecuteTime": {
     "end_time": "2023-11-29T20:53:58.659690100Z",
     "start_time": "2023-11-29T20:53:58.646638700Z"
    }
   },
   "id": "b022eb8cdd89eb32"
  },
  {
   "cell_type": "code",
   "execution_count": 23,
   "outputs": [
    {
     "name": "stdout",
     "output_type": "stream",
     "text": [
      "=================================\n",
      "begin_total_asset:1000000\n",
      "end_total_asset:1903603.8216318213\n",
      "Sharpe:  0.3453358943834626\n",
      "=================================\n"
     ]
    }
   ],
   "source": [
    "env_rand_post_training = random_agent(e_train_gym_random)"
   ],
   "metadata": {
    "collapsed": false,
    "ExecuteTime": {
     "end_time": "2023-11-29T20:54:04.739860500Z",
     "start_time": "2023-11-29T20:53:58.656676300Z"
    }
   },
   "id": "54919c61764fe536"
  },
  {
   "cell_type": "code",
   "execution_count": 24,
   "outputs": [],
   "source": [
    "from agents.single_stock_tabular import sarsa_single_stock"
   ],
   "metadata": {
    "collapsed": false,
    "ExecuteTime": {
     "end_time": "2023-11-29T20:54:04.784788400Z",
     "start_time": "2023-11-29T20:54:04.741827100Z"
    }
   },
   "id": "8d7a3f84495f174b"
  },
  {
   "cell_type": "code",
   "execution_count": 25,
   "outputs": [
    {
     "name": "stderr",
     "output_type": "stream",
     "text": [
      "                                                      \r"
     ]
    },
    {
     "name": "stdout",
     "output_type": "stream",
     "text": [
      "=================================\n",
      "begin_total_asset:1000000\n",
      "end_total_asset:3983436.5497523043\n",
      "Sharpe:  0.7578982521240575\n",
      "=================================\n"
     ]
    },
    {
     "name": "stderr",
     "output_type": "stream",
     "text": [
      "                                                      \r"
     ]
    },
    {
     "name": "stdout",
     "output_type": "stream",
     "text": [
      "=================================\n",
      "begin_total_asset:1000000\n",
      "end_total_asset:1072645.6323615732\n",
      "Sharpe:  0.6723268875793709\n",
      "=================================\n"
     ]
    },
    {
     "name": "stderr",
     "output_type": "stream",
     "text": [
      "Episode:  17%|█▋        | 1/6 [00:10<00:51, 10.20s/it]"
     ]
    },
    {
     "name": "stdout",
     "output_type": "stream",
     "text": [
      "=================================\n",
      "begin_total_asset:1000000\n",
      "end_total_asset:4992563.324867899\n",
      "Sharpe:  0.9518630161593532\n",
      "=================================\n"
     ]
    },
    {
     "name": "stderr",
     "output_type": "stream",
     "text": [
      "Episode:  33%|███▎      | 2/6 [00:20<00:40, 10.22s/it]"
     ]
    },
    {
     "name": "stdout",
     "output_type": "stream",
     "text": [
      "=================================\n",
      "begin_total_asset:1000000\n",
      "end_total_asset:5680640.629301916\n",
      "Sharpe:  0.9519771647875312\n",
      "=================================\n"
     ]
    },
    {
     "name": "stderr",
     "output_type": "stream",
     "text": [
      "Episode:  50%|█████     | 3/6 [00:30<00:30, 10.27s/it]"
     ]
    },
    {
     "name": "stdout",
     "output_type": "stream",
     "text": [
      "=================================\n",
      "begin_total_asset:1000000\n",
      "end_total_asset:4027550.454506678\n",
      "Sharpe:  0.7511741457395875\n",
      "=================================\n"
     ]
    },
    {
     "name": "stderr",
     "output_type": "stream",
     "text": [
      "Episode:  67%|██████▋   | 4/6 [00:41<00:20, 10.26s/it]"
     ]
    },
    {
     "name": "stdout",
     "output_type": "stream",
     "text": [
      "=================================\n",
      "begin_total_asset:1000000\n",
      "end_total_asset:5461968.850975315\n",
      "Sharpe:  0.8959503805963768\n",
      "=================================\n"
     ]
    },
    {
     "name": "stderr",
     "output_type": "stream",
     "text": [
      "Episode:  83%|████████▎ | 5/6 [00:51<00:10, 10.34s/it]"
     ]
    },
    {
     "name": "stdout",
     "output_type": "stream",
     "text": [
      "=================================\n",
      "begin_total_asset:1000000\n",
      "end_total_asset:5831093.583707441\n",
      "Sharpe:  1.0887731554980284\n",
      "=================================\n"
     ]
    },
    {
     "name": "stderr",
     "output_type": "stream",
     "text": [
      "                                                      \r"
     ]
    },
    {
     "name": "stdout",
     "output_type": "stream",
     "text": [
      "=================================\n",
      "begin_total_asset:1000000\n",
      "end_total_asset:4138262.5401917174\n",
      "Sharpe:  0.771925798445259\n",
      "=================================\n"
     ]
    },
    {
     "name": "stderr",
     "output_type": "stream",
     "text": [
      "                                                      \r"
     ]
    },
    {
     "name": "stdout",
     "output_type": "stream",
     "text": [
      "=================================\n",
      "begin_total_asset:1000000\n",
      "end_total_asset:1002302.6980267129\n",
      "Sharpe:  0.06329673071398588\n",
      "=================================\n"
     ]
    },
    {
     "name": "stderr",
     "output_type": "stream",
     "text": [
      "Episode:   9%|▉         | 1/11 [00:10<01:42, 10.29s/it]"
     ]
    },
    {
     "name": "stdout",
     "output_type": "stream",
     "text": [
      "=================================\n",
      "begin_total_asset:1000000\n",
      "end_total_asset:6188554.197258172\n",
      "Sharpe:  0.9645444280257611\n",
      "=================================\n"
     ]
    },
    {
     "name": "stderr",
     "output_type": "stream",
     "text": [
      "Episode:  18%|█▊        | 2/11 [00:20<01:33, 10.34s/it]"
     ]
    },
    {
     "name": "stdout",
     "output_type": "stream",
     "text": [
      "=================================\n",
      "begin_total_asset:1000000\n",
      "end_total_asset:3829091.043156345\n",
      "Sharpe:  0.7415078858622527\n",
      "=================================\n"
     ]
    },
    {
     "name": "stderr",
     "output_type": "stream",
     "text": [
      "Episode:  27%|██▋       | 3/11 [00:31<01:22, 10.35s/it]"
     ]
    },
    {
     "name": "stdout",
     "output_type": "stream",
     "text": [
      "=================================\n",
      "begin_total_asset:1000000\n",
      "end_total_asset:4361489.340707085\n",
      "Sharpe:  0.839002326302832\n",
      "=================================\n"
     ]
    },
    {
     "name": "stderr",
     "output_type": "stream",
     "text": [
      "Episode:  36%|███▋      | 4/11 [00:41<01:12, 10.36s/it]"
     ]
    },
    {
     "name": "stdout",
     "output_type": "stream",
     "text": [
      "=================================\n",
      "begin_total_asset:1000000\n",
      "end_total_asset:3234680.2069478403\n",
      "Sharpe:  0.7025795055805008\n",
      "=================================\n"
     ]
    },
    {
     "name": "stderr",
     "output_type": "stream",
     "text": [
      "Episode:  45%|████▌     | 5/11 [00:51<01:02, 10.34s/it]"
     ]
    },
    {
     "name": "stdout",
     "output_type": "stream",
     "text": [
      "=================================\n",
      "begin_total_asset:1000000\n",
      "end_total_asset:9890278.006202111\n",
      "Sharpe:  1.0327225251356016\n",
      "=================================\n"
     ]
    },
    {
     "name": "stderr",
     "output_type": "stream",
     "text": [
      "Episode:  55%|█████▍    | 6/11 [01:02<00:51, 10.34s/it]"
     ]
    },
    {
     "name": "stdout",
     "output_type": "stream",
     "text": [
      "=================================\n",
      "begin_total_asset:1000000\n",
      "end_total_asset:18370846.739458982\n",
      "Sharpe:  1.6185716009882491\n",
      "=================================\n"
     ]
    },
    {
     "name": "stderr",
     "output_type": "stream",
     "text": [
      "Episode:  64%|██████▎   | 7/11 [01:12<00:41, 10.34s/it]"
     ]
    },
    {
     "name": "stdout",
     "output_type": "stream",
     "text": [
      "=================================\n",
      "begin_total_asset:1000000\n",
      "end_total_asset:3585855.9358746735\n",
      "Sharpe:  0.8830489685866224\n",
      "=================================\n"
     ]
    },
    {
     "name": "stderr",
     "output_type": "stream",
     "text": [
      "Episode:  73%|███████▎  | 8/11 [01:22<00:30, 10.30s/it]"
     ]
    },
    {
     "name": "stdout",
     "output_type": "stream",
     "text": [
      "=================================\n",
      "begin_total_asset:1000000\n",
      "end_total_asset:7305018.529438481\n",
      "Sharpe:  1.012893322816553\n",
      "=================================\n"
     ]
    },
    {
     "name": "stderr",
     "output_type": "stream",
     "text": [
      "Episode:  82%|████████▏ | 9/11 [01:32<00:20, 10.29s/it]"
     ]
    },
    {
     "name": "stdout",
     "output_type": "stream",
     "text": [
      "=================================\n",
      "begin_total_asset:1000000\n",
      "end_total_asset:4296837.107851951\n",
      "Sharpe:  0.8311382469432901\n",
      "=================================\n"
     ]
    },
    {
     "name": "stderr",
     "output_type": "stream",
     "text": [
      "Episode:  91%|█████████ | 10/11 [01:43<00:10, 10.35s/it]"
     ]
    },
    {
     "name": "stdout",
     "output_type": "stream",
     "text": [
      "=================================\n",
      "begin_total_asset:1000000\n",
      "end_total_asset:3108428.6148855654\n",
      "Sharpe:  0.7667244653542309\n",
      "=================================\n"
     ]
    },
    {
     "name": "stderr",
     "output_type": "stream",
     "text": [
      "                                                        \r"
     ]
    },
    {
     "name": "stdout",
     "output_type": "stream",
     "text": [
      "=================================\n",
      "begin_total_asset:1000000\n",
      "end_total_asset:3307322.565391372\n",
      "Sharpe:  0.6530653064759493\n",
      "=================================\n"
     ]
    },
    {
     "name": "stderr",
     "output_type": "stream",
     "text": [
      "                                                      \r"
     ]
    },
    {
     "name": "stdout",
     "output_type": "stream",
     "text": [
      "=================================\n",
      "begin_total_asset:1000000\n",
      "end_total_asset:1097429.853191985\n",
      "Sharpe:  0.932395852239026\n",
      "=================================\n"
     ]
    },
    {
     "name": "stderr",
     "output_type": "stream",
     "text": [
      "Episode:   6%|▋         | 1/16 [00:10<02:35, 10.36s/it]"
     ]
    },
    {
     "name": "stdout",
     "output_type": "stream",
     "text": [
      "=================================\n",
      "begin_total_asset:1000000\n",
      "end_total_asset:10309686.402057972\n",
      "Sharpe:  0.9670585295554928\n",
      "=================================\n"
     ]
    },
    {
     "name": "stderr",
     "output_type": "stream",
     "text": [
      "Episode:  12%|█▎        | 2/16 [00:20<02:25, 10.36s/it]"
     ]
    },
    {
     "name": "stdout",
     "output_type": "stream",
     "text": [
      "=================================\n",
      "begin_total_asset:1000000\n",
      "end_total_asset:3458283.7643863717\n",
      "Sharpe:  0.8286734821539617\n",
      "=================================\n"
     ]
    },
    {
     "name": "stderr",
     "output_type": "stream",
     "text": [
      "Episode:  19%|█▉        | 3/16 [00:31<02:14, 10.36s/it]"
     ]
    },
    {
     "name": "stdout",
     "output_type": "stream",
     "text": [
      "=================================\n",
      "begin_total_asset:1000000\n",
      "end_total_asset:3702642.7805458624\n",
      "Sharpe:  0.7560007386583019\n",
      "=================================\n"
     ]
    },
    {
     "name": "stderr",
     "output_type": "stream",
     "text": [
      "Episode:  25%|██▌       | 4/16 [00:41<02:06, 10.55s/it]"
     ]
    },
    {
     "name": "stdout",
     "output_type": "stream",
     "text": [
      "=================================\n",
      "begin_total_asset:1000000\n",
      "end_total_asset:4546147.367218773\n",
      "Sharpe:  0.8013038160859428\n",
      "=================================\n"
     ]
    },
    {
     "name": "stderr",
     "output_type": "stream",
     "text": [
      "Episode:  31%|███▏      | 5/16 [00:52<01:54, 10.39s/it]"
     ]
    },
    {
     "name": "stdout",
     "output_type": "stream",
     "text": [
      "=================================\n",
      "begin_total_asset:1000000\n",
      "end_total_asset:3045520.893821584\n",
      "Sharpe:  0.658424754368682\n",
      "=================================\n"
     ]
    },
    {
     "name": "stderr",
     "output_type": "stream",
     "text": [
      "Episode:  38%|███▊      | 6/16 [01:02<01:43, 10.34s/it]"
     ]
    },
    {
     "name": "stdout",
     "output_type": "stream",
     "text": [
      "=================================\n",
      "begin_total_asset:1000000\n",
      "end_total_asset:2943342.174713206\n",
      "Sharpe:  0.7842874323696021\n",
      "=================================\n"
     ]
    },
    {
     "name": "stderr",
     "output_type": "stream",
     "text": [
      "Episode:  44%|████▍     | 7/16 [01:12<01:32, 10.28s/it]"
     ]
    },
    {
     "name": "stdout",
     "output_type": "stream",
     "text": [
      "=================================\n",
      "begin_total_asset:1000000\n",
      "end_total_asset:9947748.571348164\n",
      "Sharpe:  1.1708326062597887\n",
      "=================================\n"
     ]
    },
    {
     "name": "stderr",
     "output_type": "stream",
     "text": [
      "Episode:  50%|█████     | 8/16 [01:22<01:21, 10.20s/it]"
     ]
    },
    {
     "name": "stdout",
     "output_type": "stream",
     "text": [
      "=================================\n",
      "begin_total_asset:1000000\n",
      "end_total_asset:8946551.624850066\n",
      "Sharpe:  1.1215659143230075\n",
      "=================================\n"
     ]
    },
    {
     "name": "stderr",
     "output_type": "stream",
     "text": [
      "Episode:  56%|█████▋    | 9/16 [01:32<01:11, 10.15s/it]"
     ]
    },
    {
     "name": "stdout",
     "output_type": "stream",
     "text": [
      "=================================\n",
      "begin_total_asset:1000000\n",
      "end_total_asset:7343064.917909234\n",
      "Sharpe:  1.1265142970181057\n",
      "=================================\n"
     ]
    },
    {
     "name": "stderr",
     "output_type": "stream",
     "text": [
      "Episode:  62%|██████▎   | 10/16 [01:42<01:01, 10.20s/it]"
     ]
    },
    {
     "name": "stdout",
     "output_type": "stream",
     "text": [
      "=================================\n",
      "begin_total_asset:1000000\n",
      "end_total_asset:2734242.417289438\n",
      "Sharpe:  0.6370170571052535\n",
      "=================================\n"
     ]
    },
    {
     "name": "stderr",
     "output_type": "stream",
     "text": [
      "Episode:  69%|██████▉   | 11/16 [01:52<00:50, 10.17s/it]"
     ]
    },
    {
     "name": "stdout",
     "output_type": "stream",
     "text": [
      "=================================\n",
      "begin_total_asset:1000000\n",
      "end_total_asset:7812153.700255234\n",
      "Sharpe:  1.1539313940065572\n",
      "=================================\n"
     ]
    },
    {
     "name": "stderr",
     "output_type": "stream",
     "text": [
      "Episode:  75%|███████▌  | 12/16 [02:02<00:40, 10.14s/it]"
     ]
    },
    {
     "name": "stdout",
     "output_type": "stream",
     "text": [
      "=================================\n",
      "begin_total_asset:1000000\n",
      "end_total_asset:5705809.971068052\n",
      "Sharpe:  0.9552991399838614\n",
      "=================================\n"
     ]
    },
    {
     "name": "stderr",
     "output_type": "stream",
     "text": [
      "Episode:  81%|████████▏ | 13/16 [02:13<00:30, 10.15s/it]"
     ]
    },
    {
     "name": "stdout",
     "output_type": "stream",
     "text": [
      "=================================\n",
      "begin_total_asset:1000000\n",
      "end_total_asset:6453088.420590177\n",
      "Sharpe:  0.9810123407387743\n",
      "=================================\n"
     ]
    },
    {
     "name": "stderr",
     "output_type": "stream",
     "text": [
      "Episode:  88%|████████▊ | 14/16 [02:23<00:20, 10.24s/it]"
     ]
    },
    {
     "name": "stdout",
     "output_type": "stream",
     "text": [
      "=================================\n",
      "begin_total_asset:1000000\n",
      "end_total_asset:5736110.237539122\n",
      "Sharpe:  0.8919310012146981\n",
      "=================================\n"
     ]
    },
    {
     "name": "stderr",
     "output_type": "stream",
     "text": [
      "Episode:  94%|█████████▍| 15/16 [02:33<00:10, 10.25s/it]"
     ]
    },
    {
     "name": "stdout",
     "output_type": "stream",
     "text": [
      "=================================\n",
      "begin_total_asset:1000000\n",
      "end_total_asset:5221244.208030689\n",
      "Sharpe:  0.8071810001868575\n",
      "=================================\n"
     ]
    },
    {
     "name": "stderr",
     "output_type": "stream",
     "text": [
      "                                                        \r"
     ]
    },
    {
     "name": "stdout",
     "output_type": "stream",
     "text": [
      "=================================\n",
      "begin_total_asset:1000000\n",
      "end_total_asset:6635992.804571148\n",
      "Sharpe:  1.0547889456894888\n",
      "=================================\n"
     ]
    },
    {
     "name": "stderr",
     "output_type": "stream",
     "text": [
      "                                                      \r"
     ]
    },
    {
     "name": "stdout",
     "output_type": "stream",
     "text": [
      "=================================\n",
      "begin_total_asset:1000000\n",
      "end_total_asset:1394896.8244325593\n",
      "Sharpe:  1.0659595147666396\n",
      "=================================\n"
     ]
    },
    {
     "name": "stderr",
     "output_type": "stream",
     "text": [
      "Episode:   5%|▍         | 1/21 [00:10<03:21, 10.07s/it]"
     ]
    },
    {
     "name": "stdout",
     "output_type": "stream",
     "text": [
      "=================================\n",
      "begin_total_asset:1000000\n",
      "end_total_asset:14519698.299877187\n",
      "Sharpe:  1.2372402971258762\n",
      "=================================\n"
     ]
    },
    {
     "name": "stderr",
     "output_type": "stream",
     "text": [
      "Episode:  10%|▉         | 2/21 [00:20<03:10, 10.04s/it]"
     ]
    },
    {
     "name": "stdout",
     "output_type": "stream",
     "text": [
      "=================================\n",
      "begin_total_asset:1000000\n",
      "end_total_asset:6623322.984652835\n",
      "Sharpe:  1.2061968490403818\n",
      "=================================\n"
     ]
    },
    {
     "name": "stderr",
     "output_type": "stream",
     "text": [
      "Episode:  14%|█▍        | 3/21 [00:30<03:01, 10.09s/it]"
     ]
    },
    {
     "name": "stdout",
     "output_type": "stream",
     "text": [
      "=================================\n",
      "begin_total_asset:1000000\n",
      "end_total_asset:9771622.760871282\n",
      "Sharpe:  1.2149417682141237\n",
      "=================================\n"
     ]
    },
    {
     "name": "stderr",
     "output_type": "stream",
     "text": [
      "Episode:  19%|█▉        | 4/21 [00:40<02:51, 10.07s/it]"
     ]
    },
    {
     "name": "stdout",
     "output_type": "stream",
     "text": [
      "=================================\n",
      "begin_total_asset:1000000\n",
      "end_total_asset:4964378.227055693\n",
      "Sharpe:  0.8415657384033026\n",
      "=================================\n"
     ]
    },
    {
     "name": "stderr",
     "output_type": "stream",
     "text": [
      "Episode:  24%|██▍       | 5/21 [00:50<02:41, 10.07s/it]"
     ]
    },
    {
     "name": "stdout",
     "output_type": "stream",
     "text": [
      "=================================\n",
      "begin_total_asset:1000000\n",
      "end_total_asset:6345097.657930698\n",
      "Sharpe:  0.9109574372407351\n",
      "=================================\n"
     ]
    },
    {
     "name": "stderr",
     "output_type": "stream",
     "text": [
      "Episode:  29%|██▊       | 6/21 [01:00<02:32, 10.14s/it]"
     ]
    },
    {
     "name": "stdout",
     "output_type": "stream",
     "text": [
      "=================================\n",
      "begin_total_asset:1000000\n",
      "end_total_asset:9708114.041495984\n",
      "Sharpe:  1.1395455648313721\n",
      "=================================\n"
     ]
    },
    {
     "name": "stderr",
     "output_type": "stream",
     "text": [
      "Episode:  33%|███▎      | 7/21 [01:10<02:21, 10.12s/it]"
     ]
    },
    {
     "name": "stdout",
     "output_type": "stream",
     "text": [
      "=================================\n",
      "begin_total_asset:1000000\n",
      "end_total_asset:2041333.4891428598\n",
      "Sharpe:  0.6268845617501239\n",
      "=================================\n"
     ]
    },
    {
     "name": "stderr",
     "output_type": "stream",
     "text": [
      "Episode:  38%|███▊      | 8/21 [01:20<02:11, 10.13s/it]"
     ]
    },
    {
     "name": "stdout",
     "output_type": "stream",
     "text": [
      "=================================\n",
      "begin_total_asset:1000000\n",
      "end_total_asset:3109852.7748013185\n",
      "Sharpe:  0.6416328799679971\n",
      "=================================\n"
     ]
    },
    {
     "name": "stderr",
     "output_type": "stream",
     "text": [
      "Episode:  43%|████▎     | 9/21 [01:31<02:02, 10.17s/it]"
     ]
    },
    {
     "name": "stdout",
     "output_type": "stream",
     "text": [
      "=================================\n",
      "begin_total_asset:1000000\n",
      "end_total_asset:3800555.206788467\n",
      "Sharpe:  0.8707673791770112\n",
      "=================================\n"
     ]
    },
    {
     "name": "stderr",
     "output_type": "stream",
     "text": [
      "Episode:  48%|████▊     | 10/21 [01:41<01:51, 10.17s/it]"
     ]
    },
    {
     "name": "stdout",
     "output_type": "stream",
     "text": [
      "=================================\n",
      "begin_total_asset:1000000\n",
      "end_total_asset:7696345.111986827\n",
      "Sharpe:  1.0468930412993043\n",
      "=================================\n"
     ]
    },
    {
     "name": "stderr",
     "output_type": "stream",
     "text": [
      "Episode:  52%|█████▏    | 11/21 [01:51<01:41, 10.18s/it]"
     ]
    },
    {
     "name": "stdout",
     "output_type": "stream",
     "text": [
      "=================================\n",
      "begin_total_asset:1000000\n",
      "end_total_asset:5394962.8541353475\n",
      "Sharpe:  0.9452440841462004\n",
      "=================================\n"
     ]
    },
    {
     "name": "stderr",
     "output_type": "stream",
     "text": [
      "Episode:  57%|█████▋    | 12/21 [02:01<01:31, 10.17s/it]"
     ]
    },
    {
     "name": "stdout",
     "output_type": "stream",
     "text": [
      "=================================\n",
      "begin_total_asset:1000000\n",
      "end_total_asset:2932231.1223399965\n",
      "Sharpe:  0.7384451293914079\n",
      "=================================\n"
     ]
    },
    {
     "name": "stderr",
     "output_type": "stream",
     "text": [
      "Episode:  62%|██████▏   | 13/21 [02:11<01:21, 10.17s/it]"
     ]
    },
    {
     "name": "stdout",
     "output_type": "stream",
     "text": [
      "=================================\n",
      "begin_total_asset:1000000\n",
      "end_total_asset:3616225.0775240962\n",
      "Sharpe:  0.818158526584815\n",
      "=================================\n"
     ]
    },
    {
     "name": "stderr",
     "output_type": "stream",
     "text": [
      "Episode:  67%|██████▋   | 14/21 [02:22<01:11, 10.18s/it]"
     ]
    },
    {
     "name": "stdout",
     "output_type": "stream",
     "text": [
      "=================================\n",
      "begin_total_asset:1000000\n",
      "end_total_asset:19029120.185199283\n",
      "Sharpe:  1.3546188603972642\n",
      "=================================\n"
     ]
    },
    {
     "name": "stderr",
     "output_type": "stream",
     "text": [
      "Episode:  71%|███████▏  | 15/21 [02:32<01:01, 10.17s/it]"
     ]
    },
    {
     "name": "stdout",
     "output_type": "stream",
     "text": [
      "=================================\n",
      "begin_total_asset:1000000\n",
      "end_total_asset:3263278.1784602357\n",
      "Sharpe:  0.7346610162088616\n",
      "=================================\n"
     ]
    },
    {
     "name": "stderr",
     "output_type": "stream",
     "text": [
      "Episode:  76%|███████▌  | 16/21 [02:42<00:50, 10.15s/it]"
     ]
    },
    {
     "name": "stdout",
     "output_type": "stream",
     "text": [
      "=================================\n",
      "begin_total_asset:1000000\n",
      "end_total_asset:8860443.776971808\n",
      "Sharpe:  0.9268488465833187\n",
      "=================================\n"
     ]
    },
    {
     "name": "stderr",
     "output_type": "stream",
     "text": [
      "Episode:  81%|████████  | 17/21 [02:52<00:40, 10.14s/it]"
     ]
    },
    {
     "name": "stdout",
     "output_type": "stream",
     "text": [
      "=================================\n",
      "begin_total_asset:1000000\n",
      "end_total_asset:4233639.921016092\n",
      "Sharpe:  0.9272970519932113\n",
      "=================================\n"
     ]
    },
    {
     "name": "stderr",
     "output_type": "stream",
     "text": [
      "Episode:  86%|████████▌ | 18/21 [03:02<00:30, 10.17s/it]"
     ]
    },
    {
     "name": "stdout",
     "output_type": "stream",
     "text": [
      "=================================\n",
      "begin_total_asset:1000000\n",
      "end_total_asset:2296829.381389852\n",
      "Sharpe:  0.5650077879175236\n",
      "=================================\n"
     ]
    },
    {
     "name": "stderr",
     "output_type": "stream",
     "text": [
      "Episode:  90%|█████████ | 19/21 [03:12<00:20, 10.17s/it]"
     ]
    },
    {
     "name": "stdout",
     "output_type": "stream",
     "text": [
      "=================================\n",
      "begin_total_asset:1000000\n",
      "end_total_asset:4089687.8701044708\n",
      "Sharpe:  0.7816949784849957\n",
      "=================================\n"
     ]
    },
    {
     "name": "stderr",
     "output_type": "stream",
     "text": [
      "Episode:  95%|█████████▌| 20/21 [03:23<00:10, 10.24s/it]"
     ]
    },
    {
     "name": "stdout",
     "output_type": "stream",
     "text": [
      "=================================\n",
      "begin_total_asset:1000000\n",
      "end_total_asset:5683995.550079882\n",
      "Sharpe:  1.0016770583117909\n",
      "=================================\n"
     ]
    },
    {
     "name": "stderr",
     "output_type": "stream",
     "text": [
      "                                                        \r"
     ]
    },
    {
     "name": "stdout",
     "output_type": "stream",
     "text": [
      "=================================\n",
      "begin_total_asset:1000000\n",
      "end_total_asset:19609803.921114057\n",
      "Sharpe:  1.4427715184787153\n",
      "=================================\n"
     ]
    },
    {
     "name": "stderr",
     "output_type": "stream",
     "text": [
      "                                                      \r"
     ]
    },
    {
     "name": "stdout",
     "output_type": "stream",
     "text": [
      "=================================\n",
      "begin_total_asset:1000000\n",
      "end_total_asset:1443332.197840966\n",
      "Sharpe:  1.3150616891060698\n",
      "=================================\n"
     ]
    },
    {
     "name": "stderr",
     "output_type": "stream",
     "text": [
      "Episode:   4%|▍         | 1/26 [00:10<04:13, 10.12s/it]"
     ]
    },
    {
     "name": "stdout",
     "output_type": "stream",
     "text": [
      "=================================\n",
      "begin_total_asset:1000000\n",
      "end_total_asset:5044535.282299209\n",
      "Sharpe:  0.7897551141217894\n",
      "=================================\n"
     ]
    },
    {
     "name": "stderr",
     "output_type": "stream",
     "text": [
      "Episode:   8%|▊         | 2/26 [00:20<04:03, 10.15s/it]"
     ]
    },
    {
     "name": "stdout",
     "output_type": "stream",
     "text": [
      "=================================\n",
      "begin_total_asset:1000000\n",
      "end_total_asset:4445146.96326768\n",
      "Sharpe:  0.9087379502781766\n",
      "=================================\n"
     ]
    },
    {
     "name": "stderr",
     "output_type": "stream",
     "text": [
      "Episode:  12%|█▏        | 3/26 [00:30<03:53, 10.16s/it]"
     ]
    },
    {
     "name": "stdout",
     "output_type": "stream",
     "text": [
      "=================================\n",
      "begin_total_asset:1000000\n",
      "end_total_asset:6053638.768626464\n",
      "Sharpe:  0.860423014871599\n",
      "=================================\n"
     ]
    },
    {
     "name": "stderr",
     "output_type": "stream",
     "text": [
      "Episode:  15%|█▌        | 4/26 [00:40<03:43, 10.15s/it]"
     ]
    },
    {
     "name": "stdout",
     "output_type": "stream",
     "text": [
      "=================================\n",
      "begin_total_asset:1000000\n",
      "end_total_asset:3879177.8298185645\n",
      "Sharpe:  0.7902091887130028\n",
      "=================================\n"
     ]
    },
    {
     "name": "stderr",
     "output_type": "stream",
     "text": [
      "Episode:  19%|█▉        | 5/26 [00:50<03:33, 10.17s/it]"
     ]
    },
    {
     "name": "stdout",
     "output_type": "stream",
     "text": [
      "=================================\n",
      "begin_total_asset:1000000\n",
      "end_total_asset:3694575.0473191068\n",
      "Sharpe:  0.7407961273798265\n",
      "=================================\n"
     ]
    },
    {
     "name": "stderr",
     "output_type": "stream",
     "text": [
      "Episode:  23%|██▎       | 6/26 [01:00<03:23, 10.16s/it]"
     ]
    },
    {
     "name": "stdout",
     "output_type": "stream",
     "text": [
      "=================================\n",
      "begin_total_asset:1000000\n",
      "end_total_asset:8207211.350287887\n",
      "Sharpe:  1.1462032177969093\n",
      "=================================\n"
     ]
    },
    {
     "name": "stderr",
     "output_type": "stream",
     "text": [
      "Episode:  27%|██▋       | 7/26 [01:11<03:13, 10.18s/it]"
     ]
    },
    {
     "name": "stdout",
     "output_type": "stream",
     "text": [
      "=================================\n",
      "begin_total_asset:1000000\n",
      "end_total_asset:8285611.872167402\n",
      "Sharpe:  1.1638871539719402\n",
      "=================================\n"
     ]
    },
    {
     "name": "stderr",
     "output_type": "stream",
     "text": [
      "Episode:  31%|███       | 8/26 [01:21<03:06, 10.36s/it]"
     ]
    },
    {
     "name": "stdout",
     "output_type": "stream",
     "text": [
      "=================================\n",
      "begin_total_asset:1000000\n",
      "end_total_asset:5462870.121551908\n",
      "Sharpe:  1.0015296171516057\n",
      "=================================\n"
     ]
    },
    {
     "name": "stderr",
     "output_type": "stream",
     "text": [
      "Episode:  35%|███▍      | 9/26 [01:33<03:00, 10.63s/it]"
     ]
    },
    {
     "name": "stdout",
     "output_type": "stream",
     "text": [
      "=================================\n",
      "begin_total_asset:1000000\n",
      "end_total_asset:7888695.260974268\n",
      "Sharpe:  1.2555599393139913\n",
      "=================================\n"
     ]
    },
    {
     "name": "stderr",
     "output_type": "stream",
     "text": [
      "Episode:  38%|███▊      | 10/26 [01:43<02:48, 10.50s/it]"
     ]
    },
    {
     "name": "stdout",
     "output_type": "stream",
     "text": [
      "=================================\n",
      "begin_total_asset:1000000\n",
      "end_total_asset:4811212.381486267\n",
      "Sharpe:  0.7871819199703464\n",
      "=================================\n"
     ]
    },
    {
     "name": "stderr",
     "output_type": "stream",
     "text": [
      "Episode:  42%|████▏     | 11/26 [01:53<02:36, 10.42s/it]"
     ]
    },
    {
     "name": "stdout",
     "output_type": "stream",
     "text": [
      "=================================\n",
      "begin_total_asset:1000000\n",
      "end_total_asset:1773091.8336264521\n",
      "Sharpe:  0.4155757891772986\n",
      "=================================\n"
     ]
    },
    {
     "name": "stderr",
     "output_type": "stream",
     "text": [
      "Episode:  46%|████▌     | 12/26 [02:03<02:25, 10.37s/it]"
     ]
    },
    {
     "name": "stdout",
     "output_type": "stream",
     "text": [
      "=================================\n",
      "begin_total_asset:1000000\n",
      "end_total_asset:2289585.3094412126\n",
      "Sharpe:  0.6737232765712533\n",
      "=================================\n"
     ]
    },
    {
     "name": "stderr",
     "output_type": "stream",
     "text": [
      "Episode:  50%|█████     | 13/26 [02:14<02:14, 10.34s/it]"
     ]
    },
    {
     "name": "stdout",
     "output_type": "stream",
     "text": [
      "=================================\n",
      "begin_total_asset:1000000\n",
      "end_total_asset:8513513.950592665\n",
      "Sharpe:  1.0891423922638015\n",
      "=================================\n"
     ]
    },
    {
     "name": "stderr",
     "output_type": "stream",
     "text": [
      "Episode:  54%|█████▍    | 14/26 [02:24<02:04, 10.40s/it]"
     ]
    },
    {
     "name": "stdout",
     "output_type": "stream",
     "text": [
      "=================================\n",
      "begin_total_asset:1000000\n",
      "end_total_asset:2301899.576911731\n",
      "Sharpe:  0.7204602935061852\n",
      "=================================\n"
     ]
    },
    {
     "name": "stderr",
     "output_type": "stream",
     "text": [
      "Episode:  58%|█████▊    | 15/26 [02:34<01:53, 10.36s/it]"
     ]
    },
    {
     "name": "stdout",
     "output_type": "stream",
     "text": [
      "=================================\n",
      "begin_total_asset:1000000\n",
      "end_total_asset:7726171.733810748\n",
      "Sharpe:  1.0286396453634274\n",
      "=================================\n"
     ]
    },
    {
     "name": "stderr",
     "output_type": "stream",
     "text": [
      "Episode:  62%|██████▏   | 16/26 [02:45<01:43, 10.35s/it]"
     ]
    },
    {
     "name": "stdout",
     "output_type": "stream",
     "text": [
      "=================================\n",
      "begin_total_asset:1000000\n",
      "end_total_asset:8752733.071070429\n",
      "Sharpe:  1.1844418233647176\n",
      "=================================\n"
     ]
    },
    {
     "name": "stderr",
     "output_type": "stream",
     "text": [
      "Episode:  65%|██████▌   | 17/26 [02:55<01:33, 10.33s/it]"
     ]
    },
    {
     "name": "stdout",
     "output_type": "stream",
     "text": [
      "=================================\n",
      "begin_total_asset:1000000\n",
      "end_total_asset:10156237.592437577\n",
      "Sharpe:  1.1101611310386685\n",
      "=================================\n"
     ]
    },
    {
     "name": "stderr",
     "output_type": "stream",
     "text": [
      "Episode:  69%|██████▉   | 18/26 [03:05<01:22, 10.31s/it]"
     ]
    },
    {
     "name": "stdout",
     "output_type": "stream",
     "text": [
      "=================================\n",
      "begin_total_asset:1000000\n",
      "end_total_asset:6561131.492054955\n",
      "Sharpe:  1.1313773689376028\n",
      "=================================\n"
     ]
    },
    {
     "name": "stderr",
     "output_type": "stream",
     "text": [
      "Episode:  73%|███████▎  | 19/26 [03:16<01:12, 10.29s/it]"
     ]
    },
    {
     "name": "stdout",
     "output_type": "stream",
     "text": [
      "=================================\n",
      "begin_total_asset:1000000\n",
      "end_total_asset:3155611.060234678\n",
      "Sharpe:  0.8781592508578999\n",
      "=================================\n"
     ]
    },
    {
     "name": "stderr",
     "output_type": "stream",
     "text": [
      "Episode:  77%|███████▋  | 20/26 [03:26<01:01, 10.29s/it]"
     ]
    },
    {
     "name": "stdout",
     "output_type": "stream",
     "text": [
      "=================================\n",
      "begin_total_asset:1000000\n",
      "end_total_asset:6191465.914172547\n",
      "Sharpe:  0.9650229952041369\n",
      "=================================\n"
     ]
    },
    {
     "name": "stderr",
     "output_type": "stream",
     "text": [
      "Episode:  81%|████████  | 21/26 [03:36<00:51, 10.28s/it]"
     ]
    },
    {
     "name": "stdout",
     "output_type": "stream",
     "text": [
      "=================================\n",
      "begin_total_asset:1000000\n",
      "end_total_asset:4026975.267390609\n",
      "Sharpe:  0.9902497688047515\n",
      "=================================\n"
     ]
    },
    {
     "name": "stderr",
     "output_type": "stream",
     "text": [
      "Episode:  85%|████████▍ | 22/26 [03:46<00:41, 10.27s/it]"
     ]
    },
    {
     "name": "stdout",
     "output_type": "stream",
     "text": [
      "=================================\n",
      "begin_total_asset:1000000\n",
      "end_total_asset:3407521.4204449216\n",
      "Sharpe:  0.7744182478903479\n",
      "=================================\n"
     ]
    },
    {
     "name": "stderr",
     "output_type": "stream",
     "text": [
      "Episode:  88%|████████▊ | 23/26 [03:57<00:30, 10.25s/it]"
     ]
    },
    {
     "name": "stdout",
     "output_type": "stream",
     "text": [
      "=================================\n",
      "begin_total_asset:1000000\n",
      "end_total_asset:5684456.621109135\n",
      "Sharpe:  0.9474540256642688\n",
      "=================================\n"
     ]
    },
    {
     "name": "stderr",
     "output_type": "stream",
     "text": [
      "Episode:  92%|█████████▏| 24/26 [04:07<00:20, 10.25s/it]"
     ]
    },
    {
     "name": "stdout",
     "output_type": "stream",
     "text": [
      "=================================\n",
      "begin_total_asset:1000000\n",
      "end_total_asset:4889511.448592716\n",
      "Sharpe:  0.9168932919807514\n",
      "=================================\n"
     ]
    },
    {
     "name": "stderr",
     "output_type": "stream",
     "text": [
      "Episode:  96%|█████████▌| 25/26 [04:18<00:10, 10.41s/it]"
     ]
    },
    {
     "name": "stdout",
     "output_type": "stream",
     "text": [
      "=================================\n",
      "begin_total_asset:1000000\n",
      "end_total_asset:4343046.026745543\n",
      "Sharpe:  0.8955771732724676\n",
      "=================================\n"
     ]
    },
    {
     "name": "stderr",
     "output_type": "stream",
     "text": [
      "                                                        \r"
     ]
    },
    {
     "name": "stdout",
     "output_type": "stream",
     "text": [
      "=================================\n",
      "begin_total_asset:1000000\n",
      "end_total_asset:4830177.6513220975\n",
      "Sharpe:  0.8833515763375309\n",
      "=================================\n"
     ]
    },
    {
     "name": "stderr",
     "output_type": "stream",
     "text": [
      "                                                      \r"
     ]
    },
    {
     "name": "stdout",
     "output_type": "stream",
     "text": [
      "=================================\n",
      "begin_total_asset:1000000\n",
      "end_total_asset:1177069.9615796066\n",
      "Sharpe:  1.357609383592835\n",
      "=================================\n"
     ]
    },
    {
     "name": "stderr",
     "output_type": "stream",
     "text": [
      "Episode:   3%|▎         | 1/31 [00:10<05:11, 10.37s/it]"
     ]
    },
    {
     "name": "stdout",
     "output_type": "stream",
     "text": [
      "=================================\n",
      "begin_total_asset:1000000\n",
      "end_total_asset:11085888.952148747\n",
      "Sharpe:  0.9997391545237165\n",
      "=================================\n"
     ]
    },
    {
     "name": "stderr",
     "output_type": "stream",
     "text": [
      "Episode:   6%|▋         | 2/31 [00:20<05:00, 10.37s/it]"
     ]
    },
    {
     "name": "stdout",
     "output_type": "stream",
     "text": [
      "=================================\n",
      "begin_total_asset:1000000\n",
      "end_total_asset:13419317.1282556\n",
      "Sharpe:  1.2299670787281685\n",
      "=================================\n"
     ]
    },
    {
     "name": "stderr",
     "output_type": "stream",
     "text": [
      "Episode:  10%|▉         | 3/31 [00:31<04:49, 10.33s/it]"
     ]
    },
    {
     "name": "stdout",
     "output_type": "stream",
     "text": [
      "=================================\n",
      "begin_total_asset:1000000\n",
      "end_total_asset:4705766.236079253\n",
      "Sharpe:  0.832374704084809\n",
      "=================================\n"
     ]
    },
    {
     "name": "stderr",
     "output_type": "stream",
     "text": [
      "Episode:  13%|█▎        | 4/31 [00:41<04:41, 10.41s/it]"
     ]
    },
    {
     "name": "stdout",
     "output_type": "stream",
     "text": [
      "=================================\n",
      "begin_total_asset:1000000\n",
      "end_total_asset:3502787.334573639\n",
      "Sharpe:  0.886977767642023\n",
      "=================================\n"
     ]
    },
    {
     "name": "stderr",
     "output_type": "stream",
     "text": [
      "Episode:  16%|█▌        | 5/31 [00:51<04:30, 10.41s/it]"
     ]
    },
    {
     "name": "stdout",
     "output_type": "stream",
     "text": [
      "=================================\n",
      "begin_total_asset:1000000\n",
      "end_total_asset:14237815.577514281\n",
      "Sharpe:  1.3011523604652586\n",
      "=================================\n"
     ]
    },
    {
     "name": "stderr",
     "output_type": "stream",
     "text": [
      "Episode:  19%|█▉        | 6/31 [01:02<04:18, 10.36s/it]"
     ]
    },
    {
     "name": "stdout",
     "output_type": "stream",
     "text": [
      "=================================\n",
      "begin_total_asset:1000000\n",
      "end_total_asset:4692056.271643825\n",
      "Sharpe:  0.794645462438625\n",
      "=================================\n"
     ]
    },
    {
     "name": "stderr",
     "output_type": "stream",
     "text": [
      "Episode:  23%|██▎       | 7/31 [01:12<04:07, 10.31s/it]"
     ]
    },
    {
     "name": "stdout",
     "output_type": "stream",
     "text": [
      "=================================\n",
      "begin_total_asset:1000000\n",
      "end_total_asset:1961934.740323043\n",
      "Sharpe:  0.48575108378579335\n",
      "=================================\n"
     ]
    },
    {
     "name": "stderr",
     "output_type": "stream",
     "text": [
      "Episode:  26%|██▌       | 8/31 [01:22<03:56, 10.28s/it]"
     ]
    },
    {
     "name": "stdout",
     "output_type": "stream",
     "text": [
      "=================================\n",
      "begin_total_asset:1000000\n",
      "end_total_asset:2508706.874566195\n",
      "Sharpe:  0.6366724904025727\n",
      "=================================\n"
     ]
    },
    {
     "name": "stderr",
     "output_type": "stream",
     "text": [
      "Episode:  29%|██▉       | 9/31 [01:32<03:46, 10.29s/it]"
     ]
    },
    {
     "name": "stdout",
     "output_type": "stream",
     "text": [
      "=================================\n",
      "begin_total_asset:1000000\n",
      "end_total_asset:6066456.802210269\n",
      "Sharpe:  1.2394360895465504\n",
      "=================================\n"
     ]
    },
    {
     "name": "stderr",
     "output_type": "stream",
     "text": [
      "Episode:  32%|███▏      | 10/31 [01:43<03:36, 10.30s/it]"
     ]
    },
    {
     "name": "stdout",
     "output_type": "stream",
     "text": [
      "=================================\n",
      "begin_total_asset:1000000\n",
      "end_total_asset:4180050.575140521\n",
      "Sharpe:  0.8779636792054528\n",
      "=================================\n"
     ]
    },
    {
     "name": "stderr",
     "output_type": "stream",
     "text": [
      "Episode:  35%|███▌      | 11/31 [01:53<03:25, 10.29s/it]"
     ]
    },
    {
     "name": "stdout",
     "output_type": "stream",
     "text": [
      "=================================\n",
      "begin_total_asset:1000000\n",
      "end_total_asset:5616148.463579409\n",
      "Sharpe:  0.8165592676492386\n",
      "=================================\n"
     ]
    },
    {
     "name": "stderr",
     "output_type": "stream",
     "text": [
      "Episode:  39%|███▊      | 12/31 [02:03<03:16, 10.32s/it]"
     ]
    },
    {
     "name": "stdout",
     "output_type": "stream",
     "text": [
      "=================================\n",
      "begin_total_asset:1000000\n",
      "end_total_asset:20286157.590121023\n",
      "Sharpe:  1.4335263145390291\n",
      "=================================\n"
     ]
    },
    {
     "name": "stderr",
     "output_type": "stream",
     "text": [
      "Episode:  42%|████▏     | 13/31 [02:14<03:06, 10.37s/it]"
     ]
    },
    {
     "name": "stdout",
     "output_type": "stream",
     "text": [
      "=================================\n",
      "begin_total_asset:1000000\n",
      "end_total_asset:4331749.316440522\n",
      "Sharpe:  0.8519001465835537\n",
      "=================================\n"
     ]
    },
    {
     "name": "stderr",
     "output_type": "stream",
     "text": [
      "Episode:  45%|████▌     | 14/31 [02:24<02:57, 10.42s/it]"
     ]
    },
    {
     "name": "stdout",
     "output_type": "stream",
     "text": [
      "=================================\n",
      "begin_total_asset:1000000\n",
      "end_total_asset:6037044.2457494475\n",
      "Sharpe:  1.0808054613186395\n",
      "=================================\n"
     ]
    },
    {
     "name": "stderr",
     "output_type": "stream",
     "text": [
      "Episode:  48%|████▊     | 15/31 [02:35<02:46, 10.41s/it]"
     ]
    },
    {
     "name": "stdout",
     "output_type": "stream",
     "text": [
      "=================================\n",
      "begin_total_asset:1000000\n",
      "end_total_asset:5675113.542044103\n",
      "Sharpe:  0.8913846370696549\n",
      "=================================\n"
     ]
    },
    {
     "name": "stderr",
     "output_type": "stream",
     "text": [
      "Episode:  52%|█████▏    | 16/31 [02:45<02:35, 10.36s/it]"
     ]
    },
    {
     "name": "stdout",
     "output_type": "stream",
     "text": [
      "=================================\n",
      "begin_total_asset:1000000\n",
      "end_total_asset:9688519.196988204\n",
      "Sharpe:  1.1338988144907642\n",
      "=================================\n"
     ]
    },
    {
     "name": "stderr",
     "output_type": "stream",
     "text": [
      "Episode:  55%|█████▍    | 17/31 [02:55<02:24, 10.33s/it]"
     ]
    },
    {
     "name": "stdout",
     "output_type": "stream",
     "text": [
      "=================================\n",
      "begin_total_asset:1000000\n",
      "end_total_asset:4850639.315040985\n",
      "Sharpe:  0.9351402456938938\n",
      "=================================\n"
     ]
    },
    {
     "name": "stderr",
     "output_type": "stream",
     "text": [
      "Episode:  58%|█████▊    | 18/31 [03:06<02:14, 10.33s/it]"
     ]
    },
    {
     "name": "stdout",
     "output_type": "stream",
     "text": [
      "=================================\n",
      "begin_total_asset:1000000\n",
      "end_total_asset:4451163.77838456\n",
      "Sharpe:  0.7937810374968378\n",
      "=================================\n"
     ]
    },
    {
     "name": "stderr",
     "output_type": "stream",
     "text": [
      "Episode:  61%|██████▏   | 19/31 [03:16<02:03, 10.31s/it]"
     ]
    },
    {
     "name": "stdout",
     "output_type": "stream",
     "text": [
      "=================================\n",
      "begin_total_asset:1000000\n",
      "end_total_asset:3640778.2462015627\n",
      "Sharpe:  0.7557933920044443\n",
      "=================================\n"
     ]
    },
    {
     "name": "stderr",
     "output_type": "stream",
     "text": [
      "Episode:  65%|██████▍   | 20/31 [03:26<01:53, 10.30s/it]"
     ]
    },
    {
     "name": "stdout",
     "output_type": "stream",
     "text": [
      "=================================\n",
      "begin_total_asset:1000000\n",
      "end_total_asset:13860057.560011046\n",
      "Sharpe:  1.149214757483896\n",
      "=================================\n"
     ]
    },
    {
     "name": "stderr",
     "output_type": "stream",
     "text": [
      "Episode:  68%|██████▊   | 21/31 [03:37<01:43, 10.30s/it]"
     ]
    },
    {
     "name": "stdout",
     "output_type": "stream",
     "text": [
      "=================================\n",
      "begin_total_asset:1000000\n",
      "end_total_asset:13650459.507441664\n",
      "Sharpe:  1.552748628126496\n",
      "=================================\n"
     ]
    },
    {
     "name": "stderr",
     "output_type": "stream",
     "text": [
      "Episode:  71%|███████   | 22/31 [03:47<01:33, 10.39s/it]"
     ]
    },
    {
     "name": "stdout",
     "output_type": "stream",
     "text": [
      "=================================\n",
      "begin_total_asset:1000000\n",
      "end_total_asset:13570298.353726685\n",
      "Sharpe:  1.1114984289251504\n",
      "=================================\n"
     ]
    },
    {
     "name": "stderr",
     "output_type": "stream",
     "text": [
      "Episode:  74%|███████▍  | 23/31 [03:57<01:22, 10.36s/it]"
     ]
    },
    {
     "name": "stdout",
     "output_type": "stream",
     "text": [
      "=================================\n",
      "begin_total_asset:1000000\n",
      "end_total_asset:3712892.8420305164\n",
      "Sharpe:  0.9695922091815955\n",
      "=================================\n"
     ]
    },
    {
     "name": "stderr",
     "output_type": "stream",
     "text": [
      "Episode:  77%|███████▋  | 24/31 [04:08<01:12, 10.35s/it]"
     ]
    },
    {
     "name": "stdout",
     "output_type": "stream",
     "text": [
      "=================================\n",
      "begin_total_asset:1000000\n",
      "end_total_asset:3670376.4985460727\n",
      "Sharpe:  0.7319839731586126\n",
      "=================================\n"
     ]
    },
    {
     "name": "stderr",
     "output_type": "stream",
     "text": [
      "Episode:  81%|████████  | 25/31 [04:18<01:01, 10.30s/it]"
     ]
    },
    {
     "name": "stdout",
     "output_type": "stream",
     "text": [
      "=================================\n",
      "begin_total_asset:1000000\n",
      "end_total_asset:5041470.180443958\n",
      "Sharpe:  0.8182350635290138\n",
      "=================================\n"
     ]
    },
    {
     "name": "stderr",
     "output_type": "stream",
     "text": [
      "Episode:  84%|████████▍ | 26/31 [04:28<00:51, 10.34s/it]"
     ]
    },
    {
     "name": "stdout",
     "output_type": "stream",
     "text": [
      "=================================\n",
      "begin_total_asset:1000000\n",
      "end_total_asset:6287301.972299658\n",
      "Sharpe:  0.9093439423849995\n",
      "=================================\n"
     ]
    },
    {
     "name": "stderr",
     "output_type": "stream",
     "text": [
      "Episode:  87%|████████▋ | 27/31 [04:39<00:41, 10.33s/it]"
     ]
    },
    {
     "name": "stdout",
     "output_type": "stream",
     "text": [
      "=================================\n",
      "begin_total_asset:1000000\n",
      "end_total_asset:7971607.135713546\n",
      "Sharpe:  1.0853638525548008\n",
      "=================================\n"
     ]
    },
    {
     "name": "stderr",
     "output_type": "stream",
     "text": [
      "Episode:  90%|█████████ | 28/31 [04:49<00:30, 10.32s/it]"
     ]
    },
    {
     "name": "stdout",
     "output_type": "stream",
     "text": [
      "=================================\n",
      "begin_total_asset:1000000\n",
      "end_total_asset:7057791.089960509\n",
      "Sharpe:  0.9668347478581027\n",
      "=================================\n"
     ]
    },
    {
     "name": "stderr",
     "output_type": "stream",
     "text": [
      "Episode:  94%|█████████▎| 29/31 [04:59<00:20, 10.32s/it]"
     ]
    },
    {
     "name": "stdout",
     "output_type": "stream",
     "text": [
      "=================================\n",
      "begin_total_asset:1000000\n",
      "end_total_asset:4141966.811285827\n",
      "Sharpe:  0.8723933191059718\n",
      "=================================\n"
     ]
    },
    {
     "name": "stderr",
     "output_type": "stream",
     "text": [
      "Episode:  97%|█████████▋| 30/31 [05:10<00:10, 10.31s/it]"
     ]
    },
    {
     "name": "stdout",
     "output_type": "stream",
     "text": [
      "=================================\n",
      "begin_total_asset:1000000\n",
      "end_total_asset:4099407.696934654\n",
      "Sharpe:  0.8004445856504913\n",
      "=================================\n"
     ]
    },
    {
     "name": "stderr",
     "output_type": "stream",
     "text": [
      "                                                        \r"
     ]
    },
    {
     "name": "stdout",
     "output_type": "stream",
     "text": [
      "=================================\n",
      "begin_total_asset:1000000\n",
      "end_total_asset:14102995.605414588\n",
      "Sharpe:  1.159509505228542\n",
      "=================================\n"
     ]
    },
    {
     "name": "stderr",
     "output_type": "stream",
     "text": [
      "                                                      \r"
     ]
    },
    {
     "name": "stdout",
     "output_type": "stream",
     "text": [
      "=================================\n",
      "begin_total_asset:1000000\n",
      "end_total_asset:1089351.5206874486\n",
      "Sharpe:  1.0860116828251047\n",
      "=================================\n"
     ]
    },
    {
     "name": "stderr",
     "output_type": "stream",
     "text": [
      "Episode:   3%|▎         | 1/36 [00:10<05:57, 10.21s/it]"
     ]
    },
    {
     "name": "stdout",
     "output_type": "stream",
     "text": [
      "=================================\n",
      "begin_total_asset:1000000\n",
      "end_total_asset:2676597.737921348\n",
      "Sharpe:  0.5537421849451709\n",
      "=================================\n"
     ]
    },
    {
     "name": "stderr",
     "output_type": "stream",
     "text": [
      "Episode:   6%|▌         | 2/36 [00:20<05:49, 10.29s/it]"
     ]
    },
    {
     "name": "stdout",
     "output_type": "stream",
     "text": [
      "=================================\n",
      "begin_total_asset:1000000\n",
      "end_total_asset:5715000.79909376\n",
      "Sharpe:  1.1866893595476864\n",
      "=================================\n"
     ]
    },
    {
     "name": "stderr",
     "output_type": "stream",
     "text": [
      "Episode:   8%|▊         | 3/36 [00:30<05:40, 10.32s/it]"
     ]
    },
    {
     "name": "stdout",
     "output_type": "stream",
     "text": [
      "=================================\n",
      "begin_total_asset:1000000\n",
      "end_total_asset:2728569.052334825\n",
      "Sharpe:  0.5592204994158891\n",
      "=================================\n"
     ]
    },
    {
     "name": "stderr",
     "output_type": "stream",
     "text": [
      "Episode:  11%|█         | 4/36 [00:41<05:30, 10.33s/it]"
     ]
    },
    {
     "name": "stdout",
     "output_type": "stream",
     "text": [
      "=================================\n",
      "begin_total_asset:1000000\n",
      "end_total_asset:7702636.702492291\n",
      "Sharpe:  1.059167057691288\n",
      "=================================\n"
     ]
    },
    {
     "name": "stderr",
     "output_type": "stream",
     "text": [
      "Episode:  14%|█▍        | 5/36 [00:51<05:21, 10.38s/it]"
     ]
    },
    {
     "name": "stdout",
     "output_type": "stream",
     "text": [
      "=================================\n",
      "begin_total_asset:1000000\n",
      "end_total_asset:3995759.0631433427\n",
      "Sharpe:  0.839231554396897\n",
      "=================================\n"
     ]
    },
    {
     "name": "stderr",
     "output_type": "stream",
     "text": [
      "Episode:  17%|█▋        | 6/36 [01:02<05:12, 10.42s/it]"
     ]
    },
    {
     "name": "stdout",
     "output_type": "stream",
     "text": [
      "=================================\n",
      "begin_total_asset:1000000\n",
      "end_total_asset:6095799.094268784\n",
      "Sharpe:  1.1738000005656752\n",
      "=================================\n"
     ]
    },
    {
     "name": "stderr",
     "output_type": "stream",
     "text": [
      "Episode:  19%|█▉        | 7/36 [01:12<05:01, 10.40s/it]"
     ]
    },
    {
     "name": "stdout",
     "output_type": "stream",
     "text": [
      "=================================\n",
      "begin_total_asset:1000000\n",
      "end_total_asset:4120259.4378491016\n",
      "Sharpe:  0.9428316544063138\n",
      "=================================\n"
     ]
    },
    {
     "name": "stderr",
     "output_type": "stream",
     "text": [
      "Episode:  22%|██▏       | 8/36 [01:22<04:50, 10.37s/it]"
     ]
    },
    {
     "name": "stdout",
     "output_type": "stream",
     "text": [
      "=================================\n",
      "begin_total_asset:1000000\n",
      "end_total_asset:3522864.6471306165\n",
      "Sharpe:  0.8354824957676795\n",
      "=================================\n"
     ]
    },
    {
     "name": "stderr",
     "output_type": "stream",
     "text": [
      "Episode:  25%|██▌       | 9/36 [01:33<04:39, 10.37s/it]"
     ]
    },
    {
     "name": "stdout",
     "output_type": "stream",
     "text": [
      "=================================\n",
      "begin_total_asset:1000000\n",
      "end_total_asset:5812929.609805777\n",
      "Sharpe:  0.9846786049910385\n",
      "=================================\n"
     ]
    },
    {
     "name": "stderr",
     "output_type": "stream",
     "text": [
      "Episode:  28%|██▊       | 10/36 [01:43<04:28, 10.34s/it]"
     ]
    },
    {
     "name": "stdout",
     "output_type": "stream",
     "text": [
      "=================================\n",
      "begin_total_asset:1000000\n",
      "end_total_asset:1686469.3671885997\n",
      "Sharpe:  0.42879204682568317\n",
      "=================================\n"
     ]
    },
    {
     "name": "stderr",
     "output_type": "stream",
     "text": [
      "Episode:  31%|███       | 11/36 [01:54<04:20, 10.43s/it]"
     ]
    },
    {
     "name": "stdout",
     "output_type": "stream",
     "text": [
      "=================================\n",
      "begin_total_asset:1000000\n",
      "end_total_asset:5352530.132803415\n",
      "Sharpe:  0.8519653588020805\n",
      "=================================\n"
     ]
    },
    {
     "name": "stderr",
     "output_type": "stream",
     "text": [
      "Episode:  33%|███▎      | 12/36 [02:04<04:08, 10.37s/it]"
     ]
    },
    {
     "name": "stdout",
     "output_type": "stream",
     "text": [
      "=================================\n",
      "begin_total_asset:1000000\n",
      "end_total_asset:6730242.7564348625\n",
      "Sharpe:  1.0137683647506912\n",
      "=================================\n"
     ]
    },
    {
     "name": "stderr",
     "output_type": "stream",
     "text": [
      "Episode:  36%|███▌      | 13/36 [02:14<03:58, 10.36s/it]"
     ]
    },
    {
     "name": "stdout",
     "output_type": "stream",
     "text": [
      "=================================\n",
      "begin_total_asset:1000000\n",
      "end_total_asset:6108635.153098995\n",
      "Sharpe:  0.8047757542357383\n",
      "=================================\n"
     ]
    },
    {
     "name": "stderr",
     "output_type": "stream",
     "text": [
      "Episode:  39%|███▉      | 14/36 [02:25<03:47, 10.36s/it]"
     ]
    },
    {
     "name": "stdout",
     "output_type": "stream",
     "text": [
      "=================================\n",
      "begin_total_asset:1000000\n",
      "end_total_asset:8451650.951848833\n",
      "Sharpe:  0.9767300043744062\n",
      "=================================\n"
     ]
    },
    {
     "name": "stderr",
     "output_type": "stream",
     "text": [
      "Episode:  42%|████▏     | 15/36 [02:35<03:36, 10.33s/it]"
     ]
    },
    {
     "name": "stdout",
     "output_type": "stream",
     "text": [
      "=================================\n",
      "begin_total_asset:1000000\n",
      "end_total_asset:4179768.4894127487\n",
      "Sharpe:  0.9133679390559275\n",
      "=================================\n"
     ]
    },
    {
     "name": "stderr",
     "output_type": "stream",
     "text": [
      "Episode:  44%|████▍     | 16/36 [02:45<03:26, 10.33s/it]"
     ]
    },
    {
     "name": "stdout",
     "output_type": "stream",
     "text": [
      "=================================\n",
      "begin_total_asset:1000000\n",
      "end_total_asset:4237031.903389624\n",
      "Sharpe:  0.7420673955627883\n",
      "=================================\n"
     ]
    },
    {
     "name": "stderr",
     "output_type": "stream",
     "text": [
      "Episode:  47%|████▋     | 17/36 [02:55<03:16, 10.32s/it]"
     ]
    },
    {
     "name": "stdout",
     "output_type": "stream",
     "text": [
      "=================================\n",
      "begin_total_asset:1000000\n",
      "end_total_asset:16865915.395022437\n",
      "Sharpe:  1.4286511989896546\n",
      "=================================\n"
     ]
    },
    {
     "name": "stderr",
     "output_type": "stream",
     "text": [
      "Episode:  50%|█████     | 18/36 [03:06<03:05, 10.32s/it]"
     ]
    },
    {
     "name": "stdout",
     "output_type": "stream",
     "text": [
      "=================================\n",
      "begin_total_asset:1000000\n",
      "end_total_asset:5314187.153142\n",
      "Sharpe:  1.0061861624535782\n",
      "=================================\n"
     ]
    },
    {
     "name": "stderr",
     "output_type": "stream",
     "text": [
      "Episode:  53%|█████▎    | 19/36 [03:16<02:55, 10.35s/it]"
     ]
    },
    {
     "name": "stdout",
     "output_type": "stream",
     "text": [
      "=================================\n",
      "begin_total_asset:1000000\n",
      "end_total_asset:1977263.262878602\n",
      "Sharpe:  0.6157104034699804\n",
      "=================================\n"
     ]
    },
    {
     "name": "stderr",
     "output_type": "stream",
     "text": [
      "Episode:  56%|█████▌    | 20/36 [03:27<02:45, 10.36s/it]"
     ]
    },
    {
     "name": "stdout",
     "output_type": "stream",
     "text": [
      "=================================\n",
      "begin_total_asset:1000000\n",
      "end_total_asset:6439619.970064153\n",
      "Sharpe:  0.930924853301496\n",
      "=================================\n"
     ]
    },
    {
     "name": "stderr",
     "output_type": "stream",
     "text": [
      "Episode:  58%|█████▊    | 21/36 [03:37<02:35, 10.39s/it]"
     ]
    },
    {
     "name": "stdout",
     "output_type": "stream",
     "text": [
      "=================================\n",
      "begin_total_asset:1000000\n",
      "end_total_asset:5776976.339137999\n",
      "Sharpe:  0.9898985622158919\n",
      "=================================\n"
     ]
    },
    {
     "name": "stderr",
     "output_type": "stream",
     "text": [
      "Episode:  61%|██████    | 22/36 [03:48<02:26, 10.48s/it]"
     ]
    },
    {
     "name": "stdout",
     "output_type": "stream",
     "text": [
      "=================================\n",
      "begin_total_asset:1000000\n",
      "end_total_asset:5431856.811004103\n",
      "Sharpe:  1.0968106826262\n",
      "=================================\n"
     ]
    },
    {
     "name": "stderr",
     "output_type": "stream",
     "text": [
      "Episode:  64%|██████▍   | 23/36 [03:58<02:15, 10.45s/it]"
     ]
    },
    {
     "name": "stdout",
     "output_type": "stream",
     "text": [
      "=================================\n",
      "begin_total_asset:1000000\n",
      "end_total_asset:22351665.969648022\n",
      "Sharpe:  1.2895300386898683\n",
      "=================================\n"
     ]
    },
    {
     "name": "stderr",
     "output_type": "stream",
     "text": [
      "Episode:  67%|██████▋   | 24/36 [04:08<02:04, 10.41s/it]"
     ]
    },
    {
     "name": "stdout",
     "output_type": "stream",
     "text": [
      "=================================\n",
      "begin_total_asset:1000000\n",
      "end_total_asset:3044194.616847648\n",
      "Sharpe:  0.7643377072103505\n",
      "=================================\n"
     ]
    },
    {
     "name": "stderr",
     "output_type": "stream",
     "text": [
      "Episode:  69%|██████▉   | 25/36 [04:19<01:54, 10.38s/it]"
     ]
    },
    {
     "name": "stdout",
     "output_type": "stream",
     "text": [
      "=================================\n",
      "begin_total_asset:1000000\n",
      "end_total_asset:2465767.3270747373\n",
      "Sharpe:  0.6262640434670301\n",
      "=================================\n"
     ]
    },
    {
     "name": "stderr",
     "output_type": "stream",
     "text": [
      "Episode:  72%|███████▏  | 26/36 [04:29<01:43, 10.39s/it]"
     ]
    },
    {
     "name": "stdout",
     "output_type": "stream",
     "text": [
      "=================================\n",
      "begin_total_asset:1000000\n",
      "end_total_asset:6268655.379557671\n",
      "Sharpe:  1.1317613666232091\n",
      "=================================\n"
     ]
    },
    {
     "name": "stderr",
     "output_type": "stream",
     "text": [
      "Episode:  75%|███████▌  | 27/36 [04:40<01:33, 10.39s/it]"
     ]
    },
    {
     "name": "stdout",
     "output_type": "stream",
     "text": [
      "=================================\n",
      "begin_total_asset:1000000\n",
      "end_total_asset:5276529.057464484\n",
      "Sharpe:  1.0746853690904117\n",
      "=================================\n"
     ]
    },
    {
     "name": "stderr",
     "output_type": "stream",
     "text": [
      "Episode:  78%|███████▊  | 28/36 [04:50<01:23, 10.41s/it]"
     ]
    },
    {
     "name": "stdout",
     "output_type": "stream",
     "text": [
      "=================================\n",
      "begin_total_asset:1000000\n",
      "end_total_asset:3506689.948573229\n",
      "Sharpe:  0.7097879779412565\n",
      "=================================\n"
     ]
    },
    {
     "name": "stderr",
     "output_type": "stream",
     "text": [
      "Episode:  81%|████████  | 29/36 [05:00<01:12, 10.41s/it]"
     ]
    },
    {
     "name": "stdout",
     "output_type": "stream",
     "text": [
      "=================================\n",
      "begin_total_asset:1000000\n",
      "end_total_asset:9213753.69869282\n",
      "Sharpe:  1.0365756381514715\n",
      "=================================\n"
     ]
    },
    {
     "name": "stderr",
     "output_type": "stream",
     "text": [
      "Episode:  83%|████████▎ | 30/36 [05:11<01:02, 10.40s/it]"
     ]
    },
    {
     "name": "stdout",
     "output_type": "stream",
     "text": [
      "=================================\n",
      "begin_total_asset:1000000\n",
      "end_total_asset:3038739.008384931\n",
      "Sharpe:  0.8070687340412349\n",
      "=================================\n"
     ]
    },
    {
     "name": "stderr",
     "output_type": "stream",
     "text": [
      "Episode:  86%|████████▌ | 31/36 [05:21<00:52, 10.43s/it]"
     ]
    },
    {
     "name": "stdout",
     "output_type": "stream",
     "text": [
      "=================================\n",
      "begin_total_asset:1000000\n",
      "end_total_asset:18861131.702145576\n",
      "Sharpe:  1.270952100106395\n",
      "=================================\n"
     ]
    },
    {
     "name": "stderr",
     "output_type": "stream",
     "text": [
      "Episode:  89%|████████▉ | 32/36 [05:32<00:41, 10.40s/it]"
     ]
    },
    {
     "name": "stdout",
     "output_type": "stream",
     "text": [
      "=================================\n",
      "begin_total_asset:1000000\n",
      "end_total_asset:3323442.528523109\n",
      "Sharpe:  0.7286330187020946\n",
      "=================================\n"
     ]
    },
    {
     "name": "stderr",
     "output_type": "stream",
     "text": [
      "Episode:  92%|█████████▏| 33/36 [05:42<00:31, 10.50s/it]"
     ]
    },
    {
     "name": "stdout",
     "output_type": "stream",
     "text": [
      "=================================\n",
      "begin_total_asset:1000000\n",
      "end_total_asset:24279345.607583493\n",
      "Sharpe:  1.3750501979138239\n",
      "=================================\n"
     ]
    },
    {
     "name": "stderr",
     "output_type": "stream",
     "text": [
      "Episode:  94%|█████████▍| 34/36 [05:53<00:20, 10.47s/it]"
     ]
    },
    {
     "name": "stdout",
     "output_type": "stream",
     "text": [
      "=================================\n",
      "begin_total_asset:1000000\n",
      "end_total_asset:5689699.265633838\n",
      "Sharpe:  1.0286130422628919\n",
      "=================================\n"
     ]
    },
    {
     "name": "stderr",
     "output_type": "stream",
     "text": [
      "Episode:  97%|█████████▋| 35/36 [06:03<00:10, 10.44s/it]"
     ]
    },
    {
     "name": "stdout",
     "output_type": "stream",
     "text": [
      "=================================\n",
      "begin_total_asset:1000000\n",
      "end_total_asset:6219139.025936946\n",
      "Sharpe:  1.024935592313596\n",
      "=================================\n"
     ]
    },
    {
     "name": "stderr",
     "output_type": "stream",
     "text": [
      "                                                        "
     ]
    },
    {
     "name": "stdout",
     "output_type": "stream",
     "text": [
      "=================================\n",
      "begin_total_asset:1000000\n",
      "end_total_asset:4942673.636311217\n",
      "Sharpe:  1.1483756899829871\n",
      "=================================\n"
     ]
    },
    {
     "name": "stderr",
     "output_type": "stream",
     "text": [
      "                                                      \r"
     ]
    },
    {
     "name": "stdout",
     "output_type": "stream",
     "text": [
      "=================================\n",
      "begin_total_asset:1000000\n",
      "end_total_asset:1273558.2318957692\n",
      "Sharpe:  1.0600642852721633\n",
      "=================================\n"
     ]
    },
    {
     "name": "stderr",
     "output_type": "stream",
     "text": [
      "Episode:   2%|▏         | 1/41 [00:10<06:56, 10.40s/it]"
     ]
    },
    {
     "name": "stdout",
     "output_type": "stream",
     "text": [
      "=================================\n",
      "begin_total_asset:1000000\n",
      "end_total_asset:5798995.052286251\n",
      "Sharpe:  1.0553510344201542\n",
      "=================================\n"
     ]
    },
    {
     "name": "stderr",
     "output_type": "stream",
     "text": [
      "Episode:   5%|▍         | 2/41 [00:20<06:45, 10.39s/it]"
     ]
    },
    {
     "name": "stdout",
     "output_type": "stream",
     "text": [
      "=================================\n",
      "begin_total_asset:1000000\n",
      "end_total_asset:6969928.936398269\n",
      "Sharpe:  1.0788102759472726\n",
      "=================================\n"
     ]
    },
    {
     "name": "stderr",
     "output_type": "stream",
     "text": [
      "Episode:   7%|▋         | 3/41 [00:31<06:34, 10.37s/it]"
     ]
    },
    {
     "name": "stdout",
     "output_type": "stream",
     "text": [
      "=================================\n",
      "begin_total_asset:1000000\n",
      "end_total_asset:3004086.205962318\n",
      "Sharpe:  0.7193175162439807\n",
      "=================================\n"
     ]
    },
    {
     "name": "stderr",
     "output_type": "stream",
     "text": [
      "Episode:  10%|▉         | 4/41 [00:41<06:23, 10.37s/it]"
     ]
    },
    {
     "name": "stdout",
     "output_type": "stream",
     "text": [
      "=================================\n",
      "begin_total_asset:1000000\n",
      "end_total_asset:3816878.4545527175\n",
      "Sharpe:  0.7264569265719224\n",
      "=================================\n"
     ]
    },
    {
     "name": "stderr",
     "output_type": "stream",
     "text": [
      "Episode:  12%|█▏        | 5/41 [00:51<06:13, 10.37s/it]"
     ]
    },
    {
     "name": "stdout",
     "output_type": "stream",
     "text": [
      "=================================\n",
      "begin_total_asset:1000000\n",
      "end_total_asset:6815258.698324663\n",
      "Sharpe:  0.953125321120695\n",
      "=================================\n"
     ]
    },
    {
     "name": "stderr",
     "output_type": "stream",
     "text": [
      "Episode:  15%|█▍        | 6/41 [01:02<06:02, 10.36s/it]"
     ]
    },
    {
     "name": "stdout",
     "output_type": "stream",
     "text": [
      "=================================\n",
      "begin_total_asset:1000000\n",
      "end_total_asset:9130659.225874256\n",
      "Sharpe:  1.0303851273080387\n",
      "=================================\n"
     ]
    },
    {
     "name": "stderr",
     "output_type": "stream",
     "text": [
      "Episode:  17%|█▋        | 7/41 [01:12<05:51, 10.35s/it]"
     ]
    },
    {
     "name": "stdout",
     "output_type": "stream",
     "text": [
      "=================================\n",
      "begin_total_asset:1000000\n",
      "end_total_asset:5617629.718610824\n",
      "Sharpe:  0.9846543677059837\n",
      "=================================\n"
     ]
    },
    {
     "name": "stderr",
     "output_type": "stream",
     "text": [
      "Episode:  20%|█▉        | 8/41 [01:22<05:41, 10.34s/it]"
     ]
    },
    {
     "name": "stdout",
     "output_type": "stream",
     "text": [
      "=================================\n",
      "begin_total_asset:1000000\n",
      "end_total_asset:4278624.202793995\n",
      "Sharpe:  0.8547910224312633\n",
      "=================================\n"
     ]
    },
    {
     "name": "stderr",
     "output_type": "stream",
     "text": [
      "Episode:  22%|██▏       | 9/41 [01:33<05:30, 10.34s/it]"
     ]
    },
    {
     "name": "stdout",
     "output_type": "stream",
     "text": [
      "=================================\n",
      "begin_total_asset:1000000\n",
      "end_total_asset:4229476.063154896\n",
      "Sharpe:  0.7747648620090408\n",
      "=================================\n"
     ]
    },
    {
     "name": "stderr",
     "output_type": "stream",
     "text": [
      "Episode:  24%|██▍       | 10/41 [01:43<05:20, 10.33s/it]"
     ]
    },
    {
     "name": "stdout",
     "output_type": "stream",
     "text": [
      "=================================\n",
      "begin_total_asset:1000000\n",
      "end_total_asset:5097637.914985586\n",
      "Sharpe:  0.9655922608123481\n",
      "=================================\n"
     ]
    },
    {
     "name": "stderr",
     "output_type": "stream",
     "text": [
      "Episode:  27%|██▋       | 11/41 [01:53<05:11, 10.37s/it]"
     ]
    },
    {
     "name": "stdout",
     "output_type": "stream",
     "text": [
      "=================================\n",
      "begin_total_asset:1000000\n",
      "end_total_asset:5684613.516500392\n",
      "Sharpe:  1.0411029331647454\n",
      "=================================\n"
     ]
    },
    {
     "name": "stderr",
     "output_type": "stream",
     "text": [
      "Episode:  29%|██▉       | 12/41 [02:04<05:03, 10.48s/it]"
     ]
    },
    {
     "name": "stdout",
     "output_type": "stream",
     "text": [
      "=================================\n",
      "begin_total_asset:1000000\n",
      "end_total_asset:5545274.414814686\n",
      "Sharpe:  0.8976509085509259\n",
      "=================================\n"
     ]
    },
    {
     "name": "stderr",
     "output_type": "stream",
     "text": [
      "Episode:  32%|███▏      | 13/41 [02:15<04:55, 10.57s/it]"
     ]
    },
    {
     "name": "stdout",
     "output_type": "stream",
     "text": [
      "=================================\n",
      "begin_total_asset:1000000\n",
      "end_total_asset:1802363.7822241955\n",
      "Sharpe:  0.42573786259269936\n",
      "=================================\n"
     ]
    },
    {
     "name": "stderr",
     "output_type": "stream",
     "text": [
      "Episode:  34%|███▍      | 14/41 [02:25<04:43, 10.49s/it]"
     ]
    },
    {
     "name": "stdout",
     "output_type": "stream",
     "text": [
      "=================================\n",
      "begin_total_asset:1000000\n",
      "end_total_asset:3469385.78368812\n",
      "Sharpe:  0.7514663020467361\n",
      "=================================\n"
     ]
    },
    {
     "name": "stderr",
     "output_type": "stream",
     "text": [
      "Episode:  37%|███▋      | 15/41 [02:36<04:33, 10.51s/it]"
     ]
    },
    {
     "name": "stdout",
     "output_type": "stream",
     "text": [
      "=================================\n",
      "begin_total_asset:1000000\n",
      "end_total_asset:8941717.724026829\n",
      "Sharpe:  0.9732605146715271\n",
      "=================================\n"
     ]
    },
    {
     "name": "stderr",
     "output_type": "stream",
     "text": [
      "Episode:  39%|███▉      | 16/41 [02:47<04:28, 10.75s/it]"
     ]
    },
    {
     "name": "stdout",
     "output_type": "stream",
     "text": [
      "=================================\n",
      "begin_total_asset:1000000\n",
      "end_total_asset:11093251.938344482\n",
      "Sharpe:  1.1165020528038838\n",
      "=================================\n"
     ]
    },
    {
     "name": "stderr",
     "output_type": "stream",
     "text": [
      "Episode:  41%|████▏     | 17/41 [02:58<04:19, 10.80s/it]"
     ]
    },
    {
     "name": "stdout",
     "output_type": "stream",
     "text": [
      "=================================\n",
      "begin_total_asset:1000000\n",
      "end_total_asset:4598135.434157774\n",
      "Sharpe:  0.9608151136322649\n",
      "=================================\n"
     ]
    },
    {
     "name": "stderr",
     "output_type": "stream",
     "text": [
      "Episode:  44%|████▍     | 18/41 [03:10<04:14, 11.07s/it]"
     ]
    },
    {
     "name": "stdout",
     "output_type": "stream",
     "text": [
      "=================================\n",
      "begin_total_asset:1000000\n",
      "end_total_asset:29502614.071639035\n",
      "Sharpe:  1.6970511682360234\n",
      "=================================\n"
     ]
    },
    {
     "name": "stderr",
     "output_type": "stream",
     "text": [
      "Episode:  46%|████▋     | 19/41 [03:20<04:00, 10.91s/it]"
     ]
    },
    {
     "name": "stdout",
     "output_type": "stream",
     "text": [
      "=================================\n",
      "begin_total_asset:1000000\n",
      "end_total_asset:6303152.304990317\n",
      "Sharpe:  0.9347544570814788\n",
      "=================================\n"
     ]
    },
    {
     "name": "stderr",
     "output_type": "stream",
     "text": [
      "Episode:  49%|████▉     | 20/41 [03:31<03:47, 10.84s/it]"
     ]
    },
    {
     "name": "stdout",
     "output_type": "stream",
     "text": [
      "=================================\n",
      "begin_total_asset:1000000\n",
      "end_total_asset:14892442.383267265\n",
      "Sharpe:  1.4880612173310048\n",
      "=================================\n"
     ]
    },
    {
     "name": "stderr",
     "output_type": "stream",
     "text": [
      "Episode:  51%|█████     | 21/41 [03:41<03:31, 10.57s/it]"
     ]
    },
    {
     "name": "stdout",
     "output_type": "stream",
     "text": [
      "=================================\n",
      "begin_total_asset:1000000\n",
      "end_total_asset:8370218.431556586\n",
      "Sharpe:  1.0779432557317945\n",
      "=================================\n"
     ]
    },
    {
     "name": "stderr",
     "output_type": "stream",
     "text": [
      "Episode:  54%|█████▎    | 22/41 [03:51<03:17, 10.40s/it]"
     ]
    },
    {
     "name": "stdout",
     "output_type": "stream",
     "text": [
      "=================================\n",
      "begin_total_asset:1000000\n",
      "end_total_asset:4182019.9369821195\n",
      "Sharpe:  0.9525856183101877\n",
      "=================================\n"
     ]
    },
    {
     "name": "stderr",
     "output_type": "stream",
     "text": [
      "Episode:  56%|█████▌    | 23/41 [04:01<03:04, 10.25s/it]"
     ]
    },
    {
     "name": "stdout",
     "output_type": "stream",
     "text": [
      "=================================\n",
      "begin_total_asset:1000000\n",
      "end_total_asset:3797370.8310561385\n",
      "Sharpe:  0.996500327106137\n",
      "=================================\n"
     ]
    },
    {
     "name": "stderr",
     "output_type": "stream",
     "text": [
      "Episode:  59%|█████▊    | 24/41 [04:11<02:52, 10.16s/it]"
     ]
    },
    {
     "name": "stdout",
     "output_type": "stream",
     "text": [
      "=================================\n",
      "begin_total_asset:1000000\n",
      "end_total_asset:7418833.1073964285\n",
      "Sharpe:  1.1210445330769023\n",
      "=================================\n"
     ]
    },
    {
     "name": "stderr",
     "output_type": "stream",
     "text": [
      "Episode:  61%|██████    | 25/41 [04:21<02:41, 10.10s/it]"
     ]
    },
    {
     "name": "stdout",
     "output_type": "stream",
     "text": [
      "=================================\n",
      "begin_total_asset:1000000\n",
      "end_total_asset:7604643.917526307\n",
      "Sharpe:  0.9863284473757721\n",
      "=================================\n"
     ]
    },
    {
     "name": "stderr",
     "output_type": "stream",
     "text": [
      "Episode:  63%|██████▎   | 26/41 [04:31<02:30, 10.06s/it]"
     ]
    },
    {
     "name": "stdout",
     "output_type": "stream",
     "text": [
      "=================================\n",
      "begin_total_asset:1000000\n",
      "end_total_asset:7482809.404384113\n",
      "Sharpe:  1.162667670811543\n",
      "=================================\n"
     ]
    },
    {
     "name": "stderr",
     "output_type": "stream",
     "text": [
      "Episode:  66%|██████▌   | 27/41 [04:41<02:20, 10.03s/it]"
     ]
    },
    {
     "name": "stdout",
     "output_type": "stream",
     "text": [
      "=================================\n",
      "begin_total_asset:1000000\n",
      "end_total_asset:3981192.6301398394\n",
      "Sharpe:  0.7893205267047066\n",
      "=================================\n"
     ]
    },
    {
     "name": "stderr",
     "output_type": "stream",
     "text": [
      "Episode:  68%|██████▊   | 28/41 [04:51<02:10, 10.03s/it]"
     ]
    },
    {
     "name": "stdout",
     "output_type": "stream",
     "text": [
      "=================================\n",
      "begin_total_asset:1000000\n",
      "end_total_asset:5874311.9551297035\n",
      "Sharpe:  1.122226357894332\n",
      "=================================\n"
     ]
    },
    {
     "name": "stderr",
     "output_type": "stream",
     "text": [
      "Episode:  71%|███████   | 29/41 [05:01<02:00, 10.01s/it]"
     ]
    },
    {
     "name": "stdout",
     "output_type": "stream",
     "text": [
      "=================================\n",
      "begin_total_asset:1000000\n",
      "end_total_asset:9269453.6191892\n",
      "Sharpe:  1.1653563720051712\n",
      "=================================\n"
     ]
    },
    {
     "name": "stderr",
     "output_type": "stream",
     "text": [
      "Episode:  73%|███████▎  | 30/41 [05:11<01:50, 10.02s/it]"
     ]
    },
    {
     "name": "stdout",
     "output_type": "stream",
     "text": [
      "=================================\n",
      "begin_total_asset:1000000\n",
      "end_total_asset:4214466.626535168\n",
      "Sharpe:  0.9209148196071746\n",
      "=================================\n"
     ]
    },
    {
     "name": "stderr",
     "output_type": "stream",
     "text": [
      "Episode:  76%|███████▌  | 31/41 [05:21<01:39, 10.00s/it]"
     ]
    },
    {
     "name": "stdout",
     "output_type": "stream",
     "text": [
      "=================================\n",
      "begin_total_asset:1000000\n",
      "end_total_asset:5769189.210801834\n",
      "Sharpe:  0.9050970228904209\n",
      "=================================\n"
     ]
    },
    {
     "name": "stderr",
     "output_type": "stream",
     "text": [
      "Episode:  78%|███████▊  | 32/41 [05:31<01:29, 10.00s/it]"
     ]
    },
    {
     "name": "stdout",
     "output_type": "stream",
     "text": [
      "=================================\n",
      "begin_total_asset:1000000\n",
      "end_total_asset:24888907.265232984\n",
      "Sharpe:  1.3723986591828112\n",
      "=================================\n"
     ]
    },
    {
     "name": "stderr",
     "output_type": "stream",
     "text": [
      "Episode:  80%|████████  | 33/41 [05:41<01:19,  9.96s/it]"
     ]
    },
    {
     "name": "stdout",
     "output_type": "stream",
     "text": [
      "=================================\n",
      "begin_total_asset:1000000\n",
      "end_total_asset:3728497.489390582\n",
      "Sharpe:  0.8321763679031055\n",
      "=================================\n"
     ]
    },
    {
     "name": "stderr",
     "output_type": "stream",
     "text": [
      "Episode:  83%|████████▎ | 34/41 [05:50<01:09,  9.95s/it]"
     ]
    },
    {
     "name": "stdout",
     "output_type": "stream",
     "text": [
      "=================================\n",
      "begin_total_asset:1000000\n",
      "end_total_asset:4306439.338010529\n",
      "Sharpe:  0.821152019441173\n",
      "=================================\n"
     ]
    },
    {
     "name": "stderr",
     "output_type": "stream",
     "text": [
      "Episode:  85%|████████▌ | 35/41 [06:00<00:59,  9.93s/it]"
     ]
    },
    {
     "name": "stdout",
     "output_type": "stream",
     "text": [
      "=================================\n",
      "begin_total_asset:1000000\n",
      "end_total_asset:5209152.54908854\n",
      "Sharpe:  0.8894790156287323\n",
      "=================================\n"
     ]
    },
    {
     "name": "stderr",
     "output_type": "stream",
     "text": [
      "Episode:  88%|████████▊ | 36/41 [06:10<00:49,  9.94s/it]"
     ]
    },
    {
     "name": "stdout",
     "output_type": "stream",
     "text": [
      "=================================\n",
      "begin_total_asset:1000000\n",
      "end_total_asset:4766592.870907443\n",
      "Sharpe:  0.9217626713304912\n",
      "=================================\n"
     ]
    },
    {
     "name": "stderr",
     "output_type": "stream",
     "text": [
      "Episode:  90%|█████████ | 37/41 [06:21<00:40, 10.19s/it]"
     ]
    },
    {
     "name": "stdout",
     "output_type": "stream",
     "text": [
      "=================================\n",
      "begin_total_asset:1000000\n",
      "end_total_asset:3348782.9226695104\n",
      "Sharpe:  0.7765188271299406\n",
      "=================================\n"
     ]
    },
    {
     "name": "stderr",
     "output_type": "stream",
     "text": [
      "Episode:  93%|█████████▎| 38/41 [06:31<00:30, 10.19s/it]"
     ]
    },
    {
     "name": "stdout",
     "output_type": "stream",
     "text": [
      "=================================\n",
      "begin_total_asset:1000000\n",
      "end_total_asset:7696701.41434463\n",
      "Sharpe:  1.157257609227107\n",
      "=================================\n"
     ]
    },
    {
     "name": "stderr",
     "output_type": "stream",
     "text": [
      "Episode:  95%|█████████▌| 39/41 [06:42<00:20, 10.22s/it]"
     ]
    },
    {
     "name": "stdout",
     "output_type": "stream",
     "text": [
      "=================================\n",
      "begin_total_asset:1000000\n",
      "end_total_asset:3230784.036169123\n",
      "Sharpe:  0.6264962784732142\n",
      "=================================\n"
     ]
    },
    {
     "name": "stderr",
     "output_type": "stream",
     "text": [
      "Episode:  98%|█████████▊| 40/41 [06:52<00:10, 10.22s/it]"
     ]
    },
    {
     "name": "stdout",
     "output_type": "stream",
     "text": [
      "=================================\n",
      "begin_total_asset:1000000\n",
      "end_total_asset:4972782.9169377005\n",
      "Sharpe:  0.8313740043651453\n",
      "=================================\n"
     ]
    },
    {
     "name": "stderr",
     "output_type": "stream",
     "text": [
      "                                                        "
     ]
    },
    {
     "name": "stdout",
     "output_type": "stream",
     "text": [
      "=================================\n",
      "begin_total_asset:1000000\n",
      "end_total_asset:7276596.012127906\n",
      "Sharpe:  1.1419041924480708\n",
      "=================================\n"
     ]
    },
    {
     "name": "stderr",
     "output_type": "stream",
     "text": [
      "                                                      \r"
     ]
    },
    {
     "name": "stdout",
     "output_type": "stream",
     "text": [
      "=================================\n",
      "begin_total_asset:1000000\n",
      "end_total_asset:1133903.1221868703\n",
      "Sharpe:  1.04004069686823\n",
      "=================================\n"
     ]
    },
    {
     "name": "stderr",
     "output_type": "stream",
     "text": [
      "Episode:   2%|▏         | 1/46 [00:10<07:40, 10.23s/it]"
     ]
    },
    {
     "name": "stdout",
     "output_type": "stream",
     "text": [
      "=================================\n",
      "begin_total_asset:1000000\n",
      "end_total_asset:2389122.487312203\n",
      "Sharpe:  0.5035916767689854\n",
      "=================================\n"
     ]
    },
    {
     "name": "stderr",
     "output_type": "stream",
     "text": [
      "Episode:   4%|▍         | 2/46 [00:20<07:31, 10.27s/it]"
     ]
    },
    {
     "name": "stdout",
     "output_type": "stream",
     "text": [
      "=================================\n",
      "begin_total_asset:1000000\n",
      "end_total_asset:3504258.9242432807\n",
      "Sharpe:  0.7788213059165655\n",
      "=================================\n"
     ]
    },
    {
     "name": "stderr",
     "output_type": "stream",
     "text": [
      "Episode:   7%|▋         | 3/46 [00:30<07:22, 10.29s/it]"
     ]
    },
    {
     "name": "stdout",
     "output_type": "stream",
     "text": [
      "=================================\n",
      "begin_total_asset:1000000\n",
      "end_total_asset:5282829.385325675\n",
      "Sharpe:  0.9236427670165671\n",
      "=================================\n"
     ]
    },
    {
     "name": "stderr",
     "output_type": "stream",
     "text": [
      "Episode:   9%|▊         | 4/46 [00:41<07:14, 10.34s/it]"
     ]
    },
    {
     "name": "stdout",
     "output_type": "stream",
     "text": [
      "=================================\n",
      "begin_total_asset:1000000\n",
      "end_total_asset:5616068.217902127\n",
      "Sharpe:  0.8072591257083122\n",
      "=================================\n"
     ]
    },
    {
     "name": "stderr",
     "output_type": "stream",
     "text": [
      "Episode:  11%|█         | 5/46 [00:52<07:18, 10.69s/it]"
     ]
    },
    {
     "name": "stdout",
     "output_type": "stream",
     "text": [
      "=================================\n",
      "begin_total_asset:1000000\n",
      "end_total_asset:4374532.591620557\n",
      "Sharpe:  0.8974091209417892\n",
      "=================================\n"
     ]
    },
    {
     "name": "stderr",
     "output_type": "stream",
     "text": [
      "Episode:  13%|█▎        | 6/46 [01:02<07:02, 10.56s/it]"
     ]
    },
    {
     "name": "stdout",
     "output_type": "stream",
     "text": [
      "=================================\n",
      "begin_total_asset:1000000\n",
      "end_total_asset:7748192.293762835\n",
      "Sharpe:  1.0232888432586273\n",
      "=================================\n"
     ]
    },
    {
     "name": "stderr",
     "output_type": "stream",
     "text": [
      "Episode:  15%|█▌        | 7/46 [01:13<06:55, 10.66s/it]"
     ]
    },
    {
     "name": "stdout",
     "output_type": "stream",
     "text": [
      "=================================\n",
      "begin_total_asset:1000000\n",
      "end_total_asset:4974226.360767094\n",
      "Sharpe:  0.8762582851857817\n",
      "=================================\n"
     ]
    },
    {
     "name": "stderr",
     "output_type": "stream",
     "text": [
      "Episode:  17%|█▋        | 8/46 [01:23<06:37, 10.45s/it]"
     ]
    },
    {
     "name": "stdout",
     "output_type": "stream",
     "text": [
      "=================================\n",
      "begin_total_asset:1000000\n",
      "end_total_asset:5787690.123911378\n",
      "Sharpe:  0.8587514377670409\n",
      "=================================\n"
     ]
    },
    {
     "name": "stderr",
     "output_type": "stream",
     "text": [
      "Episode:  20%|█▉        | 9/46 [01:33<06:22, 10.34s/it]"
     ]
    },
    {
     "name": "stdout",
     "output_type": "stream",
     "text": [
      "=================================\n",
      "begin_total_asset:1000000\n",
      "end_total_asset:4730154.003046071\n",
      "Sharpe:  0.9591304559534831\n",
      "=================================\n"
     ]
    },
    {
     "name": "stderr",
     "output_type": "stream",
     "text": [
      "Episode:  22%|██▏       | 10/46 [01:44<06:13, 10.36s/it]"
     ]
    },
    {
     "name": "stdout",
     "output_type": "stream",
     "text": [
      "=================================\n",
      "begin_total_asset:1000000\n",
      "end_total_asset:5578818.340998577\n",
      "Sharpe:  0.87047585798396\n",
      "=================================\n"
     ]
    },
    {
     "name": "stderr",
     "output_type": "stream",
     "text": [
      "Episode:  24%|██▍       | 11/46 [01:54<06:02, 10.34s/it]"
     ]
    },
    {
     "name": "stdout",
     "output_type": "stream",
     "text": [
      "=================================\n",
      "begin_total_asset:1000000\n",
      "end_total_asset:6681345.85830937\n",
      "Sharpe:  0.9733461988504533\n",
      "=================================\n"
     ]
    },
    {
     "name": "stderr",
     "output_type": "stream",
     "text": [
      "Episode:  26%|██▌       | 12/46 [02:04<05:48, 10.26s/it]"
     ]
    },
    {
     "name": "stdout",
     "output_type": "stream",
     "text": [
      "=================================\n",
      "begin_total_asset:1000000\n",
      "end_total_asset:12324680.569688778\n",
      "Sharpe:  1.7274573584385575\n",
      "=================================\n"
     ]
    },
    {
     "name": "stderr",
     "output_type": "stream",
     "text": [
      "Episode:  28%|██▊       | 13/46 [02:15<05:42, 10.39s/it]"
     ]
    },
    {
     "name": "stdout",
     "output_type": "stream",
     "text": [
      "=================================\n",
      "begin_total_asset:1000000\n",
      "end_total_asset:7068282.267251674\n",
      "Sharpe:  1.0052838592174869\n",
      "=================================\n"
     ]
    },
    {
     "name": "stderr",
     "output_type": "stream",
     "text": [
      "Episode:  30%|███       | 14/46 [02:25<05:30, 10.33s/it]"
     ]
    },
    {
     "name": "stdout",
     "output_type": "stream",
     "text": [
      "=================================\n",
      "begin_total_asset:1000000\n",
      "end_total_asset:6877538.30657642\n",
      "Sharpe:  0.8913121231619062\n",
      "=================================\n"
     ]
    },
    {
     "name": "stderr",
     "output_type": "stream",
     "text": [
      "Episode:  33%|███▎      | 15/46 [02:35<05:21, 10.36s/it]"
     ]
    },
    {
     "name": "stdout",
     "output_type": "stream",
     "text": [
      "=================================\n",
      "begin_total_asset:1000000\n",
      "end_total_asset:2738876.5292890663\n",
      "Sharpe:  0.5843987118223274\n",
      "=================================\n"
     ]
    },
    {
     "name": "stderr",
     "output_type": "stream",
     "text": [
      "Episode:  35%|███▍      | 16/46 [02:45<05:06, 10.20s/it]"
     ]
    },
    {
     "name": "stdout",
     "output_type": "stream",
     "text": [
      "=================================\n",
      "begin_total_asset:1000000\n",
      "end_total_asset:4209637.594125751\n",
      "Sharpe:  0.8540927773253739\n",
      "=================================\n"
     ]
    },
    {
     "name": "stderr",
     "output_type": "stream",
     "text": [
      "Episode:  37%|███▋      | 17/46 [02:55<04:53, 10.12s/it]"
     ]
    },
    {
     "name": "stdout",
     "output_type": "stream",
     "text": [
      "=================================\n",
      "begin_total_asset:1000000\n",
      "end_total_asset:5271370.348125283\n",
      "Sharpe:  0.8363586029973299\n",
      "=================================\n"
     ]
    },
    {
     "name": "stderr",
     "output_type": "stream",
     "text": [
      "Episode:  39%|███▉      | 18/46 [03:06<04:46, 10.22s/it]"
     ]
    },
    {
     "name": "stdout",
     "output_type": "stream",
     "text": [
      "=================================\n",
      "begin_total_asset:1000000\n",
      "end_total_asset:11159659.816562254\n",
      "Sharpe:  1.1497299658370896\n",
      "=================================\n"
     ]
    },
    {
     "name": "stderr",
     "output_type": "stream",
     "text": [
      "Episode:  41%|████▏     | 19/46 [03:16<04:37, 10.27s/it]"
     ]
    },
    {
     "name": "stdout",
     "output_type": "stream",
     "text": [
      "=================================\n",
      "begin_total_asset:1000000\n",
      "end_total_asset:2392589.0094318306\n",
      "Sharpe:  0.6329171514977044\n",
      "=================================\n"
     ]
    },
    {
     "name": "stderr",
     "output_type": "stream",
     "text": [
      "Episode:  43%|████▎     | 20/46 [03:27<04:31, 10.44s/it]"
     ]
    },
    {
     "name": "stdout",
     "output_type": "stream",
     "text": [
      "=================================\n",
      "begin_total_asset:1000000\n",
      "end_total_asset:8247725.479082182\n",
      "Sharpe:  0.9991495669440328\n",
      "=================================\n"
     ]
    },
    {
     "name": "stderr",
     "output_type": "stream",
     "text": [
      "Episode:  46%|████▌     | 21/46 [03:37<04:18, 10.35s/it]"
     ]
    },
    {
     "name": "stdout",
     "output_type": "stream",
     "text": [
      "=================================\n",
      "begin_total_asset:1000000\n",
      "end_total_asset:4969669.40710563\n",
      "Sharpe:  0.8759725973076136\n",
      "=================================\n"
     ]
    },
    {
     "name": "stderr",
     "output_type": "stream",
     "text": [
      "Episode:  48%|████▊     | 22/46 [03:48<04:10, 10.44s/it]"
     ]
    },
    {
     "name": "stdout",
     "output_type": "stream",
     "text": [
      "=================================\n",
      "begin_total_asset:1000000\n",
      "end_total_asset:3773809.610169447\n",
      "Sharpe:  0.7352978094317926\n",
      "=================================\n"
     ]
    },
    {
     "name": "stderr",
     "output_type": "stream",
     "text": [
      "Episode:  50%|█████     | 23/46 [03:58<03:57, 10.31s/it]"
     ]
    },
    {
     "name": "stdout",
     "output_type": "stream",
     "text": [
      "=================================\n",
      "begin_total_asset:1000000\n",
      "end_total_asset:3281613.2545091836\n",
      "Sharpe:  0.7165554971190687\n",
      "=================================\n"
     ]
    },
    {
     "name": "stderr",
     "output_type": "stream",
     "text": [
      "Episode:  52%|█████▏    | 24/46 [04:08<03:47, 10.32s/it]"
     ]
    },
    {
     "name": "stdout",
     "output_type": "stream",
     "text": [
      "=================================\n",
      "begin_total_asset:1000000\n",
      "end_total_asset:6638782.979158346\n",
      "Sharpe:  1.1596004600064247\n",
      "=================================\n"
     ]
    },
    {
     "name": "stderr",
     "output_type": "stream",
     "text": [
      "Episode:  54%|█████▍    | 25/46 [04:18<03:35, 10.25s/it]"
     ]
    },
    {
     "name": "stdout",
     "output_type": "stream",
     "text": [
      "=================================\n",
      "begin_total_asset:1000000\n",
      "end_total_asset:3287595.6210100083\n",
      "Sharpe:  0.7351045010355977\n",
      "=================================\n"
     ]
    },
    {
     "name": "stderr",
     "output_type": "stream",
     "text": [
      "Episode:  57%|█████▋    | 26/46 [04:29<03:26, 10.33s/it]"
     ]
    },
    {
     "name": "stdout",
     "output_type": "stream",
     "text": [
      "=================================\n",
      "begin_total_asset:1000000\n",
      "end_total_asset:4392650.689474734\n",
      "Sharpe:  0.8672002104231402\n",
      "=================================\n"
     ]
    },
    {
     "name": "stderr",
     "output_type": "stream",
     "text": [
      "Episode:  59%|█████▊    | 27/46 [04:39<03:16, 10.34s/it]"
     ]
    },
    {
     "name": "stdout",
     "output_type": "stream",
     "text": [
      "=================================\n",
      "begin_total_asset:1000000\n",
      "end_total_asset:7236991.038256485\n",
      "Sharpe:  1.0199018220020322\n",
      "=================================\n"
     ]
    },
    {
     "name": "stderr",
     "output_type": "stream",
     "text": [
      "Episode:  61%|██████    | 28/46 [04:49<03:06, 10.39s/it]"
     ]
    },
    {
     "name": "stdout",
     "output_type": "stream",
     "text": [
      "=================================\n",
      "begin_total_asset:1000000\n",
      "end_total_asset:10036786.374612067\n",
      "Sharpe:  1.2325951469542182\n",
      "=================================\n"
     ]
    },
    {
     "name": "stderr",
     "output_type": "stream",
     "text": [
      "Episode:  63%|██████▎   | 29/46 [05:00<02:59, 10.57s/it]"
     ]
    },
    {
     "name": "stdout",
     "output_type": "stream",
     "text": [
      "=================================\n",
      "begin_total_asset:1000000\n",
      "end_total_asset:12960983.444947671\n",
      "Sharpe:  1.2833320456818147\n",
      "=================================\n"
     ]
    },
    {
     "name": "stderr",
     "output_type": "stream",
     "text": [
      "Episode:  65%|██████▌   | 30/46 [05:11<02:48, 10.52s/it]"
     ]
    },
    {
     "name": "stdout",
     "output_type": "stream",
     "text": [
      "=================================\n",
      "begin_total_asset:1000000\n",
      "end_total_asset:5582416.7798977485\n",
      "Sharpe:  0.9685553321242618\n",
      "=================================\n"
     ]
    },
    {
     "name": "stderr",
     "output_type": "stream",
     "text": [
      "Episode:  67%|██████▋   | 31/46 [05:21<02:35, 10.39s/it]"
     ]
    },
    {
     "name": "stdout",
     "output_type": "stream",
     "text": [
      "=================================\n",
      "begin_total_asset:1000000\n",
      "end_total_asset:11629118.195030978\n",
      "Sharpe:  1.2107878206017149\n",
      "=================================\n"
     ]
    },
    {
     "name": "stderr",
     "output_type": "stream",
     "text": [
      "Episode:  70%|██████▉   | 32/46 [05:31<02:23, 10.26s/it]"
     ]
    },
    {
     "name": "stdout",
     "output_type": "stream",
     "text": [
      "=================================\n",
      "begin_total_asset:1000000\n",
      "end_total_asset:9011312.82516841\n",
      "Sharpe:  1.101999877664892\n",
      "=================================\n"
     ]
    },
    {
     "name": "stderr",
     "output_type": "stream",
     "text": [
      "Episode:  72%|███████▏  | 33/46 [05:41<02:12, 10.22s/it]"
     ]
    },
    {
     "name": "stdout",
     "output_type": "stream",
     "text": [
      "=================================\n",
      "begin_total_asset:1000000\n",
      "end_total_asset:12816643.081289962\n",
      "Sharpe:  1.1641876863764435\n",
      "=================================\n"
     ]
    },
    {
     "name": "stderr",
     "output_type": "stream",
     "text": [
      "Episode:  74%|███████▍  | 34/46 [05:51<02:03, 10.25s/it]"
     ]
    },
    {
     "name": "stdout",
     "output_type": "stream",
     "text": [
      "=================================\n",
      "begin_total_asset:1000000\n",
      "end_total_asset:2630235.7165364013\n",
      "Sharpe:  0.5629682744675877\n",
      "=================================\n"
     ]
    },
    {
     "name": "stderr",
     "output_type": "stream",
     "text": [
      "Episode:  76%|███████▌  | 35/46 [06:02<01:55, 10.49s/it]"
     ]
    },
    {
     "name": "stdout",
     "output_type": "stream",
     "text": [
      "=================================\n",
      "begin_total_asset:1000000\n",
      "end_total_asset:3983622.098474526\n",
      "Sharpe:  0.8687283184989045\n",
      "=================================\n"
     ]
    },
    {
     "name": "stderr",
     "output_type": "stream",
     "text": [
      "Episode:  78%|███████▊  | 36/46 [06:13<01:44, 10.50s/it]"
     ]
    },
    {
     "name": "stdout",
     "output_type": "stream",
     "text": [
      "=================================\n",
      "begin_total_asset:1000000\n",
      "end_total_asset:13104667.166397644\n",
      "Sharpe:  1.4445073791705687\n",
      "=================================\n"
     ]
    },
    {
     "name": "stderr",
     "output_type": "stream",
     "text": [
      "Episode:  80%|████████  | 37/46 [06:23<01:32, 10.33s/it]"
     ]
    },
    {
     "name": "stdout",
     "output_type": "stream",
     "text": [
      "=================================\n",
      "begin_total_asset:1000000\n",
      "end_total_asset:6607729.029917794\n",
      "Sharpe:  1.0912833565379758\n",
      "=================================\n"
     ]
    },
    {
     "name": "stderr",
     "output_type": "stream",
     "text": [
      "Episode:  83%|████████▎ | 38/46 [06:33<01:22, 10.25s/it]"
     ]
    },
    {
     "name": "stdout",
     "output_type": "stream",
     "text": [
      "=================================\n",
      "begin_total_asset:1000000\n",
      "end_total_asset:4081162.4286271785\n",
      "Sharpe:  0.945209350895967\n",
      "=================================\n"
     ]
    },
    {
     "name": "stderr",
     "output_type": "stream",
     "text": [
      "Episode:  85%|████████▍ | 39/46 [06:43<01:11, 10.18s/it]"
     ]
    },
    {
     "name": "stdout",
     "output_type": "stream",
     "text": [
      "=================================\n",
      "begin_total_asset:1000000\n",
      "end_total_asset:4420248.904773771\n",
      "Sharpe:  0.9701688794590605\n",
      "=================================\n"
     ]
    },
    {
     "name": "stderr",
     "output_type": "stream",
     "text": [
      "Episode:  87%|████████▋ | 40/46 [06:54<01:01, 10.29s/it]"
     ]
    },
    {
     "name": "stdout",
     "output_type": "stream",
     "text": [
      "=================================\n",
      "begin_total_asset:1000000\n",
      "end_total_asset:2434898.543116626\n",
      "Sharpe:  0.6536294404464414\n",
      "=================================\n"
     ]
    },
    {
     "name": "stderr",
     "output_type": "stream",
     "text": [
      "Episode:  89%|████████▉ | 41/46 [07:04<00:51, 10.21s/it]"
     ]
    },
    {
     "name": "stdout",
     "output_type": "stream",
     "text": [
      "=================================\n",
      "begin_total_asset:1000000\n",
      "end_total_asset:18100398.07596315\n",
      "Sharpe:  1.3516542767986668\n",
      "=================================\n"
     ]
    },
    {
     "name": "stderr",
     "output_type": "stream",
     "text": [
      "Episode:  91%|█████████▏| 42/46 [07:14<00:41, 10.33s/it]"
     ]
    },
    {
     "name": "stdout",
     "output_type": "stream",
     "text": [
      "=================================\n",
      "begin_total_asset:1000000\n",
      "end_total_asset:7312660.758484193\n",
      "Sharpe:  1.3260880949443905\n",
      "=================================\n"
     ]
    },
    {
     "name": "stderr",
     "output_type": "stream",
     "text": [
      "Episode:  93%|█████████▎| 43/46 [07:25<00:31, 10.55s/it]"
     ]
    },
    {
     "name": "stdout",
     "output_type": "stream",
     "text": [
      "=================================\n",
      "begin_total_asset:1000000\n",
      "end_total_asset:15820534.696417173\n",
      "Sharpe:  1.3247874358481184\n",
      "=================================\n"
     ]
    },
    {
     "name": "stderr",
     "output_type": "stream",
     "text": [
      "Episode:  96%|█████████▌| 44/46 [07:36<00:20, 10.49s/it]"
     ]
    },
    {
     "name": "stdout",
     "output_type": "stream",
     "text": [
      "=================================\n",
      "begin_total_asset:1000000\n",
      "end_total_asset:4093253.3599153827\n",
      "Sharpe:  0.8904332766093725\n",
      "=================================\n"
     ]
    },
    {
     "name": "stderr",
     "output_type": "stream",
     "text": [
      "Episode:  98%|█████████▊| 45/46 [07:46<00:10, 10.51s/it]"
     ]
    },
    {
     "name": "stdout",
     "output_type": "stream",
     "text": [
      "=================================\n",
      "begin_total_asset:1000000\n",
      "end_total_asset:9270113.959866025\n",
      "Sharpe:  1.069752841614811\n",
      "=================================\n"
     ]
    },
    {
     "name": "stderr",
     "output_type": "stream",
     "text": [
      "                                                        "
     ]
    },
    {
     "name": "stdout",
     "output_type": "stream",
     "text": [
      "=================================\n",
      "begin_total_asset:1000000\n",
      "end_total_asset:4868490.893165428\n",
      "Sharpe:  0.8575072535278353\n",
      "=================================\n"
     ]
    },
    {
     "name": "stderr",
     "output_type": "stream",
     "text": [
      "                                                      "
     ]
    },
    {
     "name": "stdout",
     "output_type": "stream",
     "text": [
      "=================================\n",
      "begin_total_asset:1000000\n",
      "end_total_asset:1393059.8627629282\n",
      "Sharpe:  1.239825274692539\n",
      "=================================\n"
     ]
    },
    {
     "name": "stderr",
     "output_type": "stream",
     "text": [
      "\r"
     ]
    }
   ],
   "source": [
    "end_of_training_assets = []\n",
    "end_of_trading_assets = []\n",
    "episodes_for_training = list(range(1,51, 5))\n",
    "for e in episodes_for_training:\n",
    "    # todo, Need to test performance on \n",
    "    e_train_gym_single_stock_sarsa = StockPortfolioEnv(df = train, **env_kwargs)\n",
    "    _, _, Q = sarsa_single_stock(e_train_gym_single_stock_sarsa, num_episodes=e, gamma=0.99, epsilon=0.1, step_size=0.5, stock=0)\n",
    "    end_of_training_assets.append(e_train_gym_single_stock_sarsa.asset_memory)\n",
    "    e_train_gym_single_stock_sarsa.reset()\n",
    "    \n",
    "    e_trade_gym_single_stock_sarsa = StockPortfolioEnv(df = trade, **env_kwargs)\n",
    "    sarsa_single_stock(e_trade_gym_single_stock_sarsa, num_episodes=1, gamma=0.99, epsilon=0.1, step_size=0.5, stock=0, q=Q)\n",
    "    end_of_trading_assets.append(e_trade_gym_single_stock_sarsa.asset_memory)\n",
    "    e_trade_gym_single_stock_sarsa.reset()\n",
    "    \n",
    "    "
   ],
   "metadata": {
    "collapsed": false,
    "ExecuteTime": {
     "end_time": "2023-11-29T21:34:42.248720500Z",
     "start_time": "2023-11-29T20:54:04.760654700Z"
    }
   },
   "id": "b47811eb05f57243"
  },
  {
   "cell_type": "code",
   "execution_count": 26,
   "outputs": [
    {
     "data": {
      "text/plain": "<Figure size 640x480 with 1 Axes>",
      "image/png": "[encoded data removed]"
     },
     "metadata": {},
     "output_type": "display_data"
    },
    {
     "data": {
      "text/plain": "<Figure size 640x480 with 1 Axes>",
      "image/png": "[encoded data removed]"
     },
     "metadata": {},
     "output_type": "display_data"
    }
   ],
   "source": [
    "for e, x in zip(episodes_for_training, end_of_training_assets):\n",
    "    plt.plot(list(range(len(x))), x, label=f\"training episodes {e}\")\n",
    "plt.legend()\n",
    "plt.show()\n",
    "\n",
    "final_amounts = [mem[-1] for mem in end_of_training_assets]\n",
    "plt.plot(episodes_for_training, final_amounts)\n",
    "plt.show()\n"
   ],
   "metadata": {
    "collapsed": false,
    "ExecuteTime": {
     "end_time": "2023-11-29T21:34:42.654834300Z",
     "start_time": "2023-11-29T21:34:42.243163Z"
    }
   },
   "id": "31a3f4e5504509c3"
  },
  {
   "cell_type": "code",
   "execution_count": 37,
   "outputs": [
    {
     "data": {
      "text/plain": "<Figure size 640x480 with 1 Axes>",
      "image/png": "[encoded data removed]"
     },
     "metadata": {},
     "output_type": "display_data"
    }
   ],
   "source": [
    "for e, x in zip(episodes_for_training, end_of_trading_assets):\n",
    "    plt.plot(list(range(len(x))), x, label=f\"training episodes {e}\")\n",
    "plt.legend()\n",
    "plt.title('Trading after Training')\n",
    "plt.show()"
   ],
   "metadata": {
    "collapsed": false,
    "ExecuteTime": {
     "end_time": "2023-11-29T21:42:50.541014200Z",
     "start_time": "2023-11-29T21:42:50.107670600Z"
    }
   },
   "id": "92da09a7014f2a94"
  },
  {
   "cell_type": "code",
   "execution_count": 56,
   "outputs": [
    {
     "data": {
      "text/plain": "<Figure size 640x480 with 1 Axes>",
      "image/png": "[encoded data removed]"
     },
     "metadata": {},
     "output_type": "display_data"
    },
    {
     "data": {
      "text/plain": "<Axes: >"
     },
     "execution_count": 56,
     "metadata": {},
     "output_type": "execute_result"
    },
    {
     "data": {
      "text/plain": "<Figure size 640x480 with 1 Axes>",
      "image/png": "[encoded data removed]"
     },
     "metadata": {},
     "output_type": "display_data"
    }
   ],
   "source": [
    "final_amounts = [mem[-1] for mem in end_of_trading_assets]\n",
    "\n",
    "starting_value = trade[(trade['date'] == '2020-07-01') & (trade['tic'] == 'AAPL')]['open'].values[0]\n",
    "stocks = 1_000_000 / starting_value\n",
    "\n",
    "end_value =trade[(trade['date'] == '2021-10-29') & (trade['tic'] == 'AAPL')]['open'].values[0]\n",
    "end_amount_if_bought_and_held = end_value * stocks\n",
    "\n",
    "plt.plot(episodes_for_training, [end_amount_if_bought_and_held] * len(episodes_for_training), label='Bought, Held, Sold at End')\n",
    "plt.plot(episodes_for_training, final_amounts, label='SARSA')\n",
    "plt.plot(episodes_for_training, [1_000_000] * len(episodes_for_training), label='Initial Amount')\n",
    "plt.xlabel('Episodes')\n",
    "plt.ylabel('Ending Amount')\n",
    "plt.legend()\n",
    "plt.show()\n",
    "trade[(trade['date'] >= '2020-07-01') & (trade['tic'] == 'AAPL')]['open'].plot()"
   ],
   "metadata": {
    "collapsed": false,
    "ExecuteTime": {
     "end_time": "2023-11-29T21:54:27.144043Z",
     "start_time": "2023-11-29T21:54:26.847009500Z"
    }
   },
   "id": "140347241f3a1dfa"
  },
  {
   "cell_type": "code",
   "execution_count": null,
   "outputs": [],
   "source": [],
   "metadata": {
    "collapsed": false
   },
   "id": "57690c31ad67b912"
  }
 ],
 "metadata": {
  "kernelspec": {
   "display_name": "Python 3",
   "language": "python",
   "name": "python3"
  },
  "language_info": {
   "codemirror_mode": {
    "name": "ipython",
    "version": 2
   },
   "file_extension": ".py",
   "mimetype": "text/x-python",
   "name": "python",
   "nbconvert_exporter": "python",
   "pygments_lexer": "ipython2",
   "version": "2.7.6"
  }
 },
 "nbformat": 4,
 "nbformat_minor": 5
}
