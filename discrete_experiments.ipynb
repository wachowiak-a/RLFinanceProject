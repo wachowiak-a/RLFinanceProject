{
 "cells": [
  {
   "cell_type": "markdown",
   "source": [
    "\n",
    "- Repeat for different actions - e.i. changing percent to sell or buy all\n",
    "- Train MC and SARSA \n",
    "    - Compare which one performs better in training\n",
    "    - Compare which one performs better on Test time period\n",
    "\n",
    "\n",
    "- Try negative rewards\n",
    "    - Repeat for different actions - e.i. changing percent to sell or buy all\n",
    "    - Train MC and SARSA \n",
    "        - Compare which one performs better in training\n",
    "        - Compare which one performs better on Test time period\n",
    "\n",
    "- Plot percent of state space experienced\n",
    "- Plot actions that resulted in Gain - may only be relevant for 100%  buy sell version\n",
    "\n",
    "\n"
   ],
   "metadata": {
    "collapsed": false
   },
   "id": "a75576cb734721c"
  },
  {
   "cell_type": "code",
   "execution_count": null,
   "outputs": [],
   "source": [],
   "metadata": {
    "collapsed": false
   },
   "id": "3f1fec88f4eb9930"
  }
 ],
 "metadata": {
  "kernelspec": {
   "display_name": "Python 3",
   "language": "python",
   "name": "python3"
  },
  "language_info": {
   "codemirror_mode": {
    "name": "ipython",
    "version": 2
   },
   "file_extension": ".py",
   "mimetype": "text/x-python",
   "name": "python",
   "nbconvert_exporter": "python",
   "pygments_lexer": "ipython2",
   "version": "2.7.6"
  }
 },
 "nbformat": 4,
 "nbformat_minor": 5
}
